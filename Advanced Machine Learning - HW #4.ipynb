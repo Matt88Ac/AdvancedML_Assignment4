{
 "cells": [
  {
   "cell_type": "markdown",
   "metadata": {},
   "source": [
    "### Advanced Machine Learning\n",
    "\n",
    "# Home Exercise #4\n",
    "\n",
    "Assignment Due: 17/05/21 23:59\n",
    "\n",
    "Jonathan Schler"
   ]
  },
  {
   "cell_type": "code",
   "execution_count": 1,
   "metadata": {},
   "outputs": [],
   "source": [
    "student1Name=\"Matan Mizrachi\" # student1 name here\n",
    "student1ID=\"207299363\" # student1 ID here\n",
    "\n",
    "\n",
    "student2Name=\"Ron Yosef\" # student2 name here\n",
    "student2ID=\"318466711\" # student2 ID here"
   ]
  },
  {
   "cell_type": "markdown",
   "metadata": {},
   "source": [
    "The goal of this homework is to try to solve the problem of predicting wine quality from review texts and other properties of the wine. You can find the dataset here:https://www.kaggle.com/zynicide/wine-reviews\n",
    "\n",
    "While you can find several kernels on kaggle already, I highly recommend you start your ownsolution from scratch. For this homework, only use wine from the United States (only 42% of data). Feel free to subsample the data for building your model."
   ]
  },
  {
   "cell_type": "markdown",
   "metadata": {},
   "source": [
    "## Task 1 Bag of Words and simple Features [50pts]\n",
    "\n",
    "1.1 Create a baseline model for predicting wine quality using only non-text features.\n",
    "\n",
    "\n",
    "\n"
   ]
  },
  {
   "cell_type": "code",
   "execution_count": 24,
   "metadata": {},
   "outputs": [
    {
     "data": {
      "text/html": [
       "<div>\n",
       "<style scoped>\n",
       "    .dataframe tbody tr th:only-of-type {\n",
       "        vertical-align: middle;\n",
       "    }\n",
       "\n",
       "    .dataframe tbody tr th {\n",
       "        vertical-align: top;\n",
       "    }\n",
       "\n",
       "    .dataframe thead th {\n",
       "        text-align: right;\n",
       "    }\n",
       "</style>\n",
       "<table border=\"1\" class=\"dataframe\">\n",
       "  <thead>\n",
       "    <tr style=\"text-align: right;\">\n",
       "      <th></th>\n",
       "      <th>description</th>\n",
       "      <th>designation</th>\n",
       "      <th>points</th>\n",
       "      <th>price</th>\n",
       "      <th>province</th>\n",
       "      <th>region_1</th>\n",
       "      <th>region_2</th>\n",
       "      <th>taster_name</th>\n",
       "      <th>taster_twitter_handle</th>\n",
       "      <th>title</th>\n",
       "      <th>variety</th>\n",
       "      <th>winery</th>\n",
       "    </tr>\n",
       "  </thead>\n",
       "  <tbody>\n",
       "    <tr>\n",
       "      <th>2</th>\n",
       "      <td>Tart and snappy, the flavors of lime flesh and...</td>\n",
       "      <td>NaN</td>\n",
       "      <td>87</td>\n",
       "      <td>14.0</td>\n",
       "      <td>Oregon</td>\n",
       "      <td>Willamette Valley</td>\n",
       "      <td>Willamette Valley</td>\n",
       "      <td>Paul Gregutt</td>\n",
       "      <td>@paulgwine</td>\n",
       "      <td>Rainstorm 2013 Pinot Gris (Willamette Valley)</td>\n",
       "      <td>Pinot Gris</td>\n",
       "      <td>Rainstorm</td>\n",
       "    </tr>\n",
       "    <tr>\n",
       "      <th>3</th>\n",
       "      <td>Pineapple rind, lemon pith and orange blossom ...</td>\n",
       "      <td>Reserve Late Harvest</td>\n",
       "      <td>87</td>\n",
       "      <td>13.0</td>\n",
       "      <td>Michigan</td>\n",
       "      <td>Lake Michigan Shore</td>\n",
       "      <td>NaN</td>\n",
       "      <td>Alexander Peartree</td>\n",
       "      <td>NaN</td>\n",
       "      <td>St. Julian 2013 Reserve Late Harvest Riesling ...</td>\n",
       "      <td>Riesling</td>\n",
       "      <td>St. Julian</td>\n",
       "    </tr>\n",
       "    <tr>\n",
       "      <th>4</th>\n",
       "      <td>Much like the regular bottling from 2012, this...</td>\n",
       "      <td>Vintner's Reserve Wild Child Block</td>\n",
       "      <td>87</td>\n",
       "      <td>65.0</td>\n",
       "      <td>Oregon</td>\n",
       "      <td>Willamette Valley</td>\n",
       "      <td>Willamette Valley</td>\n",
       "      <td>Paul Gregutt</td>\n",
       "      <td>@paulgwine</td>\n",
       "      <td>Sweet Cheeks 2012 Vintner's Reserve Wild Child...</td>\n",
       "      <td>Pinot Noir</td>\n",
       "      <td>Sweet Cheeks</td>\n",
       "    </tr>\n",
       "  </tbody>\n",
       "</table>\n",
       "</div>"
      ],
      "text/plain": [
       "                                         description  \\\n",
       "2  Tart and snappy, the flavors of lime flesh and...   \n",
       "3  Pineapple rind, lemon pith and orange blossom ...   \n",
       "4  Much like the regular bottling from 2012, this...   \n",
       "\n",
       "                          designation  points  price  province  \\\n",
       "2                                 NaN      87   14.0    Oregon   \n",
       "3                Reserve Late Harvest      87   13.0  Michigan   \n",
       "4  Vintner's Reserve Wild Child Block      87   65.0    Oregon   \n",
       "\n",
       "              region_1           region_2         taster_name  \\\n",
       "2    Willamette Valley  Willamette Valley        Paul Gregutt   \n",
       "3  Lake Michigan Shore                NaN  Alexander Peartree   \n",
       "4    Willamette Valley  Willamette Valley        Paul Gregutt   \n",
       "\n",
       "  taster_twitter_handle                                              title  \\\n",
       "2           @paulgwine       Rainstorm 2013 Pinot Gris (Willamette Valley)   \n",
       "3                   NaN  St. Julian 2013 Reserve Late Harvest Riesling ...   \n",
       "4           @paulgwine   Sweet Cheeks 2012 Vintner's Reserve Wild Child...   \n",
       "\n",
       "      variety        winery  \n",
       "2  Pinot Gris     Rainstorm  \n",
       "3    Riesling    St. Julian  \n",
       "4  Pinot Noir  Sweet Cheeks  "
      ]
     },
     "execution_count": 24,
     "metadata": {},
     "output_type": "execute_result"
    }
   ],
   "source": [
    "import pandas as pd\n",
    "import numpy as np\n",
    "x = pd.read_csv('winemag-data-130k-v2.csv', index_col=0)\n",
    "x = x.loc[x['country'] == 'US']\n",
    "x.drop(columns=['country'], inplace=True)\n",
    "x.head(3)"
   ]
  },
  {
   "cell_type": "code",
   "execution_count": 25,
   "metadata": {},
   "outputs": [
    {
     "name": "stdout",
     "output_type": "stream",
     "text": [
      "<class 'pandas.core.frame.DataFrame'>\n",
      "Int64Index: 54504 entries, 2 to 129967\n",
      "Data columns (total 12 columns):\n",
      " #   Column                 Non-Null Count  Dtype  \n",
      "---  ------                 --------------  -----  \n",
      " 0   description            54504 non-null  object \n",
      " 1   designation            36908 non-null  object \n",
      " 2   points                 54504 non-null  int64  \n",
      " 3   price                  54265 non-null  float64\n",
      " 4   province               54504 non-null  object \n",
      " 5   region_1               54226 non-null  object \n",
      " 6   region_2               50511 non-null  object \n",
      " 7   taster_name            37730 non-null  object \n",
      " 8   taster_twitter_handle  34741 non-null  object \n",
      " 9   title                  54504 non-null  object \n",
      " 10  variety                54504 non-null  object \n",
      " 11  winery                 54504 non-null  object \n",
      "dtypes: float64(1), int64(1), object(10)\n",
      "memory usage: 5.4+ MB\n"
     ]
    }
   ],
   "source": [
    "x.info()"
   ]
  },
  {
   "cell_type": "markdown",
   "metadata": {},
   "source": [
    "As per the requirements, we drop the text-based column."
   ]
  },
  {
   "cell_type": "code",
   "execution_count": 26,
   "metadata": {},
   "outputs": [],
   "source": [
    "x.drop(columns=['description'], inplace=True)\n",
    "y = x['points']\n",
    "x.drop(columns=['points'], inplace=True)"
   ]
  },
  {
   "cell_type": "code",
   "execution_count": 27,
   "metadata": {},
   "outputs": [
    {
     "data": {
      "text/plain": [
       "(array([ 80,  81,  82,  83,  84,  85,  86,  87,  88,  89,  90,  91,  92,\n",
       "         93,  94,  95,  96,  97,  98,  99, 100], dtype=int64),\n",
       " array([ 157,  326, 1010, 1313, 2676, 3684, 4926, 6632, 7039, 4416, 6708,\n",
       "        5302, 4515, 3013, 1794,  642,  221,   81,   33,   12,    4],\n",
       "       dtype=int64))"
      ]
     },
     "execution_count": 27,
     "metadata": {},
     "output_type": "execute_result"
    }
   ],
   "source": [
    "np.unique(y, return_counts=True)"
   ]
  },
  {
   "cell_type": "markdown",
   "metadata": {},
   "source": [
    "The data isn't balanced, so we'll see how it works before we use SMOTE to balance it."
   ]
  },
  {
   "cell_type": "code",
   "execution_count": 28,
   "metadata": {},
   "outputs": [
    {
     "data": {
      "text/plain": [
       "(54504, 10)"
      ]
     },
     "execution_count": 28,
     "metadata": {},
     "output_type": "execute_result"
    }
   ],
   "source": [
    "cat = x.dtypes == object\n",
    "x.loc[:, cat] = x.loc[:, cat].apply(lambda z: z.astype('category').cat.codes)\n",
    "x.shape"
   ]
  },
  {
   "cell_type": "code",
   "execution_count": 6,
   "metadata": {},
   "outputs": [],
   "source": [
    "from sklearn.pipeline import make_pipeline, Pipeline\n",
    "from sklearn.model_selection import train_test_split\n",
    "from sklearn.linear_model import LogisticRegression as LR\n",
    "from sklearn.preprocessing import StandardScaler\n",
    "from sklearn.impute import KNNImputer\n",
    "from sklearn.model_selection import GridSearchCV"
   ]
  },
  {
   "cell_type": "code",
   "execution_count": 7,
   "metadata": {},
   "outputs": [],
   "source": [
    "x_train, x_test, y_train, y_test = train_test_split(x, y, test_size=0.3, stratify=y)"
   ]
  },
  {
   "cell_type": "code",
   "execution_count": 8,
   "metadata": {},
   "outputs": [
    {
     "name": "stdout",
     "output_type": "stream",
     "text": [
      "Fitting 3 folds for each of 150 candidates, totalling 450 fits\n",
      "[CV 1/3; 1/150] START LR__C=0.001, LR__penalty=l2, LR__solver=newton-cg, imputer__n_neighbors=2\n",
      "[CV 1/3; 1/150] END LR__C=0.001, LR__penalty=l2, LR__solver=newton-cg, imputer__n_neighbors=2; total time=   4.8s\n",
      "[CV 2/3; 1/150] START LR__C=0.001, LR__penalty=l2, LR__solver=newton-cg, imputer__n_neighbors=2\n",
      "[CV 2/3; 1/150] END LR__C=0.001, LR__penalty=l2, LR__solver=newton-cg, imputer__n_neighbors=2; total time=   7.1s\n",
      "[CV 3/3; 1/150] START LR__C=0.001, LR__penalty=l2, LR__solver=newton-cg, imputer__n_neighbors=2\n",
      "[CV 3/3; 1/150] END LR__C=0.001, LR__penalty=l2, LR__solver=newton-cg, imputer__n_neighbors=2; total time=   5.4s\n",
      "[CV 1/3; 2/150] START LR__C=0.001, LR__penalty=l2, LR__solver=newton-cg, imputer__n_neighbors=3\n",
      "[CV 1/3; 2/150] END LR__C=0.001, LR__penalty=l2, LR__solver=newton-cg, imputer__n_neighbors=3; total time=   6.6s\n",
      "[CV 2/3; 2/150] START LR__C=0.001, LR__penalty=l2, LR__solver=newton-cg, imputer__n_neighbors=3\n",
      "[CV 2/3; 2/150] END LR__C=0.001, LR__penalty=l2, LR__solver=newton-cg, imputer__n_neighbors=3; total time=   6.0s\n",
      "[CV 3/3; 2/150] START LR__C=0.001, LR__penalty=l2, LR__solver=newton-cg, imputer__n_neighbors=3\n",
      "[CV 3/3; 2/150] END LR__C=0.001, LR__penalty=l2, LR__solver=newton-cg, imputer__n_neighbors=3; total time=   7.5s\n",
      "[CV 1/3; 3/150] START LR__C=0.001, LR__penalty=l2, LR__solver=newton-cg, imputer__n_neighbors=4\n",
      "[CV 1/3; 3/150] END LR__C=0.001, LR__penalty=l2, LR__solver=newton-cg, imputer__n_neighbors=4; total time=   6.2s\n",
      "[CV 2/3; 3/150] START LR__C=0.001, LR__penalty=l2, LR__solver=newton-cg, imputer__n_neighbors=4\n",
      "[CV 2/3; 3/150] END LR__C=0.001, LR__penalty=l2, LR__solver=newton-cg, imputer__n_neighbors=4; total time=   5.2s\n",
      "[CV 3/3; 3/150] START LR__C=0.001, LR__penalty=l2, LR__solver=newton-cg, imputer__n_neighbors=4\n",
      "[CV 3/3; 3/150] END LR__C=0.001, LR__penalty=l2, LR__solver=newton-cg, imputer__n_neighbors=4; total time=   6.0s\n",
      "[CV 1/3; 4/150] START LR__C=0.001, LR__penalty=l2, LR__solver=lbfgs, imputer__n_neighbors=2\n"
     ]
    },
    {
     "name": "stderr",
     "output_type": "stream",
     "text": [
      "C:\\Users\\Matan\\anaconda3\\lib\\site-packages\\sklearn\\linear_model\\_logistic.py:763: ConvergenceWarning: lbfgs failed to converge (status=1):\n",
      "STOP: TOTAL NO. of ITERATIONS REACHED LIMIT.\n",
      "\n",
      "Increase the number of iterations (max_iter) or scale the data as shown in:\n",
      "    https://scikit-learn.org/stable/modules/preprocessing.html\n",
      "Please also refer to the documentation for alternative solver options:\n",
      "    https://scikit-learn.org/stable/modules/linear_model.html#logistic-regression\n",
      "  n_iter_i = _check_optimize_result(\n"
     ]
    },
    {
     "name": "stdout",
     "output_type": "stream",
     "text": [
      "[CV 1/3; 4/150] END LR__C=0.001, LR__penalty=l2, LR__solver=lbfgs, imputer__n_neighbors=2; total time=   3.3s\n",
      "[CV 2/3; 4/150] START LR__C=0.001, LR__penalty=l2, LR__solver=lbfgs, imputer__n_neighbors=2\n"
     ]
    },
    {
     "name": "stderr",
     "output_type": "stream",
     "text": [
      "C:\\Users\\Matan\\anaconda3\\lib\\site-packages\\sklearn\\linear_model\\_logistic.py:763: ConvergenceWarning: lbfgs failed to converge (status=1):\n",
      "STOP: TOTAL NO. of ITERATIONS REACHED LIMIT.\n",
      "\n",
      "Increase the number of iterations (max_iter) or scale the data as shown in:\n",
      "    https://scikit-learn.org/stable/modules/preprocessing.html\n",
      "Please also refer to the documentation for alternative solver options:\n",
      "    https://scikit-learn.org/stable/modules/linear_model.html#logistic-regression\n",
      "  n_iter_i = _check_optimize_result(\n"
     ]
    },
    {
     "name": "stdout",
     "output_type": "stream",
     "text": [
      "[CV 2/3; 4/150] END LR__C=0.001, LR__penalty=l2, LR__solver=lbfgs, imputer__n_neighbors=2; total time=   3.6s\n",
      "[CV 3/3; 4/150] START LR__C=0.001, LR__penalty=l2, LR__solver=lbfgs, imputer__n_neighbors=2\n"
     ]
    },
    {
     "name": "stderr",
     "output_type": "stream",
     "text": [
      "C:\\Users\\Matan\\anaconda3\\lib\\site-packages\\sklearn\\linear_model\\_logistic.py:763: ConvergenceWarning: lbfgs failed to converge (status=1):\n",
      "STOP: TOTAL NO. of ITERATIONS REACHED LIMIT.\n",
      "\n",
      "Increase the number of iterations (max_iter) or scale the data as shown in:\n",
      "    https://scikit-learn.org/stable/modules/preprocessing.html\n",
      "Please also refer to the documentation for alternative solver options:\n",
      "    https://scikit-learn.org/stable/modules/linear_model.html#logistic-regression\n",
      "  n_iter_i = _check_optimize_result(\n"
     ]
    },
    {
     "name": "stdout",
     "output_type": "stream",
     "text": [
      "[CV 3/3; 4/150] END LR__C=0.001, LR__penalty=l2, LR__solver=lbfgs, imputer__n_neighbors=2; total time=   3.9s\n",
      "[CV 1/3; 5/150] START LR__C=0.001, LR__penalty=l2, LR__solver=lbfgs, imputer__n_neighbors=3\n"
     ]
    },
    {
     "name": "stderr",
     "output_type": "stream",
     "text": [
      "C:\\Users\\Matan\\anaconda3\\lib\\site-packages\\sklearn\\linear_model\\_logistic.py:763: ConvergenceWarning: lbfgs failed to converge (status=1):\n",
      "STOP: TOTAL NO. of ITERATIONS REACHED LIMIT.\n",
      "\n",
      "Increase the number of iterations (max_iter) or scale the data as shown in:\n",
      "    https://scikit-learn.org/stable/modules/preprocessing.html\n",
      "Please also refer to the documentation for alternative solver options:\n",
      "    https://scikit-learn.org/stable/modules/linear_model.html#logistic-regression\n",
      "  n_iter_i = _check_optimize_result(\n"
     ]
    },
    {
     "name": "stdout",
     "output_type": "stream",
     "text": [
      "[CV 1/3; 5/150] END LR__C=0.001, LR__penalty=l2, LR__solver=lbfgs, imputer__n_neighbors=3; total time=   3.4s\n",
      "[CV 2/3; 5/150] START LR__C=0.001, LR__penalty=l2, LR__solver=lbfgs, imputer__n_neighbors=3\n"
     ]
    },
    {
     "name": "stderr",
     "output_type": "stream",
     "text": [
      "C:\\Users\\Matan\\anaconda3\\lib\\site-packages\\sklearn\\linear_model\\_logistic.py:763: ConvergenceWarning: lbfgs failed to converge (status=1):\n",
      "STOP: TOTAL NO. of ITERATIONS REACHED LIMIT.\n",
      "\n",
      "Increase the number of iterations (max_iter) or scale the data as shown in:\n",
      "    https://scikit-learn.org/stable/modules/preprocessing.html\n",
      "Please also refer to the documentation for alternative solver options:\n",
      "    https://scikit-learn.org/stable/modules/linear_model.html#logistic-regression\n",
      "  n_iter_i = _check_optimize_result(\n"
     ]
    },
    {
     "name": "stdout",
     "output_type": "stream",
     "text": [
      "[CV 2/3; 5/150] END LR__C=0.001, LR__penalty=l2, LR__solver=lbfgs, imputer__n_neighbors=3; total time=   3.8s\n",
      "[CV 3/3; 5/150] START LR__C=0.001, LR__penalty=l2, LR__solver=lbfgs, imputer__n_neighbors=3\n"
     ]
    },
    {
     "name": "stderr",
     "output_type": "stream",
     "text": [
      "C:\\Users\\Matan\\anaconda3\\lib\\site-packages\\sklearn\\linear_model\\_logistic.py:763: ConvergenceWarning: lbfgs failed to converge (status=1):\n",
      "STOP: TOTAL NO. of ITERATIONS REACHED LIMIT.\n",
      "\n",
      "Increase the number of iterations (max_iter) or scale the data as shown in:\n",
      "    https://scikit-learn.org/stable/modules/preprocessing.html\n",
      "Please also refer to the documentation for alternative solver options:\n",
      "    https://scikit-learn.org/stable/modules/linear_model.html#logistic-regression\n",
      "  n_iter_i = _check_optimize_result(\n"
     ]
    },
    {
     "name": "stdout",
     "output_type": "stream",
     "text": [
      "[CV 3/3; 5/150] END LR__C=0.001, LR__penalty=l2, LR__solver=lbfgs, imputer__n_neighbors=3; total time=   3.4s\n",
      "[CV 1/3; 6/150] START LR__C=0.001, LR__penalty=l2, LR__solver=lbfgs, imputer__n_neighbors=4\n"
     ]
    },
    {
     "name": "stderr",
     "output_type": "stream",
     "text": [
      "C:\\Users\\Matan\\anaconda3\\lib\\site-packages\\sklearn\\linear_model\\_logistic.py:763: ConvergenceWarning: lbfgs failed to converge (status=1):\n",
      "STOP: TOTAL NO. of ITERATIONS REACHED LIMIT.\n",
      "\n",
      "Increase the number of iterations (max_iter) or scale the data as shown in:\n",
      "    https://scikit-learn.org/stable/modules/preprocessing.html\n",
      "Please also refer to the documentation for alternative solver options:\n",
      "    https://scikit-learn.org/stable/modules/linear_model.html#logistic-regression\n",
      "  n_iter_i = _check_optimize_result(\n"
     ]
    },
    {
     "name": "stdout",
     "output_type": "stream",
     "text": [
      "[CV 1/3; 6/150] END LR__C=0.001, LR__penalty=l2, LR__solver=lbfgs, imputer__n_neighbors=4; total time=   3.8s\n",
      "[CV 2/3; 6/150] START LR__C=0.001, LR__penalty=l2, LR__solver=lbfgs, imputer__n_neighbors=4\n"
     ]
    },
    {
     "name": "stderr",
     "output_type": "stream",
     "text": [
      "C:\\Users\\Matan\\anaconda3\\lib\\site-packages\\sklearn\\linear_model\\_logistic.py:763: ConvergenceWarning: lbfgs failed to converge (status=1):\n",
      "STOP: TOTAL NO. of ITERATIONS REACHED LIMIT.\n",
      "\n",
      "Increase the number of iterations (max_iter) or scale the data as shown in:\n",
      "    https://scikit-learn.org/stable/modules/preprocessing.html\n",
      "Please also refer to the documentation for alternative solver options:\n",
      "    https://scikit-learn.org/stable/modules/linear_model.html#logistic-regression\n",
      "  n_iter_i = _check_optimize_result(\n"
     ]
    },
    {
     "name": "stdout",
     "output_type": "stream",
     "text": [
      "[CV 2/3; 6/150] END LR__C=0.001, LR__penalty=l2, LR__solver=lbfgs, imputer__n_neighbors=4; total time=   3.9s\n",
      "[CV 3/3; 6/150] START LR__C=0.001, LR__penalty=l2, LR__solver=lbfgs, imputer__n_neighbors=4\n"
     ]
    },
    {
     "name": "stderr",
     "output_type": "stream",
     "text": [
      "C:\\Users\\Matan\\anaconda3\\lib\\site-packages\\sklearn\\linear_model\\_logistic.py:763: ConvergenceWarning: lbfgs failed to converge (status=1):\n",
      "STOP: TOTAL NO. of ITERATIONS REACHED LIMIT.\n",
      "\n",
      "Increase the number of iterations (max_iter) or scale the data as shown in:\n",
      "    https://scikit-learn.org/stable/modules/preprocessing.html\n",
      "Please also refer to the documentation for alternative solver options:\n",
      "    https://scikit-learn.org/stable/modules/linear_model.html#logistic-regression\n",
      "  n_iter_i = _check_optimize_result(\n"
     ]
    },
    {
     "name": "stdout",
     "output_type": "stream",
     "text": [
      "[CV 3/3; 6/150] END LR__C=0.001, LR__penalty=l2, LR__solver=lbfgs, imputer__n_neighbors=4; total time=   3.7s\n",
      "[CV 1/3; 7/150] START LR__C=0.001, LR__penalty=l2, LR__solver=liblinear, imputer__n_neighbors=2\n",
      "[CV 1/3; 7/150] END LR__C=0.001, LR__penalty=l2, LR__solver=liblinear, imputer__n_neighbors=2; total time=   0.7s\n",
      "[CV 2/3; 7/150] START LR__C=0.001, LR__penalty=l2, LR__solver=liblinear, imputer__n_neighbors=2\n",
      "[CV 2/3; 7/150] END LR__C=0.001, LR__penalty=l2, LR__solver=liblinear, imputer__n_neighbors=2; total time=   0.9s\n",
      "[CV 3/3; 7/150] START LR__C=0.001, LR__penalty=l2, LR__solver=liblinear, imputer__n_neighbors=2\n",
      "[CV 3/3; 7/150] END LR__C=0.001, LR__penalty=l2, LR__solver=liblinear, imputer__n_neighbors=2; total time=   1.2s\n",
      "[CV 1/3; 8/150] START LR__C=0.001, LR__penalty=l2, LR__solver=liblinear, imputer__n_neighbors=3\n",
      "[CV 1/3; 8/150] END LR__C=0.001, LR__penalty=l2, LR__solver=liblinear, imputer__n_neighbors=3; total time=   0.7s\n",
      "[CV 2/3; 8/150] START LR__C=0.001, LR__penalty=l2, LR__solver=liblinear, imputer__n_neighbors=3\n",
      "[CV 2/3; 8/150] END LR__C=0.001, LR__penalty=l2, LR__solver=liblinear, imputer__n_neighbors=3; total time=   0.7s\n",
      "[CV 3/3; 8/150] START LR__C=0.001, LR__penalty=l2, LR__solver=liblinear, imputer__n_neighbors=3\n",
      "[CV 3/3; 8/150] END LR__C=0.001, LR__penalty=l2, LR__solver=liblinear, imputer__n_neighbors=3; total time=   1.2s\n",
      "[CV 1/3; 9/150] START LR__C=0.001, LR__penalty=l2, LR__solver=liblinear, imputer__n_neighbors=4\n",
      "[CV 1/3; 9/150] END LR__C=0.001, LR__penalty=l2, LR__solver=liblinear, imputer__n_neighbors=4; total time=   1.3s\n",
      "[CV 2/3; 9/150] START LR__C=0.001, LR__penalty=l2, LR__solver=liblinear, imputer__n_neighbors=4\n",
      "[CV 2/3; 9/150] END LR__C=0.001, LR__penalty=l2, LR__solver=liblinear, imputer__n_neighbors=4; total time=   0.6s\n",
      "[CV 3/3; 9/150] START LR__C=0.001, LR__penalty=l2, LR__solver=liblinear, imputer__n_neighbors=4\n",
      "[CV 3/3; 9/150] END LR__C=0.001, LR__penalty=l2, LR__solver=liblinear, imputer__n_neighbors=4; total time=   0.6s\n",
      "[CV 1/3; 10/150] START LR__C=0.001, LR__penalty=l2, LR__solver=sag, imputer__n_neighbors=2\n",
      "[CV 1/3; 10/150] END LR__C=0.001, LR__penalty=l2, LR__solver=sag, imputer__n_neighbors=2; total time=   0.7s\n",
      "[CV 2/3; 10/150] START LR__C=0.001, LR__penalty=l2, LR__solver=sag, imputer__n_neighbors=2\n",
      "[CV 2/3; 10/150] END LR__C=0.001, LR__penalty=l2, LR__solver=sag, imputer__n_neighbors=2; total time=   2.3s\n",
      "[CV 3/3; 10/150] START LR__C=0.001, LR__penalty=l2, LR__solver=sag, imputer__n_neighbors=2\n",
      "[CV 3/3; 10/150] END LR__C=0.001, LR__penalty=l2, LR__solver=sag, imputer__n_neighbors=2; total time=   1.3s\n",
      "[CV 1/3; 11/150] START LR__C=0.001, LR__penalty=l2, LR__solver=sag, imputer__n_neighbors=3\n",
      "[CV 1/3; 11/150] END LR__C=0.001, LR__penalty=l2, LR__solver=sag, imputer__n_neighbors=3; total time=   0.6s\n",
      "[CV 2/3; 11/150] START LR__C=0.001, LR__penalty=l2, LR__solver=sag, imputer__n_neighbors=3\n",
      "[CV 2/3; 11/150] END LR__C=0.001, LR__penalty=l2, LR__solver=sag, imputer__n_neighbors=3; total time=   2.4s\n",
      "[CV 3/3; 11/150] START LR__C=0.001, LR__penalty=l2, LR__solver=sag, imputer__n_neighbors=3\n",
      "[CV 3/3; 11/150] END LR__C=0.001, LR__penalty=l2, LR__solver=sag, imputer__n_neighbors=3; total time=   1.5s\n",
      "[CV 1/3; 12/150] START LR__C=0.001, LR__penalty=l2, LR__solver=sag, imputer__n_neighbors=4\n",
      "[CV 1/3; 12/150] END LR__C=0.001, LR__penalty=l2, LR__solver=sag, imputer__n_neighbors=4; total time=   0.6s\n",
      "[CV 2/3; 12/150] START LR__C=0.001, LR__penalty=l2, LR__solver=sag, imputer__n_neighbors=4\n",
      "[CV 2/3; 12/150] END LR__C=0.001, LR__penalty=l2, LR__solver=sag, imputer__n_neighbors=4; total time=   2.2s\n",
      "[CV 3/3; 12/150] START LR__C=0.001, LR__penalty=l2, LR__solver=sag, imputer__n_neighbors=4\n",
      "[CV 3/3; 12/150] END LR__C=0.001, LR__penalty=l2, LR__solver=sag, imputer__n_neighbors=4; total time=   1.1s\n",
      "[CV 1/3; 13/150] START LR__C=0.001, LR__penalty=l2, LR__solver=saga, imputer__n_neighbors=2\n",
      "[CV 1/3; 13/150] END LR__C=0.001, LR__penalty=l2, LR__solver=saga, imputer__n_neighbors=2; total time=   1.4s\n",
      "[CV 2/3; 13/150] START LR__C=0.001, LR__penalty=l2, LR__solver=saga, imputer__n_neighbors=2\n",
      "[CV 2/3; 13/150] END LR__C=0.001, LR__penalty=l2, LR__solver=saga, imputer__n_neighbors=2; total time=   3.2s\n",
      "[CV 3/3; 13/150] START LR__C=0.001, LR__penalty=l2, LR__solver=saga, imputer__n_neighbors=2\n",
      "[CV 3/3; 13/150] END LR__C=0.001, LR__penalty=l2, LR__solver=saga, imputer__n_neighbors=2; total time=   3.8s\n",
      "[CV 1/3; 14/150] START LR__C=0.001, LR__penalty=l2, LR__solver=saga, imputer__n_neighbors=3\n",
      "[CV 1/3; 14/150] END LR__C=0.001, LR__penalty=l2, LR__solver=saga, imputer__n_neighbors=3; total time=   1.8s\n",
      "[CV 2/3; 14/150] START LR__C=0.001, LR__penalty=l2, LR__solver=saga, imputer__n_neighbors=3\n",
      "[CV 2/3; 14/150] END LR__C=0.001, LR__penalty=l2, LR__solver=saga, imputer__n_neighbors=3; total time=   3.8s\n",
      "[CV 3/3; 14/150] START LR__C=0.001, LR__penalty=l2, LR__solver=saga, imputer__n_neighbors=3\n",
      "[CV 3/3; 14/150] END LR__C=0.001, LR__penalty=l2, LR__solver=saga, imputer__n_neighbors=3; total time=   4.4s\n",
      "[CV 1/3; 15/150] START LR__C=0.001, LR__penalty=l2, LR__solver=saga, imputer__n_neighbors=4\n",
      "[CV 1/3; 15/150] END LR__C=0.001, LR__penalty=l2, LR__solver=saga, imputer__n_neighbors=4; total time=   1.7s\n",
      "[CV 2/3; 15/150] START LR__C=0.001, LR__penalty=l2, LR__solver=saga, imputer__n_neighbors=4\n",
      "[CV 2/3; 15/150] END LR__C=0.001, LR__penalty=l2, LR__solver=saga, imputer__n_neighbors=4; total time=   3.6s\n",
      "[CV 3/3; 15/150] START LR__C=0.001, LR__penalty=l2, LR__solver=saga, imputer__n_neighbors=4\n",
      "[CV 3/3; 15/150] END LR__C=0.001, LR__penalty=l2, LR__solver=saga, imputer__n_neighbors=4; total time=   3.9s\n",
      "[CV 1/3; 16/150] START LR__C=0.001, LR__penalty=l1, LR__solver=newton-cg, imputer__n_neighbors=2\n",
      "[CV 1/3; 16/150] END LR__C=0.001, LR__penalty=l1, LR__solver=newton-cg, imputer__n_neighbors=2; total time=   0.1s\n",
      "[CV 2/3; 16/150] START LR__C=0.001, LR__penalty=l1, LR__solver=newton-cg, imputer__n_neighbors=2\n"
     ]
    },
    {
     "name": "stderr",
     "output_type": "stream",
     "text": [
      "C:\\Users\\Matan\\anaconda3\\lib\\site-packages\\sklearn\\model_selection\\_validation.py:610: FitFailedWarning: Estimator fit failed. The score on this train-test partition for these parameters will be set to nan. Details: \n",
      "Traceback (most recent call last):\n",
      "  File \"C:\\Users\\Matan\\anaconda3\\lib\\site-packages\\sklearn\\model_selection\\_validation.py\", line 593, in _fit_and_score\n",
      "    estimator.fit(X_train, y_train, **fit_params)\n",
      "  File \"C:\\Users\\Matan\\anaconda3\\lib\\site-packages\\sklearn\\pipeline.py\", line 346, in fit\n",
      "    self._final_estimator.fit(Xt, y, **fit_params_last_step)\n",
      "  File \"C:\\Users\\Matan\\anaconda3\\lib\\site-packages\\sklearn\\linear_model\\_logistic.py\", line 1306, in fit\n",
      "    solver = _check_solver(self.solver, self.penalty, self.dual)\n",
      "  File \"C:\\Users\\Matan\\anaconda3\\lib\\site-packages\\sklearn\\linear_model\\_logistic.py\", line 443, in _check_solver\n",
      "    raise ValueError(\"Solver %s supports only 'l2' or 'none' penalties, \"\n",
      "ValueError: Solver newton-cg supports only 'l2' or 'none' penalties, got l1 penalty.\n",
      "\n",
      "  warnings.warn(\"Estimator fit failed. The score on this train-test\"\n",
      "C:\\Users\\Matan\\anaconda3\\lib\\site-packages\\sklearn\\model_selection\\_validation.py:610: FitFailedWarning: Estimator fit failed. The score on this train-test partition for these parameters will be set to nan. Details: \n",
      "Traceback (most recent call last):\n",
      "  File \"C:\\Users\\Matan\\anaconda3\\lib\\site-packages\\sklearn\\model_selection\\_validation.py\", line 593, in _fit_and_score\n",
      "    estimator.fit(X_train, y_train, **fit_params)\n",
      "  File \"C:\\Users\\Matan\\anaconda3\\lib\\site-packages\\sklearn\\pipeline.py\", line 346, in fit\n",
      "    self._final_estimator.fit(Xt, y, **fit_params_last_step)\n",
      "  File \"C:\\Users\\Matan\\anaconda3\\lib\\site-packages\\sklearn\\linear_model\\_logistic.py\", line 1306, in fit\n",
      "    solver = _check_solver(self.solver, self.penalty, self.dual)\n",
      "  File \"C:\\Users\\Matan\\anaconda3\\lib\\site-packages\\sklearn\\linear_model\\_logistic.py\", line 443, in _check_solver\n",
      "    raise ValueError(\"Solver %s supports only 'l2' or 'none' penalties, \"\n",
      "ValueError: Solver newton-cg supports only 'l2' or 'none' penalties, got l1 penalty.\n",
      "\n",
      "  warnings.warn(\"Estimator fit failed. The score on this train-test\"\n",
      "C:\\Users\\Matan\\anaconda3\\lib\\site-packages\\sklearn\\model_selection\\_validation.py:610: FitFailedWarning: Estimator fit failed. The score on this train-test partition for these parameters will be set to nan. Details: \n",
      "Traceback (most recent call last):\n",
      "  File \"C:\\Users\\Matan\\anaconda3\\lib\\site-packages\\sklearn\\model_selection\\_validation.py\", line 593, in _fit_and_score\n",
      "    estimator.fit(X_train, y_train, **fit_params)\n",
      "  File \"C:\\Users\\Matan\\anaconda3\\lib\\site-packages\\sklearn\\pipeline.py\", line 346, in fit\n",
      "    self._final_estimator.fit(Xt, y, **fit_params_last_step)\n",
      "  File \"C:\\Users\\Matan\\anaconda3\\lib\\site-packages\\sklearn\\linear_model\\_logistic.py\", line 1306, in fit\n",
      "    solver = _check_solver(self.solver, self.penalty, self.dual)\n",
      "  File \"C:\\Users\\Matan\\anaconda3\\lib\\site-packages\\sklearn\\linear_model\\_logistic.py\", line 443, in _check_solver\n",
      "    raise ValueError(\"Solver %s supports only 'l2' or 'none' penalties, \"\n",
      "ValueError: Solver newton-cg supports only 'l2' or 'none' penalties, got l1 penalty.\n",
      "\n",
      "  warnings.warn(\"Estimator fit failed. The score on this train-test\"\n"
     ]
    },
    {
     "name": "stdout",
     "output_type": "stream",
     "text": [
      "[CV 2/3; 16/150] END LR__C=0.001, LR__penalty=l1, LR__solver=newton-cg, imputer__n_neighbors=2; total time=   0.1s\n",
      "[CV 3/3; 16/150] START LR__C=0.001, LR__penalty=l1, LR__solver=newton-cg, imputer__n_neighbors=2\n",
      "[CV 3/3; 16/150] END LR__C=0.001, LR__penalty=l1, LR__solver=newton-cg, imputer__n_neighbors=2; total time=   0.1s\n",
      "[CV 1/3; 17/150] START LR__C=0.001, LR__penalty=l1, LR__solver=newton-cg, imputer__n_neighbors=3\n"
     ]
    },
    {
     "name": "stderr",
     "output_type": "stream",
     "text": [
      "C:\\Users\\Matan\\anaconda3\\lib\\site-packages\\sklearn\\model_selection\\_validation.py:610: FitFailedWarning: Estimator fit failed. The score on this train-test partition for these parameters will be set to nan. Details: \n",
      "Traceback (most recent call last):\n",
      "  File \"C:\\Users\\Matan\\anaconda3\\lib\\site-packages\\sklearn\\model_selection\\_validation.py\", line 593, in _fit_and_score\n",
      "    estimator.fit(X_train, y_train, **fit_params)\n",
      "  File \"C:\\Users\\Matan\\anaconda3\\lib\\site-packages\\sklearn\\pipeline.py\", line 346, in fit\n",
      "    self._final_estimator.fit(Xt, y, **fit_params_last_step)\n",
      "  File \"C:\\Users\\Matan\\anaconda3\\lib\\site-packages\\sklearn\\linear_model\\_logistic.py\", line 1306, in fit\n",
      "    solver = _check_solver(self.solver, self.penalty, self.dual)\n",
      "  File \"C:\\Users\\Matan\\anaconda3\\lib\\site-packages\\sklearn\\linear_model\\_logistic.py\", line 443, in _check_solver\n",
      "    raise ValueError(\"Solver %s supports only 'l2' or 'none' penalties, \"\n",
      "ValueError: Solver newton-cg supports only 'l2' or 'none' penalties, got l1 penalty.\n",
      "\n",
      "  warnings.warn(\"Estimator fit failed. The score on this train-test\"\n"
     ]
    },
    {
     "name": "stdout",
     "output_type": "stream",
     "text": [
      "[CV 1/3; 17/150] END LR__C=0.001, LR__penalty=l1, LR__solver=newton-cg, imputer__n_neighbors=3; total time=   0.2s\n",
      "[CV 2/3; 17/150] START LR__C=0.001, LR__penalty=l1, LR__solver=newton-cg, imputer__n_neighbors=3\n"
     ]
    },
    {
     "name": "stderr",
     "output_type": "stream",
     "text": [
      "C:\\Users\\Matan\\anaconda3\\lib\\site-packages\\sklearn\\model_selection\\_validation.py:610: FitFailedWarning: Estimator fit failed. The score on this train-test partition for these parameters will be set to nan. Details: \n",
      "Traceback (most recent call last):\n",
      "  File \"C:\\Users\\Matan\\anaconda3\\lib\\site-packages\\sklearn\\model_selection\\_validation.py\", line 593, in _fit_and_score\n",
      "    estimator.fit(X_train, y_train, **fit_params)\n",
      "  File \"C:\\Users\\Matan\\anaconda3\\lib\\site-packages\\sklearn\\pipeline.py\", line 346, in fit\n",
      "    self._final_estimator.fit(Xt, y, **fit_params_last_step)\n",
      "  File \"C:\\Users\\Matan\\anaconda3\\lib\\site-packages\\sklearn\\linear_model\\_logistic.py\", line 1306, in fit\n",
      "    solver = _check_solver(self.solver, self.penalty, self.dual)\n",
      "  File \"C:\\Users\\Matan\\anaconda3\\lib\\site-packages\\sklearn\\linear_model\\_logistic.py\", line 443, in _check_solver\n",
      "    raise ValueError(\"Solver %s supports only 'l2' or 'none' penalties, \"\n",
      "ValueError: Solver newton-cg supports only 'l2' or 'none' penalties, got l1 penalty.\n",
      "\n",
      "  warnings.warn(\"Estimator fit failed. The score on this train-test\"\n",
      "C:\\Users\\Matan\\anaconda3\\lib\\site-packages\\sklearn\\model_selection\\_validation.py:610: FitFailedWarning: Estimator fit failed. The score on this train-test partition for these parameters will be set to nan. Details: \n",
      "Traceback (most recent call last):\n",
      "  File \"C:\\Users\\Matan\\anaconda3\\lib\\site-packages\\sklearn\\model_selection\\_validation.py\", line 593, in _fit_and_score\n",
      "    estimator.fit(X_train, y_train, **fit_params)\n",
      "  File \"C:\\Users\\Matan\\anaconda3\\lib\\site-packages\\sklearn\\pipeline.py\", line 346, in fit\n",
      "    self._final_estimator.fit(Xt, y, **fit_params_last_step)\n",
      "  File \"C:\\Users\\Matan\\anaconda3\\lib\\site-packages\\sklearn\\linear_model\\_logistic.py\", line 1306, in fit\n",
      "    solver = _check_solver(self.solver, self.penalty, self.dual)\n",
      "  File \"C:\\Users\\Matan\\anaconda3\\lib\\site-packages\\sklearn\\linear_model\\_logistic.py\", line 443, in _check_solver\n",
      "    raise ValueError(\"Solver %s supports only 'l2' or 'none' penalties, \"\n",
      "ValueError: Solver newton-cg supports only 'l2' or 'none' penalties, got l1 penalty.\n",
      "\n",
      "  warnings.warn(\"Estimator fit failed. The score on this train-test\"\n"
     ]
    },
    {
     "name": "stdout",
     "output_type": "stream",
     "text": [
      "[CV 2/3; 17/150] END LR__C=0.001, LR__penalty=l1, LR__solver=newton-cg, imputer__n_neighbors=3; total time=   0.1s\n",
      "[CV 3/3; 17/150] START LR__C=0.001, LR__penalty=l1, LR__solver=newton-cg, imputer__n_neighbors=3\n",
      "[CV 3/3; 17/150] END LR__C=0.001, LR__penalty=l1, LR__solver=newton-cg, imputer__n_neighbors=3; total time=   0.1s\n",
      "[CV 1/3; 18/150] START LR__C=0.001, LR__penalty=l1, LR__solver=newton-cg, imputer__n_neighbors=4\n"
     ]
    },
    {
     "name": "stderr",
     "output_type": "stream",
     "text": [
      "C:\\Users\\Matan\\anaconda3\\lib\\site-packages\\sklearn\\model_selection\\_validation.py:610: FitFailedWarning: Estimator fit failed. The score on this train-test partition for these parameters will be set to nan. Details: \n",
      "Traceback (most recent call last):\n",
      "  File \"C:\\Users\\Matan\\anaconda3\\lib\\site-packages\\sklearn\\model_selection\\_validation.py\", line 593, in _fit_and_score\n",
      "    estimator.fit(X_train, y_train, **fit_params)\n",
      "  File \"C:\\Users\\Matan\\anaconda3\\lib\\site-packages\\sklearn\\pipeline.py\", line 346, in fit\n",
      "    self._final_estimator.fit(Xt, y, **fit_params_last_step)\n",
      "  File \"C:\\Users\\Matan\\anaconda3\\lib\\site-packages\\sklearn\\linear_model\\_logistic.py\", line 1306, in fit\n",
      "    solver = _check_solver(self.solver, self.penalty, self.dual)\n",
      "  File \"C:\\Users\\Matan\\anaconda3\\lib\\site-packages\\sklearn\\linear_model\\_logistic.py\", line 443, in _check_solver\n",
      "    raise ValueError(\"Solver %s supports only 'l2' or 'none' penalties, \"\n",
      "ValueError: Solver newton-cg supports only 'l2' or 'none' penalties, got l1 penalty.\n",
      "\n",
      "  warnings.warn(\"Estimator fit failed. The score on this train-test\"\n"
     ]
    },
    {
     "name": "stdout",
     "output_type": "stream",
     "text": [
      "[CV 1/3; 18/150] END LR__C=0.001, LR__penalty=l1, LR__solver=newton-cg, imputer__n_neighbors=4; total time=   0.1s\n",
      "[CV 2/3; 18/150] START LR__C=0.001, LR__penalty=l1, LR__solver=newton-cg, imputer__n_neighbors=4\n"
     ]
    },
    {
     "name": "stderr",
     "output_type": "stream",
     "text": [
      "C:\\Users\\Matan\\anaconda3\\lib\\site-packages\\sklearn\\model_selection\\_validation.py:610: FitFailedWarning: Estimator fit failed. The score on this train-test partition for these parameters will be set to nan. Details: \n",
      "Traceback (most recent call last):\n",
      "  File \"C:\\Users\\Matan\\anaconda3\\lib\\site-packages\\sklearn\\model_selection\\_validation.py\", line 593, in _fit_and_score\n",
      "    estimator.fit(X_train, y_train, **fit_params)\n",
      "  File \"C:\\Users\\Matan\\anaconda3\\lib\\site-packages\\sklearn\\pipeline.py\", line 346, in fit\n",
      "    self._final_estimator.fit(Xt, y, **fit_params_last_step)\n",
      "  File \"C:\\Users\\Matan\\anaconda3\\lib\\site-packages\\sklearn\\linear_model\\_logistic.py\", line 1306, in fit\n",
      "    solver = _check_solver(self.solver, self.penalty, self.dual)\n",
      "  File \"C:\\Users\\Matan\\anaconda3\\lib\\site-packages\\sklearn\\linear_model\\_logistic.py\", line 443, in _check_solver\n",
      "    raise ValueError(\"Solver %s supports only 'l2' or 'none' penalties, \"\n",
      "ValueError: Solver newton-cg supports only 'l2' or 'none' penalties, got l1 penalty.\n",
      "\n",
      "  warnings.warn(\"Estimator fit failed. The score on this train-test\"\n"
     ]
    },
    {
     "name": "stdout",
     "output_type": "stream",
     "text": [
      "[CV 2/3; 18/150] END LR__C=0.001, LR__penalty=l1, LR__solver=newton-cg, imputer__n_neighbors=4; total time=   0.2s\n",
      "[CV 3/3; 18/150] START LR__C=0.001, LR__penalty=l1, LR__solver=newton-cg, imputer__n_neighbors=4\n"
     ]
    },
    {
     "name": "stderr",
     "output_type": "stream",
     "text": [
      "C:\\Users\\Matan\\anaconda3\\lib\\site-packages\\sklearn\\model_selection\\_validation.py:610: FitFailedWarning: Estimator fit failed. The score on this train-test partition for these parameters will be set to nan. Details: \n",
      "Traceback (most recent call last):\n",
      "  File \"C:\\Users\\Matan\\anaconda3\\lib\\site-packages\\sklearn\\model_selection\\_validation.py\", line 593, in _fit_and_score\n",
      "    estimator.fit(X_train, y_train, **fit_params)\n",
      "  File \"C:\\Users\\Matan\\anaconda3\\lib\\site-packages\\sklearn\\pipeline.py\", line 346, in fit\n",
      "    self._final_estimator.fit(Xt, y, **fit_params_last_step)\n",
      "  File \"C:\\Users\\Matan\\anaconda3\\lib\\site-packages\\sklearn\\linear_model\\_logistic.py\", line 1306, in fit\n",
      "    solver = _check_solver(self.solver, self.penalty, self.dual)\n",
      "  File \"C:\\Users\\Matan\\anaconda3\\lib\\site-packages\\sklearn\\linear_model\\_logistic.py\", line 443, in _check_solver\n",
      "    raise ValueError(\"Solver %s supports only 'l2' or 'none' penalties, \"\n",
      "ValueError: Solver newton-cg supports only 'l2' or 'none' penalties, got l1 penalty.\n",
      "\n",
      "  warnings.warn(\"Estimator fit failed. The score on this train-test\"\n"
     ]
    },
    {
     "name": "stdout",
     "output_type": "stream",
     "text": [
      "[CV 3/3; 18/150] END LR__C=0.001, LR__penalty=l1, LR__solver=newton-cg, imputer__n_neighbors=4; total time=   0.2s\n",
      "[CV 1/3; 19/150] START LR__C=0.001, LR__penalty=l1, LR__solver=lbfgs, imputer__n_neighbors=2\n"
     ]
    },
    {
     "name": "stderr",
     "output_type": "stream",
     "text": [
      "C:\\Users\\Matan\\anaconda3\\lib\\site-packages\\sklearn\\model_selection\\_validation.py:610: FitFailedWarning: Estimator fit failed. The score on this train-test partition for these parameters will be set to nan. Details: \n",
      "Traceback (most recent call last):\n",
      "  File \"C:\\Users\\Matan\\anaconda3\\lib\\site-packages\\sklearn\\model_selection\\_validation.py\", line 593, in _fit_and_score\n",
      "    estimator.fit(X_train, y_train, **fit_params)\n",
      "  File \"C:\\Users\\Matan\\anaconda3\\lib\\site-packages\\sklearn\\pipeline.py\", line 346, in fit\n",
      "    self._final_estimator.fit(Xt, y, **fit_params_last_step)\n",
      "  File \"C:\\Users\\Matan\\anaconda3\\lib\\site-packages\\sklearn\\linear_model\\_logistic.py\", line 1306, in fit\n",
      "    solver = _check_solver(self.solver, self.penalty, self.dual)\n",
      "  File \"C:\\Users\\Matan\\anaconda3\\lib\\site-packages\\sklearn\\linear_model\\_logistic.py\", line 443, in _check_solver\n",
      "    raise ValueError(\"Solver %s supports only 'l2' or 'none' penalties, \"\n",
      "ValueError: Solver lbfgs supports only 'l2' or 'none' penalties, got l1 penalty.\n",
      "\n",
      "  warnings.warn(\"Estimator fit failed. The score on this train-test\"\n"
     ]
    },
    {
     "name": "stdout",
     "output_type": "stream",
     "text": [
      "[CV 1/3; 19/150] END LR__C=0.001, LR__penalty=l1, LR__solver=lbfgs, imputer__n_neighbors=2; total time=   0.2s\n",
      "[CV 2/3; 19/150] START LR__C=0.001, LR__penalty=l1, LR__solver=lbfgs, imputer__n_neighbors=2\n"
     ]
    },
    {
     "name": "stderr",
     "output_type": "stream",
     "text": [
      "C:\\Users\\Matan\\anaconda3\\lib\\site-packages\\sklearn\\model_selection\\_validation.py:610: FitFailedWarning: Estimator fit failed. The score on this train-test partition for these parameters will be set to nan. Details: \n",
      "Traceback (most recent call last):\n",
      "  File \"C:\\Users\\Matan\\anaconda3\\lib\\site-packages\\sklearn\\model_selection\\_validation.py\", line 593, in _fit_and_score\n",
      "    estimator.fit(X_train, y_train, **fit_params)\n",
      "  File \"C:\\Users\\Matan\\anaconda3\\lib\\site-packages\\sklearn\\pipeline.py\", line 346, in fit\n",
      "    self._final_estimator.fit(Xt, y, **fit_params_last_step)\n",
      "  File \"C:\\Users\\Matan\\anaconda3\\lib\\site-packages\\sklearn\\linear_model\\_logistic.py\", line 1306, in fit\n",
      "    solver = _check_solver(self.solver, self.penalty, self.dual)\n",
      "  File \"C:\\Users\\Matan\\anaconda3\\lib\\site-packages\\sklearn\\linear_model\\_logistic.py\", line 443, in _check_solver\n",
      "    raise ValueError(\"Solver %s supports only 'l2' or 'none' penalties, \"\n",
      "ValueError: Solver lbfgs supports only 'l2' or 'none' penalties, got l1 penalty.\n",
      "\n",
      "  warnings.warn(\"Estimator fit failed. The score on this train-test\"\n"
     ]
    },
    {
     "name": "stdout",
     "output_type": "stream",
     "text": [
      "[CV 2/3; 19/150] END LR__C=0.001, LR__penalty=l1, LR__solver=lbfgs, imputer__n_neighbors=2; total time=   0.2s\n",
      "[CV 3/3; 19/150] START LR__C=0.001, LR__penalty=l1, LR__solver=lbfgs, imputer__n_neighbors=2\n"
     ]
    },
    {
     "name": "stderr",
     "output_type": "stream",
     "text": [
      "C:\\Users\\Matan\\anaconda3\\lib\\site-packages\\sklearn\\model_selection\\_validation.py:610: FitFailedWarning: Estimator fit failed. The score on this train-test partition for these parameters will be set to nan. Details: \n",
      "Traceback (most recent call last):\n",
      "  File \"C:\\Users\\Matan\\anaconda3\\lib\\site-packages\\sklearn\\model_selection\\_validation.py\", line 593, in _fit_and_score\n",
      "    estimator.fit(X_train, y_train, **fit_params)\n",
      "  File \"C:\\Users\\Matan\\anaconda3\\lib\\site-packages\\sklearn\\pipeline.py\", line 346, in fit\n",
      "    self._final_estimator.fit(Xt, y, **fit_params_last_step)\n",
      "  File \"C:\\Users\\Matan\\anaconda3\\lib\\site-packages\\sklearn\\linear_model\\_logistic.py\", line 1306, in fit\n",
      "    solver = _check_solver(self.solver, self.penalty, self.dual)\n",
      "  File \"C:\\Users\\Matan\\anaconda3\\lib\\site-packages\\sklearn\\linear_model\\_logistic.py\", line 443, in _check_solver\n",
      "    raise ValueError(\"Solver %s supports only 'l2' or 'none' penalties, \"\n",
      "ValueError: Solver lbfgs supports only 'l2' or 'none' penalties, got l1 penalty.\n",
      "\n",
      "  warnings.warn(\"Estimator fit failed. The score on this train-test\"\n"
     ]
    },
    {
     "name": "stdout",
     "output_type": "stream",
     "text": [
      "[CV 3/3; 19/150] END LR__C=0.001, LR__penalty=l1, LR__solver=lbfgs, imputer__n_neighbors=2; total time=   0.2s\n",
      "[CV 1/3; 20/150] START LR__C=0.001, LR__penalty=l1, LR__solver=lbfgs, imputer__n_neighbors=3\n"
     ]
    },
    {
     "name": "stderr",
     "output_type": "stream",
     "text": [
      "C:\\Users\\Matan\\anaconda3\\lib\\site-packages\\sklearn\\model_selection\\_validation.py:610: FitFailedWarning: Estimator fit failed. The score on this train-test partition for these parameters will be set to nan. Details: \n",
      "Traceback (most recent call last):\n",
      "  File \"C:\\Users\\Matan\\anaconda3\\lib\\site-packages\\sklearn\\model_selection\\_validation.py\", line 593, in _fit_and_score\n",
      "    estimator.fit(X_train, y_train, **fit_params)\n",
      "  File \"C:\\Users\\Matan\\anaconda3\\lib\\site-packages\\sklearn\\pipeline.py\", line 346, in fit\n",
      "    self._final_estimator.fit(Xt, y, **fit_params_last_step)\n",
      "  File \"C:\\Users\\Matan\\anaconda3\\lib\\site-packages\\sklearn\\linear_model\\_logistic.py\", line 1306, in fit\n",
      "    solver = _check_solver(self.solver, self.penalty, self.dual)\n",
      "  File \"C:\\Users\\Matan\\anaconda3\\lib\\site-packages\\sklearn\\linear_model\\_logistic.py\", line 443, in _check_solver\n",
      "    raise ValueError(\"Solver %s supports only 'l2' or 'none' penalties, \"\n",
      "ValueError: Solver lbfgs supports only 'l2' or 'none' penalties, got l1 penalty.\n",
      "\n",
      "  warnings.warn(\"Estimator fit failed. The score on this train-test\"\n"
     ]
    },
    {
     "name": "stdout",
     "output_type": "stream",
     "text": [
      "[CV 1/3; 20/150] END LR__C=0.001, LR__penalty=l1, LR__solver=lbfgs, imputer__n_neighbors=3; total time=   0.2s\n",
      "[CV 2/3; 20/150] START LR__C=0.001, LR__penalty=l1, LR__solver=lbfgs, imputer__n_neighbors=3\n"
     ]
    },
    {
     "name": "stderr",
     "output_type": "stream",
     "text": [
      "C:\\Users\\Matan\\anaconda3\\lib\\site-packages\\sklearn\\model_selection\\_validation.py:610: FitFailedWarning: Estimator fit failed. The score on this train-test partition for these parameters will be set to nan. Details: \n",
      "Traceback (most recent call last):\n",
      "  File \"C:\\Users\\Matan\\anaconda3\\lib\\site-packages\\sklearn\\model_selection\\_validation.py\", line 593, in _fit_and_score\n",
      "    estimator.fit(X_train, y_train, **fit_params)\n",
      "  File \"C:\\Users\\Matan\\anaconda3\\lib\\site-packages\\sklearn\\pipeline.py\", line 346, in fit\n",
      "    self._final_estimator.fit(Xt, y, **fit_params_last_step)\n",
      "  File \"C:\\Users\\Matan\\anaconda3\\lib\\site-packages\\sklearn\\linear_model\\_logistic.py\", line 1306, in fit\n",
      "    solver = _check_solver(self.solver, self.penalty, self.dual)\n",
      "  File \"C:\\Users\\Matan\\anaconda3\\lib\\site-packages\\sklearn\\linear_model\\_logistic.py\", line 443, in _check_solver\n",
      "    raise ValueError(\"Solver %s supports only 'l2' or 'none' penalties, \"\n",
      "ValueError: Solver lbfgs supports only 'l2' or 'none' penalties, got l1 penalty.\n",
      "\n",
      "  warnings.warn(\"Estimator fit failed. The score on this train-test\"\n"
     ]
    },
    {
     "name": "stdout",
     "output_type": "stream",
     "text": [
      "[CV 2/3; 20/150] END LR__C=0.001, LR__penalty=l1, LR__solver=lbfgs, imputer__n_neighbors=3; total time=   0.2s\n",
      "[CV 3/3; 20/150] START LR__C=0.001, LR__penalty=l1, LR__solver=lbfgs, imputer__n_neighbors=3\n"
     ]
    },
    {
     "name": "stderr",
     "output_type": "stream",
     "text": [
      "C:\\Users\\Matan\\anaconda3\\lib\\site-packages\\sklearn\\model_selection\\_validation.py:610: FitFailedWarning: Estimator fit failed. The score on this train-test partition for these parameters will be set to nan. Details: \n",
      "Traceback (most recent call last):\n",
      "  File \"C:\\Users\\Matan\\anaconda3\\lib\\site-packages\\sklearn\\model_selection\\_validation.py\", line 593, in _fit_and_score\n",
      "    estimator.fit(X_train, y_train, **fit_params)\n",
      "  File \"C:\\Users\\Matan\\anaconda3\\lib\\site-packages\\sklearn\\pipeline.py\", line 346, in fit\n",
      "    self._final_estimator.fit(Xt, y, **fit_params_last_step)\n",
      "  File \"C:\\Users\\Matan\\anaconda3\\lib\\site-packages\\sklearn\\linear_model\\_logistic.py\", line 1306, in fit\n",
      "    solver = _check_solver(self.solver, self.penalty, self.dual)\n",
      "  File \"C:\\Users\\Matan\\anaconda3\\lib\\site-packages\\sklearn\\linear_model\\_logistic.py\", line 443, in _check_solver\n",
      "    raise ValueError(\"Solver %s supports only 'l2' or 'none' penalties, \"\n",
      "ValueError: Solver lbfgs supports only 'l2' or 'none' penalties, got l1 penalty.\n",
      "\n",
      "  warnings.warn(\"Estimator fit failed. The score on this train-test\"\n"
     ]
    },
    {
     "name": "stdout",
     "output_type": "stream",
     "text": [
      "[CV 3/3; 20/150] END LR__C=0.001, LR__penalty=l1, LR__solver=lbfgs, imputer__n_neighbors=3; total time=   0.2s\n",
      "[CV 1/3; 21/150] START LR__C=0.001, LR__penalty=l1, LR__solver=lbfgs, imputer__n_neighbors=4\n"
     ]
    },
    {
     "name": "stderr",
     "output_type": "stream",
     "text": [
      "C:\\Users\\Matan\\anaconda3\\lib\\site-packages\\sklearn\\model_selection\\_validation.py:610: FitFailedWarning: Estimator fit failed. The score on this train-test partition for these parameters will be set to nan. Details: \n",
      "Traceback (most recent call last):\n",
      "  File \"C:\\Users\\Matan\\anaconda3\\lib\\site-packages\\sklearn\\model_selection\\_validation.py\", line 593, in _fit_and_score\n",
      "    estimator.fit(X_train, y_train, **fit_params)\n",
      "  File \"C:\\Users\\Matan\\anaconda3\\lib\\site-packages\\sklearn\\pipeline.py\", line 346, in fit\n",
      "    self._final_estimator.fit(Xt, y, **fit_params_last_step)\n",
      "  File \"C:\\Users\\Matan\\anaconda3\\lib\\site-packages\\sklearn\\linear_model\\_logistic.py\", line 1306, in fit\n",
      "    solver = _check_solver(self.solver, self.penalty, self.dual)\n",
      "  File \"C:\\Users\\Matan\\anaconda3\\lib\\site-packages\\sklearn\\linear_model\\_logistic.py\", line 443, in _check_solver\n",
      "    raise ValueError(\"Solver %s supports only 'l2' or 'none' penalties, \"\n",
      "ValueError: Solver lbfgs supports only 'l2' or 'none' penalties, got l1 penalty.\n",
      "\n",
      "  warnings.warn(\"Estimator fit failed. The score on this train-test\"\n"
     ]
    },
    {
     "name": "stdout",
     "output_type": "stream",
     "text": [
      "[CV 1/3; 21/150] END LR__C=0.001, LR__penalty=l1, LR__solver=lbfgs, imputer__n_neighbors=4; total time=   0.2s\n",
      "[CV 2/3; 21/150] START LR__C=0.001, LR__penalty=l1, LR__solver=lbfgs, imputer__n_neighbors=4\n"
     ]
    },
    {
     "name": "stderr",
     "output_type": "stream",
     "text": [
      "C:\\Users\\Matan\\anaconda3\\lib\\site-packages\\sklearn\\model_selection\\_validation.py:610: FitFailedWarning: Estimator fit failed. The score on this train-test partition for these parameters will be set to nan. Details: \n",
      "Traceback (most recent call last):\n",
      "  File \"C:\\Users\\Matan\\anaconda3\\lib\\site-packages\\sklearn\\model_selection\\_validation.py\", line 593, in _fit_and_score\n",
      "    estimator.fit(X_train, y_train, **fit_params)\n",
      "  File \"C:\\Users\\Matan\\anaconda3\\lib\\site-packages\\sklearn\\pipeline.py\", line 346, in fit\n",
      "    self._final_estimator.fit(Xt, y, **fit_params_last_step)\n",
      "  File \"C:\\Users\\Matan\\anaconda3\\lib\\site-packages\\sklearn\\linear_model\\_logistic.py\", line 1306, in fit\n",
      "    solver = _check_solver(self.solver, self.penalty, self.dual)\n",
      "  File \"C:\\Users\\Matan\\anaconda3\\lib\\site-packages\\sklearn\\linear_model\\_logistic.py\", line 443, in _check_solver\n",
      "    raise ValueError(\"Solver %s supports only 'l2' or 'none' penalties, \"\n",
      "ValueError: Solver lbfgs supports only 'l2' or 'none' penalties, got l1 penalty.\n",
      "\n",
      "  warnings.warn(\"Estimator fit failed. The score on this train-test\"\n"
     ]
    },
    {
     "name": "stdout",
     "output_type": "stream",
     "text": [
      "[CV 2/3; 21/150] END LR__C=0.001, LR__penalty=l1, LR__solver=lbfgs, imputer__n_neighbors=4; total time=   0.2s\n",
      "[CV 3/3; 21/150] START LR__C=0.001, LR__penalty=l1, LR__solver=lbfgs, imputer__n_neighbors=4\n"
     ]
    },
    {
     "name": "stderr",
     "output_type": "stream",
     "text": [
      "C:\\Users\\Matan\\anaconda3\\lib\\site-packages\\sklearn\\model_selection\\_validation.py:610: FitFailedWarning: Estimator fit failed. The score on this train-test partition for these parameters will be set to nan. Details: \n",
      "Traceback (most recent call last):\n",
      "  File \"C:\\Users\\Matan\\anaconda3\\lib\\site-packages\\sklearn\\model_selection\\_validation.py\", line 593, in _fit_and_score\n",
      "    estimator.fit(X_train, y_train, **fit_params)\n",
      "  File \"C:\\Users\\Matan\\anaconda3\\lib\\site-packages\\sklearn\\pipeline.py\", line 346, in fit\n",
      "    self._final_estimator.fit(Xt, y, **fit_params_last_step)\n",
      "  File \"C:\\Users\\Matan\\anaconda3\\lib\\site-packages\\sklearn\\linear_model\\_logistic.py\", line 1306, in fit\n",
      "    solver = _check_solver(self.solver, self.penalty, self.dual)\n",
      "  File \"C:\\Users\\Matan\\anaconda3\\lib\\site-packages\\sklearn\\linear_model\\_logistic.py\", line 443, in _check_solver\n",
      "    raise ValueError(\"Solver %s supports only 'l2' or 'none' penalties, \"\n",
      "ValueError: Solver lbfgs supports only 'l2' or 'none' penalties, got l1 penalty.\n",
      "\n",
      "  warnings.warn(\"Estimator fit failed. The score on this train-test\"\n"
     ]
    },
    {
     "name": "stdout",
     "output_type": "stream",
     "text": [
      "[CV 3/3; 21/150] END LR__C=0.001, LR__penalty=l1, LR__solver=lbfgs, imputer__n_neighbors=4; total time=   0.2s\n",
      "[CV 1/3; 22/150] START LR__C=0.001, LR__penalty=l1, LR__solver=liblinear, imputer__n_neighbors=2\n",
      "[CV 1/3; 22/150] END LR__C=0.001, LR__penalty=l1, LR__solver=liblinear, imputer__n_neighbors=2; total time=   0.4s\n",
      "[CV 2/3; 22/150] START LR__C=0.001, LR__penalty=l1, LR__solver=liblinear, imputer__n_neighbors=2\n",
      "[CV 2/3; 22/150] END LR__C=0.001, LR__penalty=l1, LR__solver=liblinear, imputer__n_neighbors=2; total time=   0.4s\n",
      "[CV 3/3; 22/150] START LR__C=0.001, LR__penalty=l1, LR__solver=liblinear, imputer__n_neighbors=2\n",
      "[CV 3/3; 22/150] END LR__C=0.001, LR__penalty=l1, LR__solver=liblinear, imputer__n_neighbors=2; total time=   0.4s\n",
      "[CV 1/3; 23/150] START LR__C=0.001, LR__penalty=l1, LR__solver=liblinear, imputer__n_neighbors=3\n",
      "[CV 1/3; 23/150] END LR__C=0.001, LR__penalty=l1, LR__solver=liblinear, imputer__n_neighbors=3; total time=   0.6s\n",
      "[CV 2/3; 23/150] START LR__C=0.001, LR__penalty=l1, LR__solver=liblinear, imputer__n_neighbors=3\n",
      "[CV 2/3; 23/150] END LR__C=0.001, LR__penalty=l1, LR__solver=liblinear, imputer__n_neighbors=3; total time=   0.7s\n",
      "[CV 3/3; 23/150] START LR__C=0.001, LR__penalty=l1, LR__solver=liblinear, imputer__n_neighbors=3\n",
      "[CV 3/3; 23/150] END LR__C=0.001, LR__penalty=l1, LR__solver=liblinear, imputer__n_neighbors=3; total time=   0.8s\n",
      "[CV 1/3; 24/150] START LR__C=0.001, LR__penalty=l1, LR__solver=liblinear, imputer__n_neighbors=4\n",
      "[CV 1/3; 24/150] END LR__C=0.001, LR__penalty=l1, LR__solver=liblinear, imputer__n_neighbors=4; total time=   0.5s\n",
      "[CV 2/3; 24/150] START LR__C=0.001, LR__penalty=l1, LR__solver=liblinear, imputer__n_neighbors=4\n",
      "[CV 2/3; 24/150] END LR__C=0.001, LR__penalty=l1, LR__solver=liblinear, imputer__n_neighbors=4; total time=   0.4s\n",
      "[CV 3/3; 24/150] START LR__C=0.001, LR__penalty=l1, LR__solver=liblinear, imputer__n_neighbors=4\n",
      "[CV 3/3; 24/150] END LR__C=0.001, LR__penalty=l1, LR__solver=liblinear, imputer__n_neighbors=4; total time=   0.4s\n",
      "[CV 1/3; 25/150] START LR__C=0.001, LR__penalty=l1, LR__solver=sag, imputer__n_neighbors=2\n",
      "[CV 1/3; 25/150] END LR__C=0.001, LR__penalty=l1, LR__solver=sag, imputer__n_neighbors=2; total time=   0.1s\n",
      "[CV 2/3; 25/150] START LR__C=0.001, LR__penalty=l1, LR__solver=sag, imputer__n_neighbors=2\n"
     ]
    },
    {
     "name": "stderr",
     "output_type": "stream",
     "text": [
      "C:\\Users\\Matan\\anaconda3\\lib\\site-packages\\sklearn\\model_selection\\_validation.py:610: FitFailedWarning: Estimator fit failed. The score on this train-test partition for these parameters will be set to nan. Details: \n",
      "Traceback (most recent call last):\n",
      "  File \"C:\\Users\\Matan\\anaconda3\\lib\\site-packages\\sklearn\\model_selection\\_validation.py\", line 593, in _fit_and_score\n",
      "    estimator.fit(X_train, y_train, **fit_params)\n",
      "  File \"C:\\Users\\Matan\\anaconda3\\lib\\site-packages\\sklearn\\pipeline.py\", line 346, in fit\n",
      "    self._final_estimator.fit(Xt, y, **fit_params_last_step)\n",
      "  File \"C:\\Users\\Matan\\anaconda3\\lib\\site-packages\\sklearn\\linear_model\\_logistic.py\", line 1306, in fit\n",
      "    solver = _check_solver(self.solver, self.penalty, self.dual)\n",
      "  File \"C:\\Users\\Matan\\anaconda3\\lib\\site-packages\\sklearn\\linear_model\\_logistic.py\", line 443, in _check_solver\n",
      "    raise ValueError(\"Solver %s supports only 'l2' or 'none' penalties, \"\n",
      "ValueError: Solver sag supports only 'l2' or 'none' penalties, got l1 penalty.\n",
      "\n",
      "  warnings.warn(\"Estimator fit failed. The score on this train-test\"\n",
      "C:\\Users\\Matan\\anaconda3\\lib\\site-packages\\sklearn\\model_selection\\_validation.py:610: FitFailedWarning: Estimator fit failed. The score on this train-test partition for these parameters will be set to nan. Details: \n",
      "Traceback (most recent call last):\n",
      "  File \"C:\\Users\\Matan\\anaconda3\\lib\\site-packages\\sklearn\\model_selection\\_validation.py\", line 593, in _fit_and_score\n",
      "    estimator.fit(X_train, y_train, **fit_params)\n",
      "  File \"C:\\Users\\Matan\\anaconda3\\lib\\site-packages\\sklearn\\pipeline.py\", line 346, in fit\n",
      "    self._final_estimator.fit(Xt, y, **fit_params_last_step)\n",
      "  File \"C:\\Users\\Matan\\anaconda3\\lib\\site-packages\\sklearn\\linear_model\\_logistic.py\", line 1306, in fit\n",
      "    solver = _check_solver(self.solver, self.penalty, self.dual)\n",
      "  File \"C:\\Users\\Matan\\anaconda3\\lib\\site-packages\\sklearn\\linear_model\\_logistic.py\", line 443, in _check_solver\n",
      "    raise ValueError(\"Solver %s supports only 'l2' or 'none' penalties, \"\n",
      "ValueError: Solver sag supports only 'l2' or 'none' penalties, got l1 penalty.\n",
      "\n",
      "  warnings.warn(\"Estimator fit failed. The score on this train-test\"\n"
     ]
    },
    {
     "name": "stdout",
     "output_type": "stream",
     "text": [
      "[CV 2/3; 25/150] END LR__C=0.001, LR__penalty=l1, LR__solver=sag, imputer__n_neighbors=2; total time=   0.2s\n",
      "[CV 3/3; 25/150] START LR__C=0.001, LR__penalty=l1, LR__solver=sag, imputer__n_neighbors=2\n"
     ]
    },
    {
     "name": "stderr",
     "output_type": "stream",
     "text": [
      "C:\\Users\\Matan\\anaconda3\\lib\\site-packages\\sklearn\\model_selection\\_validation.py:610: FitFailedWarning: Estimator fit failed. The score on this train-test partition for these parameters will be set to nan. Details: \n",
      "Traceback (most recent call last):\n",
      "  File \"C:\\Users\\Matan\\anaconda3\\lib\\site-packages\\sklearn\\model_selection\\_validation.py\", line 593, in _fit_and_score\n",
      "    estimator.fit(X_train, y_train, **fit_params)\n",
      "  File \"C:\\Users\\Matan\\anaconda3\\lib\\site-packages\\sklearn\\pipeline.py\", line 346, in fit\n",
      "    self._final_estimator.fit(Xt, y, **fit_params_last_step)\n",
      "  File \"C:\\Users\\Matan\\anaconda3\\lib\\site-packages\\sklearn\\linear_model\\_logistic.py\", line 1306, in fit\n",
      "    solver = _check_solver(self.solver, self.penalty, self.dual)\n",
      "  File \"C:\\Users\\Matan\\anaconda3\\lib\\site-packages\\sklearn\\linear_model\\_logistic.py\", line 443, in _check_solver\n",
      "    raise ValueError(\"Solver %s supports only 'l2' or 'none' penalties, \"\n",
      "ValueError: Solver sag supports only 'l2' or 'none' penalties, got l1 penalty.\n",
      "\n",
      "  warnings.warn(\"Estimator fit failed. The score on this train-test\"\n"
     ]
    },
    {
     "name": "stdout",
     "output_type": "stream",
     "text": [
      "[CV 3/3; 25/150] END LR__C=0.001, LR__penalty=l1, LR__solver=sag, imputer__n_neighbors=2; total time=   0.2s\n",
      "[CV 1/3; 26/150] START LR__C=0.001, LR__penalty=l1, LR__solver=sag, imputer__n_neighbors=3\n"
     ]
    },
    {
     "name": "stderr",
     "output_type": "stream",
     "text": [
      "C:\\Users\\Matan\\anaconda3\\lib\\site-packages\\sklearn\\model_selection\\_validation.py:610: FitFailedWarning: Estimator fit failed. The score on this train-test partition for these parameters will be set to nan. Details: \n",
      "Traceback (most recent call last):\n",
      "  File \"C:\\Users\\Matan\\anaconda3\\lib\\site-packages\\sklearn\\model_selection\\_validation.py\", line 593, in _fit_and_score\n",
      "    estimator.fit(X_train, y_train, **fit_params)\n",
      "  File \"C:\\Users\\Matan\\anaconda3\\lib\\site-packages\\sklearn\\pipeline.py\", line 346, in fit\n",
      "    self._final_estimator.fit(Xt, y, **fit_params_last_step)\n",
      "  File \"C:\\Users\\Matan\\anaconda3\\lib\\site-packages\\sklearn\\linear_model\\_logistic.py\", line 1306, in fit\n",
      "    solver = _check_solver(self.solver, self.penalty, self.dual)\n",
      "  File \"C:\\Users\\Matan\\anaconda3\\lib\\site-packages\\sklearn\\linear_model\\_logistic.py\", line 443, in _check_solver\n",
      "    raise ValueError(\"Solver %s supports only 'l2' or 'none' penalties, \"\n",
      "ValueError: Solver sag supports only 'l2' or 'none' penalties, got l1 penalty.\n",
      "\n",
      "  warnings.warn(\"Estimator fit failed. The score on this train-test\"\n"
     ]
    },
    {
     "name": "stdout",
     "output_type": "stream",
     "text": [
      "[CV 1/3; 26/150] END LR__C=0.001, LR__penalty=l1, LR__solver=sag, imputer__n_neighbors=3; total time=   0.2s\n",
      "[CV 2/3; 26/150] START LR__C=0.001, LR__penalty=l1, LR__solver=sag, imputer__n_neighbors=3\n"
     ]
    },
    {
     "name": "stderr",
     "output_type": "stream",
     "text": [
      "C:\\Users\\Matan\\anaconda3\\lib\\site-packages\\sklearn\\model_selection\\_validation.py:610: FitFailedWarning: Estimator fit failed. The score on this train-test partition for these parameters will be set to nan. Details: \n",
      "Traceback (most recent call last):\n",
      "  File \"C:\\Users\\Matan\\anaconda3\\lib\\site-packages\\sklearn\\model_selection\\_validation.py\", line 593, in _fit_and_score\n",
      "    estimator.fit(X_train, y_train, **fit_params)\n",
      "  File \"C:\\Users\\Matan\\anaconda3\\lib\\site-packages\\sklearn\\pipeline.py\", line 346, in fit\n",
      "    self._final_estimator.fit(Xt, y, **fit_params_last_step)\n",
      "  File \"C:\\Users\\Matan\\anaconda3\\lib\\site-packages\\sklearn\\linear_model\\_logistic.py\", line 1306, in fit\n",
      "    solver = _check_solver(self.solver, self.penalty, self.dual)\n",
      "  File \"C:\\Users\\Matan\\anaconda3\\lib\\site-packages\\sklearn\\linear_model\\_logistic.py\", line 443, in _check_solver\n",
      "    raise ValueError(\"Solver %s supports only 'l2' or 'none' penalties, \"\n",
      "ValueError: Solver sag supports only 'l2' or 'none' penalties, got l1 penalty.\n",
      "\n",
      "  warnings.warn(\"Estimator fit failed. The score on this train-test\"\n"
     ]
    },
    {
     "name": "stdout",
     "output_type": "stream",
     "text": [
      "[CV 2/3; 26/150] END LR__C=0.001, LR__penalty=l1, LR__solver=sag, imputer__n_neighbors=3; total time=   0.2s\n",
      "[CV 3/3; 26/150] START LR__C=0.001, LR__penalty=l1, LR__solver=sag, imputer__n_neighbors=3\n"
     ]
    },
    {
     "name": "stderr",
     "output_type": "stream",
     "text": [
      "C:\\Users\\Matan\\anaconda3\\lib\\site-packages\\sklearn\\model_selection\\_validation.py:610: FitFailedWarning: Estimator fit failed. The score on this train-test partition for these parameters will be set to nan. Details: \n",
      "Traceback (most recent call last):\n",
      "  File \"C:\\Users\\Matan\\anaconda3\\lib\\site-packages\\sklearn\\model_selection\\_validation.py\", line 593, in _fit_and_score\n",
      "    estimator.fit(X_train, y_train, **fit_params)\n",
      "  File \"C:\\Users\\Matan\\anaconda3\\lib\\site-packages\\sklearn\\pipeline.py\", line 346, in fit\n",
      "    self._final_estimator.fit(Xt, y, **fit_params_last_step)\n",
      "  File \"C:\\Users\\Matan\\anaconda3\\lib\\site-packages\\sklearn\\linear_model\\_logistic.py\", line 1306, in fit\n",
      "    solver = _check_solver(self.solver, self.penalty, self.dual)\n",
      "  File \"C:\\Users\\Matan\\anaconda3\\lib\\site-packages\\sklearn\\linear_model\\_logistic.py\", line 443, in _check_solver\n",
      "    raise ValueError(\"Solver %s supports only 'l2' or 'none' penalties, \"\n",
      "ValueError: Solver sag supports only 'l2' or 'none' penalties, got l1 penalty.\n",
      "\n",
      "  warnings.warn(\"Estimator fit failed. The score on this train-test\"\n"
     ]
    },
    {
     "name": "stdout",
     "output_type": "stream",
     "text": [
      "[CV 3/3; 26/150] END LR__C=0.001, LR__penalty=l1, LR__solver=sag, imputer__n_neighbors=3; total time=   0.2s\n",
      "[CV 1/3; 27/150] START LR__C=0.001, LR__penalty=l1, LR__solver=sag, imputer__n_neighbors=4\n"
     ]
    },
    {
     "name": "stderr",
     "output_type": "stream",
     "text": [
      "C:\\Users\\Matan\\anaconda3\\lib\\site-packages\\sklearn\\model_selection\\_validation.py:610: FitFailedWarning: Estimator fit failed. The score on this train-test partition for these parameters will be set to nan. Details: \n",
      "Traceback (most recent call last):\n",
      "  File \"C:\\Users\\Matan\\anaconda3\\lib\\site-packages\\sklearn\\model_selection\\_validation.py\", line 593, in _fit_and_score\n",
      "    estimator.fit(X_train, y_train, **fit_params)\n",
      "  File \"C:\\Users\\Matan\\anaconda3\\lib\\site-packages\\sklearn\\pipeline.py\", line 346, in fit\n",
      "    self._final_estimator.fit(Xt, y, **fit_params_last_step)\n",
      "  File \"C:\\Users\\Matan\\anaconda3\\lib\\site-packages\\sklearn\\linear_model\\_logistic.py\", line 1306, in fit\n",
      "    solver = _check_solver(self.solver, self.penalty, self.dual)\n",
      "  File \"C:\\Users\\Matan\\anaconda3\\lib\\site-packages\\sklearn\\linear_model\\_logistic.py\", line 443, in _check_solver\n",
      "    raise ValueError(\"Solver %s supports only 'l2' or 'none' penalties, \"\n",
      "ValueError: Solver sag supports only 'l2' or 'none' penalties, got l1 penalty.\n",
      "\n",
      "  warnings.warn(\"Estimator fit failed. The score on this train-test\"\n"
     ]
    },
    {
     "name": "stdout",
     "output_type": "stream",
     "text": [
      "[CV 1/3; 27/150] END LR__C=0.001, LR__penalty=l1, LR__solver=sag, imputer__n_neighbors=4; total time=   0.2s\n",
      "[CV 2/3; 27/150] START LR__C=0.001, LR__penalty=l1, LR__solver=sag, imputer__n_neighbors=4\n"
     ]
    },
    {
     "name": "stderr",
     "output_type": "stream",
     "text": [
      "C:\\Users\\Matan\\anaconda3\\lib\\site-packages\\sklearn\\model_selection\\_validation.py:610: FitFailedWarning: Estimator fit failed. The score on this train-test partition for these parameters will be set to nan. Details: \n",
      "Traceback (most recent call last):\n",
      "  File \"C:\\Users\\Matan\\anaconda3\\lib\\site-packages\\sklearn\\model_selection\\_validation.py\", line 593, in _fit_and_score\n",
      "    estimator.fit(X_train, y_train, **fit_params)\n",
      "  File \"C:\\Users\\Matan\\anaconda3\\lib\\site-packages\\sklearn\\pipeline.py\", line 346, in fit\n",
      "    self._final_estimator.fit(Xt, y, **fit_params_last_step)\n",
      "  File \"C:\\Users\\Matan\\anaconda3\\lib\\site-packages\\sklearn\\linear_model\\_logistic.py\", line 1306, in fit\n",
      "    solver = _check_solver(self.solver, self.penalty, self.dual)\n",
      "  File \"C:\\Users\\Matan\\anaconda3\\lib\\site-packages\\sklearn\\linear_model\\_logistic.py\", line 443, in _check_solver\n",
      "    raise ValueError(\"Solver %s supports only 'l2' or 'none' penalties, \"\n",
      "ValueError: Solver sag supports only 'l2' or 'none' penalties, got l1 penalty.\n",
      "\n",
      "  warnings.warn(\"Estimator fit failed. The score on this train-test\"\n"
     ]
    },
    {
     "name": "stdout",
     "output_type": "stream",
     "text": [
      "[CV 2/3; 27/150] END LR__C=0.001, LR__penalty=l1, LR__solver=sag, imputer__n_neighbors=4; total time=   0.3s\n",
      "[CV 3/3; 27/150] START LR__C=0.001, LR__penalty=l1, LR__solver=sag, imputer__n_neighbors=4\n"
     ]
    },
    {
     "name": "stderr",
     "output_type": "stream",
     "text": [
      "C:\\Users\\Matan\\anaconda3\\lib\\site-packages\\sklearn\\model_selection\\_validation.py:610: FitFailedWarning: Estimator fit failed. The score on this train-test partition for these parameters will be set to nan. Details: \n",
      "Traceback (most recent call last):\n",
      "  File \"C:\\Users\\Matan\\anaconda3\\lib\\site-packages\\sklearn\\model_selection\\_validation.py\", line 593, in _fit_and_score\n",
      "    estimator.fit(X_train, y_train, **fit_params)\n",
      "  File \"C:\\Users\\Matan\\anaconda3\\lib\\site-packages\\sklearn\\pipeline.py\", line 346, in fit\n",
      "    self._final_estimator.fit(Xt, y, **fit_params_last_step)\n",
      "  File \"C:\\Users\\Matan\\anaconda3\\lib\\site-packages\\sklearn\\linear_model\\_logistic.py\", line 1306, in fit\n",
      "    solver = _check_solver(self.solver, self.penalty, self.dual)\n",
      "  File \"C:\\Users\\Matan\\anaconda3\\lib\\site-packages\\sklearn\\linear_model\\_logistic.py\", line 443, in _check_solver\n",
      "    raise ValueError(\"Solver %s supports only 'l2' or 'none' penalties, \"\n",
      "ValueError: Solver sag supports only 'l2' or 'none' penalties, got l1 penalty.\n",
      "\n",
      "  warnings.warn(\"Estimator fit failed. The score on this train-test\"\n"
     ]
    },
    {
     "name": "stdout",
     "output_type": "stream",
     "text": [
      "[CV 3/3; 27/150] END LR__C=0.001, LR__penalty=l1, LR__solver=sag, imputer__n_neighbors=4; total time=   0.3s\n",
      "[CV 1/3; 28/150] START LR__C=0.001, LR__penalty=l1, LR__solver=saga, imputer__n_neighbors=2\n",
      "[CV 1/3; 28/150] END LR__C=0.001, LR__penalty=l1, LR__solver=saga, imputer__n_neighbors=2; total time=   1.4s\n",
      "[CV 2/3; 28/150] START LR__C=0.001, LR__penalty=l1, LR__solver=saga, imputer__n_neighbors=2\n",
      "[CV 2/3; 28/150] END LR__C=0.001, LR__penalty=l1, LR__solver=saga, imputer__n_neighbors=2; total time=   2.6s\n",
      "[CV 3/3; 28/150] START LR__C=0.001, LR__penalty=l1, LR__solver=saga, imputer__n_neighbors=2\n",
      "[CV 3/3; 28/150] END LR__C=0.001, LR__penalty=l1, LR__solver=saga, imputer__n_neighbors=2; total time=   1.9s\n",
      "[CV 1/3; 29/150] START LR__C=0.001, LR__penalty=l1, LR__solver=saga, imputer__n_neighbors=3\n",
      "[CV 1/3; 29/150] END LR__C=0.001, LR__penalty=l1, LR__solver=saga, imputer__n_neighbors=3; total time=   1.0s\n",
      "[CV 2/3; 29/150] START LR__C=0.001, LR__penalty=l1, LR__solver=saga, imputer__n_neighbors=3\n",
      "[CV 2/3; 29/150] END LR__C=0.001, LR__penalty=l1, LR__solver=saga, imputer__n_neighbors=3; total time=   2.2s\n",
      "[CV 3/3; 29/150] START LR__C=0.001, LR__penalty=l1, LR__solver=saga, imputer__n_neighbors=3\n",
      "[CV 3/3; 29/150] END LR__C=0.001, LR__penalty=l1, LR__solver=saga, imputer__n_neighbors=3; total time=   1.6s\n",
      "[CV 1/3; 30/150] START LR__C=0.001, LR__penalty=l1, LR__solver=saga, imputer__n_neighbors=4\n",
      "[CV 1/3; 30/150] END LR__C=0.001, LR__penalty=l1, LR__solver=saga, imputer__n_neighbors=4; total time=   1.0s\n",
      "[CV 2/3; 30/150] START LR__C=0.001, LR__penalty=l1, LR__solver=saga, imputer__n_neighbors=4\n",
      "[CV 2/3; 30/150] END LR__C=0.001, LR__penalty=l1, LR__solver=saga, imputer__n_neighbors=4; total time=   3.1s\n",
      "[CV 3/3; 30/150] START LR__C=0.001, LR__penalty=l1, LR__solver=saga, imputer__n_neighbors=4\n",
      "[CV 3/3; 30/150] END LR__C=0.001, LR__penalty=l1, LR__solver=saga, imputer__n_neighbors=4; total time=   1.0s\n",
      "[CV 1/3; 31/150] START LR__C=0.01778279410038923, LR__penalty=l2, LR__solver=newton-cg, imputer__n_neighbors=2\n",
      "[CV 1/3; 31/150] END LR__C=0.01778279410038923, LR__penalty=l2, LR__solver=newton-cg, imputer__n_neighbors=2; total time=   6.8s\n",
      "[CV 2/3; 31/150] START LR__C=0.01778279410038923, LR__penalty=l2, LR__solver=newton-cg, imputer__n_neighbors=2\n",
      "[CV 2/3; 31/150] END LR__C=0.01778279410038923, LR__penalty=l2, LR__solver=newton-cg, imputer__n_neighbors=2; total time=   7.7s\n",
      "[CV 3/3; 31/150] START LR__C=0.01778279410038923, LR__penalty=l2, LR__solver=newton-cg, imputer__n_neighbors=2\n",
      "[CV 3/3; 31/150] END LR__C=0.01778279410038923, LR__penalty=l2, LR__solver=newton-cg, imputer__n_neighbors=2; total time=   6.8s\n",
      "[CV 1/3; 32/150] START LR__C=0.01778279410038923, LR__penalty=l2, LR__solver=newton-cg, imputer__n_neighbors=3\n",
      "[CV 1/3; 32/150] END LR__C=0.01778279410038923, LR__penalty=l2, LR__solver=newton-cg, imputer__n_neighbors=3; total time=   6.0s\n",
      "[CV 2/3; 32/150] START LR__C=0.01778279410038923, LR__penalty=l2, LR__solver=newton-cg, imputer__n_neighbors=3\n",
      "[CV 2/3; 32/150] END LR__C=0.01778279410038923, LR__penalty=l2, LR__solver=newton-cg, imputer__n_neighbors=3; total time=   6.8s\n",
      "[CV 3/3; 32/150] START LR__C=0.01778279410038923, LR__penalty=l2, LR__solver=newton-cg, imputer__n_neighbors=3\n",
      "[CV 3/3; 32/150] END LR__C=0.01778279410038923, LR__penalty=l2, LR__solver=newton-cg, imputer__n_neighbors=3; total time=   7.4s\n",
      "[CV 1/3; 33/150] START LR__C=0.01778279410038923, LR__penalty=l2, LR__solver=newton-cg, imputer__n_neighbors=4\n",
      "[CV 1/3; 33/150] END LR__C=0.01778279410038923, LR__penalty=l2, LR__solver=newton-cg, imputer__n_neighbors=4; total time=   6.9s\n",
      "[CV 2/3; 33/150] START LR__C=0.01778279410038923, LR__penalty=l2, LR__solver=newton-cg, imputer__n_neighbors=4\n",
      "[CV 2/3; 33/150] END LR__C=0.01778279410038923, LR__penalty=l2, LR__solver=newton-cg, imputer__n_neighbors=4; total time=   7.5s\n",
      "[CV 3/3; 33/150] START LR__C=0.01778279410038923, LR__penalty=l2, LR__solver=newton-cg, imputer__n_neighbors=4\n",
      "[CV 3/3; 33/150] END LR__C=0.01778279410038923, LR__penalty=l2, LR__solver=newton-cg, imputer__n_neighbors=4; total time=   7.7s\n",
      "[CV 1/3; 34/150] START LR__C=0.01778279410038923, LR__penalty=l2, LR__solver=lbfgs, imputer__n_neighbors=2\n"
     ]
    },
    {
     "name": "stderr",
     "output_type": "stream",
     "text": [
      "C:\\Users\\Matan\\anaconda3\\lib\\site-packages\\sklearn\\linear_model\\_logistic.py:763: ConvergenceWarning: lbfgs failed to converge (status=1):\n",
      "STOP: TOTAL NO. of ITERATIONS REACHED LIMIT.\n",
      "\n",
      "Increase the number of iterations (max_iter) or scale the data as shown in:\n",
      "    https://scikit-learn.org/stable/modules/preprocessing.html\n",
      "Please also refer to the documentation for alternative solver options:\n",
      "    https://scikit-learn.org/stable/modules/linear_model.html#logistic-regression\n",
      "  n_iter_i = _check_optimize_result(\n"
     ]
    },
    {
     "name": "stdout",
     "output_type": "stream",
     "text": [
      "[CV 1/3; 34/150] END LR__C=0.01778279410038923, LR__penalty=l2, LR__solver=lbfgs, imputer__n_neighbors=2; total time=   3.8s\n",
      "[CV 2/3; 34/150] START LR__C=0.01778279410038923, LR__penalty=l2, LR__solver=lbfgs, imputer__n_neighbors=2\n"
     ]
    },
    {
     "name": "stderr",
     "output_type": "stream",
     "text": [
      "C:\\Users\\Matan\\anaconda3\\lib\\site-packages\\sklearn\\linear_model\\_logistic.py:763: ConvergenceWarning: lbfgs failed to converge (status=1):\n",
      "STOP: TOTAL NO. of ITERATIONS REACHED LIMIT.\n",
      "\n",
      "Increase the number of iterations (max_iter) or scale the data as shown in:\n",
      "    https://scikit-learn.org/stable/modules/preprocessing.html\n",
      "Please also refer to the documentation for alternative solver options:\n",
      "    https://scikit-learn.org/stable/modules/linear_model.html#logistic-regression\n",
      "  n_iter_i = _check_optimize_result(\n"
     ]
    },
    {
     "name": "stdout",
     "output_type": "stream",
     "text": [
      "[CV 2/3; 34/150] END LR__C=0.01778279410038923, LR__penalty=l2, LR__solver=lbfgs, imputer__n_neighbors=2; total time=   3.9s\n",
      "[CV 3/3; 34/150] START LR__C=0.01778279410038923, LR__penalty=l2, LR__solver=lbfgs, imputer__n_neighbors=2\n"
     ]
    },
    {
     "name": "stderr",
     "output_type": "stream",
     "text": [
      "C:\\Users\\Matan\\anaconda3\\lib\\site-packages\\sklearn\\linear_model\\_logistic.py:763: ConvergenceWarning: lbfgs failed to converge (status=1):\n",
      "STOP: TOTAL NO. of ITERATIONS REACHED LIMIT.\n",
      "\n",
      "Increase the number of iterations (max_iter) or scale the data as shown in:\n",
      "    https://scikit-learn.org/stable/modules/preprocessing.html\n",
      "Please also refer to the documentation for alternative solver options:\n",
      "    https://scikit-learn.org/stable/modules/linear_model.html#logistic-regression\n",
      "  n_iter_i = _check_optimize_result(\n"
     ]
    },
    {
     "name": "stdout",
     "output_type": "stream",
     "text": [
      "[CV 3/3; 34/150] END LR__C=0.01778279410038923, LR__penalty=l2, LR__solver=lbfgs, imputer__n_neighbors=2; total time=   3.9s\n",
      "[CV 1/3; 35/150] START LR__C=0.01778279410038923, LR__penalty=l2, LR__solver=lbfgs, imputer__n_neighbors=3\n"
     ]
    },
    {
     "name": "stderr",
     "output_type": "stream",
     "text": [
      "C:\\Users\\Matan\\anaconda3\\lib\\site-packages\\sklearn\\linear_model\\_logistic.py:763: ConvergenceWarning: lbfgs failed to converge (status=1):\n",
      "STOP: TOTAL NO. of ITERATIONS REACHED LIMIT.\n",
      "\n",
      "Increase the number of iterations (max_iter) or scale the data as shown in:\n",
      "    https://scikit-learn.org/stable/modules/preprocessing.html\n",
      "Please also refer to the documentation for alternative solver options:\n",
      "    https://scikit-learn.org/stable/modules/linear_model.html#logistic-regression\n",
      "  n_iter_i = _check_optimize_result(\n"
     ]
    },
    {
     "name": "stdout",
     "output_type": "stream",
     "text": [
      "[CV 1/3; 35/150] END LR__C=0.01778279410038923, LR__penalty=l2, LR__solver=lbfgs, imputer__n_neighbors=3; total time=   4.2s\n",
      "[CV 2/3; 35/150] START LR__C=0.01778279410038923, LR__penalty=l2, LR__solver=lbfgs, imputer__n_neighbors=3\n"
     ]
    },
    {
     "name": "stderr",
     "output_type": "stream",
     "text": [
      "C:\\Users\\Matan\\anaconda3\\lib\\site-packages\\sklearn\\linear_model\\_logistic.py:763: ConvergenceWarning: lbfgs failed to converge (status=1):\n",
      "STOP: TOTAL NO. of ITERATIONS REACHED LIMIT.\n",
      "\n",
      "Increase the number of iterations (max_iter) or scale the data as shown in:\n",
      "    https://scikit-learn.org/stable/modules/preprocessing.html\n",
      "Please also refer to the documentation for alternative solver options:\n",
      "    https://scikit-learn.org/stable/modules/linear_model.html#logistic-regression\n",
      "  n_iter_i = _check_optimize_result(\n"
     ]
    },
    {
     "name": "stdout",
     "output_type": "stream",
     "text": [
      "[CV 2/3; 35/150] END LR__C=0.01778279410038923, LR__penalty=l2, LR__solver=lbfgs, imputer__n_neighbors=3; total time=   3.3s\n",
      "[CV 3/3; 35/150] START LR__C=0.01778279410038923, LR__penalty=l2, LR__solver=lbfgs, imputer__n_neighbors=3\n"
     ]
    },
    {
     "name": "stderr",
     "output_type": "stream",
     "text": [
      "C:\\Users\\Matan\\anaconda3\\lib\\site-packages\\sklearn\\linear_model\\_logistic.py:763: ConvergenceWarning: lbfgs failed to converge (status=1):\n",
      "STOP: TOTAL NO. of ITERATIONS REACHED LIMIT.\n",
      "\n",
      "Increase the number of iterations (max_iter) or scale the data as shown in:\n",
      "    https://scikit-learn.org/stable/modules/preprocessing.html\n",
      "Please also refer to the documentation for alternative solver options:\n",
      "    https://scikit-learn.org/stable/modules/linear_model.html#logistic-regression\n",
      "  n_iter_i = _check_optimize_result(\n"
     ]
    },
    {
     "name": "stdout",
     "output_type": "stream",
     "text": [
      "[CV 3/3; 35/150] END LR__C=0.01778279410038923, LR__penalty=l2, LR__solver=lbfgs, imputer__n_neighbors=3; total time=   4.8s\n",
      "[CV 1/3; 36/150] START LR__C=0.01778279410038923, LR__penalty=l2, LR__solver=lbfgs, imputer__n_neighbors=4\n"
     ]
    },
    {
     "name": "stderr",
     "output_type": "stream",
     "text": [
      "C:\\Users\\Matan\\anaconda3\\lib\\site-packages\\sklearn\\linear_model\\_logistic.py:763: ConvergenceWarning: lbfgs failed to converge (status=1):\n",
      "STOP: TOTAL NO. of ITERATIONS REACHED LIMIT.\n",
      "\n",
      "Increase the number of iterations (max_iter) or scale the data as shown in:\n",
      "    https://scikit-learn.org/stable/modules/preprocessing.html\n",
      "Please also refer to the documentation for alternative solver options:\n",
      "    https://scikit-learn.org/stable/modules/linear_model.html#logistic-regression\n",
      "  n_iter_i = _check_optimize_result(\n"
     ]
    },
    {
     "name": "stdout",
     "output_type": "stream",
     "text": [
      "[CV 1/3; 36/150] END LR__C=0.01778279410038923, LR__penalty=l2, LR__solver=lbfgs, imputer__n_neighbors=4; total time=   4.9s\n",
      "[CV 2/3; 36/150] START LR__C=0.01778279410038923, LR__penalty=l2, LR__solver=lbfgs, imputer__n_neighbors=4\n"
     ]
    },
    {
     "name": "stderr",
     "output_type": "stream",
     "text": [
      "C:\\Users\\Matan\\anaconda3\\lib\\site-packages\\sklearn\\linear_model\\_logistic.py:763: ConvergenceWarning: lbfgs failed to converge (status=1):\n",
      "STOP: TOTAL NO. of ITERATIONS REACHED LIMIT.\n",
      "\n",
      "Increase the number of iterations (max_iter) or scale the data as shown in:\n",
      "    https://scikit-learn.org/stable/modules/preprocessing.html\n",
      "Please also refer to the documentation for alternative solver options:\n",
      "    https://scikit-learn.org/stable/modules/linear_model.html#logistic-regression\n",
      "  n_iter_i = _check_optimize_result(\n"
     ]
    },
    {
     "name": "stdout",
     "output_type": "stream",
     "text": [
      "[CV 2/3; 36/150] END LR__C=0.01778279410038923, LR__penalty=l2, LR__solver=lbfgs, imputer__n_neighbors=4; total time=   3.6s\n",
      "[CV 3/3; 36/150] START LR__C=0.01778279410038923, LR__penalty=l2, LR__solver=lbfgs, imputer__n_neighbors=4\n"
     ]
    },
    {
     "name": "stderr",
     "output_type": "stream",
     "text": [
      "C:\\Users\\Matan\\anaconda3\\lib\\site-packages\\sklearn\\linear_model\\_logistic.py:763: ConvergenceWarning: lbfgs failed to converge (status=1):\n",
      "STOP: TOTAL NO. of ITERATIONS REACHED LIMIT.\n",
      "\n",
      "Increase the number of iterations (max_iter) or scale the data as shown in:\n",
      "    https://scikit-learn.org/stable/modules/preprocessing.html\n",
      "Please also refer to the documentation for alternative solver options:\n",
      "    https://scikit-learn.org/stable/modules/linear_model.html#logistic-regression\n",
      "  n_iter_i = _check_optimize_result(\n"
     ]
    },
    {
     "name": "stdout",
     "output_type": "stream",
     "text": [
      "[CV 3/3; 36/150] END LR__C=0.01778279410038923, LR__penalty=l2, LR__solver=lbfgs, imputer__n_neighbors=4; total time=   4.5s\n",
      "[CV 1/3; 37/150] START LR__C=0.01778279410038923, LR__penalty=l2, LR__solver=liblinear, imputer__n_neighbors=2\n",
      "[CV 1/3; 37/150] END LR__C=0.01778279410038923, LR__penalty=l2, LR__solver=liblinear, imputer__n_neighbors=2; total time=   1.6s\n",
      "[CV 2/3; 37/150] START LR__C=0.01778279410038923, LR__penalty=l2, LR__solver=liblinear, imputer__n_neighbors=2\n",
      "[CV 2/3; 37/150] END LR__C=0.01778279410038923, LR__penalty=l2, LR__solver=liblinear, imputer__n_neighbors=2; total time=   1.6s\n",
      "[CV 3/3; 37/150] START LR__C=0.01778279410038923, LR__penalty=l2, LR__solver=liblinear, imputer__n_neighbors=2\n",
      "[CV 3/3; 37/150] END LR__C=0.01778279410038923, LR__penalty=l2, LR__solver=liblinear, imputer__n_neighbors=2; total time=   1.0s\n",
      "[CV 1/3; 38/150] START LR__C=0.01778279410038923, LR__penalty=l2, LR__solver=liblinear, imputer__n_neighbors=3\n",
      "[CV 1/3; 38/150] END LR__C=0.01778279410038923, LR__penalty=l2, LR__solver=liblinear, imputer__n_neighbors=3; total time=   1.5s\n",
      "[CV 2/3; 38/150] START LR__C=0.01778279410038923, LR__penalty=l2, LR__solver=liblinear, imputer__n_neighbors=3\n",
      "[CV 2/3; 38/150] END LR__C=0.01778279410038923, LR__penalty=l2, LR__solver=liblinear, imputer__n_neighbors=3; total time=   1.7s\n",
      "[CV 3/3; 38/150] START LR__C=0.01778279410038923, LR__penalty=l2, LR__solver=liblinear, imputer__n_neighbors=3\n",
      "[CV 3/3; 38/150] END LR__C=0.01778279410038923, LR__penalty=l2, LR__solver=liblinear, imputer__n_neighbors=3; total time=   0.7s\n",
      "[CV 1/3; 39/150] START LR__C=0.01778279410038923, LR__penalty=l2, LR__solver=liblinear, imputer__n_neighbors=4\n",
      "[CV 1/3; 39/150] END LR__C=0.01778279410038923, LR__penalty=l2, LR__solver=liblinear, imputer__n_neighbors=4; total time=   1.7s\n",
      "[CV 2/3; 39/150] START LR__C=0.01778279410038923, LR__penalty=l2, LR__solver=liblinear, imputer__n_neighbors=4\n",
      "[CV 2/3; 39/150] END LR__C=0.01778279410038923, LR__penalty=l2, LR__solver=liblinear, imputer__n_neighbors=4; total time=   1.4s\n",
      "[CV 3/3; 39/150] START LR__C=0.01778279410038923, LR__penalty=l2, LR__solver=liblinear, imputer__n_neighbors=4\n",
      "[CV 3/3; 39/150] END LR__C=0.01778279410038923, LR__penalty=l2, LR__solver=liblinear, imputer__n_neighbors=4; total time=   1.0s\n",
      "[CV 1/3; 40/150] START LR__C=0.01778279410038923, LR__penalty=l2, LR__solver=sag, imputer__n_neighbors=2\n",
      "[CV 1/3; 40/150] END LR__C=0.01778279410038923, LR__penalty=l2, LR__solver=sag, imputer__n_neighbors=2; total time=   2.7s\n",
      "[CV 2/3; 40/150] START LR__C=0.01778279410038923, LR__penalty=l2, LR__solver=sag, imputer__n_neighbors=2\n"
     ]
    },
    {
     "name": "stderr",
     "output_type": "stream",
     "text": [
      "C:\\Users\\Matan\\anaconda3\\lib\\site-packages\\sklearn\\linear_model\\_sag.py:328: ConvergenceWarning: The max_iter was reached which means the coef_ did not converge\n",
      "  warnings.warn(\"The max_iter was reached which means \"\n"
     ]
    },
    {
     "name": "stdout",
     "output_type": "stream",
     "text": [
      "[CV 2/3; 40/150] END LR__C=0.01778279410038923, LR__penalty=l2, LR__solver=sag, imputer__n_neighbors=2; total time=   5.3s\n",
      "[CV 3/3; 40/150] START LR__C=0.01778279410038923, LR__penalty=l2, LR__solver=sag, imputer__n_neighbors=2\n"
     ]
    },
    {
     "name": "stderr",
     "output_type": "stream",
     "text": [
      "C:\\Users\\Matan\\anaconda3\\lib\\site-packages\\sklearn\\linear_model\\_sag.py:328: ConvergenceWarning: The max_iter was reached which means the coef_ did not converge\n",
      "  warnings.warn(\"The max_iter was reached which means \"\n"
     ]
    },
    {
     "name": "stdout",
     "output_type": "stream",
     "text": [
      "[CV 3/3; 40/150] END LR__C=0.01778279410038923, LR__penalty=l2, LR__solver=sag, imputer__n_neighbors=2; total time=   4.6s\n",
      "[CV 1/3; 41/150] START LR__C=0.01778279410038923, LR__penalty=l2, LR__solver=sag, imputer__n_neighbors=3\n",
      "[CV 1/3; 41/150] END LR__C=0.01778279410038923, LR__penalty=l2, LR__solver=sag, imputer__n_neighbors=3; total time=   1.5s\n",
      "[CV 2/3; 41/150] START LR__C=0.01778279410038923, LR__penalty=l2, LR__solver=sag, imputer__n_neighbors=3\n"
     ]
    },
    {
     "name": "stderr",
     "output_type": "stream",
     "text": [
      "C:\\Users\\Matan\\anaconda3\\lib\\site-packages\\sklearn\\linear_model\\_sag.py:328: ConvergenceWarning: The max_iter was reached which means the coef_ did not converge\n",
      "  warnings.warn(\"The max_iter was reached which means \"\n"
     ]
    },
    {
     "name": "stdout",
     "output_type": "stream",
     "text": [
      "[CV 2/3; 41/150] END LR__C=0.01778279410038923, LR__penalty=l2, LR__solver=sag, imputer__n_neighbors=3; total time=   4.8s\n",
      "[CV 3/3; 41/150] START LR__C=0.01778279410038923, LR__penalty=l2, LR__solver=sag, imputer__n_neighbors=3\n"
     ]
    },
    {
     "name": "stderr",
     "output_type": "stream",
     "text": [
      "C:\\Users\\Matan\\anaconda3\\lib\\site-packages\\sklearn\\linear_model\\_sag.py:328: ConvergenceWarning: The max_iter was reached which means the coef_ did not converge\n",
      "  warnings.warn(\"The max_iter was reached which means \"\n"
     ]
    },
    {
     "name": "stdout",
     "output_type": "stream",
     "text": [
      "[CV 3/3; 41/150] END LR__C=0.01778279410038923, LR__penalty=l2, LR__solver=sag, imputer__n_neighbors=3; total time=   4.6s\n",
      "[CV 1/3; 42/150] START LR__C=0.01778279410038923, LR__penalty=l2, LR__solver=sag, imputer__n_neighbors=4\n",
      "[CV 1/3; 42/150] END LR__C=0.01778279410038923, LR__penalty=l2, LR__solver=sag, imputer__n_neighbors=4; total time=   1.2s\n",
      "[CV 2/3; 42/150] START LR__C=0.01778279410038923, LR__penalty=l2, LR__solver=sag, imputer__n_neighbors=4\n"
     ]
    },
    {
     "name": "stderr",
     "output_type": "stream",
     "text": [
      "C:\\Users\\Matan\\anaconda3\\lib\\site-packages\\sklearn\\linear_model\\_sag.py:328: ConvergenceWarning: The max_iter was reached which means the coef_ did not converge\n",
      "  warnings.warn(\"The max_iter was reached which means \"\n"
     ]
    },
    {
     "name": "stdout",
     "output_type": "stream",
     "text": [
      "[CV 2/3; 42/150] END LR__C=0.01778279410038923, LR__penalty=l2, LR__solver=sag, imputer__n_neighbors=4; total time=   5.1s\n",
      "[CV 3/3; 42/150] START LR__C=0.01778279410038923, LR__penalty=l2, LR__solver=sag, imputer__n_neighbors=4\n"
     ]
    },
    {
     "name": "stderr",
     "output_type": "stream",
     "text": [
      "C:\\Users\\Matan\\anaconda3\\lib\\site-packages\\sklearn\\linear_model\\_sag.py:328: ConvergenceWarning: The max_iter was reached which means the coef_ did not converge\n",
      "  warnings.warn(\"The max_iter was reached which means \"\n"
     ]
    },
    {
     "name": "stdout",
     "output_type": "stream",
     "text": [
      "[CV 3/3; 42/150] END LR__C=0.01778279410038923, LR__penalty=l2, LR__solver=sag, imputer__n_neighbors=4; total time=   4.7s\n",
      "[CV 1/3; 43/150] START LR__C=0.01778279410038923, LR__penalty=l2, LR__solver=saga, imputer__n_neighbors=2\n"
     ]
    },
    {
     "name": "stderr",
     "output_type": "stream",
     "text": [
      "C:\\Users\\Matan\\anaconda3\\lib\\site-packages\\sklearn\\linear_model\\_sag.py:328: ConvergenceWarning: The max_iter was reached which means the coef_ did not converge\n",
      "  warnings.warn(\"The max_iter was reached which means \"\n"
     ]
    },
    {
     "name": "stdout",
     "output_type": "stream",
     "text": [
      "[CV 1/3; 43/150] END LR__C=0.01778279410038923, LR__penalty=l2, LR__solver=saga, imputer__n_neighbors=2; total time=   5.5s\n",
      "[CV 2/3; 43/150] START LR__C=0.01778279410038923, LR__penalty=l2, LR__solver=saga, imputer__n_neighbors=2\n"
     ]
    },
    {
     "name": "stderr",
     "output_type": "stream",
     "text": [
      "C:\\Users\\Matan\\anaconda3\\lib\\site-packages\\sklearn\\linear_model\\_sag.py:328: ConvergenceWarning: The max_iter was reached which means the coef_ did not converge\n",
      "  warnings.warn(\"The max_iter was reached which means \"\n"
     ]
    },
    {
     "name": "stdout",
     "output_type": "stream",
     "text": [
      "[CV 2/3; 43/150] END LR__C=0.01778279410038923, LR__penalty=l2, LR__solver=saga, imputer__n_neighbors=2; total time=   5.8s\n",
      "[CV 3/3; 43/150] START LR__C=0.01778279410038923, LR__penalty=l2, LR__solver=saga, imputer__n_neighbors=2\n"
     ]
    },
    {
     "name": "stderr",
     "output_type": "stream",
     "text": [
      "C:\\Users\\Matan\\anaconda3\\lib\\site-packages\\sklearn\\linear_model\\_sag.py:328: ConvergenceWarning: The max_iter was reached which means the coef_ did not converge\n",
      "  warnings.warn(\"The max_iter was reached which means \"\n"
     ]
    },
    {
     "name": "stdout",
     "output_type": "stream",
     "text": [
      "[CV 3/3; 43/150] END LR__C=0.01778279410038923, LR__penalty=l2, LR__solver=saga, imputer__n_neighbors=2; total time=   6.1s\n",
      "[CV 1/3; 44/150] START LR__C=0.01778279410038923, LR__penalty=l2, LR__solver=saga, imputer__n_neighbors=3\n"
     ]
    },
    {
     "name": "stderr",
     "output_type": "stream",
     "text": [
      "C:\\Users\\Matan\\anaconda3\\lib\\site-packages\\sklearn\\linear_model\\_sag.py:328: ConvergenceWarning: The max_iter was reached which means the coef_ did not converge\n",
      "  warnings.warn(\"The max_iter was reached which means \"\n"
     ]
    },
    {
     "name": "stdout",
     "output_type": "stream",
     "text": [
      "[CV 1/3; 44/150] END LR__C=0.01778279410038923, LR__penalty=l2, LR__solver=saga, imputer__n_neighbors=3; total time=   5.9s\n",
      "[CV 2/3; 44/150] START LR__C=0.01778279410038923, LR__penalty=l2, LR__solver=saga, imputer__n_neighbors=3\n"
     ]
    },
    {
     "name": "stderr",
     "output_type": "stream",
     "text": [
      "C:\\Users\\Matan\\anaconda3\\lib\\site-packages\\sklearn\\linear_model\\_sag.py:328: ConvergenceWarning: The max_iter was reached which means the coef_ did not converge\n",
      "  warnings.warn(\"The max_iter was reached which means \"\n"
     ]
    },
    {
     "name": "stdout",
     "output_type": "stream",
     "text": [
      "[CV 2/3; 44/150] END LR__C=0.01778279410038923, LR__penalty=l2, LR__solver=saga, imputer__n_neighbors=3; total time=   5.9s\n",
      "[CV 3/3; 44/150] START LR__C=0.01778279410038923, LR__penalty=l2, LR__solver=saga, imputer__n_neighbors=3\n"
     ]
    },
    {
     "name": "stderr",
     "output_type": "stream",
     "text": [
      "C:\\Users\\Matan\\anaconda3\\lib\\site-packages\\sklearn\\linear_model\\_sag.py:328: ConvergenceWarning: The max_iter was reached which means the coef_ did not converge\n",
      "  warnings.warn(\"The max_iter was reached which means \"\n"
     ]
    },
    {
     "name": "stdout",
     "output_type": "stream",
     "text": [
      "[CV 3/3; 44/150] END LR__C=0.01778279410038923, LR__penalty=l2, LR__solver=saga, imputer__n_neighbors=3; total time=   5.2s\n",
      "[CV 1/3; 45/150] START LR__C=0.01778279410038923, LR__penalty=l2, LR__solver=saga, imputer__n_neighbors=4\n"
     ]
    },
    {
     "name": "stderr",
     "output_type": "stream",
     "text": [
      "C:\\Users\\Matan\\anaconda3\\lib\\site-packages\\sklearn\\linear_model\\_sag.py:328: ConvergenceWarning: The max_iter was reached which means the coef_ did not converge\n",
      "  warnings.warn(\"The max_iter was reached which means \"\n"
     ]
    },
    {
     "name": "stdout",
     "output_type": "stream",
     "text": [
      "[CV 1/3; 45/150] END LR__C=0.01778279410038923, LR__penalty=l2, LR__solver=saga, imputer__n_neighbors=4; total time=   5.1s\n",
      "[CV 2/3; 45/150] START LR__C=0.01778279410038923, LR__penalty=l2, LR__solver=saga, imputer__n_neighbors=4\n"
     ]
    },
    {
     "name": "stderr",
     "output_type": "stream",
     "text": [
      "C:\\Users\\Matan\\anaconda3\\lib\\site-packages\\sklearn\\linear_model\\_sag.py:328: ConvergenceWarning: The max_iter was reached which means the coef_ did not converge\n",
      "  warnings.warn(\"The max_iter was reached which means \"\n"
     ]
    },
    {
     "name": "stdout",
     "output_type": "stream",
     "text": [
      "[CV 2/3; 45/150] END LR__C=0.01778279410038923, LR__penalty=l2, LR__solver=saga, imputer__n_neighbors=4; total time=   5.3s\n",
      "[CV 3/3; 45/150] START LR__C=0.01778279410038923, LR__penalty=l2, LR__solver=saga, imputer__n_neighbors=4\n"
     ]
    },
    {
     "name": "stderr",
     "output_type": "stream",
     "text": [
      "C:\\Users\\Matan\\anaconda3\\lib\\site-packages\\sklearn\\linear_model\\_sag.py:328: ConvergenceWarning: The max_iter was reached which means the coef_ did not converge\n",
      "  warnings.warn(\"The max_iter was reached which means \"\n"
     ]
    },
    {
     "name": "stdout",
     "output_type": "stream",
     "text": [
      "[CV 3/3; 45/150] END LR__C=0.01778279410038923, LR__penalty=l2, LR__solver=saga, imputer__n_neighbors=4; total time=   5.1s\n",
      "[CV 1/3; 46/150] START LR__C=0.01778279410038923, LR__penalty=l1, LR__solver=newton-cg, imputer__n_neighbors=2\n"
     ]
    },
    {
     "name": "stderr",
     "output_type": "stream",
     "text": [
      "C:\\Users\\Matan\\anaconda3\\lib\\site-packages\\sklearn\\model_selection\\_validation.py:610: FitFailedWarning: Estimator fit failed. The score on this train-test partition for these parameters will be set to nan. Details: \n",
      "Traceback (most recent call last):\n",
      "  File \"C:\\Users\\Matan\\anaconda3\\lib\\site-packages\\sklearn\\model_selection\\_validation.py\", line 593, in _fit_and_score\n",
      "    estimator.fit(X_train, y_train, **fit_params)\n",
      "  File \"C:\\Users\\Matan\\anaconda3\\lib\\site-packages\\sklearn\\pipeline.py\", line 346, in fit\n",
      "    self._final_estimator.fit(Xt, y, **fit_params_last_step)\n",
      "  File \"C:\\Users\\Matan\\anaconda3\\lib\\site-packages\\sklearn\\linear_model\\_logistic.py\", line 1306, in fit\n",
      "    solver = _check_solver(self.solver, self.penalty, self.dual)\n",
      "  File \"C:\\Users\\Matan\\anaconda3\\lib\\site-packages\\sklearn\\linear_model\\_logistic.py\", line 443, in _check_solver\n",
      "    raise ValueError(\"Solver %s supports only 'l2' or 'none' penalties, \"\n",
      "ValueError: Solver newton-cg supports only 'l2' or 'none' penalties, got l1 penalty.\n",
      "\n",
      "  warnings.warn(\"Estimator fit failed. The score on this train-test\"\n"
     ]
    },
    {
     "name": "stdout",
     "output_type": "stream",
     "text": [
      "[CV 1/3; 46/150] END LR__C=0.01778279410038923, LR__penalty=l1, LR__solver=newton-cg, imputer__n_neighbors=2; total time=   0.2s\n",
      "[CV 2/3; 46/150] START LR__C=0.01778279410038923, LR__penalty=l1, LR__solver=newton-cg, imputer__n_neighbors=2\n"
     ]
    },
    {
     "name": "stderr",
     "output_type": "stream",
     "text": [
      "C:\\Users\\Matan\\anaconda3\\lib\\site-packages\\sklearn\\model_selection\\_validation.py:610: FitFailedWarning: Estimator fit failed. The score on this train-test partition for these parameters will be set to nan. Details: \n",
      "Traceback (most recent call last):\n",
      "  File \"C:\\Users\\Matan\\anaconda3\\lib\\site-packages\\sklearn\\model_selection\\_validation.py\", line 593, in _fit_and_score\n",
      "    estimator.fit(X_train, y_train, **fit_params)\n",
      "  File \"C:\\Users\\Matan\\anaconda3\\lib\\site-packages\\sklearn\\pipeline.py\", line 346, in fit\n",
      "    self._final_estimator.fit(Xt, y, **fit_params_last_step)\n",
      "  File \"C:\\Users\\Matan\\anaconda3\\lib\\site-packages\\sklearn\\linear_model\\_logistic.py\", line 1306, in fit\n",
      "    solver = _check_solver(self.solver, self.penalty, self.dual)\n",
      "  File \"C:\\Users\\Matan\\anaconda3\\lib\\site-packages\\sklearn\\linear_model\\_logistic.py\", line 443, in _check_solver\n",
      "    raise ValueError(\"Solver %s supports only 'l2' or 'none' penalties, \"\n",
      "ValueError: Solver newton-cg supports only 'l2' or 'none' penalties, got l1 penalty.\n",
      "\n",
      "  warnings.warn(\"Estimator fit failed. The score on this train-test\"\n"
     ]
    },
    {
     "name": "stdout",
     "output_type": "stream",
     "text": [
      "[CV 2/3; 46/150] END LR__C=0.01778279410038923, LR__penalty=l1, LR__solver=newton-cg, imputer__n_neighbors=2; total time=   0.2s\n",
      "[CV 3/3; 46/150] START LR__C=0.01778279410038923, LR__penalty=l1, LR__solver=newton-cg, imputer__n_neighbors=2\n"
     ]
    },
    {
     "name": "stderr",
     "output_type": "stream",
     "text": [
      "C:\\Users\\Matan\\anaconda3\\lib\\site-packages\\sklearn\\model_selection\\_validation.py:610: FitFailedWarning: Estimator fit failed. The score on this train-test partition for these parameters will be set to nan. Details: \n",
      "Traceback (most recent call last):\n",
      "  File \"C:\\Users\\Matan\\anaconda3\\lib\\site-packages\\sklearn\\model_selection\\_validation.py\", line 593, in _fit_and_score\n",
      "    estimator.fit(X_train, y_train, **fit_params)\n",
      "  File \"C:\\Users\\Matan\\anaconda3\\lib\\site-packages\\sklearn\\pipeline.py\", line 346, in fit\n",
      "    self._final_estimator.fit(Xt, y, **fit_params_last_step)\n",
      "  File \"C:\\Users\\Matan\\anaconda3\\lib\\site-packages\\sklearn\\linear_model\\_logistic.py\", line 1306, in fit\n",
      "    solver = _check_solver(self.solver, self.penalty, self.dual)\n",
      "  File \"C:\\Users\\Matan\\anaconda3\\lib\\site-packages\\sklearn\\linear_model\\_logistic.py\", line 443, in _check_solver\n",
      "    raise ValueError(\"Solver %s supports only 'l2' or 'none' penalties, \"\n",
      "ValueError: Solver newton-cg supports only 'l2' or 'none' penalties, got l1 penalty.\n",
      "\n",
      "  warnings.warn(\"Estimator fit failed. The score on this train-test\"\n"
     ]
    },
    {
     "name": "stdout",
     "output_type": "stream",
     "text": [
      "[CV 3/3; 46/150] END LR__C=0.01778279410038923, LR__penalty=l1, LR__solver=newton-cg, imputer__n_neighbors=2; total time=   0.2s\n",
      "[CV 1/3; 47/150] START LR__C=0.01778279410038923, LR__penalty=l1, LR__solver=newton-cg, imputer__n_neighbors=3\n"
     ]
    },
    {
     "name": "stderr",
     "output_type": "stream",
     "text": [
      "C:\\Users\\Matan\\anaconda3\\lib\\site-packages\\sklearn\\model_selection\\_validation.py:610: FitFailedWarning: Estimator fit failed. The score on this train-test partition for these parameters will be set to nan. Details: \n",
      "Traceback (most recent call last):\n",
      "  File \"C:\\Users\\Matan\\anaconda3\\lib\\site-packages\\sklearn\\model_selection\\_validation.py\", line 593, in _fit_and_score\n",
      "    estimator.fit(X_train, y_train, **fit_params)\n",
      "  File \"C:\\Users\\Matan\\anaconda3\\lib\\site-packages\\sklearn\\pipeline.py\", line 346, in fit\n",
      "    self._final_estimator.fit(Xt, y, **fit_params_last_step)\n",
      "  File \"C:\\Users\\Matan\\anaconda3\\lib\\site-packages\\sklearn\\linear_model\\_logistic.py\", line 1306, in fit\n",
      "    solver = _check_solver(self.solver, self.penalty, self.dual)\n",
      "  File \"C:\\Users\\Matan\\anaconda3\\lib\\site-packages\\sklearn\\linear_model\\_logistic.py\", line 443, in _check_solver\n",
      "    raise ValueError(\"Solver %s supports only 'l2' or 'none' penalties, \"\n",
      "ValueError: Solver newton-cg supports only 'l2' or 'none' penalties, got l1 penalty.\n",
      "\n",
      "  warnings.warn(\"Estimator fit failed. The score on this train-test\"\n"
     ]
    },
    {
     "name": "stdout",
     "output_type": "stream",
     "text": [
      "[CV 1/3; 47/150] END LR__C=0.01778279410038923, LR__penalty=l1, LR__solver=newton-cg, imputer__n_neighbors=3; total time=   0.2s\n",
      "[CV 2/3; 47/150] START LR__C=0.01778279410038923, LR__penalty=l1, LR__solver=newton-cg, imputer__n_neighbors=3\n"
     ]
    },
    {
     "name": "stderr",
     "output_type": "stream",
     "text": [
      "C:\\Users\\Matan\\anaconda3\\lib\\site-packages\\sklearn\\model_selection\\_validation.py:610: FitFailedWarning: Estimator fit failed. The score on this train-test partition for these parameters will be set to nan. Details: \n",
      "Traceback (most recent call last):\n",
      "  File \"C:\\Users\\Matan\\anaconda3\\lib\\site-packages\\sklearn\\model_selection\\_validation.py\", line 593, in _fit_and_score\n",
      "    estimator.fit(X_train, y_train, **fit_params)\n",
      "  File \"C:\\Users\\Matan\\anaconda3\\lib\\site-packages\\sklearn\\pipeline.py\", line 346, in fit\n",
      "    self._final_estimator.fit(Xt, y, **fit_params_last_step)\n",
      "  File \"C:\\Users\\Matan\\anaconda3\\lib\\site-packages\\sklearn\\linear_model\\_logistic.py\", line 1306, in fit\n",
      "    solver = _check_solver(self.solver, self.penalty, self.dual)\n",
      "  File \"C:\\Users\\Matan\\anaconda3\\lib\\site-packages\\sklearn\\linear_model\\_logistic.py\", line 443, in _check_solver\n",
      "    raise ValueError(\"Solver %s supports only 'l2' or 'none' penalties, \"\n",
      "ValueError: Solver newton-cg supports only 'l2' or 'none' penalties, got l1 penalty.\n",
      "\n",
      "  warnings.warn(\"Estimator fit failed. The score on this train-test\"\n"
     ]
    },
    {
     "name": "stdout",
     "output_type": "stream",
     "text": [
      "[CV 2/3; 47/150] END LR__C=0.01778279410038923, LR__penalty=l1, LR__solver=newton-cg, imputer__n_neighbors=3; total time=   0.3s\n",
      "[CV 3/3; 47/150] START LR__C=0.01778279410038923, LR__penalty=l1, LR__solver=newton-cg, imputer__n_neighbors=3\n"
     ]
    },
    {
     "name": "stderr",
     "output_type": "stream",
     "text": [
      "C:\\Users\\Matan\\anaconda3\\lib\\site-packages\\sklearn\\model_selection\\_validation.py:610: FitFailedWarning: Estimator fit failed. The score on this train-test partition for these parameters will be set to nan. Details: \n",
      "Traceback (most recent call last):\n",
      "  File \"C:\\Users\\Matan\\anaconda3\\lib\\site-packages\\sklearn\\model_selection\\_validation.py\", line 593, in _fit_and_score\n",
      "    estimator.fit(X_train, y_train, **fit_params)\n",
      "  File \"C:\\Users\\Matan\\anaconda3\\lib\\site-packages\\sklearn\\pipeline.py\", line 346, in fit\n",
      "    self._final_estimator.fit(Xt, y, **fit_params_last_step)\n",
      "  File \"C:\\Users\\Matan\\anaconda3\\lib\\site-packages\\sklearn\\linear_model\\_logistic.py\", line 1306, in fit\n",
      "    solver = _check_solver(self.solver, self.penalty, self.dual)\n",
      "  File \"C:\\Users\\Matan\\anaconda3\\lib\\site-packages\\sklearn\\linear_model\\_logistic.py\", line 443, in _check_solver\n",
      "    raise ValueError(\"Solver %s supports only 'l2' or 'none' penalties, \"\n",
      "ValueError: Solver newton-cg supports only 'l2' or 'none' penalties, got l1 penalty.\n",
      "\n",
      "  warnings.warn(\"Estimator fit failed. The score on this train-test\"\n"
     ]
    },
    {
     "name": "stdout",
     "output_type": "stream",
     "text": [
      "[CV 3/3; 47/150] END LR__C=0.01778279410038923, LR__penalty=l1, LR__solver=newton-cg, imputer__n_neighbors=3; total time=   0.2s\n",
      "[CV 1/3; 48/150] START LR__C=0.01778279410038923, LR__penalty=l1, LR__solver=newton-cg, imputer__n_neighbors=4\n"
     ]
    },
    {
     "name": "stderr",
     "output_type": "stream",
     "text": [
      "C:\\Users\\Matan\\anaconda3\\lib\\site-packages\\sklearn\\model_selection\\_validation.py:610: FitFailedWarning: Estimator fit failed. The score on this train-test partition for these parameters will be set to nan. Details: \n",
      "Traceback (most recent call last):\n",
      "  File \"C:\\Users\\Matan\\anaconda3\\lib\\site-packages\\sklearn\\model_selection\\_validation.py\", line 593, in _fit_and_score\n",
      "    estimator.fit(X_train, y_train, **fit_params)\n",
      "  File \"C:\\Users\\Matan\\anaconda3\\lib\\site-packages\\sklearn\\pipeline.py\", line 346, in fit\n",
      "    self._final_estimator.fit(Xt, y, **fit_params_last_step)\n",
      "  File \"C:\\Users\\Matan\\anaconda3\\lib\\site-packages\\sklearn\\linear_model\\_logistic.py\", line 1306, in fit\n",
      "    solver = _check_solver(self.solver, self.penalty, self.dual)\n",
      "  File \"C:\\Users\\Matan\\anaconda3\\lib\\site-packages\\sklearn\\linear_model\\_logistic.py\", line 443, in _check_solver\n",
      "    raise ValueError(\"Solver %s supports only 'l2' or 'none' penalties, \"\n",
      "ValueError: Solver newton-cg supports only 'l2' or 'none' penalties, got l1 penalty.\n",
      "\n",
      "  warnings.warn(\"Estimator fit failed. The score on this train-test\"\n"
     ]
    },
    {
     "name": "stdout",
     "output_type": "stream",
     "text": [
      "[CV 1/3; 48/150] END LR__C=0.01778279410038923, LR__penalty=l1, LR__solver=newton-cg, imputer__n_neighbors=4; total time=   0.3s\n",
      "[CV 2/3; 48/150] START LR__C=0.01778279410038923, LR__penalty=l1, LR__solver=newton-cg, imputer__n_neighbors=4\n"
     ]
    },
    {
     "name": "stderr",
     "output_type": "stream",
     "text": [
      "C:\\Users\\Matan\\anaconda3\\lib\\site-packages\\sklearn\\model_selection\\_validation.py:610: FitFailedWarning: Estimator fit failed. The score on this train-test partition for these parameters will be set to nan. Details: \n",
      "Traceback (most recent call last):\n",
      "  File \"C:\\Users\\Matan\\anaconda3\\lib\\site-packages\\sklearn\\model_selection\\_validation.py\", line 593, in _fit_and_score\n",
      "    estimator.fit(X_train, y_train, **fit_params)\n",
      "  File \"C:\\Users\\Matan\\anaconda3\\lib\\site-packages\\sklearn\\pipeline.py\", line 346, in fit\n",
      "    self._final_estimator.fit(Xt, y, **fit_params_last_step)\n",
      "  File \"C:\\Users\\Matan\\anaconda3\\lib\\site-packages\\sklearn\\linear_model\\_logistic.py\", line 1306, in fit\n",
      "    solver = _check_solver(self.solver, self.penalty, self.dual)\n",
      "  File \"C:\\Users\\Matan\\anaconda3\\lib\\site-packages\\sklearn\\linear_model\\_logistic.py\", line 443, in _check_solver\n",
      "    raise ValueError(\"Solver %s supports only 'l2' or 'none' penalties, \"\n",
      "ValueError: Solver newton-cg supports only 'l2' or 'none' penalties, got l1 penalty.\n",
      "\n",
      "  warnings.warn(\"Estimator fit failed. The score on this train-test\"\n",
      "C:\\Users\\Matan\\anaconda3\\lib\\site-packages\\sklearn\\model_selection\\_validation.py:610: FitFailedWarning: Estimator fit failed. The score on this train-test partition for these parameters will be set to nan. Details: \n",
      "Traceback (most recent call last):\n",
      "  File \"C:\\Users\\Matan\\anaconda3\\lib\\site-packages\\sklearn\\model_selection\\_validation.py\", line 593, in _fit_and_score\n",
      "    estimator.fit(X_train, y_train, **fit_params)\n",
      "  File \"C:\\Users\\Matan\\anaconda3\\lib\\site-packages\\sklearn\\pipeline.py\", line 346, in fit\n",
      "    self._final_estimator.fit(Xt, y, **fit_params_last_step)\n",
      "  File \"C:\\Users\\Matan\\anaconda3\\lib\\site-packages\\sklearn\\linear_model\\_logistic.py\", line 1306, in fit\n",
      "    solver = _check_solver(self.solver, self.penalty, self.dual)\n",
      "  File \"C:\\Users\\Matan\\anaconda3\\lib\\site-packages\\sklearn\\linear_model\\_logistic.py\", line 443, in _check_solver\n",
      "    raise ValueError(\"Solver %s supports only 'l2' or 'none' penalties, \"\n",
      "ValueError: Solver newton-cg supports only 'l2' or 'none' penalties, got l1 penalty.\n",
      "\n",
      "  warnings.warn(\"Estimator fit failed. The score on this train-test\"\n"
     ]
    },
    {
     "name": "stdout",
     "output_type": "stream",
     "text": [
      "[CV 2/3; 48/150] END LR__C=0.01778279410038923, LR__penalty=l1, LR__solver=newton-cg, imputer__n_neighbors=4; total time=   0.1s\n",
      "[CV 3/3; 48/150] START LR__C=0.01778279410038923, LR__penalty=l1, LR__solver=newton-cg, imputer__n_neighbors=4\n",
      "[CV 3/3; 48/150] END LR__C=0.01778279410038923, LR__penalty=l1, LR__solver=newton-cg, imputer__n_neighbors=4; total time=   0.1s\n",
      "[CV 1/3; 49/150] START LR__C=0.01778279410038923, LR__penalty=l1, LR__solver=lbfgs, imputer__n_neighbors=2\n"
     ]
    },
    {
     "name": "stderr",
     "output_type": "stream",
     "text": [
      "C:\\Users\\Matan\\anaconda3\\lib\\site-packages\\sklearn\\model_selection\\_validation.py:610: FitFailedWarning: Estimator fit failed. The score on this train-test partition for these parameters will be set to nan. Details: \n",
      "Traceback (most recent call last):\n",
      "  File \"C:\\Users\\Matan\\anaconda3\\lib\\site-packages\\sklearn\\model_selection\\_validation.py\", line 593, in _fit_and_score\n",
      "    estimator.fit(X_train, y_train, **fit_params)\n",
      "  File \"C:\\Users\\Matan\\anaconda3\\lib\\site-packages\\sklearn\\pipeline.py\", line 346, in fit\n",
      "    self._final_estimator.fit(Xt, y, **fit_params_last_step)\n",
      "  File \"C:\\Users\\Matan\\anaconda3\\lib\\site-packages\\sklearn\\linear_model\\_logistic.py\", line 1306, in fit\n",
      "    solver = _check_solver(self.solver, self.penalty, self.dual)\n",
      "  File \"C:\\Users\\Matan\\anaconda3\\lib\\site-packages\\sklearn\\linear_model\\_logistic.py\", line 443, in _check_solver\n",
      "    raise ValueError(\"Solver %s supports only 'l2' or 'none' penalties, \"\n",
      "ValueError: Solver lbfgs supports only 'l2' or 'none' penalties, got l1 penalty.\n",
      "\n",
      "  warnings.warn(\"Estimator fit failed. The score on this train-test\"\n",
      "C:\\Users\\Matan\\anaconda3\\lib\\site-packages\\sklearn\\model_selection\\_validation.py:610: FitFailedWarning: Estimator fit failed. The score on this train-test partition for these parameters will be set to nan. Details: \n",
      "Traceback (most recent call last):\n",
      "  File \"C:\\Users\\Matan\\anaconda3\\lib\\site-packages\\sklearn\\model_selection\\_validation.py\", line 593, in _fit_and_score\n",
      "    estimator.fit(X_train, y_train, **fit_params)\n",
      "  File \"C:\\Users\\Matan\\anaconda3\\lib\\site-packages\\sklearn\\pipeline.py\", line 346, in fit\n",
      "    self._final_estimator.fit(Xt, y, **fit_params_last_step)\n",
      "  File \"C:\\Users\\Matan\\anaconda3\\lib\\site-packages\\sklearn\\linear_model\\_logistic.py\", line 1306, in fit\n",
      "    solver = _check_solver(self.solver, self.penalty, self.dual)\n",
      "  File \"C:\\Users\\Matan\\anaconda3\\lib\\site-packages\\sklearn\\linear_model\\_logistic.py\", line 443, in _check_solver\n",
      "    raise ValueError(\"Solver %s supports only 'l2' or 'none' penalties, \"\n",
      "ValueError: Solver lbfgs supports only 'l2' or 'none' penalties, got l1 penalty.\n",
      "\n",
      "  warnings.warn(\"Estimator fit failed. The score on this train-test\"\n"
     ]
    },
    {
     "name": "stdout",
     "output_type": "stream",
     "text": [
      "[CV 1/3; 49/150] END LR__C=0.01778279410038923, LR__penalty=l1, LR__solver=lbfgs, imputer__n_neighbors=2; total time=   0.1s\n",
      "[CV 2/3; 49/150] START LR__C=0.01778279410038923, LR__penalty=l1, LR__solver=lbfgs, imputer__n_neighbors=2\n",
      "[CV 2/3; 49/150] END LR__C=0.01778279410038923, LR__penalty=l1, LR__solver=lbfgs, imputer__n_neighbors=2; total time=   0.1s\n",
      "[CV 3/3; 49/150] START LR__C=0.01778279410038923, LR__penalty=l1, LR__solver=lbfgs, imputer__n_neighbors=2\n"
     ]
    },
    {
     "name": "stderr",
     "output_type": "stream",
     "text": [
      "C:\\Users\\Matan\\anaconda3\\lib\\site-packages\\sklearn\\model_selection\\_validation.py:610: FitFailedWarning: Estimator fit failed. The score on this train-test partition for these parameters will be set to nan. Details: \n",
      "Traceback (most recent call last):\n",
      "  File \"C:\\Users\\Matan\\anaconda3\\lib\\site-packages\\sklearn\\model_selection\\_validation.py\", line 593, in _fit_and_score\n",
      "    estimator.fit(X_train, y_train, **fit_params)\n",
      "  File \"C:\\Users\\Matan\\anaconda3\\lib\\site-packages\\sklearn\\pipeline.py\", line 346, in fit\n",
      "    self._final_estimator.fit(Xt, y, **fit_params_last_step)\n",
      "  File \"C:\\Users\\Matan\\anaconda3\\lib\\site-packages\\sklearn\\linear_model\\_logistic.py\", line 1306, in fit\n",
      "    solver = _check_solver(self.solver, self.penalty, self.dual)\n",
      "  File \"C:\\Users\\Matan\\anaconda3\\lib\\site-packages\\sklearn\\linear_model\\_logistic.py\", line 443, in _check_solver\n",
      "    raise ValueError(\"Solver %s supports only 'l2' or 'none' penalties, \"\n",
      "ValueError: Solver lbfgs supports only 'l2' or 'none' penalties, got l1 penalty.\n",
      "\n",
      "  warnings.warn(\"Estimator fit failed. The score on this train-test\"\n",
      "C:\\Users\\Matan\\anaconda3\\lib\\site-packages\\sklearn\\model_selection\\_validation.py:610: FitFailedWarning: Estimator fit failed. The score on this train-test partition for these parameters will be set to nan. Details: \n",
      "Traceback (most recent call last):\n",
      "  File \"C:\\Users\\Matan\\anaconda3\\lib\\site-packages\\sklearn\\model_selection\\_validation.py\", line 593, in _fit_and_score\n",
      "    estimator.fit(X_train, y_train, **fit_params)\n",
      "  File \"C:\\Users\\Matan\\anaconda3\\lib\\site-packages\\sklearn\\pipeline.py\", line 346, in fit\n",
      "    self._final_estimator.fit(Xt, y, **fit_params_last_step)\n",
      "  File \"C:\\Users\\Matan\\anaconda3\\lib\\site-packages\\sklearn\\linear_model\\_logistic.py\", line 1306, in fit\n",
      "    solver = _check_solver(self.solver, self.penalty, self.dual)\n",
      "  File \"C:\\Users\\Matan\\anaconda3\\lib\\site-packages\\sklearn\\linear_model\\_logistic.py\", line 443, in _check_solver\n",
      "    raise ValueError(\"Solver %s supports only 'l2' or 'none' penalties, \"\n",
      "ValueError: Solver lbfgs supports only 'l2' or 'none' penalties, got l1 penalty.\n",
      "\n",
      "  warnings.warn(\"Estimator fit failed. The score on this train-test\"\n"
     ]
    },
    {
     "name": "stdout",
     "output_type": "stream",
     "text": [
      "[CV 3/3; 49/150] END LR__C=0.01778279410038923, LR__penalty=l1, LR__solver=lbfgs, imputer__n_neighbors=2; total time=   0.1s\n",
      "[CV 1/3; 50/150] START LR__C=0.01778279410038923, LR__penalty=l1, LR__solver=lbfgs, imputer__n_neighbors=3\n"
     ]
    },
    {
     "name": "stderr",
     "output_type": "stream",
     "text": [
      "C:\\Users\\Matan\\anaconda3\\lib\\site-packages\\sklearn\\model_selection\\_validation.py:610: FitFailedWarning: Estimator fit failed. The score on this train-test partition for these parameters will be set to nan. Details: \n",
      "Traceback (most recent call last):\n",
      "  File \"C:\\Users\\Matan\\anaconda3\\lib\\site-packages\\sklearn\\model_selection\\_validation.py\", line 593, in _fit_and_score\n",
      "    estimator.fit(X_train, y_train, **fit_params)\n",
      "  File \"C:\\Users\\Matan\\anaconda3\\lib\\site-packages\\sklearn\\pipeline.py\", line 346, in fit\n",
      "    self._final_estimator.fit(Xt, y, **fit_params_last_step)\n",
      "  File \"C:\\Users\\Matan\\anaconda3\\lib\\site-packages\\sklearn\\linear_model\\_logistic.py\", line 1306, in fit\n",
      "    solver = _check_solver(self.solver, self.penalty, self.dual)\n",
      "  File \"C:\\Users\\Matan\\anaconda3\\lib\\site-packages\\sklearn\\linear_model\\_logistic.py\", line 443, in _check_solver\n",
      "    raise ValueError(\"Solver %s supports only 'l2' or 'none' penalties, \"\n",
      "ValueError: Solver lbfgs supports only 'l2' or 'none' penalties, got l1 penalty.\n",
      "\n",
      "  warnings.warn(\"Estimator fit failed. The score on this train-test\"\n"
     ]
    },
    {
     "name": "stdout",
     "output_type": "stream",
     "text": [
      "[CV 1/3; 50/150] END LR__C=0.01778279410038923, LR__penalty=l1, LR__solver=lbfgs, imputer__n_neighbors=3; total time=   0.1s\n",
      "[CV 2/3; 50/150] START LR__C=0.01778279410038923, LR__penalty=l1, LR__solver=lbfgs, imputer__n_neighbors=3\n"
     ]
    },
    {
     "name": "stderr",
     "output_type": "stream",
     "text": [
      "C:\\Users\\Matan\\anaconda3\\lib\\site-packages\\sklearn\\model_selection\\_validation.py:610: FitFailedWarning: Estimator fit failed. The score on this train-test partition for these parameters will be set to nan. Details: \n",
      "Traceback (most recent call last):\n",
      "  File \"C:\\Users\\Matan\\anaconda3\\lib\\site-packages\\sklearn\\model_selection\\_validation.py\", line 593, in _fit_and_score\n",
      "    estimator.fit(X_train, y_train, **fit_params)\n",
      "  File \"C:\\Users\\Matan\\anaconda3\\lib\\site-packages\\sklearn\\pipeline.py\", line 346, in fit\n",
      "    self._final_estimator.fit(Xt, y, **fit_params_last_step)\n",
      "  File \"C:\\Users\\Matan\\anaconda3\\lib\\site-packages\\sklearn\\linear_model\\_logistic.py\", line 1306, in fit\n",
      "    solver = _check_solver(self.solver, self.penalty, self.dual)\n",
      "  File \"C:\\Users\\Matan\\anaconda3\\lib\\site-packages\\sklearn\\linear_model\\_logistic.py\", line 443, in _check_solver\n",
      "    raise ValueError(\"Solver %s supports only 'l2' or 'none' penalties, \"\n",
      "ValueError: Solver lbfgs supports only 'l2' or 'none' penalties, got l1 penalty.\n",
      "\n",
      "  warnings.warn(\"Estimator fit failed. The score on this train-test\"\n"
     ]
    },
    {
     "name": "stdout",
     "output_type": "stream",
     "text": [
      "[CV 2/3; 50/150] END LR__C=0.01778279410038923, LR__penalty=l1, LR__solver=lbfgs, imputer__n_neighbors=3; total time=   0.1s\n",
      "[CV 3/3; 50/150] START LR__C=0.01778279410038923, LR__penalty=l1, LR__solver=lbfgs, imputer__n_neighbors=3\n"
     ]
    },
    {
     "name": "stderr",
     "output_type": "stream",
     "text": [
      "C:\\Users\\Matan\\anaconda3\\lib\\site-packages\\sklearn\\model_selection\\_validation.py:610: FitFailedWarning: Estimator fit failed. The score on this train-test partition for these parameters will be set to nan. Details: \n",
      "Traceback (most recent call last):\n",
      "  File \"C:\\Users\\Matan\\anaconda3\\lib\\site-packages\\sklearn\\model_selection\\_validation.py\", line 593, in _fit_and_score\n",
      "    estimator.fit(X_train, y_train, **fit_params)\n",
      "  File \"C:\\Users\\Matan\\anaconda3\\lib\\site-packages\\sklearn\\pipeline.py\", line 346, in fit\n",
      "    self._final_estimator.fit(Xt, y, **fit_params_last_step)\n",
      "  File \"C:\\Users\\Matan\\anaconda3\\lib\\site-packages\\sklearn\\linear_model\\_logistic.py\", line 1306, in fit\n",
      "    solver = _check_solver(self.solver, self.penalty, self.dual)\n",
      "  File \"C:\\Users\\Matan\\anaconda3\\lib\\site-packages\\sklearn\\linear_model\\_logistic.py\", line 443, in _check_solver\n",
      "    raise ValueError(\"Solver %s supports only 'l2' or 'none' penalties, \"\n",
      "ValueError: Solver lbfgs supports only 'l2' or 'none' penalties, got l1 penalty.\n",
      "\n",
      "  warnings.warn(\"Estimator fit failed. The score on this train-test\"\n"
     ]
    },
    {
     "name": "stdout",
     "output_type": "stream",
     "text": [
      "[CV 3/3; 50/150] END LR__C=0.01778279410038923, LR__penalty=l1, LR__solver=lbfgs, imputer__n_neighbors=3; total time=   0.1s\n",
      "[CV 1/3; 51/150] START LR__C=0.01778279410038923, LR__penalty=l1, LR__solver=lbfgs, imputer__n_neighbors=4\n"
     ]
    },
    {
     "name": "stderr",
     "output_type": "stream",
     "text": [
      "C:\\Users\\Matan\\anaconda3\\lib\\site-packages\\sklearn\\model_selection\\_validation.py:610: FitFailedWarning: Estimator fit failed. The score on this train-test partition for these parameters will be set to nan. Details: \n",
      "Traceback (most recent call last):\n",
      "  File \"C:\\Users\\Matan\\anaconda3\\lib\\site-packages\\sklearn\\model_selection\\_validation.py\", line 593, in _fit_and_score\n",
      "    estimator.fit(X_train, y_train, **fit_params)\n",
      "  File \"C:\\Users\\Matan\\anaconda3\\lib\\site-packages\\sklearn\\pipeline.py\", line 346, in fit\n",
      "    self._final_estimator.fit(Xt, y, **fit_params_last_step)\n",
      "  File \"C:\\Users\\Matan\\anaconda3\\lib\\site-packages\\sklearn\\linear_model\\_logistic.py\", line 1306, in fit\n",
      "    solver = _check_solver(self.solver, self.penalty, self.dual)\n",
      "  File \"C:\\Users\\Matan\\anaconda3\\lib\\site-packages\\sklearn\\linear_model\\_logistic.py\", line 443, in _check_solver\n",
      "    raise ValueError(\"Solver %s supports only 'l2' or 'none' penalties, \"\n",
      "ValueError: Solver lbfgs supports only 'l2' or 'none' penalties, got l1 penalty.\n",
      "\n",
      "  warnings.warn(\"Estimator fit failed. The score on this train-test\"\n"
     ]
    },
    {
     "name": "stdout",
     "output_type": "stream",
     "text": [
      "[CV 1/3; 51/150] END LR__C=0.01778279410038923, LR__penalty=l1, LR__solver=lbfgs, imputer__n_neighbors=4; total time=   0.1s\n",
      "[CV 2/3; 51/150] START LR__C=0.01778279410038923, LR__penalty=l1, LR__solver=lbfgs, imputer__n_neighbors=4\n"
     ]
    },
    {
     "name": "stderr",
     "output_type": "stream",
     "text": [
      "C:\\Users\\Matan\\anaconda3\\lib\\site-packages\\sklearn\\model_selection\\_validation.py:610: FitFailedWarning: Estimator fit failed. The score on this train-test partition for these parameters will be set to nan. Details: \n",
      "Traceback (most recent call last):\n",
      "  File \"C:\\Users\\Matan\\anaconda3\\lib\\site-packages\\sklearn\\model_selection\\_validation.py\", line 593, in _fit_and_score\n",
      "    estimator.fit(X_train, y_train, **fit_params)\n",
      "  File \"C:\\Users\\Matan\\anaconda3\\lib\\site-packages\\sklearn\\pipeline.py\", line 346, in fit\n",
      "    self._final_estimator.fit(Xt, y, **fit_params_last_step)\n",
      "  File \"C:\\Users\\Matan\\anaconda3\\lib\\site-packages\\sklearn\\linear_model\\_logistic.py\", line 1306, in fit\n",
      "    solver = _check_solver(self.solver, self.penalty, self.dual)\n",
      "  File \"C:\\Users\\Matan\\anaconda3\\lib\\site-packages\\sklearn\\linear_model\\_logistic.py\", line 443, in _check_solver\n",
      "    raise ValueError(\"Solver %s supports only 'l2' or 'none' penalties, \"\n",
      "ValueError: Solver lbfgs supports only 'l2' or 'none' penalties, got l1 penalty.\n",
      "\n",
      "  warnings.warn(\"Estimator fit failed. The score on this train-test\"\n"
     ]
    },
    {
     "name": "stdout",
     "output_type": "stream",
     "text": [
      "[CV 2/3; 51/150] END LR__C=0.01778279410038923, LR__penalty=l1, LR__solver=lbfgs, imputer__n_neighbors=4; total time=   0.1s\n",
      "[CV 3/3; 51/150] START LR__C=0.01778279410038923, LR__penalty=l1, LR__solver=lbfgs, imputer__n_neighbors=4\n",
      "[CV 3/3; 51/150] END LR__C=0.01778279410038923, LR__penalty=l1, LR__solver=lbfgs, imputer__n_neighbors=4; total time=   0.1s\n",
      "[CV 1/3; 52/150] START LR__C=0.01778279410038923, LR__penalty=l1, LR__solver=liblinear, imputer__n_neighbors=2\n",
      "[CV 1/3; 52/150] END LR__C=0.01778279410038923, LR__penalty=l1, LR__solver=liblinear, imputer__n_neighbors=2; total time=   1.7s\n",
      "[CV 2/3; 52/150] START LR__C=0.01778279410038923, LR__penalty=l1, LR__solver=liblinear, imputer__n_neighbors=2\n",
      "[CV 2/3; 52/150] END LR__C=0.01778279410038923, LR__penalty=l1, LR__solver=liblinear, imputer__n_neighbors=2; total time=   1.5s\n",
      "[CV 3/3; 52/150] START LR__C=0.01778279410038923, LR__penalty=l1, LR__solver=liblinear, imputer__n_neighbors=2\n",
      "[CV 3/3; 52/150] END LR__C=0.01778279410038923, LR__penalty=l1, LR__solver=liblinear, imputer__n_neighbors=2; total time=   0.8s\n",
      "[CV 1/3; 53/150] START LR__C=0.01778279410038923, LR__penalty=l1, LR__solver=liblinear, imputer__n_neighbors=3\n",
      "[CV 1/3; 53/150] END LR__C=0.01778279410038923, LR__penalty=l1, LR__solver=liblinear, imputer__n_neighbors=3; total time=   0.9s\n",
      "[CV 2/3; 53/150] START LR__C=0.01778279410038923, LR__penalty=l1, LR__solver=liblinear, imputer__n_neighbors=3\n",
      "[CV 2/3; 53/150] END LR__C=0.01778279410038923, LR__penalty=l1, LR__solver=liblinear, imputer__n_neighbors=3; total time=   1.9s\n",
      "[CV 3/3; 53/150] START LR__C=0.01778279410038923, LR__penalty=l1, LR__solver=liblinear, imputer__n_neighbors=3\n",
      "[CV 3/3; 53/150] END LR__C=0.01778279410038923, LR__penalty=l1, LR__solver=liblinear, imputer__n_neighbors=3; total time=   1.0s\n",
      "[CV 1/3; 54/150] START LR__C=0.01778279410038923, LR__penalty=l1, LR__solver=liblinear, imputer__n_neighbors=4\n",
      "[CV 1/3; 54/150] END LR__C=0.01778279410038923, LR__penalty=l1, LR__solver=liblinear, imputer__n_neighbors=4; total time=   0.8s\n",
      "[CV 2/3; 54/150] START LR__C=0.01778279410038923, LR__penalty=l1, LR__solver=liblinear, imputer__n_neighbors=4\n",
      "[CV 2/3; 54/150] END LR__C=0.01778279410038923, LR__penalty=l1, LR__solver=liblinear, imputer__n_neighbors=4; total time=   1.6s\n",
      "[CV 3/3; 54/150] START LR__C=0.01778279410038923, LR__penalty=l1, LR__solver=liblinear, imputer__n_neighbors=4\n",
      "[CV 3/3; 54/150] END LR__C=0.01778279410038923, LR__penalty=l1, LR__solver=liblinear, imputer__n_neighbors=4; total time=   1.6s\n",
      "[CV 1/3; 55/150] START LR__C=0.01778279410038923, LR__penalty=l1, LR__solver=sag, imputer__n_neighbors=2\n",
      "[CV 1/3; 55/150] END LR__C=0.01778279410038923, LR__penalty=l1, LR__solver=sag, imputer__n_neighbors=2; total time=   0.1s\n",
      "[CV 2/3; 55/150] START LR__C=0.01778279410038923, LR__penalty=l1, LR__solver=sag, imputer__n_neighbors=2\n"
     ]
    },
    {
     "name": "stderr",
     "output_type": "stream",
     "text": [
      "C:\\Users\\Matan\\anaconda3\\lib\\site-packages\\sklearn\\model_selection\\_validation.py:610: FitFailedWarning: Estimator fit failed. The score on this train-test partition for these parameters will be set to nan. Details: \n",
      "Traceback (most recent call last):\n",
      "  File \"C:\\Users\\Matan\\anaconda3\\lib\\site-packages\\sklearn\\model_selection\\_validation.py\", line 593, in _fit_and_score\n",
      "    estimator.fit(X_train, y_train, **fit_params)\n",
      "  File \"C:\\Users\\Matan\\anaconda3\\lib\\site-packages\\sklearn\\pipeline.py\", line 346, in fit\n",
      "    self._final_estimator.fit(Xt, y, **fit_params_last_step)\n",
      "  File \"C:\\Users\\Matan\\anaconda3\\lib\\site-packages\\sklearn\\linear_model\\_logistic.py\", line 1306, in fit\n",
      "    solver = _check_solver(self.solver, self.penalty, self.dual)\n",
      "  File \"C:\\Users\\Matan\\anaconda3\\lib\\site-packages\\sklearn\\linear_model\\_logistic.py\", line 443, in _check_solver\n",
      "    raise ValueError(\"Solver %s supports only 'l2' or 'none' penalties, \"\n",
      "ValueError: Solver sag supports only 'l2' or 'none' penalties, got l1 penalty.\n",
      "\n",
      "  warnings.warn(\"Estimator fit failed. The score on this train-test\"\n",
      "C:\\Users\\Matan\\anaconda3\\lib\\site-packages\\sklearn\\model_selection\\_validation.py:610: FitFailedWarning: Estimator fit failed. The score on this train-test partition for these parameters will be set to nan. Details: \n",
      "Traceback (most recent call last):\n",
      "  File \"C:\\Users\\Matan\\anaconda3\\lib\\site-packages\\sklearn\\model_selection\\_validation.py\", line 593, in _fit_and_score\n",
      "    estimator.fit(X_train, y_train, **fit_params)\n",
      "  File \"C:\\Users\\Matan\\anaconda3\\lib\\site-packages\\sklearn\\pipeline.py\", line 346, in fit\n",
      "    self._final_estimator.fit(Xt, y, **fit_params_last_step)\n",
      "  File \"C:\\Users\\Matan\\anaconda3\\lib\\site-packages\\sklearn\\linear_model\\_logistic.py\", line 1306, in fit\n",
      "    solver = _check_solver(self.solver, self.penalty, self.dual)\n",
      "  File \"C:\\Users\\Matan\\anaconda3\\lib\\site-packages\\sklearn\\linear_model\\_logistic.py\", line 443, in _check_solver\n",
      "    raise ValueError(\"Solver %s supports only 'l2' or 'none' penalties, \"\n",
      "ValueError: Solver sag supports only 'l2' or 'none' penalties, got l1 penalty.\n",
      "\n",
      "  warnings.warn(\"Estimator fit failed. The score on this train-test\"\n",
      "C:\\Users\\Matan\\anaconda3\\lib\\site-packages\\sklearn\\model_selection\\_validation.py:610: FitFailedWarning: Estimator fit failed. The score on this train-test partition for these parameters will be set to nan. Details: \n",
      "Traceback (most recent call last):\n",
      "  File \"C:\\Users\\Matan\\anaconda3\\lib\\site-packages\\sklearn\\model_selection\\_validation.py\", line 593, in _fit_and_score\n",
      "    estimator.fit(X_train, y_train, **fit_params)\n",
      "  File \"C:\\Users\\Matan\\anaconda3\\lib\\site-packages\\sklearn\\pipeline.py\", line 346, in fit\n",
      "    self._final_estimator.fit(Xt, y, **fit_params_last_step)\n",
      "  File \"C:\\Users\\Matan\\anaconda3\\lib\\site-packages\\sklearn\\linear_model\\_logistic.py\", line 1306, in fit\n",
      "    solver = _check_solver(self.solver, self.penalty, self.dual)\n",
      "  File \"C:\\Users\\Matan\\anaconda3\\lib\\site-packages\\sklearn\\linear_model\\_logistic.py\", line 443, in _check_solver\n",
      "    raise ValueError(\"Solver %s supports only 'l2' or 'none' penalties, \"\n",
      "ValueError: Solver sag supports only 'l2' or 'none' penalties, got l1 penalty.\n",
      "\n",
      "  warnings.warn(\"Estimator fit failed. The score on this train-test\"\n"
     ]
    },
    {
     "name": "stdout",
     "output_type": "stream",
     "text": [
      "[CV 2/3; 55/150] END LR__C=0.01778279410038923, LR__penalty=l1, LR__solver=sag, imputer__n_neighbors=2; total time=   0.1s\n",
      "[CV 3/3; 55/150] START LR__C=0.01778279410038923, LR__penalty=l1, LR__solver=sag, imputer__n_neighbors=2\n",
      "[CV 3/3; 55/150] END LR__C=0.01778279410038923, LR__penalty=l1, LR__solver=sag, imputer__n_neighbors=2; total time=   0.1s\n",
      "[CV 1/3; 56/150] START LR__C=0.01778279410038923, LR__penalty=l1, LR__solver=sag, imputer__n_neighbors=3\n"
     ]
    },
    {
     "name": "stderr",
     "output_type": "stream",
     "text": [
      "C:\\Users\\Matan\\anaconda3\\lib\\site-packages\\sklearn\\model_selection\\_validation.py:610: FitFailedWarning: Estimator fit failed. The score on this train-test partition for these parameters will be set to nan. Details: \n",
      "Traceback (most recent call last):\n",
      "  File \"C:\\Users\\Matan\\anaconda3\\lib\\site-packages\\sklearn\\model_selection\\_validation.py\", line 593, in _fit_and_score\n",
      "    estimator.fit(X_train, y_train, **fit_params)\n",
      "  File \"C:\\Users\\Matan\\anaconda3\\lib\\site-packages\\sklearn\\pipeline.py\", line 346, in fit\n",
      "    self._final_estimator.fit(Xt, y, **fit_params_last_step)\n",
      "  File \"C:\\Users\\Matan\\anaconda3\\lib\\site-packages\\sklearn\\linear_model\\_logistic.py\", line 1306, in fit\n",
      "    solver = _check_solver(self.solver, self.penalty, self.dual)\n",
      "  File \"C:\\Users\\Matan\\anaconda3\\lib\\site-packages\\sklearn\\linear_model\\_logistic.py\", line 443, in _check_solver\n",
      "    raise ValueError(\"Solver %s supports only 'l2' or 'none' penalties, \"\n",
      "ValueError: Solver sag supports only 'l2' or 'none' penalties, got l1 penalty.\n",
      "\n",
      "  warnings.warn(\"Estimator fit failed. The score on this train-test\"\n",
      "C:\\Users\\Matan\\anaconda3\\lib\\site-packages\\sklearn\\model_selection\\_validation.py:610: FitFailedWarning: Estimator fit failed. The score on this train-test partition for these parameters will be set to nan. Details: \n",
      "Traceback (most recent call last):\n",
      "  File \"C:\\Users\\Matan\\anaconda3\\lib\\site-packages\\sklearn\\model_selection\\_validation.py\", line 593, in _fit_and_score\n",
      "    estimator.fit(X_train, y_train, **fit_params)\n",
      "  File \"C:\\Users\\Matan\\anaconda3\\lib\\site-packages\\sklearn\\pipeline.py\", line 346, in fit\n",
      "    self._final_estimator.fit(Xt, y, **fit_params_last_step)\n",
      "  File \"C:\\Users\\Matan\\anaconda3\\lib\\site-packages\\sklearn\\linear_model\\_logistic.py\", line 1306, in fit\n",
      "    solver = _check_solver(self.solver, self.penalty, self.dual)\n",
      "  File \"C:\\Users\\Matan\\anaconda3\\lib\\site-packages\\sklearn\\linear_model\\_logistic.py\", line 443, in _check_solver\n",
      "    raise ValueError(\"Solver %s supports only 'l2' or 'none' penalties, \"\n",
      "ValueError: Solver sag supports only 'l2' or 'none' penalties, got l1 penalty.\n",
      "\n",
      "  warnings.warn(\"Estimator fit failed. The score on this train-test\"\n"
     ]
    },
    {
     "name": "stdout",
     "output_type": "stream",
     "text": [
      "[CV 1/3; 56/150] END LR__C=0.01778279410038923, LR__penalty=l1, LR__solver=sag, imputer__n_neighbors=3; total time=   0.1s\n",
      "[CV 2/3; 56/150] START LR__C=0.01778279410038923, LR__penalty=l1, LR__solver=sag, imputer__n_neighbors=3\n"
     ]
    },
    {
     "name": "stderr",
     "output_type": "stream",
     "text": [
      "C:\\Users\\Matan\\anaconda3\\lib\\site-packages\\sklearn\\model_selection\\_validation.py:610: FitFailedWarning: Estimator fit failed. The score on this train-test partition for these parameters will be set to nan. Details: \n",
      "Traceback (most recent call last):\n",
      "  File \"C:\\Users\\Matan\\anaconda3\\lib\\site-packages\\sklearn\\model_selection\\_validation.py\", line 593, in _fit_and_score\n",
      "    estimator.fit(X_train, y_train, **fit_params)\n",
      "  File \"C:\\Users\\Matan\\anaconda3\\lib\\site-packages\\sklearn\\pipeline.py\", line 346, in fit\n",
      "    self._final_estimator.fit(Xt, y, **fit_params_last_step)\n",
      "  File \"C:\\Users\\Matan\\anaconda3\\lib\\site-packages\\sklearn\\linear_model\\_logistic.py\", line 1306, in fit\n",
      "    solver = _check_solver(self.solver, self.penalty, self.dual)\n",
      "  File \"C:\\Users\\Matan\\anaconda3\\lib\\site-packages\\sklearn\\linear_model\\_logistic.py\", line 443, in _check_solver\n",
      "    raise ValueError(\"Solver %s supports only 'l2' or 'none' penalties, \"\n",
      "ValueError: Solver sag supports only 'l2' or 'none' penalties, got l1 penalty.\n",
      "\n",
      "  warnings.warn(\"Estimator fit failed. The score on this train-test\"\n"
     ]
    },
    {
     "name": "stdout",
     "output_type": "stream",
     "text": [
      "[CV 2/3; 56/150] END LR__C=0.01778279410038923, LR__penalty=l1, LR__solver=sag, imputer__n_neighbors=3; total time=   0.1s\n",
      "[CV 3/3; 56/150] START LR__C=0.01778279410038923, LR__penalty=l1, LR__solver=sag, imputer__n_neighbors=3\n",
      "[CV 3/3; 56/150] END LR__C=0.01778279410038923, LR__penalty=l1, LR__solver=sag, imputer__n_neighbors=3; total time=   0.1s\n",
      "[CV 1/3; 57/150] START LR__C=0.01778279410038923, LR__penalty=l1, LR__solver=sag, imputer__n_neighbors=4\n"
     ]
    },
    {
     "name": "stderr",
     "output_type": "stream",
     "text": [
      "C:\\Users\\Matan\\anaconda3\\lib\\site-packages\\sklearn\\model_selection\\_validation.py:610: FitFailedWarning: Estimator fit failed. The score on this train-test partition for these parameters will be set to nan. Details: \n",
      "Traceback (most recent call last):\n",
      "  File \"C:\\Users\\Matan\\anaconda3\\lib\\site-packages\\sklearn\\model_selection\\_validation.py\", line 593, in _fit_and_score\n",
      "    estimator.fit(X_train, y_train, **fit_params)\n",
      "  File \"C:\\Users\\Matan\\anaconda3\\lib\\site-packages\\sklearn\\pipeline.py\", line 346, in fit\n",
      "    self._final_estimator.fit(Xt, y, **fit_params_last_step)\n",
      "  File \"C:\\Users\\Matan\\anaconda3\\lib\\site-packages\\sklearn\\linear_model\\_logistic.py\", line 1306, in fit\n",
      "    solver = _check_solver(self.solver, self.penalty, self.dual)\n",
      "  File \"C:\\Users\\Matan\\anaconda3\\lib\\site-packages\\sklearn\\linear_model\\_logistic.py\", line 443, in _check_solver\n",
      "    raise ValueError(\"Solver %s supports only 'l2' or 'none' penalties, \"\n",
      "ValueError: Solver sag supports only 'l2' or 'none' penalties, got l1 penalty.\n",
      "\n",
      "  warnings.warn(\"Estimator fit failed. The score on this train-test\"\n",
      "C:\\Users\\Matan\\anaconda3\\lib\\site-packages\\sklearn\\model_selection\\_validation.py:610: FitFailedWarning: Estimator fit failed. The score on this train-test partition for these parameters will be set to nan. Details: \n",
      "Traceback (most recent call last):\n",
      "  File \"C:\\Users\\Matan\\anaconda3\\lib\\site-packages\\sklearn\\model_selection\\_validation.py\", line 593, in _fit_and_score\n",
      "    estimator.fit(X_train, y_train, **fit_params)\n",
      "  File \"C:\\Users\\Matan\\anaconda3\\lib\\site-packages\\sklearn\\pipeline.py\", line 346, in fit\n",
      "    self._final_estimator.fit(Xt, y, **fit_params_last_step)\n",
      "  File \"C:\\Users\\Matan\\anaconda3\\lib\\site-packages\\sklearn\\linear_model\\_logistic.py\", line 1306, in fit\n",
      "    solver = _check_solver(self.solver, self.penalty, self.dual)\n",
      "  File \"C:\\Users\\Matan\\anaconda3\\lib\\site-packages\\sklearn\\linear_model\\_logistic.py\", line 443, in _check_solver\n",
      "    raise ValueError(\"Solver %s supports only 'l2' or 'none' penalties, \"\n",
      "ValueError: Solver sag supports only 'l2' or 'none' penalties, got l1 penalty.\n",
      "\n",
      "  warnings.warn(\"Estimator fit failed. The score on this train-test\"\n"
     ]
    },
    {
     "name": "stdout",
     "output_type": "stream",
     "text": [
      "[CV 1/3; 57/150] END LR__C=0.01778279410038923, LR__penalty=l1, LR__solver=sag, imputer__n_neighbors=4; total time=   0.2s\n",
      "[CV 2/3; 57/150] START LR__C=0.01778279410038923, LR__penalty=l1, LR__solver=sag, imputer__n_neighbors=4\n",
      "[CV 2/3; 57/150] END LR__C=0.01778279410038923, LR__penalty=l1, LR__solver=sag, imputer__n_neighbors=4; total time=   0.1s\n",
      "[CV 3/3; 57/150] START LR__C=0.01778279410038923, LR__penalty=l1, LR__solver=sag, imputer__n_neighbors=4\n"
     ]
    },
    {
     "name": "stderr",
     "output_type": "stream",
     "text": [
      "C:\\Users\\Matan\\anaconda3\\lib\\site-packages\\sklearn\\model_selection\\_validation.py:610: FitFailedWarning: Estimator fit failed. The score on this train-test partition for these parameters will be set to nan. Details: \n",
      "Traceback (most recent call last):\n",
      "  File \"C:\\Users\\Matan\\anaconda3\\lib\\site-packages\\sklearn\\model_selection\\_validation.py\", line 593, in _fit_and_score\n",
      "    estimator.fit(X_train, y_train, **fit_params)\n",
      "  File \"C:\\Users\\Matan\\anaconda3\\lib\\site-packages\\sklearn\\pipeline.py\", line 346, in fit\n",
      "    self._final_estimator.fit(Xt, y, **fit_params_last_step)\n",
      "  File \"C:\\Users\\Matan\\anaconda3\\lib\\site-packages\\sklearn\\linear_model\\_logistic.py\", line 1306, in fit\n",
      "    solver = _check_solver(self.solver, self.penalty, self.dual)\n",
      "  File \"C:\\Users\\Matan\\anaconda3\\lib\\site-packages\\sklearn\\linear_model\\_logistic.py\", line 443, in _check_solver\n",
      "    raise ValueError(\"Solver %s supports only 'l2' or 'none' penalties, \"\n",
      "ValueError: Solver sag supports only 'l2' or 'none' penalties, got l1 penalty.\n",
      "\n",
      "  warnings.warn(\"Estimator fit failed. The score on this train-test\"\n"
     ]
    },
    {
     "name": "stdout",
     "output_type": "stream",
     "text": [
      "[CV 3/3; 57/150] END LR__C=0.01778279410038923, LR__penalty=l1, LR__solver=sag, imputer__n_neighbors=4; total time=   0.1s\n",
      "[CV 1/3; 58/150] START LR__C=0.01778279410038923, LR__penalty=l1, LR__solver=saga, imputer__n_neighbors=2\n"
     ]
    },
    {
     "name": "stderr",
     "output_type": "stream",
     "text": [
      "C:\\Users\\Matan\\anaconda3\\lib\\site-packages\\sklearn\\linear_model\\_sag.py:328: ConvergenceWarning: The max_iter was reached which means the coef_ did not converge\n",
      "  warnings.warn(\"The max_iter was reached which means \"\n"
     ]
    },
    {
     "name": "stdout",
     "output_type": "stream",
     "text": [
      "[CV 1/3; 58/150] END LR__C=0.01778279410038923, LR__penalty=l1, LR__solver=saga, imputer__n_neighbors=2; total time=   8.3s\n",
      "[CV 2/3; 58/150] START LR__C=0.01778279410038923, LR__penalty=l1, LR__solver=saga, imputer__n_neighbors=2\n"
     ]
    },
    {
     "name": "stderr",
     "output_type": "stream",
     "text": [
      "C:\\Users\\Matan\\anaconda3\\lib\\site-packages\\sklearn\\linear_model\\_sag.py:328: ConvergenceWarning: The max_iter was reached which means the coef_ did not converge\n",
      "  warnings.warn(\"The max_iter was reached which means \"\n"
     ]
    },
    {
     "name": "stdout",
     "output_type": "stream",
     "text": [
      "[CV 2/3; 58/150] END LR__C=0.01778279410038923, LR__penalty=l1, LR__solver=saga, imputer__n_neighbors=2; total time=   7.3s\n",
      "[CV 3/3; 58/150] START LR__C=0.01778279410038923, LR__penalty=l1, LR__solver=saga, imputer__n_neighbors=2\n"
     ]
    },
    {
     "name": "stderr",
     "output_type": "stream",
     "text": [
      "C:\\Users\\Matan\\anaconda3\\lib\\site-packages\\sklearn\\linear_model\\_sag.py:328: ConvergenceWarning: The max_iter was reached which means the coef_ did not converge\n",
      "  warnings.warn(\"The max_iter was reached which means \"\n"
     ]
    },
    {
     "name": "stdout",
     "output_type": "stream",
     "text": [
      "[CV 3/3; 58/150] END LR__C=0.01778279410038923, LR__penalty=l1, LR__solver=saga, imputer__n_neighbors=2; total time=   7.2s\n",
      "[CV 1/3; 59/150] START LR__C=0.01778279410038923, LR__penalty=l1, LR__solver=saga, imputer__n_neighbors=3\n"
     ]
    },
    {
     "name": "stderr",
     "output_type": "stream",
     "text": [
      "C:\\Users\\Matan\\anaconda3\\lib\\site-packages\\sklearn\\linear_model\\_sag.py:328: ConvergenceWarning: The max_iter was reached which means the coef_ did not converge\n",
      "  warnings.warn(\"The max_iter was reached which means \"\n"
     ]
    },
    {
     "name": "stdout",
     "output_type": "stream",
     "text": [
      "[CV 1/3; 59/150] END LR__C=0.01778279410038923, LR__penalty=l1, LR__solver=saga, imputer__n_neighbors=3; total time=   6.9s\n",
      "[CV 2/3; 59/150] START LR__C=0.01778279410038923, LR__penalty=l1, LR__solver=saga, imputer__n_neighbors=3\n"
     ]
    },
    {
     "name": "stderr",
     "output_type": "stream",
     "text": [
      "C:\\Users\\Matan\\anaconda3\\lib\\site-packages\\sklearn\\linear_model\\_sag.py:328: ConvergenceWarning: The max_iter was reached which means the coef_ did not converge\n",
      "  warnings.warn(\"The max_iter was reached which means \"\n"
     ]
    },
    {
     "name": "stdout",
     "output_type": "stream",
     "text": [
      "[CV 2/3; 59/150] END LR__C=0.01778279410038923, LR__penalty=l1, LR__solver=saga, imputer__n_neighbors=3; total time=   7.2s\n",
      "[CV 3/3; 59/150] START LR__C=0.01778279410038923, LR__penalty=l1, LR__solver=saga, imputer__n_neighbors=3\n"
     ]
    },
    {
     "name": "stderr",
     "output_type": "stream",
     "text": [
      "C:\\Users\\Matan\\anaconda3\\lib\\site-packages\\sklearn\\linear_model\\_sag.py:328: ConvergenceWarning: The max_iter was reached which means the coef_ did not converge\n",
      "  warnings.warn(\"The max_iter was reached which means \"\n"
     ]
    },
    {
     "name": "stdout",
     "output_type": "stream",
     "text": [
      "[CV 3/3; 59/150] END LR__C=0.01778279410038923, LR__penalty=l1, LR__solver=saga, imputer__n_neighbors=3; total time=   7.6s\n",
      "[CV 1/3; 60/150] START LR__C=0.01778279410038923, LR__penalty=l1, LR__solver=saga, imputer__n_neighbors=4\n"
     ]
    },
    {
     "name": "stderr",
     "output_type": "stream",
     "text": [
      "C:\\Users\\Matan\\anaconda3\\lib\\site-packages\\sklearn\\linear_model\\_sag.py:328: ConvergenceWarning: The max_iter was reached which means the coef_ did not converge\n",
      "  warnings.warn(\"The max_iter was reached which means \"\n"
     ]
    },
    {
     "name": "stdout",
     "output_type": "stream",
     "text": [
      "[CV 1/3; 60/150] END LR__C=0.01778279410038923, LR__penalty=l1, LR__solver=saga, imputer__n_neighbors=4; total time=   6.4s\n",
      "[CV 2/3; 60/150] START LR__C=0.01778279410038923, LR__penalty=l1, LR__solver=saga, imputer__n_neighbors=4\n"
     ]
    },
    {
     "name": "stderr",
     "output_type": "stream",
     "text": [
      "C:\\Users\\Matan\\anaconda3\\lib\\site-packages\\sklearn\\linear_model\\_sag.py:328: ConvergenceWarning: The max_iter was reached which means the coef_ did not converge\n",
      "  warnings.warn(\"The max_iter was reached which means \"\n"
     ]
    },
    {
     "name": "stdout",
     "output_type": "stream",
     "text": [
      "[CV 2/3; 60/150] END LR__C=0.01778279410038923, LR__penalty=l1, LR__solver=saga, imputer__n_neighbors=4; total time=   8.1s\n",
      "[CV 3/3; 60/150] START LR__C=0.01778279410038923, LR__penalty=l1, LR__solver=saga, imputer__n_neighbors=4\n"
     ]
    },
    {
     "name": "stderr",
     "output_type": "stream",
     "text": [
      "C:\\Users\\Matan\\anaconda3\\lib\\site-packages\\sklearn\\linear_model\\_sag.py:328: ConvergenceWarning: The max_iter was reached which means the coef_ did not converge\n",
      "  warnings.warn(\"The max_iter was reached which means \"\n"
     ]
    },
    {
     "name": "stdout",
     "output_type": "stream",
     "text": [
      "[CV 3/3; 60/150] END LR__C=0.01778279410038923, LR__penalty=l1, LR__solver=saga, imputer__n_neighbors=4; total time=   7.0s\n",
      "[CV 1/3; 61/150] START LR__C=0.31622776601683794, LR__penalty=l2, LR__solver=newton-cg, imputer__n_neighbors=2\n",
      "[CV 1/3; 61/150] END LR__C=0.31622776601683794, LR__penalty=l2, LR__solver=newton-cg, imputer__n_neighbors=2; total time=  11.5s\n",
      "[CV 2/3; 61/150] START LR__C=0.31622776601683794, LR__penalty=l2, LR__solver=newton-cg, imputer__n_neighbors=2\n",
      "[CV 2/3; 61/150] END LR__C=0.31622776601683794, LR__penalty=l2, LR__solver=newton-cg, imputer__n_neighbors=2; total time=  12.9s\n",
      "[CV 3/3; 61/150] START LR__C=0.31622776601683794, LR__penalty=l2, LR__solver=newton-cg, imputer__n_neighbors=2\n",
      "[CV 3/3; 61/150] END LR__C=0.31622776601683794, LR__penalty=l2, LR__solver=newton-cg, imputer__n_neighbors=2; total time=   9.2s\n",
      "[CV 1/3; 62/150] START LR__C=0.31622776601683794, LR__penalty=l2, LR__solver=newton-cg, imputer__n_neighbors=3\n",
      "[CV 1/3; 62/150] END LR__C=0.31622776601683794, LR__penalty=l2, LR__solver=newton-cg, imputer__n_neighbors=3; total time=   9.2s\n",
      "[CV 2/3; 62/150] START LR__C=0.31622776601683794, LR__penalty=l2, LR__solver=newton-cg, imputer__n_neighbors=3\n",
      "[CV 2/3; 62/150] END LR__C=0.31622776601683794, LR__penalty=l2, LR__solver=newton-cg, imputer__n_neighbors=3; total time=  10.4s\n",
      "[CV 3/3; 62/150] START LR__C=0.31622776601683794, LR__penalty=l2, LR__solver=newton-cg, imputer__n_neighbors=3\n",
      "[CV 3/3; 62/150] END LR__C=0.31622776601683794, LR__penalty=l2, LR__solver=newton-cg, imputer__n_neighbors=3; total time=  11.1s\n",
      "[CV 1/3; 63/150] START LR__C=0.31622776601683794, LR__penalty=l2, LR__solver=newton-cg, imputer__n_neighbors=4\n",
      "[CV 1/3; 63/150] END LR__C=0.31622776601683794, LR__penalty=l2, LR__solver=newton-cg, imputer__n_neighbors=4; total time=  12.8s\n",
      "[CV 2/3; 63/150] START LR__C=0.31622776601683794, LR__penalty=l2, LR__solver=newton-cg, imputer__n_neighbors=4\n",
      "[CV 2/3; 63/150] END LR__C=0.31622776601683794, LR__penalty=l2, LR__solver=newton-cg, imputer__n_neighbors=4; total time=  10.3s\n",
      "[CV 3/3; 63/150] START LR__C=0.31622776601683794, LR__penalty=l2, LR__solver=newton-cg, imputer__n_neighbors=4\n",
      "[CV 3/3; 63/150] END LR__C=0.31622776601683794, LR__penalty=l2, LR__solver=newton-cg, imputer__n_neighbors=4; total time=  10.4s\n",
      "[CV 1/3; 64/150] START LR__C=0.31622776601683794, LR__penalty=l2, LR__solver=lbfgs, imputer__n_neighbors=2\n"
     ]
    },
    {
     "name": "stderr",
     "output_type": "stream",
     "text": [
      "C:\\Users\\Matan\\anaconda3\\lib\\site-packages\\sklearn\\linear_model\\_logistic.py:763: ConvergenceWarning: lbfgs failed to converge (status=1):\n",
      "STOP: TOTAL NO. of ITERATIONS REACHED LIMIT.\n",
      "\n",
      "Increase the number of iterations (max_iter) or scale the data as shown in:\n",
      "    https://scikit-learn.org/stable/modules/preprocessing.html\n",
      "Please also refer to the documentation for alternative solver options:\n",
      "    https://scikit-learn.org/stable/modules/linear_model.html#logistic-regression\n",
      "  n_iter_i = _check_optimize_result(\n"
     ]
    },
    {
     "name": "stdout",
     "output_type": "stream",
     "text": [
      "[CV 1/3; 64/150] END LR__C=0.31622776601683794, LR__penalty=l2, LR__solver=lbfgs, imputer__n_neighbors=2; total time=   4.9s\n",
      "[CV 2/3; 64/150] START LR__C=0.31622776601683794, LR__penalty=l2, LR__solver=lbfgs, imputer__n_neighbors=2\n"
     ]
    },
    {
     "name": "stderr",
     "output_type": "stream",
     "text": [
      "C:\\Users\\Matan\\anaconda3\\lib\\site-packages\\sklearn\\linear_model\\_logistic.py:763: ConvergenceWarning: lbfgs failed to converge (status=1):\n",
      "STOP: TOTAL NO. of ITERATIONS REACHED LIMIT.\n",
      "\n",
      "Increase the number of iterations (max_iter) or scale the data as shown in:\n",
      "    https://scikit-learn.org/stable/modules/preprocessing.html\n",
      "Please also refer to the documentation for alternative solver options:\n",
      "    https://scikit-learn.org/stable/modules/linear_model.html#logistic-regression\n",
      "  n_iter_i = _check_optimize_result(\n"
     ]
    },
    {
     "name": "stdout",
     "output_type": "stream",
     "text": [
      "[CV 2/3; 64/150] END LR__C=0.31622776601683794, LR__penalty=l2, LR__solver=lbfgs, imputer__n_neighbors=2; total time=   4.6s\n",
      "[CV 3/3; 64/150] START LR__C=0.31622776601683794, LR__penalty=l2, LR__solver=lbfgs, imputer__n_neighbors=2\n"
     ]
    },
    {
     "name": "stderr",
     "output_type": "stream",
     "text": [
      "C:\\Users\\Matan\\anaconda3\\lib\\site-packages\\sklearn\\linear_model\\_logistic.py:763: ConvergenceWarning: lbfgs failed to converge (status=1):\n",
      "STOP: TOTAL NO. of ITERATIONS REACHED LIMIT.\n",
      "\n",
      "Increase the number of iterations (max_iter) or scale the data as shown in:\n",
      "    https://scikit-learn.org/stable/modules/preprocessing.html\n",
      "Please also refer to the documentation for alternative solver options:\n",
      "    https://scikit-learn.org/stable/modules/linear_model.html#logistic-regression\n",
      "  n_iter_i = _check_optimize_result(\n"
     ]
    },
    {
     "name": "stdout",
     "output_type": "stream",
     "text": [
      "[CV 3/3; 64/150] END LR__C=0.31622776601683794, LR__penalty=l2, LR__solver=lbfgs, imputer__n_neighbors=2; total time=   4.9s\n",
      "[CV 1/3; 65/150] START LR__C=0.31622776601683794, LR__penalty=l2, LR__solver=lbfgs, imputer__n_neighbors=3\n"
     ]
    },
    {
     "name": "stderr",
     "output_type": "stream",
     "text": [
      "C:\\Users\\Matan\\anaconda3\\lib\\site-packages\\sklearn\\linear_model\\_logistic.py:763: ConvergenceWarning: lbfgs failed to converge (status=1):\n",
      "STOP: TOTAL NO. of ITERATIONS REACHED LIMIT.\n",
      "\n",
      "Increase the number of iterations (max_iter) or scale the data as shown in:\n",
      "    https://scikit-learn.org/stable/modules/preprocessing.html\n",
      "Please also refer to the documentation for alternative solver options:\n",
      "    https://scikit-learn.org/stable/modules/linear_model.html#logistic-regression\n",
      "  n_iter_i = _check_optimize_result(\n"
     ]
    },
    {
     "name": "stdout",
     "output_type": "stream",
     "text": [
      "[CV 1/3; 65/150] END LR__C=0.31622776601683794, LR__penalty=l2, LR__solver=lbfgs, imputer__n_neighbors=3; total time=   4.0s\n",
      "[CV 2/3; 65/150] START LR__C=0.31622776601683794, LR__penalty=l2, LR__solver=lbfgs, imputer__n_neighbors=3\n"
     ]
    },
    {
     "name": "stderr",
     "output_type": "stream",
     "text": [
      "C:\\Users\\Matan\\anaconda3\\lib\\site-packages\\sklearn\\linear_model\\_logistic.py:763: ConvergenceWarning: lbfgs failed to converge (status=1):\n",
      "STOP: TOTAL NO. of ITERATIONS REACHED LIMIT.\n",
      "\n",
      "Increase the number of iterations (max_iter) or scale the data as shown in:\n",
      "    https://scikit-learn.org/stable/modules/preprocessing.html\n",
      "Please also refer to the documentation for alternative solver options:\n",
      "    https://scikit-learn.org/stable/modules/linear_model.html#logistic-regression\n",
      "  n_iter_i = _check_optimize_result(\n"
     ]
    },
    {
     "name": "stdout",
     "output_type": "stream",
     "text": [
      "[CV 2/3; 65/150] END LR__C=0.31622776601683794, LR__penalty=l2, LR__solver=lbfgs, imputer__n_neighbors=3; total time=   5.0s\n",
      "[CV 3/3; 65/150] START LR__C=0.31622776601683794, LR__penalty=l2, LR__solver=lbfgs, imputer__n_neighbors=3\n"
     ]
    },
    {
     "name": "stderr",
     "output_type": "stream",
     "text": [
      "C:\\Users\\Matan\\anaconda3\\lib\\site-packages\\sklearn\\linear_model\\_logistic.py:763: ConvergenceWarning: lbfgs failed to converge (status=1):\n",
      "STOP: TOTAL NO. of ITERATIONS REACHED LIMIT.\n",
      "\n",
      "Increase the number of iterations (max_iter) or scale the data as shown in:\n",
      "    https://scikit-learn.org/stable/modules/preprocessing.html\n",
      "Please also refer to the documentation for alternative solver options:\n",
      "    https://scikit-learn.org/stable/modules/linear_model.html#logistic-regression\n",
      "  n_iter_i = _check_optimize_result(\n"
     ]
    },
    {
     "name": "stdout",
     "output_type": "stream",
     "text": [
      "[CV 3/3; 65/150] END LR__C=0.31622776601683794, LR__penalty=l2, LR__solver=lbfgs, imputer__n_neighbors=3; total time=   4.8s\n",
      "[CV 1/3; 66/150] START LR__C=0.31622776601683794, LR__penalty=l2, LR__solver=lbfgs, imputer__n_neighbors=4\n"
     ]
    },
    {
     "name": "stderr",
     "output_type": "stream",
     "text": [
      "C:\\Users\\Matan\\anaconda3\\lib\\site-packages\\sklearn\\linear_model\\_logistic.py:763: ConvergenceWarning: lbfgs failed to converge (status=1):\n",
      "STOP: TOTAL NO. of ITERATIONS REACHED LIMIT.\n",
      "\n",
      "Increase the number of iterations (max_iter) or scale the data as shown in:\n",
      "    https://scikit-learn.org/stable/modules/preprocessing.html\n",
      "Please also refer to the documentation for alternative solver options:\n",
      "    https://scikit-learn.org/stable/modules/linear_model.html#logistic-regression\n",
      "  n_iter_i = _check_optimize_result(\n"
     ]
    },
    {
     "name": "stdout",
     "output_type": "stream",
     "text": [
      "[CV 1/3; 66/150] END LR__C=0.31622776601683794, LR__penalty=l2, LR__solver=lbfgs, imputer__n_neighbors=4; total time=   4.8s\n",
      "[CV 2/3; 66/150] START LR__C=0.31622776601683794, LR__penalty=l2, LR__solver=lbfgs, imputer__n_neighbors=4\n"
     ]
    },
    {
     "name": "stderr",
     "output_type": "stream",
     "text": [
      "C:\\Users\\Matan\\anaconda3\\lib\\site-packages\\sklearn\\linear_model\\_logistic.py:763: ConvergenceWarning: lbfgs failed to converge (status=1):\n",
      "STOP: TOTAL NO. of ITERATIONS REACHED LIMIT.\n",
      "\n",
      "Increase the number of iterations (max_iter) or scale the data as shown in:\n",
      "    https://scikit-learn.org/stable/modules/preprocessing.html\n",
      "Please also refer to the documentation for alternative solver options:\n",
      "    https://scikit-learn.org/stable/modules/linear_model.html#logistic-regression\n",
      "  n_iter_i = _check_optimize_result(\n"
     ]
    },
    {
     "name": "stdout",
     "output_type": "stream",
     "text": [
      "[CV 2/3; 66/150] END LR__C=0.31622776601683794, LR__penalty=l2, LR__solver=lbfgs, imputer__n_neighbors=4; total time=   5.4s\n",
      "[CV 3/3; 66/150] START LR__C=0.31622776601683794, LR__penalty=l2, LR__solver=lbfgs, imputer__n_neighbors=4\n"
     ]
    },
    {
     "name": "stderr",
     "output_type": "stream",
     "text": [
      "C:\\Users\\Matan\\anaconda3\\lib\\site-packages\\sklearn\\linear_model\\_logistic.py:763: ConvergenceWarning: lbfgs failed to converge (status=1):\n",
      "STOP: TOTAL NO. of ITERATIONS REACHED LIMIT.\n",
      "\n",
      "Increase the number of iterations (max_iter) or scale the data as shown in:\n",
      "    https://scikit-learn.org/stable/modules/preprocessing.html\n",
      "Please also refer to the documentation for alternative solver options:\n",
      "    https://scikit-learn.org/stable/modules/linear_model.html#logistic-regression\n",
      "  n_iter_i = _check_optimize_result(\n"
     ]
    },
    {
     "name": "stdout",
     "output_type": "stream",
     "text": [
      "[CV 3/3; 66/150] END LR__C=0.31622776601683794, LR__penalty=l2, LR__solver=lbfgs, imputer__n_neighbors=4; total time=   4.8s\n",
      "[CV 1/3; 67/150] START LR__C=0.31622776601683794, LR__penalty=l2, LR__solver=liblinear, imputer__n_neighbors=2\n",
      "[CV 1/3; 67/150] END LR__C=0.31622776601683794, LR__penalty=l2, LR__solver=liblinear, imputer__n_neighbors=2; total time=   1.8s\n",
      "[CV 2/3; 67/150] START LR__C=0.31622776601683794, LR__penalty=l2, LR__solver=liblinear, imputer__n_neighbors=2\n",
      "[CV 2/3; 67/150] END LR__C=0.31622776601683794, LR__penalty=l2, LR__solver=liblinear, imputer__n_neighbors=2; total time=   1.8s\n",
      "[CV 3/3; 67/150] START LR__C=0.31622776601683794, LR__penalty=l2, LR__solver=liblinear, imputer__n_neighbors=2\n",
      "[CV 3/3; 67/150] END LR__C=0.31622776601683794, LR__penalty=l2, LR__solver=liblinear, imputer__n_neighbors=2; total time=   1.0s\n",
      "[CV 1/3; 68/150] START LR__C=0.31622776601683794, LR__penalty=l2, LR__solver=liblinear, imputer__n_neighbors=3\n",
      "[CV 1/3; 68/150] END LR__C=0.31622776601683794, LR__penalty=l2, LR__solver=liblinear, imputer__n_neighbors=3; total time=   1.8s\n",
      "[CV 2/3; 68/150] START LR__C=0.31622776601683794, LR__penalty=l2, LR__solver=liblinear, imputer__n_neighbors=3\n",
      "[CV 2/3; 68/150] END LR__C=0.31622776601683794, LR__penalty=l2, LR__solver=liblinear, imputer__n_neighbors=3; total time=   1.8s\n",
      "[CV 3/3; 68/150] START LR__C=0.31622776601683794, LR__penalty=l2, LR__solver=liblinear, imputer__n_neighbors=3\n",
      "[CV 3/3; 68/150] END LR__C=0.31622776601683794, LR__penalty=l2, LR__solver=liblinear, imputer__n_neighbors=3; total time=   1.1s\n",
      "[CV 1/3; 69/150] START LR__C=0.31622776601683794, LR__penalty=l2, LR__solver=liblinear, imputer__n_neighbors=4\n",
      "[CV 1/3; 69/150] END LR__C=0.31622776601683794, LR__penalty=l2, LR__solver=liblinear, imputer__n_neighbors=4; total time=   1.9s\n",
      "[CV 2/3; 69/150] START LR__C=0.31622776601683794, LR__penalty=l2, LR__solver=liblinear, imputer__n_neighbors=4\n",
      "[CV 2/3; 69/150] END LR__C=0.31622776601683794, LR__penalty=l2, LR__solver=liblinear, imputer__n_neighbors=4; total time=   1.7s\n",
      "[CV 3/3; 69/150] START LR__C=0.31622776601683794, LR__penalty=l2, LR__solver=liblinear, imputer__n_neighbors=4\n",
      "[CV 3/3; 69/150] END LR__C=0.31622776601683794, LR__penalty=l2, LR__solver=liblinear, imputer__n_neighbors=4; total time=   1.8s\n",
      "[CV 1/3; 70/150] START LR__C=0.31622776601683794, LR__penalty=l2, LR__solver=sag, imputer__n_neighbors=2\n"
     ]
    },
    {
     "name": "stderr",
     "output_type": "stream",
     "text": [
      "C:\\Users\\Matan\\anaconda3\\lib\\site-packages\\sklearn\\linear_model\\_sag.py:328: ConvergenceWarning: The max_iter was reached which means the coef_ did not converge\n",
      "  warnings.warn(\"The max_iter was reached which means \"\n"
     ]
    },
    {
     "name": "stdout",
     "output_type": "stream",
     "text": [
      "[CV 1/3; 70/150] END LR__C=0.31622776601683794, LR__penalty=l2, LR__solver=sag, imputer__n_neighbors=2; total time=   4.0s\n",
      "[CV 2/3; 70/150] START LR__C=0.31622776601683794, LR__penalty=l2, LR__solver=sag, imputer__n_neighbors=2\n"
     ]
    },
    {
     "name": "stderr",
     "output_type": "stream",
     "text": [
      "C:\\Users\\Matan\\anaconda3\\lib\\site-packages\\sklearn\\linear_model\\_sag.py:328: ConvergenceWarning: The max_iter was reached which means the coef_ did not converge\n",
      "  warnings.warn(\"The max_iter was reached which means \"\n"
     ]
    },
    {
     "name": "stdout",
     "output_type": "stream",
     "text": [
      "[CV 2/3; 70/150] END LR__C=0.31622776601683794, LR__penalty=l2, LR__solver=sag, imputer__n_neighbors=2; total time=   5.0s\n",
      "[CV 3/3; 70/150] START LR__C=0.31622776601683794, LR__penalty=l2, LR__solver=sag, imputer__n_neighbors=2\n"
     ]
    },
    {
     "name": "stderr",
     "output_type": "stream",
     "text": [
      "C:\\Users\\Matan\\anaconda3\\lib\\site-packages\\sklearn\\linear_model\\_sag.py:328: ConvergenceWarning: The max_iter was reached which means the coef_ did not converge\n",
      "  warnings.warn(\"The max_iter was reached which means \"\n"
     ]
    },
    {
     "name": "stdout",
     "output_type": "stream",
     "text": [
      "[CV 3/3; 70/150] END LR__C=0.31622776601683794, LR__penalty=l2, LR__solver=sag, imputer__n_neighbors=2; total time=   4.1s\n",
      "[CV 1/3; 71/150] START LR__C=0.31622776601683794, LR__penalty=l2, LR__solver=sag, imputer__n_neighbors=3\n"
     ]
    },
    {
     "name": "stderr",
     "output_type": "stream",
     "text": [
      "C:\\Users\\Matan\\anaconda3\\lib\\site-packages\\sklearn\\linear_model\\_sag.py:328: ConvergenceWarning: The max_iter was reached which means the coef_ did not converge\n",
      "  warnings.warn(\"The max_iter was reached which means \"\n"
     ]
    },
    {
     "name": "stdout",
     "output_type": "stream",
     "text": [
      "[CV 1/3; 71/150] END LR__C=0.31622776601683794, LR__penalty=l2, LR__solver=sag, imputer__n_neighbors=3; total time=   4.6s\n",
      "[CV 2/3; 71/150] START LR__C=0.31622776601683794, LR__penalty=l2, LR__solver=sag, imputer__n_neighbors=3\n"
     ]
    },
    {
     "name": "stderr",
     "output_type": "stream",
     "text": [
      "C:\\Users\\Matan\\anaconda3\\lib\\site-packages\\sklearn\\linear_model\\_sag.py:328: ConvergenceWarning: The max_iter was reached which means the coef_ did not converge\n",
      "  warnings.warn(\"The max_iter was reached which means \"\n"
     ]
    },
    {
     "name": "stdout",
     "output_type": "stream",
     "text": [
      "[CV 2/3; 71/150] END LR__C=0.31622776601683794, LR__penalty=l2, LR__solver=sag, imputer__n_neighbors=3; total time=   4.6s\n",
      "[CV 3/3; 71/150] START LR__C=0.31622776601683794, LR__penalty=l2, LR__solver=sag, imputer__n_neighbors=3\n"
     ]
    },
    {
     "name": "stderr",
     "output_type": "stream",
     "text": [
      "C:\\Users\\Matan\\anaconda3\\lib\\site-packages\\sklearn\\linear_model\\_sag.py:328: ConvergenceWarning: The max_iter was reached which means the coef_ did not converge\n",
      "  warnings.warn(\"The max_iter was reached which means \"\n"
     ]
    },
    {
     "name": "stdout",
     "output_type": "stream",
     "text": [
      "[CV 3/3; 71/150] END LR__C=0.31622776601683794, LR__penalty=l2, LR__solver=sag, imputer__n_neighbors=3; total time=   4.6s\n",
      "[CV 1/3; 72/150] START LR__C=0.31622776601683794, LR__penalty=l2, LR__solver=sag, imputer__n_neighbors=4\n"
     ]
    },
    {
     "name": "stderr",
     "output_type": "stream",
     "text": [
      "C:\\Users\\Matan\\anaconda3\\lib\\site-packages\\sklearn\\linear_model\\_sag.py:328: ConvergenceWarning: The max_iter was reached which means the coef_ did not converge\n",
      "  warnings.warn(\"The max_iter was reached which means \"\n"
     ]
    },
    {
     "name": "stdout",
     "output_type": "stream",
     "text": [
      "[CV 1/3; 72/150] END LR__C=0.31622776601683794, LR__penalty=l2, LR__solver=sag, imputer__n_neighbors=4; total time=   4.8s\n",
      "[CV 2/3; 72/150] START LR__C=0.31622776601683794, LR__penalty=l2, LR__solver=sag, imputer__n_neighbors=4\n"
     ]
    },
    {
     "name": "stderr",
     "output_type": "stream",
     "text": [
      "C:\\Users\\Matan\\anaconda3\\lib\\site-packages\\sklearn\\linear_model\\_sag.py:328: ConvergenceWarning: The max_iter was reached which means the coef_ did not converge\n",
      "  warnings.warn(\"The max_iter was reached which means \"\n"
     ]
    },
    {
     "name": "stdout",
     "output_type": "stream",
     "text": [
      "[CV 2/3; 72/150] END LR__C=0.31622776601683794, LR__penalty=l2, LR__solver=sag, imputer__n_neighbors=4; total time=   4.1s\n",
      "[CV 3/3; 72/150] START LR__C=0.31622776601683794, LR__penalty=l2, LR__solver=sag, imputer__n_neighbors=4\n"
     ]
    },
    {
     "name": "stderr",
     "output_type": "stream",
     "text": [
      "C:\\Users\\Matan\\anaconda3\\lib\\site-packages\\sklearn\\linear_model\\_sag.py:328: ConvergenceWarning: The max_iter was reached which means the coef_ did not converge\n",
      "  warnings.warn(\"The max_iter was reached which means \"\n"
     ]
    },
    {
     "name": "stdout",
     "output_type": "stream",
     "text": [
      "[CV 3/3; 72/150] END LR__C=0.31622776601683794, LR__penalty=l2, LR__solver=sag, imputer__n_neighbors=4; total time=   4.2s\n",
      "[CV 1/3; 73/150] START LR__C=0.31622776601683794, LR__penalty=l2, LR__solver=saga, imputer__n_neighbors=2\n"
     ]
    },
    {
     "name": "stderr",
     "output_type": "stream",
     "text": [
      "C:\\Users\\Matan\\anaconda3\\lib\\site-packages\\sklearn\\linear_model\\_sag.py:328: ConvergenceWarning: The max_iter was reached which means the coef_ did not converge\n",
      "  warnings.warn(\"The max_iter was reached which means \"\n"
     ]
    },
    {
     "name": "stdout",
     "output_type": "stream",
     "text": [
      "[CV 1/3; 73/150] END LR__C=0.31622776601683794, LR__penalty=l2, LR__solver=saga, imputer__n_neighbors=2; total time=   5.2s\n",
      "[CV 2/3; 73/150] START LR__C=0.31622776601683794, LR__penalty=l2, LR__solver=saga, imputer__n_neighbors=2\n"
     ]
    },
    {
     "name": "stderr",
     "output_type": "stream",
     "text": [
      "C:\\Users\\Matan\\anaconda3\\lib\\site-packages\\sklearn\\linear_model\\_sag.py:328: ConvergenceWarning: The max_iter was reached which means the coef_ did not converge\n",
      "  warnings.warn(\"The max_iter was reached which means \"\n"
     ]
    },
    {
     "name": "stdout",
     "output_type": "stream",
     "text": [
      "[CV 2/3; 73/150] END LR__C=0.31622776601683794, LR__penalty=l2, LR__solver=saga, imputer__n_neighbors=2; total time=   5.0s\n",
      "[CV 3/3; 73/150] START LR__C=0.31622776601683794, LR__penalty=l2, LR__solver=saga, imputer__n_neighbors=2\n"
     ]
    },
    {
     "name": "stderr",
     "output_type": "stream",
     "text": [
      "C:\\Users\\Matan\\anaconda3\\lib\\site-packages\\sklearn\\linear_model\\_sag.py:328: ConvergenceWarning: The max_iter was reached which means the coef_ did not converge\n",
      "  warnings.warn(\"The max_iter was reached which means \"\n"
     ]
    },
    {
     "name": "stdout",
     "output_type": "stream",
     "text": [
      "[CV 3/3; 73/150] END LR__C=0.31622776601683794, LR__penalty=l2, LR__solver=saga, imputer__n_neighbors=2; total time=   4.3s\n",
      "[CV 1/3; 74/150] START LR__C=0.31622776601683794, LR__penalty=l2, LR__solver=saga, imputer__n_neighbors=3\n"
     ]
    },
    {
     "name": "stderr",
     "output_type": "stream",
     "text": [
      "C:\\Users\\Matan\\anaconda3\\lib\\site-packages\\sklearn\\linear_model\\_sag.py:328: ConvergenceWarning: The max_iter was reached which means the coef_ did not converge\n",
      "  warnings.warn(\"The max_iter was reached which means \"\n"
     ]
    },
    {
     "name": "stdout",
     "output_type": "stream",
     "text": [
      "[CV 1/3; 74/150] END LR__C=0.31622776601683794, LR__penalty=l2, LR__solver=saga, imputer__n_neighbors=3; total time=   5.7s\n",
      "[CV 2/3; 74/150] START LR__C=0.31622776601683794, LR__penalty=l2, LR__solver=saga, imputer__n_neighbors=3\n"
     ]
    },
    {
     "name": "stderr",
     "output_type": "stream",
     "text": [
      "C:\\Users\\Matan\\anaconda3\\lib\\site-packages\\sklearn\\linear_model\\_sag.py:328: ConvergenceWarning: The max_iter was reached which means the coef_ did not converge\n",
      "  warnings.warn(\"The max_iter was reached which means \"\n"
     ]
    },
    {
     "name": "stdout",
     "output_type": "stream",
     "text": [
      "[CV 2/3; 74/150] END LR__C=0.31622776601683794, LR__penalty=l2, LR__solver=saga, imputer__n_neighbors=3; total time=   5.2s\n",
      "[CV 3/3; 74/150] START LR__C=0.31622776601683794, LR__penalty=l2, LR__solver=saga, imputer__n_neighbors=3\n"
     ]
    },
    {
     "name": "stderr",
     "output_type": "stream",
     "text": [
      "C:\\Users\\Matan\\anaconda3\\lib\\site-packages\\sklearn\\linear_model\\_sag.py:328: ConvergenceWarning: The max_iter was reached which means the coef_ did not converge\n",
      "  warnings.warn(\"The max_iter was reached which means \"\n"
     ]
    },
    {
     "name": "stdout",
     "output_type": "stream",
     "text": [
      "[CV 3/3; 74/150] END LR__C=0.31622776601683794, LR__penalty=l2, LR__solver=saga, imputer__n_neighbors=3; total time=   5.3s\n",
      "[CV 1/3; 75/150] START LR__C=0.31622776601683794, LR__penalty=l2, LR__solver=saga, imputer__n_neighbors=4\n"
     ]
    },
    {
     "name": "stderr",
     "output_type": "stream",
     "text": [
      "C:\\Users\\Matan\\anaconda3\\lib\\site-packages\\sklearn\\linear_model\\_sag.py:328: ConvergenceWarning: The max_iter was reached which means the coef_ did not converge\n",
      "  warnings.warn(\"The max_iter was reached which means \"\n"
     ]
    },
    {
     "name": "stdout",
     "output_type": "stream",
     "text": [
      "[CV 1/3; 75/150] END LR__C=0.31622776601683794, LR__penalty=l2, LR__solver=saga, imputer__n_neighbors=4; total time=   5.2s\n",
      "[CV 2/3; 75/150] START LR__C=0.31622776601683794, LR__penalty=l2, LR__solver=saga, imputer__n_neighbors=4\n"
     ]
    },
    {
     "name": "stderr",
     "output_type": "stream",
     "text": [
      "C:\\Users\\Matan\\anaconda3\\lib\\site-packages\\sklearn\\linear_model\\_sag.py:328: ConvergenceWarning: The max_iter was reached which means the coef_ did not converge\n",
      "  warnings.warn(\"The max_iter was reached which means \"\n"
     ]
    },
    {
     "name": "stdout",
     "output_type": "stream",
     "text": [
      "[CV 2/3; 75/150] END LR__C=0.31622776601683794, LR__penalty=l2, LR__solver=saga, imputer__n_neighbors=4; total time=   5.0s\n",
      "[CV 3/3; 75/150] START LR__C=0.31622776601683794, LR__penalty=l2, LR__solver=saga, imputer__n_neighbors=4\n"
     ]
    },
    {
     "name": "stderr",
     "output_type": "stream",
     "text": [
      "C:\\Users\\Matan\\anaconda3\\lib\\site-packages\\sklearn\\linear_model\\_sag.py:328: ConvergenceWarning: The max_iter was reached which means the coef_ did not converge\n",
      "  warnings.warn(\"The max_iter was reached which means \"\n"
     ]
    },
    {
     "name": "stdout",
     "output_type": "stream",
     "text": [
      "[CV 3/3; 75/150] END LR__C=0.31622776601683794, LR__penalty=l2, LR__solver=saga, imputer__n_neighbors=4; total time=   5.7s\n",
      "[CV 1/3; 76/150] START LR__C=0.31622776601683794, LR__penalty=l1, LR__solver=newton-cg, imputer__n_neighbors=2\n"
     ]
    },
    {
     "name": "stderr",
     "output_type": "stream",
     "text": [
      "C:\\Users\\Matan\\anaconda3\\lib\\site-packages\\sklearn\\model_selection\\_validation.py:610: FitFailedWarning: Estimator fit failed. The score on this train-test partition for these parameters will be set to nan. Details: \n",
      "Traceback (most recent call last):\n",
      "  File \"C:\\Users\\Matan\\anaconda3\\lib\\site-packages\\sklearn\\model_selection\\_validation.py\", line 593, in _fit_and_score\n",
      "    estimator.fit(X_train, y_train, **fit_params)\n",
      "  File \"C:\\Users\\Matan\\anaconda3\\lib\\site-packages\\sklearn\\pipeline.py\", line 346, in fit\n",
      "    self._final_estimator.fit(Xt, y, **fit_params_last_step)\n",
      "  File \"C:\\Users\\Matan\\anaconda3\\lib\\site-packages\\sklearn\\linear_model\\_logistic.py\", line 1306, in fit\n",
      "    solver = _check_solver(self.solver, self.penalty, self.dual)\n",
      "  File \"C:\\Users\\Matan\\anaconda3\\lib\\site-packages\\sklearn\\linear_model\\_logistic.py\", line 443, in _check_solver\n",
      "    raise ValueError(\"Solver %s supports only 'l2' or 'none' penalties, \"\n",
      "ValueError: Solver newton-cg supports only 'l2' or 'none' penalties, got l1 penalty.\n",
      "\n",
      "  warnings.warn(\"Estimator fit failed. The score on this train-test\"\n"
     ]
    },
    {
     "name": "stdout",
     "output_type": "stream",
     "text": [
      "[CV 1/3; 76/150] END LR__C=0.31622776601683794, LR__penalty=l1, LR__solver=newton-cg, imputer__n_neighbors=2; total time=   0.1s\n",
      "[CV 2/3; 76/150] START LR__C=0.31622776601683794, LR__penalty=l1, LR__solver=newton-cg, imputer__n_neighbors=2\n"
     ]
    },
    {
     "name": "stderr",
     "output_type": "stream",
     "text": [
      "C:\\Users\\Matan\\anaconda3\\lib\\site-packages\\sklearn\\model_selection\\_validation.py:610: FitFailedWarning: Estimator fit failed. The score on this train-test partition for these parameters will be set to nan. Details: \n",
      "Traceback (most recent call last):\n",
      "  File \"C:\\Users\\Matan\\anaconda3\\lib\\site-packages\\sklearn\\model_selection\\_validation.py\", line 593, in _fit_and_score\n",
      "    estimator.fit(X_train, y_train, **fit_params)\n",
      "  File \"C:\\Users\\Matan\\anaconda3\\lib\\site-packages\\sklearn\\pipeline.py\", line 346, in fit\n",
      "    self._final_estimator.fit(Xt, y, **fit_params_last_step)\n",
      "  File \"C:\\Users\\Matan\\anaconda3\\lib\\site-packages\\sklearn\\linear_model\\_logistic.py\", line 1306, in fit\n",
      "    solver = _check_solver(self.solver, self.penalty, self.dual)\n",
      "  File \"C:\\Users\\Matan\\anaconda3\\lib\\site-packages\\sklearn\\linear_model\\_logistic.py\", line 443, in _check_solver\n",
      "    raise ValueError(\"Solver %s supports only 'l2' or 'none' penalties, \"\n",
      "ValueError: Solver newton-cg supports only 'l2' or 'none' penalties, got l1 penalty.\n",
      "\n",
      "  warnings.warn(\"Estimator fit failed. The score on this train-test\"\n"
     ]
    },
    {
     "name": "stdout",
     "output_type": "stream",
     "text": [
      "[CV 2/3; 76/150] END LR__C=0.31622776601683794, LR__penalty=l1, LR__solver=newton-cg, imputer__n_neighbors=2; total time=   0.1s\n",
      "[CV 3/3; 76/150] START LR__C=0.31622776601683794, LR__penalty=l1, LR__solver=newton-cg, imputer__n_neighbors=2\n"
     ]
    },
    {
     "name": "stderr",
     "output_type": "stream",
     "text": [
      "C:\\Users\\Matan\\anaconda3\\lib\\site-packages\\sklearn\\model_selection\\_validation.py:610: FitFailedWarning: Estimator fit failed. The score on this train-test partition for these parameters will be set to nan. Details: \n",
      "Traceback (most recent call last):\n",
      "  File \"C:\\Users\\Matan\\anaconda3\\lib\\site-packages\\sklearn\\model_selection\\_validation.py\", line 593, in _fit_and_score\n",
      "    estimator.fit(X_train, y_train, **fit_params)\n",
      "  File \"C:\\Users\\Matan\\anaconda3\\lib\\site-packages\\sklearn\\pipeline.py\", line 346, in fit\n",
      "    self._final_estimator.fit(Xt, y, **fit_params_last_step)\n",
      "  File \"C:\\Users\\Matan\\anaconda3\\lib\\site-packages\\sklearn\\linear_model\\_logistic.py\", line 1306, in fit\n",
      "    solver = _check_solver(self.solver, self.penalty, self.dual)\n",
      "  File \"C:\\Users\\Matan\\anaconda3\\lib\\site-packages\\sklearn\\linear_model\\_logistic.py\", line 443, in _check_solver\n",
      "    raise ValueError(\"Solver %s supports only 'l2' or 'none' penalties, \"\n",
      "ValueError: Solver newton-cg supports only 'l2' or 'none' penalties, got l1 penalty.\n",
      "\n",
      "  warnings.warn(\"Estimator fit failed. The score on this train-test\"\n"
     ]
    },
    {
     "name": "stdout",
     "output_type": "stream",
     "text": [
      "[CV 3/3; 76/150] END LR__C=0.31622776601683794, LR__penalty=l1, LR__solver=newton-cg, imputer__n_neighbors=2; total time=   0.1s\n",
      "[CV 1/3; 77/150] START LR__C=0.31622776601683794, LR__penalty=l1, LR__solver=newton-cg, imputer__n_neighbors=3\n"
     ]
    },
    {
     "name": "stderr",
     "output_type": "stream",
     "text": [
      "C:\\Users\\Matan\\anaconda3\\lib\\site-packages\\sklearn\\model_selection\\_validation.py:610: FitFailedWarning: Estimator fit failed. The score on this train-test partition for these parameters will be set to nan. Details: \n",
      "Traceback (most recent call last):\n",
      "  File \"C:\\Users\\Matan\\anaconda3\\lib\\site-packages\\sklearn\\model_selection\\_validation.py\", line 593, in _fit_and_score\n",
      "    estimator.fit(X_train, y_train, **fit_params)\n",
      "  File \"C:\\Users\\Matan\\anaconda3\\lib\\site-packages\\sklearn\\pipeline.py\", line 346, in fit\n",
      "    self._final_estimator.fit(Xt, y, **fit_params_last_step)\n",
      "  File \"C:\\Users\\Matan\\anaconda3\\lib\\site-packages\\sklearn\\linear_model\\_logistic.py\", line 1306, in fit\n",
      "    solver = _check_solver(self.solver, self.penalty, self.dual)\n",
      "  File \"C:\\Users\\Matan\\anaconda3\\lib\\site-packages\\sklearn\\linear_model\\_logistic.py\", line 443, in _check_solver\n",
      "    raise ValueError(\"Solver %s supports only 'l2' or 'none' penalties, \"\n",
      "ValueError: Solver newton-cg supports only 'l2' or 'none' penalties, got l1 penalty.\n",
      "\n",
      "  warnings.warn(\"Estimator fit failed. The score on this train-test\"\n"
     ]
    },
    {
     "name": "stdout",
     "output_type": "stream",
     "text": [
      "[CV 1/3; 77/150] END LR__C=0.31622776601683794, LR__penalty=l1, LR__solver=newton-cg, imputer__n_neighbors=3; total time=   0.1s\n",
      "[CV 2/3; 77/150] START LR__C=0.31622776601683794, LR__penalty=l1, LR__solver=newton-cg, imputer__n_neighbors=3\n"
     ]
    },
    {
     "name": "stderr",
     "output_type": "stream",
     "text": [
      "C:\\Users\\Matan\\anaconda3\\lib\\site-packages\\sklearn\\model_selection\\_validation.py:610: FitFailedWarning: Estimator fit failed. The score on this train-test partition for these parameters will be set to nan. Details: \n",
      "Traceback (most recent call last):\n",
      "  File \"C:\\Users\\Matan\\anaconda3\\lib\\site-packages\\sklearn\\model_selection\\_validation.py\", line 593, in _fit_and_score\n",
      "    estimator.fit(X_train, y_train, **fit_params)\n",
      "  File \"C:\\Users\\Matan\\anaconda3\\lib\\site-packages\\sklearn\\pipeline.py\", line 346, in fit\n",
      "    self._final_estimator.fit(Xt, y, **fit_params_last_step)\n",
      "  File \"C:\\Users\\Matan\\anaconda3\\lib\\site-packages\\sklearn\\linear_model\\_logistic.py\", line 1306, in fit\n",
      "    solver = _check_solver(self.solver, self.penalty, self.dual)\n",
      "  File \"C:\\Users\\Matan\\anaconda3\\lib\\site-packages\\sklearn\\linear_model\\_logistic.py\", line 443, in _check_solver\n",
      "    raise ValueError(\"Solver %s supports only 'l2' or 'none' penalties, \"\n",
      "ValueError: Solver newton-cg supports only 'l2' or 'none' penalties, got l1 penalty.\n",
      "\n",
      "  warnings.warn(\"Estimator fit failed. The score on this train-test\"\n",
      "C:\\Users\\Matan\\anaconda3\\lib\\site-packages\\sklearn\\model_selection\\_validation.py:610: FitFailedWarning: Estimator fit failed. The score on this train-test partition for these parameters will be set to nan. Details: \n",
      "Traceback (most recent call last):\n",
      "  File \"C:\\Users\\Matan\\anaconda3\\lib\\site-packages\\sklearn\\model_selection\\_validation.py\", line 593, in _fit_and_score\n",
      "    estimator.fit(X_train, y_train, **fit_params)\n",
      "  File \"C:\\Users\\Matan\\anaconda3\\lib\\site-packages\\sklearn\\pipeline.py\", line 346, in fit\n",
      "    self._final_estimator.fit(Xt, y, **fit_params_last_step)\n",
      "  File \"C:\\Users\\Matan\\anaconda3\\lib\\site-packages\\sklearn\\linear_model\\_logistic.py\", line 1306, in fit\n",
      "    solver = _check_solver(self.solver, self.penalty, self.dual)\n",
      "  File \"C:\\Users\\Matan\\anaconda3\\lib\\site-packages\\sklearn\\linear_model\\_logistic.py\", line 443, in _check_solver\n",
      "    raise ValueError(\"Solver %s supports only 'l2' or 'none' penalties, \"\n",
      "ValueError: Solver newton-cg supports only 'l2' or 'none' penalties, got l1 penalty.\n",
      "\n",
      "  warnings.warn(\"Estimator fit failed. The score on this train-test\"\n"
     ]
    },
    {
     "name": "stdout",
     "output_type": "stream",
     "text": [
      "[CV 2/3; 77/150] END LR__C=0.31622776601683794, LR__penalty=l1, LR__solver=newton-cg, imputer__n_neighbors=3; total time=   0.1s\n",
      "[CV 3/3; 77/150] START LR__C=0.31622776601683794, LR__penalty=l1, LR__solver=newton-cg, imputer__n_neighbors=3\n",
      "[CV 3/3; 77/150] END LR__C=0.31622776601683794, LR__penalty=l1, LR__solver=newton-cg, imputer__n_neighbors=3; total time=   0.1s\n",
      "[CV 1/3; 78/150] START LR__C=0.31622776601683794, LR__penalty=l1, LR__solver=newton-cg, imputer__n_neighbors=4\n"
     ]
    },
    {
     "name": "stderr",
     "output_type": "stream",
     "text": [
      "C:\\Users\\Matan\\anaconda3\\lib\\site-packages\\sklearn\\model_selection\\_validation.py:610: FitFailedWarning: Estimator fit failed. The score on this train-test partition for these parameters will be set to nan. Details: \n",
      "Traceback (most recent call last):\n",
      "  File \"C:\\Users\\Matan\\anaconda3\\lib\\site-packages\\sklearn\\model_selection\\_validation.py\", line 593, in _fit_and_score\n",
      "    estimator.fit(X_train, y_train, **fit_params)\n",
      "  File \"C:\\Users\\Matan\\anaconda3\\lib\\site-packages\\sklearn\\pipeline.py\", line 346, in fit\n",
      "    self._final_estimator.fit(Xt, y, **fit_params_last_step)\n",
      "  File \"C:\\Users\\Matan\\anaconda3\\lib\\site-packages\\sklearn\\linear_model\\_logistic.py\", line 1306, in fit\n",
      "    solver = _check_solver(self.solver, self.penalty, self.dual)\n",
      "  File \"C:\\Users\\Matan\\anaconda3\\lib\\site-packages\\sklearn\\linear_model\\_logistic.py\", line 443, in _check_solver\n",
      "    raise ValueError(\"Solver %s supports only 'l2' or 'none' penalties, \"\n",
      "ValueError: Solver newton-cg supports only 'l2' or 'none' penalties, got l1 penalty.\n",
      "\n",
      "  warnings.warn(\"Estimator fit failed. The score on this train-test\"\n"
     ]
    },
    {
     "name": "stdout",
     "output_type": "stream",
     "text": [
      "[CV 1/3; 78/150] END LR__C=0.31622776601683794, LR__penalty=l1, LR__solver=newton-cg, imputer__n_neighbors=4; total time=   0.1s\n",
      "[CV 2/3; 78/150] START LR__C=0.31622776601683794, LR__penalty=l1, LR__solver=newton-cg, imputer__n_neighbors=4\n"
     ]
    },
    {
     "name": "stderr",
     "output_type": "stream",
     "text": [
      "C:\\Users\\Matan\\anaconda3\\lib\\site-packages\\sklearn\\model_selection\\_validation.py:610: FitFailedWarning: Estimator fit failed. The score on this train-test partition for these parameters will be set to nan. Details: \n",
      "Traceback (most recent call last):\n",
      "  File \"C:\\Users\\Matan\\anaconda3\\lib\\site-packages\\sklearn\\model_selection\\_validation.py\", line 593, in _fit_and_score\n",
      "    estimator.fit(X_train, y_train, **fit_params)\n",
      "  File \"C:\\Users\\Matan\\anaconda3\\lib\\site-packages\\sklearn\\pipeline.py\", line 346, in fit\n",
      "    self._final_estimator.fit(Xt, y, **fit_params_last_step)\n",
      "  File \"C:\\Users\\Matan\\anaconda3\\lib\\site-packages\\sklearn\\linear_model\\_logistic.py\", line 1306, in fit\n",
      "    solver = _check_solver(self.solver, self.penalty, self.dual)\n",
      "  File \"C:\\Users\\Matan\\anaconda3\\lib\\site-packages\\sklearn\\linear_model\\_logistic.py\", line 443, in _check_solver\n",
      "    raise ValueError(\"Solver %s supports only 'l2' or 'none' penalties, \"\n",
      "ValueError: Solver newton-cg supports only 'l2' or 'none' penalties, got l1 penalty.\n",
      "\n",
      "  warnings.warn(\"Estimator fit failed. The score on this train-test\"\n"
     ]
    },
    {
     "name": "stdout",
     "output_type": "stream",
     "text": [
      "[CV 2/3; 78/150] END LR__C=0.31622776601683794, LR__penalty=l1, LR__solver=newton-cg, imputer__n_neighbors=4; total time=   0.3s\n",
      "[CV 3/3; 78/150] START LR__C=0.31622776601683794, LR__penalty=l1, LR__solver=newton-cg, imputer__n_neighbors=4\n"
     ]
    },
    {
     "name": "stderr",
     "output_type": "stream",
     "text": [
      "C:\\Users\\Matan\\anaconda3\\lib\\site-packages\\sklearn\\model_selection\\_validation.py:610: FitFailedWarning: Estimator fit failed. The score on this train-test partition for these parameters will be set to nan. Details: \n",
      "Traceback (most recent call last):\n",
      "  File \"C:\\Users\\Matan\\anaconda3\\lib\\site-packages\\sklearn\\model_selection\\_validation.py\", line 593, in _fit_and_score\n",
      "    estimator.fit(X_train, y_train, **fit_params)\n",
      "  File \"C:\\Users\\Matan\\anaconda3\\lib\\site-packages\\sklearn\\pipeline.py\", line 346, in fit\n",
      "    self._final_estimator.fit(Xt, y, **fit_params_last_step)\n",
      "  File \"C:\\Users\\Matan\\anaconda3\\lib\\site-packages\\sklearn\\linear_model\\_logistic.py\", line 1306, in fit\n",
      "    solver = _check_solver(self.solver, self.penalty, self.dual)\n",
      "  File \"C:\\Users\\Matan\\anaconda3\\lib\\site-packages\\sklearn\\linear_model\\_logistic.py\", line 443, in _check_solver\n",
      "    raise ValueError(\"Solver %s supports only 'l2' or 'none' penalties, \"\n",
      "ValueError: Solver newton-cg supports only 'l2' or 'none' penalties, got l1 penalty.\n",
      "\n",
      "  warnings.warn(\"Estimator fit failed. The score on this train-test\"\n"
     ]
    },
    {
     "name": "stdout",
     "output_type": "stream",
     "text": [
      "[CV 3/3; 78/150] END LR__C=0.31622776601683794, LR__penalty=l1, LR__solver=newton-cg, imputer__n_neighbors=4; total time=   0.2s\n",
      "[CV 1/3; 79/150] START LR__C=0.31622776601683794, LR__penalty=l1, LR__solver=lbfgs, imputer__n_neighbors=2\n"
     ]
    },
    {
     "name": "stderr",
     "output_type": "stream",
     "text": [
      "C:\\Users\\Matan\\anaconda3\\lib\\site-packages\\sklearn\\model_selection\\_validation.py:610: FitFailedWarning: Estimator fit failed. The score on this train-test partition for these parameters will be set to nan. Details: \n",
      "Traceback (most recent call last):\n",
      "  File \"C:\\Users\\Matan\\anaconda3\\lib\\site-packages\\sklearn\\model_selection\\_validation.py\", line 593, in _fit_and_score\n",
      "    estimator.fit(X_train, y_train, **fit_params)\n",
      "  File \"C:\\Users\\Matan\\anaconda3\\lib\\site-packages\\sklearn\\pipeline.py\", line 346, in fit\n",
      "    self._final_estimator.fit(Xt, y, **fit_params_last_step)\n",
      "  File \"C:\\Users\\Matan\\anaconda3\\lib\\site-packages\\sklearn\\linear_model\\_logistic.py\", line 1306, in fit\n",
      "    solver = _check_solver(self.solver, self.penalty, self.dual)\n",
      "  File \"C:\\Users\\Matan\\anaconda3\\lib\\site-packages\\sklearn\\linear_model\\_logistic.py\", line 443, in _check_solver\n",
      "    raise ValueError(\"Solver %s supports only 'l2' or 'none' penalties, \"\n",
      "ValueError: Solver lbfgs supports only 'l2' or 'none' penalties, got l1 penalty.\n",
      "\n",
      "  warnings.warn(\"Estimator fit failed. The score on this train-test\"\n"
     ]
    },
    {
     "name": "stdout",
     "output_type": "stream",
     "text": [
      "[CV 1/3; 79/150] END LR__C=0.31622776601683794, LR__penalty=l1, LR__solver=lbfgs, imputer__n_neighbors=2; total time=   0.2s\n",
      "[CV 2/3; 79/150] START LR__C=0.31622776601683794, LR__penalty=l1, LR__solver=lbfgs, imputer__n_neighbors=2\n"
     ]
    },
    {
     "name": "stderr",
     "output_type": "stream",
     "text": [
      "C:\\Users\\Matan\\anaconda3\\lib\\site-packages\\sklearn\\model_selection\\_validation.py:610: FitFailedWarning: Estimator fit failed. The score on this train-test partition for these parameters will be set to nan. Details: \n",
      "Traceback (most recent call last):\n",
      "  File \"C:\\Users\\Matan\\anaconda3\\lib\\site-packages\\sklearn\\model_selection\\_validation.py\", line 593, in _fit_and_score\n",
      "    estimator.fit(X_train, y_train, **fit_params)\n",
      "  File \"C:\\Users\\Matan\\anaconda3\\lib\\site-packages\\sklearn\\pipeline.py\", line 346, in fit\n",
      "    self._final_estimator.fit(Xt, y, **fit_params_last_step)\n",
      "  File \"C:\\Users\\Matan\\anaconda3\\lib\\site-packages\\sklearn\\linear_model\\_logistic.py\", line 1306, in fit\n",
      "    solver = _check_solver(self.solver, self.penalty, self.dual)\n",
      "  File \"C:\\Users\\Matan\\anaconda3\\lib\\site-packages\\sklearn\\linear_model\\_logistic.py\", line 443, in _check_solver\n",
      "    raise ValueError(\"Solver %s supports only 'l2' or 'none' penalties, \"\n",
      "ValueError: Solver lbfgs supports only 'l2' or 'none' penalties, got l1 penalty.\n",
      "\n",
      "  warnings.warn(\"Estimator fit failed. The score on this train-test\"\n"
     ]
    },
    {
     "name": "stdout",
     "output_type": "stream",
     "text": [
      "[CV 2/3; 79/150] END LR__C=0.31622776601683794, LR__penalty=l1, LR__solver=lbfgs, imputer__n_neighbors=2; total time=   0.2s\n",
      "[CV 3/3; 79/150] START LR__C=0.31622776601683794, LR__penalty=l1, LR__solver=lbfgs, imputer__n_neighbors=2\n"
     ]
    },
    {
     "name": "stderr",
     "output_type": "stream",
     "text": [
      "C:\\Users\\Matan\\anaconda3\\lib\\site-packages\\sklearn\\model_selection\\_validation.py:610: FitFailedWarning: Estimator fit failed. The score on this train-test partition for these parameters will be set to nan. Details: \n",
      "Traceback (most recent call last):\n",
      "  File \"C:\\Users\\Matan\\anaconda3\\lib\\site-packages\\sklearn\\model_selection\\_validation.py\", line 593, in _fit_and_score\n",
      "    estimator.fit(X_train, y_train, **fit_params)\n",
      "  File \"C:\\Users\\Matan\\anaconda3\\lib\\site-packages\\sklearn\\pipeline.py\", line 346, in fit\n",
      "    self._final_estimator.fit(Xt, y, **fit_params_last_step)\n",
      "  File \"C:\\Users\\Matan\\anaconda3\\lib\\site-packages\\sklearn\\linear_model\\_logistic.py\", line 1306, in fit\n",
      "    solver = _check_solver(self.solver, self.penalty, self.dual)\n",
      "  File \"C:\\Users\\Matan\\anaconda3\\lib\\site-packages\\sklearn\\linear_model\\_logistic.py\", line 443, in _check_solver\n",
      "    raise ValueError(\"Solver %s supports only 'l2' or 'none' penalties, \"\n",
      "ValueError: Solver lbfgs supports only 'l2' or 'none' penalties, got l1 penalty.\n",
      "\n",
      "  warnings.warn(\"Estimator fit failed. The score on this train-test\"\n"
     ]
    },
    {
     "name": "stdout",
     "output_type": "stream",
     "text": [
      "[CV 3/3; 79/150] END LR__C=0.31622776601683794, LR__penalty=l1, LR__solver=lbfgs, imputer__n_neighbors=2; total time=   0.2s\n",
      "[CV 1/3; 80/150] START LR__C=0.31622776601683794, LR__penalty=l1, LR__solver=lbfgs, imputer__n_neighbors=3\n"
     ]
    },
    {
     "name": "stderr",
     "output_type": "stream",
     "text": [
      "C:\\Users\\Matan\\anaconda3\\lib\\site-packages\\sklearn\\model_selection\\_validation.py:610: FitFailedWarning: Estimator fit failed. The score on this train-test partition for these parameters will be set to nan. Details: \n",
      "Traceback (most recent call last):\n",
      "  File \"C:\\Users\\Matan\\anaconda3\\lib\\site-packages\\sklearn\\model_selection\\_validation.py\", line 593, in _fit_and_score\n",
      "    estimator.fit(X_train, y_train, **fit_params)\n",
      "  File \"C:\\Users\\Matan\\anaconda3\\lib\\site-packages\\sklearn\\pipeline.py\", line 346, in fit\n",
      "    self._final_estimator.fit(Xt, y, **fit_params_last_step)\n",
      "  File \"C:\\Users\\Matan\\anaconda3\\lib\\site-packages\\sklearn\\linear_model\\_logistic.py\", line 1306, in fit\n",
      "    solver = _check_solver(self.solver, self.penalty, self.dual)\n",
      "  File \"C:\\Users\\Matan\\anaconda3\\lib\\site-packages\\sklearn\\linear_model\\_logistic.py\", line 443, in _check_solver\n",
      "    raise ValueError(\"Solver %s supports only 'l2' or 'none' penalties, \"\n",
      "ValueError: Solver lbfgs supports only 'l2' or 'none' penalties, got l1 penalty.\n",
      "\n",
      "  warnings.warn(\"Estimator fit failed. The score on this train-test\"\n"
     ]
    },
    {
     "name": "stdout",
     "output_type": "stream",
     "text": [
      "[CV 1/3; 80/150] END LR__C=0.31622776601683794, LR__penalty=l1, LR__solver=lbfgs, imputer__n_neighbors=3; total time=   0.2s\n",
      "[CV 2/3; 80/150] START LR__C=0.31622776601683794, LR__penalty=l1, LR__solver=lbfgs, imputer__n_neighbors=3\n"
     ]
    },
    {
     "name": "stderr",
     "output_type": "stream",
     "text": [
      "C:\\Users\\Matan\\anaconda3\\lib\\site-packages\\sklearn\\model_selection\\_validation.py:610: FitFailedWarning: Estimator fit failed. The score on this train-test partition for these parameters will be set to nan. Details: \n",
      "Traceback (most recent call last):\n",
      "  File \"C:\\Users\\Matan\\anaconda3\\lib\\site-packages\\sklearn\\model_selection\\_validation.py\", line 593, in _fit_and_score\n",
      "    estimator.fit(X_train, y_train, **fit_params)\n",
      "  File \"C:\\Users\\Matan\\anaconda3\\lib\\site-packages\\sklearn\\pipeline.py\", line 346, in fit\n",
      "    self._final_estimator.fit(Xt, y, **fit_params_last_step)\n",
      "  File \"C:\\Users\\Matan\\anaconda3\\lib\\site-packages\\sklearn\\linear_model\\_logistic.py\", line 1306, in fit\n",
      "    solver = _check_solver(self.solver, self.penalty, self.dual)\n",
      "  File \"C:\\Users\\Matan\\anaconda3\\lib\\site-packages\\sklearn\\linear_model\\_logistic.py\", line 443, in _check_solver\n",
      "    raise ValueError(\"Solver %s supports only 'l2' or 'none' penalties, \"\n",
      "ValueError: Solver lbfgs supports only 'l2' or 'none' penalties, got l1 penalty.\n",
      "\n",
      "  warnings.warn(\"Estimator fit failed. The score on this train-test\"\n"
     ]
    },
    {
     "name": "stdout",
     "output_type": "stream",
     "text": [
      "[CV 2/3; 80/150] END LR__C=0.31622776601683794, LR__penalty=l1, LR__solver=lbfgs, imputer__n_neighbors=3; total time=   0.3s\n",
      "[CV 3/3; 80/150] START LR__C=0.31622776601683794, LR__penalty=l1, LR__solver=lbfgs, imputer__n_neighbors=3\n"
     ]
    },
    {
     "name": "stderr",
     "output_type": "stream",
     "text": [
      "C:\\Users\\Matan\\anaconda3\\lib\\site-packages\\sklearn\\model_selection\\_validation.py:610: FitFailedWarning: Estimator fit failed. The score on this train-test partition for these parameters will be set to nan. Details: \n",
      "Traceback (most recent call last):\n",
      "  File \"C:\\Users\\Matan\\anaconda3\\lib\\site-packages\\sklearn\\model_selection\\_validation.py\", line 593, in _fit_and_score\n",
      "    estimator.fit(X_train, y_train, **fit_params)\n",
      "  File \"C:\\Users\\Matan\\anaconda3\\lib\\site-packages\\sklearn\\pipeline.py\", line 346, in fit\n",
      "    self._final_estimator.fit(Xt, y, **fit_params_last_step)\n",
      "  File \"C:\\Users\\Matan\\anaconda3\\lib\\site-packages\\sklearn\\linear_model\\_logistic.py\", line 1306, in fit\n",
      "    solver = _check_solver(self.solver, self.penalty, self.dual)\n",
      "  File \"C:\\Users\\Matan\\anaconda3\\lib\\site-packages\\sklearn\\linear_model\\_logistic.py\", line 443, in _check_solver\n",
      "    raise ValueError(\"Solver %s supports only 'l2' or 'none' penalties, \"\n",
      "ValueError: Solver lbfgs supports only 'l2' or 'none' penalties, got l1 penalty.\n",
      "\n",
      "  warnings.warn(\"Estimator fit failed. The score on this train-test\"\n"
     ]
    },
    {
     "name": "stdout",
     "output_type": "stream",
     "text": [
      "[CV 3/3; 80/150] END LR__C=0.31622776601683794, LR__penalty=l1, LR__solver=lbfgs, imputer__n_neighbors=3; total time=   0.2s\n",
      "[CV 1/3; 81/150] START LR__C=0.31622776601683794, LR__penalty=l1, LR__solver=lbfgs, imputer__n_neighbors=4\n"
     ]
    },
    {
     "name": "stderr",
     "output_type": "stream",
     "text": [
      "C:\\Users\\Matan\\anaconda3\\lib\\site-packages\\sklearn\\model_selection\\_validation.py:610: FitFailedWarning: Estimator fit failed. The score on this train-test partition for these parameters will be set to nan. Details: \n",
      "Traceback (most recent call last):\n",
      "  File \"C:\\Users\\Matan\\anaconda3\\lib\\site-packages\\sklearn\\model_selection\\_validation.py\", line 593, in _fit_and_score\n",
      "    estimator.fit(X_train, y_train, **fit_params)\n",
      "  File \"C:\\Users\\Matan\\anaconda3\\lib\\site-packages\\sklearn\\pipeline.py\", line 346, in fit\n",
      "    self._final_estimator.fit(Xt, y, **fit_params_last_step)\n",
      "  File \"C:\\Users\\Matan\\anaconda3\\lib\\site-packages\\sklearn\\linear_model\\_logistic.py\", line 1306, in fit\n",
      "    solver = _check_solver(self.solver, self.penalty, self.dual)\n",
      "  File \"C:\\Users\\Matan\\anaconda3\\lib\\site-packages\\sklearn\\linear_model\\_logistic.py\", line 443, in _check_solver\n",
      "    raise ValueError(\"Solver %s supports only 'l2' or 'none' penalties, \"\n",
      "ValueError: Solver lbfgs supports only 'l2' or 'none' penalties, got l1 penalty.\n",
      "\n",
      "  warnings.warn(\"Estimator fit failed. The score on this train-test\"\n"
     ]
    },
    {
     "name": "stdout",
     "output_type": "stream",
     "text": [
      "[CV 1/3; 81/150] END LR__C=0.31622776601683794, LR__penalty=l1, LR__solver=lbfgs, imputer__n_neighbors=4; total time=   0.3s\n",
      "[CV 2/3; 81/150] START LR__C=0.31622776601683794, LR__penalty=l1, LR__solver=lbfgs, imputer__n_neighbors=4\n"
     ]
    },
    {
     "name": "stderr",
     "output_type": "stream",
     "text": [
      "C:\\Users\\Matan\\anaconda3\\lib\\site-packages\\sklearn\\model_selection\\_validation.py:610: FitFailedWarning: Estimator fit failed. The score on this train-test partition for these parameters will be set to nan. Details: \n",
      "Traceback (most recent call last):\n",
      "  File \"C:\\Users\\Matan\\anaconda3\\lib\\site-packages\\sklearn\\model_selection\\_validation.py\", line 593, in _fit_and_score\n",
      "    estimator.fit(X_train, y_train, **fit_params)\n",
      "  File \"C:\\Users\\Matan\\anaconda3\\lib\\site-packages\\sklearn\\pipeline.py\", line 346, in fit\n",
      "    self._final_estimator.fit(Xt, y, **fit_params_last_step)\n",
      "  File \"C:\\Users\\Matan\\anaconda3\\lib\\site-packages\\sklearn\\linear_model\\_logistic.py\", line 1306, in fit\n",
      "    solver = _check_solver(self.solver, self.penalty, self.dual)\n",
      "  File \"C:\\Users\\Matan\\anaconda3\\lib\\site-packages\\sklearn\\linear_model\\_logistic.py\", line 443, in _check_solver\n",
      "    raise ValueError(\"Solver %s supports only 'l2' or 'none' penalties, \"\n",
      "ValueError: Solver lbfgs supports only 'l2' or 'none' penalties, got l1 penalty.\n",
      "\n",
      "  warnings.warn(\"Estimator fit failed. The score on this train-test\"\n"
     ]
    },
    {
     "name": "stdout",
     "output_type": "stream",
     "text": [
      "[CV 2/3; 81/150] END LR__C=0.31622776601683794, LR__penalty=l1, LR__solver=lbfgs, imputer__n_neighbors=4; total time=   0.3s\n",
      "[CV 3/3; 81/150] START LR__C=0.31622776601683794, LR__penalty=l1, LR__solver=lbfgs, imputer__n_neighbors=4\n"
     ]
    },
    {
     "name": "stderr",
     "output_type": "stream",
     "text": [
      "C:\\Users\\Matan\\anaconda3\\lib\\site-packages\\sklearn\\model_selection\\_validation.py:610: FitFailedWarning: Estimator fit failed. The score on this train-test partition for these parameters will be set to nan. Details: \n",
      "Traceback (most recent call last):\n",
      "  File \"C:\\Users\\Matan\\anaconda3\\lib\\site-packages\\sklearn\\model_selection\\_validation.py\", line 593, in _fit_and_score\n",
      "    estimator.fit(X_train, y_train, **fit_params)\n",
      "  File \"C:\\Users\\Matan\\anaconda3\\lib\\site-packages\\sklearn\\pipeline.py\", line 346, in fit\n",
      "    self._final_estimator.fit(Xt, y, **fit_params_last_step)\n",
      "  File \"C:\\Users\\Matan\\anaconda3\\lib\\site-packages\\sklearn\\linear_model\\_logistic.py\", line 1306, in fit\n",
      "    solver = _check_solver(self.solver, self.penalty, self.dual)\n",
      "  File \"C:\\Users\\Matan\\anaconda3\\lib\\site-packages\\sklearn\\linear_model\\_logistic.py\", line 443, in _check_solver\n",
      "    raise ValueError(\"Solver %s supports only 'l2' or 'none' penalties, \"\n",
      "ValueError: Solver lbfgs supports only 'l2' or 'none' penalties, got l1 penalty.\n",
      "\n",
      "  warnings.warn(\"Estimator fit failed. The score on this train-test\"\n"
     ]
    },
    {
     "name": "stdout",
     "output_type": "stream",
     "text": [
      "[CV 3/3; 81/150] END LR__C=0.31622776601683794, LR__penalty=l1, LR__solver=lbfgs, imputer__n_neighbors=4; total time=   0.1s\n",
      "[CV 1/3; 82/150] START LR__C=0.31622776601683794, LR__penalty=l1, LR__solver=liblinear, imputer__n_neighbors=2\n",
      "[CV 1/3; 82/150] END LR__C=0.31622776601683794, LR__penalty=l1, LR__solver=liblinear, imputer__n_neighbors=2; total time=   1.7s\n",
      "[CV 2/3; 82/150] START LR__C=0.31622776601683794, LR__penalty=l1, LR__solver=liblinear, imputer__n_neighbors=2\n",
      "[CV 2/3; 82/150] END LR__C=0.31622776601683794, LR__penalty=l1, LR__solver=liblinear, imputer__n_neighbors=2; total time=   3.6s\n",
      "[CV 3/3; 82/150] START LR__C=0.31622776601683794, LR__penalty=l1, LR__solver=liblinear, imputer__n_neighbors=2\n",
      "[CV 3/3; 82/150] END LR__C=0.31622776601683794, LR__penalty=l1, LR__solver=liblinear, imputer__n_neighbors=2; total time=   2.9s\n",
      "[CV 1/3; 83/150] START LR__C=0.31622776601683794, LR__penalty=l1, LR__solver=liblinear, imputer__n_neighbors=3\n",
      "[CV 1/3; 83/150] END LR__C=0.31622776601683794, LR__penalty=l1, LR__solver=liblinear, imputer__n_neighbors=3; total time=   2.9s\n",
      "[CV 2/3; 83/150] START LR__C=0.31622776601683794, LR__penalty=l1, LR__solver=liblinear, imputer__n_neighbors=3\n",
      "[CV 2/3; 83/150] END LR__C=0.31622776601683794, LR__penalty=l1, LR__solver=liblinear, imputer__n_neighbors=3; total time=   3.0s\n",
      "[CV 3/3; 83/150] START LR__C=0.31622776601683794, LR__penalty=l1, LR__solver=liblinear, imputer__n_neighbors=3\n",
      "[CV 3/3; 83/150] END LR__C=0.31622776601683794, LR__penalty=l1, LR__solver=liblinear, imputer__n_neighbors=3; total time=   2.9s\n",
      "[CV 1/3; 84/150] START LR__C=0.31622776601683794, LR__penalty=l1, LR__solver=liblinear, imputer__n_neighbors=4\n",
      "[CV 1/3; 84/150] END LR__C=0.31622776601683794, LR__penalty=l1, LR__solver=liblinear, imputer__n_neighbors=4; total time=   3.6s\n",
      "[CV 2/3; 84/150] START LR__C=0.31622776601683794, LR__penalty=l1, LR__solver=liblinear, imputer__n_neighbors=4\n",
      "[CV 2/3; 84/150] END LR__C=0.31622776601683794, LR__penalty=l1, LR__solver=liblinear, imputer__n_neighbors=4; total time=   2.1s\n",
      "[CV 3/3; 84/150] START LR__C=0.31622776601683794, LR__penalty=l1, LR__solver=liblinear, imputer__n_neighbors=4\n",
      "[CV 3/3; 84/150] END LR__C=0.31622776601683794, LR__penalty=l1, LR__solver=liblinear, imputer__n_neighbors=4; total time=   3.3s\n",
      "[CV 1/3; 85/150] START LR__C=0.31622776601683794, LR__penalty=l1, LR__solver=sag, imputer__n_neighbors=2\n"
     ]
    },
    {
     "name": "stderr",
     "output_type": "stream",
     "text": [
      "C:\\Users\\Matan\\anaconda3\\lib\\site-packages\\sklearn\\model_selection\\_validation.py:610: FitFailedWarning: Estimator fit failed. The score on this train-test partition for these parameters will be set to nan. Details: \n",
      "Traceback (most recent call last):\n",
      "  File \"C:\\Users\\Matan\\anaconda3\\lib\\site-packages\\sklearn\\model_selection\\_validation.py\", line 593, in _fit_and_score\n",
      "    estimator.fit(X_train, y_train, **fit_params)\n",
      "  File \"C:\\Users\\Matan\\anaconda3\\lib\\site-packages\\sklearn\\pipeline.py\", line 346, in fit\n",
      "    self._final_estimator.fit(Xt, y, **fit_params_last_step)\n",
      "  File \"C:\\Users\\Matan\\anaconda3\\lib\\site-packages\\sklearn\\linear_model\\_logistic.py\", line 1306, in fit\n",
      "    solver = _check_solver(self.solver, self.penalty, self.dual)\n",
      "  File \"C:\\Users\\Matan\\anaconda3\\lib\\site-packages\\sklearn\\linear_model\\_logistic.py\", line 443, in _check_solver\n",
      "    raise ValueError(\"Solver %s supports only 'l2' or 'none' penalties, \"\n",
      "ValueError: Solver sag supports only 'l2' or 'none' penalties, got l1 penalty.\n",
      "\n",
      "  warnings.warn(\"Estimator fit failed. The score on this train-test\"\n"
     ]
    },
    {
     "name": "stdout",
     "output_type": "stream",
     "text": [
      "[CV 1/3; 85/150] END LR__C=0.31622776601683794, LR__penalty=l1, LR__solver=sag, imputer__n_neighbors=2; total time=   0.1s\n",
      "[CV 2/3; 85/150] START LR__C=0.31622776601683794, LR__penalty=l1, LR__solver=sag, imputer__n_neighbors=2\n"
     ]
    },
    {
     "name": "stderr",
     "output_type": "stream",
     "text": [
      "C:\\Users\\Matan\\anaconda3\\lib\\site-packages\\sklearn\\model_selection\\_validation.py:610: FitFailedWarning: Estimator fit failed. The score on this train-test partition for these parameters will be set to nan. Details: \n",
      "Traceback (most recent call last):\n",
      "  File \"C:\\Users\\Matan\\anaconda3\\lib\\site-packages\\sklearn\\model_selection\\_validation.py\", line 593, in _fit_and_score\n",
      "    estimator.fit(X_train, y_train, **fit_params)\n",
      "  File \"C:\\Users\\Matan\\anaconda3\\lib\\site-packages\\sklearn\\pipeline.py\", line 346, in fit\n",
      "    self._final_estimator.fit(Xt, y, **fit_params_last_step)\n",
      "  File \"C:\\Users\\Matan\\anaconda3\\lib\\site-packages\\sklearn\\linear_model\\_logistic.py\", line 1306, in fit\n",
      "    solver = _check_solver(self.solver, self.penalty, self.dual)\n",
      "  File \"C:\\Users\\Matan\\anaconda3\\lib\\site-packages\\sklearn\\linear_model\\_logistic.py\", line 443, in _check_solver\n",
      "    raise ValueError(\"Solver %s supports only 'l2' or 'none' penalties, \"\n",
      "ValueError: Solver sag supports only 'l2' or 'none' penalties, got l1 penalty.\n",
      "\n",
      "  warnings.warn(\"Estimator fit failed. The score on this train-test\"\n",
      "C:\\Users\\Matan\\anaconda3\\lib\\site-packages\\sklearn\\model_selection\\_validation.py:610: FitFailedWarning: Estimator fit failed. The score on this train-test partition for these parameters will be set to nan. Details: \n",
      "Traceback (most recent call last):\n",
      "  File \"C:\\Users\\Matan\\anaconda3\\lib\\site-packages\\sklearn\\model_selection\\_validation.py\", line 593, in _fit_and_score\n",
      "    estimator.fit(X_train, y_train, **fit_params)\n",
      "  File \"C:\\Users\\Matan\\anaconda3\\lib\\site-packages\\sklearn\\pipeline.py\", line 346, in fit\n",
      "    self._final_estimator.fit(Xt, y, **fit_params_last_step)\n",
      "  File \"C:\\Users\\Matan\\anaconda3\\lib\\site-packages\\sklearn\\linear_model\\_logistic.py\", line 1306, in fit\n",
      "    solver = _check_solver(self.solver, self.penalty, self.dual)\n",
      "  File \"C:\\Users\\Matan\\anaconda3\\lib\\site-packages\\sklearn\\linear_model\\_logistic.py\", line 443, in _check_solver\n",
      "    raise ValueError(\"Solver %s supports only 'l2' or 'none' penalties, \"\n",
      "ValueError: Solver sag supports only 'l2' or 'none' penalties, got l1 penalty.\n",
      "\n",
      "  warnings.warn(\"Estimator fit failed. The score on this train-test\"\n"
     ]
    },
    {
     "name": "stdout",
     "output_type": "stream",
     "text": [
      "[CV 2/3; 85/150] END LR__C=0.31622776601683794, LR__penalty=l1, LR__solver=sag, imputer__n_neighbors=2; total time=   0.1s\n",
      "[CV 3/3; 85/150] START LR__C=0.31622776601683794, LR__penalty=l1, LR__solver=sag, imputer__n_neighbors=2\n",
      "[CV 3/3; 85/150] END LR__C=0.31622776601683794, LR__penalty=l1, LR__solver=sag, imputer__n_neighbors=2; total time=   0.1s\n",
      "[CV 1/3; 86/150] START LR__C=0.31622776601683794, LR__penalty=l1, LR__solver=sag, imputer__n_neighbors=3\n"
     ]
    },
    {
     "name": "stderr",
     "output_type": "stream",
     "text": [
      "C:\\Users\\Matan\\anaconda3\\lib\\site-packages\\sklearn\\model_selection\\_validation.py:610: FitFailedWarning: Estimator fit failed. The score on this train-test partition for these parameters will be set to nan. Details: \n",
      "Traceback (most recent call last):\n",
      "  File \"C:\\Users\\Matan\\anaconda3\\lib\\site-packages\\sklearn\\model_selection\\_validation.py\", line 593, in _fit_and_score\n",
      "    estimator.fit(X_train, y_train, **fit_params)\n",
      "  File \"C:\\Users\\Matan\\anaconda3\\lib\\site-packages\\sklearn\\pipeline.py\", line 346, in fit\n",
      "    self._final_estimator.fit(Xt, y, **fit_params_last_step)\n",
      "  File \"C:\\Users\\Matan\\anaconda3\\lib\\site-packages\\sklearn\\linear_model\\_logistic.py\", line 1306, in fit\n",
      "    solver = _check_solver(self.solver, self.penalty, self.dual)\n",
      "  File \"C:\\Users\\Matan\\anaconda3\\lib\\site-packages\\sklearn\\linear_model\\_logistic.py\", line 443, in _check_solver\n",
      "    raise ValueError(\"Solver %s supports only 'l2' or 'none' penalties, \"\n",
      "ValueError: Solver sag supports only 'l2' or 'none' penalties, got l1 penalty.\n",
      "\n",
      "  warnings.warn(\"Estimator fit failed. The score on this train-test\"\n"
     ]
    },
    {
     "name": "stdout",
     "output_type": "stream",
     "text": [
      "[CV 1/3; 86/150] END LR__C=0.31622776601683794, LR__penalty=l1, LR__solver=sag, imputer__n_neighbors=3; total time=   0.1s\n",
      "[CV 2/3; 86/150] START LR__C=0.31622776601683794, LR__penalty=l1, LR__solver=sag, imputer__n_neighbors=3\n"
     ]
    },
    {
     "name": "stderr",
     "output_type": "stream",
     "text": [
      "C:\\Users\\Matan\\anaconda3\\lib\\site-packages\\sklearn\\model_selection\\_validation.py:610: FitFailedWarning: Estimator fit failed. The score on this train-test partition for these parameters will be set to nan. Details: \n",
      "Traceback (most recent call last):\n",
      "  File \"C:\\Users\\Matan\\anaconda3\\lib\\site-packages\\sklearn\\model_selection\\_validation.py\", line 593, in _fit_and_score\n",
      "    estimator.fit(X_train, y_train, **fit_params)\n",
      "  File \"C:\\Users\\Matan\\anaconda3\\lib\\site-packages\\sklearn\\pipeline.py\", line 346, in fit\n",
      "    self._final_estimator.fit(Xt, y, **fit_params_last_step)\n",
      "  File \"C:\\Users\\Matan\\anaconda3\\lib\\site-packages\\sklearn\\linear_model\\_logistic.py\", line 1306, in fit\n",
      "    solver = _check_solver(self.solver, self.penalty, self.dual)\n",
      "  File \"C:\\Users\\Matan\\anaconda3\\lib\\site-packages\\sklearn\\linear_model\\_logistic.py\", line 443, in _check_solver\n",
      "    raise ValueError(\"Solver %s supports only 'l2' or 'none' penalties, \"\n",
      "ValueError: Solver sag supports only 'l2' or 'none' penalties, got l1 penalty.\n",
      "\n",
      "  warnings.warn(\"Estimator fit failed. The score on this train-test\"\n",
      "C:\\Users\\Matan\\anaconda3\\lib\\site-packages\\sklearn\\model_selection\\_validation.py:610: FitFailedWarning: Estimator fit failed. The score on this train-test partition for these parameters will be set to nan. Details: \n",
      "Traceback (most recent call last):\n",
      "  File \"C:\\Users\\Matan\\anaconda3\\lib\\site-packages\\sklearn\\model_selection\\_validation.py\", line 593, in _fit_and_score\n",
      "    estimator.fit(X_train, y_train, **fit_params)\n",
      "  File \"C:\\Users\\Matan\\anaconda3\\lib\\site-packages\\sklearn\\pipeline.py\", line 346, in fit\n",
      "    self._final_estimator.fit(Xt, y, **fit_params_last_step)\n",
      "  File \"C:\\Users\\Matan\\anaconda3\\lib\\site-packages\\sklearn\\linear_model\\_logistic.py\", line 1306, in fit\n",
      "    solver = _check_solver(self.solver, self.penalty, self.dual)\n",
      "  File \"C:\\Users\\Matan\\anaconda3\\lib\\site-packages\\sklearn\\linear_model\\_logistic.py\", line 443, in _check_solver\n",
      "    raise ValueError(\"Solver %s supports only 'l2' or 'none' penalties, \"\n",
      "ValueError: Solver sag supports only 'l2' or 'none' penalties, got l1 penalty.\n",
      "\n",
      "  warnings.warn(\"Estimator fit failed. The score on this train-test\"\n"
     ]
    },
    {
     "name": "stdout",
     "output_type": "stream",
     "text": [
      "[CV 2/3; 86/150] END LR__C=0.31622776601683794, LR__penalty=l1, LR__solver=sag, imputer__n_neighbors=3; total time=   0.1s\n",
      "[CV 3/3; 86/150] START LR__C=0.31622776601683794, LR__penalty=l1, LR__solver=sag, imputer__n_neighbors=3\n",
      "[CV 3/3; 86/150] END LR__C=0.31622776601683794, LR__penalty=l1, LR__solver=sag, imputer__n_neighbors=3; total time=   0.1s\n",
      "[CV 1/3; 87/150] START LR__C=0.31622776601683794, LR__penalty=l1, LR__solver=sag, imputer__n_neighbors=4\n"
     ]
    },
    {
     "name": "stderr",
     "output_type": "stream",
     "text": [
      "C:\\Users\\Matan\\anaconda3\\lib\\site-packages\\sklearn\\model_selection\\_validation.py:610: FitFailedWarning: Estimator fit failed. The score on this train-test partition for these parameters will be set to nan. Details: \n",
      "Traceback (most recent call last):\n",
      "  File \"C:\\Users\\Matan\\anaconda3\\lib\\site-packages\\sklearn\\model_selection\\_validation.py\", line 593, in _fit_and_score\n",
      "    estimator.fit(X_train, y_train, **fit_params)\n",
      "  File \"C:\\Users\\Matan\\anaconda3\\lib\\site-packages\\sklearn\\pipeline.py\", line 346, in fit\n",
      "    self._final_estimator.fit(Xt, y, **fit_params_last_step)\n",
      "  File \"C:\\Users\\Matan\\anaconda3\\lib\\site-packages\\sklearn\\linear_model\\_logistic.py\", line 1306, in fit\n",
      "    solver = _check_solver(self.solver, self.penalty, self.dual)\n",
      "  File \"C:\\Users\\Matan\\anaconda3\\lib\\site-packages\\sklearn\\linear_model\\_logistic.py\", line 443, in _check_solver\n",
      "    raise ValueError(\"Solver %s supports only 'l2' or 'none' penalties, \"\n",
      "ValueError: Solver sag supports only 'l2' or 'none' penalties, got l1 penalty.\n",
      "\n",
      "  warnings.warn(\"Estimator fit failed. The score on this train-test\"\n"
     ]
    },
    {
     "name": "stdout",
     "output_type": "stream",
     "text": [
      "[CV 1/3; 87/150] END LR__C=0.31622776601683794, LR__penalty=l1, LR__solver=sag, imputer__n_neighbors=4; total time=   0.2s\n",
      "[CV 2/3; 87/150] START LR__C=0.31622776601683794, LR__penalty=l1, LR__solver=sag, imputer__n_neighbors=4\n"
     ]
    },
    {
     "name": "stderr",
     "output_type": "stream",
     "text": [
      "C:\\Users\\Matan\\anaconda3\\lib\\site-packages\\sklearn\\model_selection\\_validation.py:610: FitFailedWarning: Estimator fit failed. The score on this train-test partition for these parameters will be set to nan. Details: \n",
      "Traceback (most recent call last):\n",
      "  File \"C:\\Users\\Matan\\anaconda3\\lib\\site-packages\\sklearn\\model_selection\\_validation.py\", line 593, in _fit_and_score\n",
      "    estimator.fit(X_train, y_train, **fit_params)\n",
      "  File \"C:\\Users\\Matan\\anaconda3\\lib\\site-packages\\sklearn\\pipeline.py\", line 346, in fit\n",
      "    self._final_estimator.fit(Xt, y, **fit_params_last_step)\n",
      "  File \"C:\\Users\\Matan\\anaconda3\\lib\\site-packages\\sklearn\\linear_model\\_logistic.py\", line 1306, in fit\n",
      "    solver = _check_solver(self.solver, self.penalty, self.dual)\n",
      "  File \"C:\\Users\\Matan\\anaconda3\\lib\\site-packages\\sklearn\\linear_model\\_logistic.py\", line 443, in _check_solver\n",
      "    raise ValueError(\"Solver %s supports only 'l2' or 'none' penalties, \"\n",
      "ValueError: Solver sag supports only 'l2' or 'none' penalties, got l1 penalty.\n",
      "\n",
      "  warnings.warn(\"Estimator fit failed. The score on this train-test\"\n"
     ]
    },
    {
     "name": "stdout",
     "output_type": "stream",
     "text": [
      "[CV 2/3; 87/150] END LR__C=0.31622776601683794, LR__penalty=l1, LR__solver=sag, imputer__n_neighbors=4; total time=   0.2s\n",
      "[CV 3/3; 87/150] START LR__C=0.31622776601683794, LR__penalty=l1, LR__solver=sag, imputer__n_neighbors=4\n"
     ]
    },
    {
     "name": "stderr",
     "output_type": "stream",
     "text": [
      "C:\\Users\\Matan\\anaconda3\\lib\\site-packages\\sklearn\\model_selection\\_validation.py:610: FitFailedWarning: Estimator fit failed. The score on this train-test partition for these parameters will be set to nan. Details: \n",
      "Traceback (most recent call last):\n",
      "  File \"C:\\Users\\Matan\\anaconda3\\lib\\site-packages\\sklearn\\model_selection\\_validation.py\", line 593, in _fit_and_score\n",
      "    estimator.fit(X_train, y_train, **fit_params)\n",
      "  File \"C:\\Users\\Matan\\anaconda3\\lib\\site-packages\\sklearn\\pipeline.py\", line 346, in fit\n",
      "    self._final_estimator.fit(Xt, y, **fit_params_last_step)\n",
      "  File \"C:\\Users\\Matan\\anaconda3\\lib\\site-packages\\sklearn\\linear_model\\_logistic.py\", line 1306, in fit\n",
      "    solver = _check_solver(self.solver, self.penalty, self.dual)\n",
      "  File \"C:\\Users\\Matan\\anaconda3\\lib\\site-packages\\sklearn\\linear_model\\_logistic.py\", line 443, in _check_solver\n",
      "    raise ValueError(\"Solver %s supports only 'l2' or 'none' penalties, \"\n",
      "ValueError: Solver sag supports only 'l2' or 'none' penalties, got l1 penalty.\n",
      "\n",
      "  warnings.warn(\"Estimator fit failed. The score on this train-test\"\n"
     ]
    },
    {
     "name": "stdout",
     "output_type": "stream",
     "text": [
      "[CV 3/3; 87/150] END LR__C=0.31622776601683794, LR__penalty=l1, LR__solver=sag, imputer__n_neighbors=4; total time=   0.2s\n",
      "[CV 1/3; 88/150] START LR__C=0.31622776601683794, LR__penalty=l1, LR__solver=saga, imputer__n_neighbors=2\n"
     ]
    },
    {
     "name": "stderr",
     "output_type": "stream",
     "text": [
      "C:\\Users\\Matan\\anaconda3\\lib\\site-packages\\sklearn\\linear_model\\_sag.py:328: ConvergenceWarning: The max_iter was reached which means the coef_ did not converge\n",
      "  warnings.warn(\"The max_iter was reached which means \"\n"
     ]
    },
    {
     "name": "stdout",
     "output_type": "stream",
     "text": [
      "[CV 1/3; 88/150] END LR__C=0.31622776601683794, LR__penalty=l1, LR__solver=saga, imputer__n_neighbors=2; total time=   8.6s\n",
      "[CV 2/3; 88/150] START LR__C=0.31622776601683794, LR__penalty=l1, LR__solver=saga, imputer__n_neighbors=2\n"
     ]
    },
    {
     "name": "stderr",
     "output_type": "stream",
     "text": [
      "C:\\Users\\Matan\\anaconda3\\lib\\site-packages\\sklearn\\linear_model\\_sag.py:328: ConvergenceWarning: The max_iter was reached which means the coef_ did not converge\n",
      "  warnings.warn(\"The max_iter was reached which means \"\n"
     ]
    },
    {
     "name": "stdout",
     "output_type": "stream",
     "text": [
      "[CV 2/3; 88/150] END LR__C=0.31622776601683794, LR__penalty=l1, LR__solver=saga, imputer__n_neighbors=2; total time=   9.0s\n",
      "[CV 3/3; 88/150] START LR__C=0.31622776601683794, LR__penalty=l1, LR__solver=saga, imputer__n_neighbors=2\n"
     ]
    },
    {
     "name": "stderr",
     "output_type": "stream",
     "text": [
      "C:\\Users\\Matan\\anaconda3\\lib\\site-packages\\sklearn\\linear_model\\_sag.py:328: ConvergenceWarning: The max_iter was reached which means the coef_ did not converge\n",
      "  warnings.warn(\"The max_iter was reached which means \"\n"
     ]
    },
    {
     "name": "stdout",
     "output_type": "stream",
     "text": [
      "[CV 3/3; 88/150] END LR__C=0.31622776601683794, LR__penalty=l1, LR__solver=saga, imputer__n_neighbors=2; total time=   8.0s\n",
      "[CV 1/3; 89/150] START LR__C=0.31622776601683794, LR__penalty=l1, LR__solver=saga, imputer__n_neighbors=3\n"
     ]
    },
    {
     "name": "stderr",
     "output_type": "stream",
     "text": [
      "C:\\Users\\Matan\\anaconda3\\lib\\site-packages\\sklearn\\linear_model\\_sag.py:328: ConvergenceWarning: The max_iter was reached which means the coef_ did not converge\n",
      "  warnings.warn(\"The max_iter was reached which means \"\n"
     ]
    },
    {
     "name": "stdout",
     "output_type": "stream",
     "text": [
      "[CV 1/3; 89/150] END LR__C=0.31622776601683794, LR__penalty=l1, LR__solver=saga, imputer__n_neighbors=3; total time=   8.2s\n",
      "[CV 2/3; 89/150] START LR__C=0.31622776601683794, LR__penalty=l1, LR__solver=saga, imputer__n_neighbors=3\n"
     ]
    },
    {
     "name": "stderr",
     "output_type": "stream",
     "text": [
      "C:\\Users\\Matan\\anaconda3\\lib\\site-packages\\sklearn\\linear_model\\_sag.py:328: ConvergenceWarning: The max_iter was reached which means the coef_ did not converge\n",
      "  warnings.warn(\"The max_iter was reached which means \"\n"
     ]
    },
    {
     "name": "stdout",
     "output_type": "stream",
     "text": [
      "[CV 2/3; 89/150] END LR__C=0.31622776601683794, LR__penalty=l1, LR__solver=saga, imputer__n_neighbors=3; total time=   8.4s\n",
      "[CV 3/3; 89/150] START LR__C=0.31622776601683794, LR__penalty=l1, LR__solver=saga, imputer__n_neighbors=3\n"
     ]
    },
    {
     "name": "stderr",
     "output_type": "stream",
     "text": [
      "C:\\Users\\Matan\\anaconda3\\lib\\site-packages\\sklearn\\linear_model\\_sag.py:328: ConvergenceWarning: The max_iter was reached which means the coef_ did not converge\n",
      "  warnings.warn(\"The max_iter was reached which means \"\n"
     ]
    },
    {
     "name": "stdout",
     "output_type": "stream",
     "text": [
      "[CV 3/3; 89/150] END LR__C=0.31622776601683794, LR__penalty=l1, LR__solver=saga, imputer__n_neighbors=3; total time=   7.7s\n",
      "[CV 1/3; 90/150] START LR__C=0.31622776601683794, LR__penalty=l1, LR__solver=saga, imputer__n_neighbors=4\n"
     ]
    },
    {
     "name": "stderr",
     "output_type": "stream",
     "text": [
      "C:\\Users\\Matan\\anaconda3\\lib\\site-packages\\sklearn\\linear_model\\_sag.py:328: ConvergenceWarning: The max_iter was reached which means the coef_ did not converge\n",
      "  warnings.warn(\"The max_iter was reached which means \"\n"
     ]
    },
    {
     "name": "stdout",
     "output_type": "stream",
     "text": [
      "[CV 1/3; 90/150] END LR__C=0.31622776601683794, LR__penalty=l1, LR__solver=saga, imputer__n_neighbors=4; total time=   8.1s\n",
      "[CV 2/3; 90/150] START LR__C=0.31622776601683794, LR__penalty=l1, LR__solver=saga, imputer__n_neighbors=4\n"
     ]
    },
    {
     "name": "stderr",
     "output_type": "stream",
     "text": [
      "C:\\Users\\Matan\\anaconda3\\lib\\site-packages\\sklearn\\linear_model\\_sag.py:328: ConvergenceWarning: The max_iter was reached which means the coef_ did not converge\n",
      "  warnings.warn(\"The max_iter was reached which means \"\n"
     ]
    },
    {
     "name": "stdout",
     "output_type": "stream",
     "text": [
      "[CV 2/3; 90/150] END LR__C=0.31622776601683794, LR__penalty=l1, LR__solver=saga, imputer__n_neighbors=4; total time=   7.9s\n",
      "[CV 3/3; 90/150] START LR__C=0.31622776601683794, LR__penalty=l1, LR__solver=saga, imputer__n_neighbors=4\n"
     ]
    },
    {
     "name": "stderr",
     "output_type": "stream",
     "text": [
      "C:\\Users\\Matan\\anaconda3\\lib\\site-packages\\sklearn\\linear_model\\_sag.py:328: ConvergenceWarning: The max_iter was reached which means the coef_ did not converge\n",
      "  warnings.warn(\"The max_iter was reached which means \"\n"
     ]
    },
    {
     "name": "stdout",
     "output_type": "stream",
     "text": [
      "[CV 3/3; 90/150] END LR__C=0.31622776601683794, LR__penalty=l1, LR__solver=saga, imputer__n_neighbors=4; total time=   8.4s\n",
      "[CV 1/3; 91/150] START LR__C=5.623413251903491, LR__penalty=l2, LR__solver=newton-cg, imputer__n_neighbors=2\n",
      "[CV 1/3; 91/150] END LR__C=5.623413251903491, LR__penalty=l2, LR__solver=newton-cg, imputer__n_neighbors=2; total time=  26.3s\n",
      "[CV 2/3; 91/150] START LR__C=5.623413251903491, LR__penalty=l2, LR__solver=newton-cg, imputer__n_neighbors=2\n",
      "[CV 2/3; 91/150] END LR__C=5.623413251903491, LR__penalty=l2, LR__solver=newton-cg, imputer__n_neighbors=2; total time=  23.1s\n",
      "[CV 3/3; 91/150] START LR__C=5.623413251903491, LR__penalty=l2, LR__solver=newton-cg, imputer__n_neighbors=2\n",
      "[CV 3/3; 91/150] END LR__C=5.623413251903491, LR__penalty=l2, LR__solver=newton-cg, imputer__n_neighbors=2; total time=  21.8s\n",
      "[CV 1/3; 92/150] START LR__C=5.623413251903491, LR__penalty=l2, LR__solver=newton-cg, imputer__n_neighbors=3\n",
      "[CV 1/3; 92/150] END LR__C=5.623413251903491, LR__penalty=l2, LR__solver=newton-cg, imputer__n_neighbors=3; total time=  28.8s\n",
      "[CV 2/3; 92/150] START LR__C=5.623413251903491, LR__penalty=l2, LR__solver=newton-cg, imputer__n_neighbors=3\n",
      "[CV 2/3; 92/150] END LR__C=5.623413251903491, LR__penalty=l2, LR__solver=newton-cg, imputer__n_neighbors=3; total time=  18.8s\n",
      "[CV 3/3; 92/150] START LR__C=5.623413251903491, LR__penalty=l2, LR__solver=newton-cg, imputer__n_neighbors=3\n",
      "[CV 3/3; 92/150] END LR__C=5.623413251903491, LR__penalty=l2, LR__solver=newton-cg, imputer__n_neighbors=3; total time=  24.0s\n",
      "[CV 1/3; 93/150] START LR__C=5.623413251903491, LR__penalty=l2, LR__solver=newton-cg, imputer__n_neighbors=4\n",
      "[CV 1/3; 93/150] END LR__C=5.623413251903491, LR__penalty=l2, LR__solver=newton-cg, imputer__n_neighbors=4; total time=  26.9s\n",
      "[CV 2/3; 93/150] START LR__C=5.623413251903491, LR__penalty=l2, LR__solver=newton-cg, imputer__n_neighbors=4\n",
      "[CV 2/3; 93/150] END LR__C=5.623413251903491, LR__penalty=l2, LR__solver=newton-cg, imputer__n_neighbors=4; total time=  20.4s\n",
      "[CV 3/3; 93/150] START LR__C=5.623413251903491, LR__penalty=l2, LR__solver=newton-cg, imputer__n_neighbors=4\n",
      "[CV 3/3; 93/150] END LR__C=5.623413251903491, LR__penalty=l2, LR__solver=newton-cg, imputer__n_neighbors=4; total time=  22.2s\n",
      "[CV 1/3; 94/150] START LR__C=5.623413251903491, LR__penalty=l2, LR__solver=lbfgs, imputer__n_neighbors=2\n"
     ]
    },
    {
     "name": "stderr",
     "output_type": "stream",
     "text": [
      "C:\\Users\\Matan\\anaconda3\\lib\\site-packages\\sklearn\\linear_model\\_logistic.py:763: ConvergenceWarning: lbfgs failed to converge (status=1):\n",
      "STOP: TOTAL NO. of ITERATIONS REACHED LIMIT.\n",
      "\n",
      "Increase the number of iterations (max_iter) or scale the data as shown in:\n",
      "    https://scikit-learn.org/stable/modules/preprocessing.html\n",
      "Please also refer to the documentation for alternative solver options:\n",
      "    https://scikit-learn.org/stable/modules/linear_model.html#logistic-regression\n",
      "  n_iter_i = _check_optimize_result(\n"
     ]
    },
    {
     "name": "stdout",
     "output_type": "stream",
     "text": [
      "[CV 1/3; 94/150] END LR__C=5.623413251903491, LR__penalty=l2, LR__solver=lbfgs, imputer__n_neighbors=2; total time=   4.9s\n",
      "[CV 2/3; 94/150] START LR__C=5.623413251903491, LR__penalty=l2, LR__solver=lbfgs, imputer__n_neighbors=2\n"
     ]
    },
    {
     "name": "stderr",
     "output_type": "stream",
     "text": [
      "C:\\Users\\Matan\\anaconda3\\lib\\site-packages\\sklearn\\linear_model\\_logistic.py:763: ConvergenceWarning: lbfgs failed to converge (status=1):\n",
      "STOP: TOTAL NO. of ITERATIONS REACHED LIMIT.\n",
      "\n",
      "Increase the number of iterations (max_iter) or scale the data as shown in:\n",
      "    https://scikit-learn.org/stable/modules/preprocessing.html\n",
      "Please also refer to the documentation for alternative solver options:\n",
      "    https://scikit-learn.org/stable/modules/linear_model.html#logistic-regression\n",
      "  n_iter_i = _check_optimize_result(\n"
     ]
    },
    {
     "name": "stdout",
     "output_type": "stream",
     "text": [
      "[CV 2/3; 94/150] END LR__C=5.623413251903491, LR__penalty=l2, LR__solver=lbfgs, imputer__n_neighbors=2; total time=   5.5s\n",
      "[CV 3/3; 94/150] START LR__C=5.623413251903491, LR__penalty=l2, LR__solver=lbfgs, imputer__n_neighbors=2\n"
     ]
    },
    {
     "name": "stderr",
     "output_type": "stream",
     "text": [
      "C:\\Users\\Matan\\anaconda3\\lib\\site-packages\\sklearn\\linear_model\\_logistic.py:763: ConvergenceWarning: lbfgs failed to converge (status=1):\n",
      "STOP: TOTAL NO. of ITERATIONS REACHED LIMIT.\n",
      "\n",
      "Increase the number of iterations (max_iter) or scale the data as shown in:\n",
      "    https://scikit-learn.org/stable/modules/preprocessing.html\n",
      "Please also refer to the documentation for alternative solver options:\n",
      "    https://scikit-learn.org/stable/modules/linear_model.html#logistic-regression\n",
      "  n_iter_i = _check_optimize_result(\n"
     ]
    },
    {
     "name": "stdout",
     "output_type": "stream",
     "text": [
      "[CV 3/3; 94/150] END LR__C=5.623413251903491, LR__penalty=l2, LR__solver=lbfgs, imputer__n_neighbors=2; total time=   5.1s\n",
      "[CV 1/3; 95/150] START LR__C=5.623413251903491, LR__penalty=l2, LR__solver=lbfgs, imputer__n_neighbors=3\n"
     ]
    },
    {
     "name": "stderr",
     "output_type": "stream",
     "text": [
      "C:\\Users\\Matan\\anaconda3\\lib\\site-packages\\sklearn\\linear_model\\_logistic.py:763: ConvergenceWarning: lbfgs failed to converge (status=1):\n",
      "STOP: TOTAL NO. of ITERATIONS REACHED LIMIT.\n",
      "\n",
      "Increase the number of iterations (max_iter) or scale the data as shown in:\n",
      "    https://scikit-learn.org/stable/modules/preprocessing.html\n",
      "Please also refer to the documentation for alternative solver options:\n",
      "    https://scikit-learn.org/stable/modules/linear_model.html#logistic-regression\n",
      "  n_iter_i = _check_optimize_result(\n"
     ]
    },
    {
     "name": "stdout",
     "output_type": "stream",
     "text": [
      "[CV 1/3; 95/150] END LR__C=5.623413251903491, LR__penalty=l2, LR__solver=lbfgs, imputer__n_neighbors=3; total time=   4.2s\n",
      "[CV 2/3; 95/150] START LR__C=5.623413251903491, LR__penalty=l2, LR__solver=lbfgs, imputer__n_neighbors=3\n"
     ]
    },
    {
     "name": "stderr",
     "output_type": "stream",
     "text": [
      "C:\\Users\\Matan\\anaconda3\\lib\\site-packages\\sklearn\\linear_model\\_logistic.py:763: ConvergenceWarning: lbfgs failed to converge (status=1):\n",
      "STOP: TOTAL NO. of ITERATIONS REACHED LIMIT.\n",
      "\n",
      "Increase the number of iterations (max_iter) or scale the data as shown in:\n",
      "    https://scikit-learn.org/stable/modules/preprocessing.html\n",
      "Please also refer to the documentation for alternative solver options:\n",
      "    https://scikit-learn.org/stable/modules/linear_model.html#logistic-regression\n",
      "  n_iter_i = _check_optimize_result(\n"
     ]
    },
    {
     "name": "stdout",
     "output_type": "stream",
     "text": [
      "[CV 2/3; 95/150] END LR__C=5.623413251903491, LR__penalty=l2, LR__solver=lbfgs, imputer__n_neighbors=3; total time=   4.3s\n",
      "[CV 3/3; 95/150] START LR__C=5.623413251903491, LR__penalty=l2, LR__solver=lbfgs, imputer__n_neighbors=3\n"
     ]
    },
    {
     "name": "stderr",
     "output_type": "stream",
     "text": [
      "C:\\Users\\Matan\\anaconda3\\lib\\site-packages\\sklearn\\linear_model\\_logistic.py:763: ConvergenceWarning: lbfgs failed to converge (status=1):\n",
      "STOP: TOTAL NO. of ITERATIONS REACHED LIMIT.\n",
      "\n",
      "Increase the number of iterations (max_iter) or scale the data as shown in:\n",
      "    https://scikit-learn.org/stable/modules/preprocessing.html\n",
      "Please also refer to the documentation for alternative solver options:\n",
      "    https://scikit-learn.org/stable/modules/linear_model.html#logistic-regression\n",
      "  n_iter_i = _check_optimize_result(\n"
     ]
    },
    {
     "name": "stdout",
     "output_type": "stream",
     "text": [
      "[CV 3/3; 95/150] END LR__C=5.623413251903491, LR__penalty=l2, LR__solver=lbfgs, imputer__n_neighbors=3; total time=   4.3s\n",
      "[CV 1/3; 96/150] START LR__C=5.623413251903491, LR__penalty=l2, LR__solver=lbfgs, imputer__n_neighbors=4\n"
     ]
    },
    {
     "name": "stderr",
     "output_type": "stream",
     "text": [
      "C:\\Users\\Matan\\anaconda3\\lib\\site-packages\\sklearn\\linear_model\\_logistic.py:763: ConvergenceWarning: lbfgs failed to converge (status=1):\n",
      "STOP: TOTAL NO. of ITERATIONS REACHED LIMIT.\n",
      "\n",
      "Increase the number of iterations (max_iter) or scale the data as shown in:\n",
      "    https://scikit-learn.org/stable/modules/preprocessing.html\n",
      "Please also refer to the documentation for alternative solver options:\n",
      "    https://scikit-learn.org/stable/modules/linear_model.html#logistic-regression\n",
      "  n_iter_i = _check_optimize_result(\n"
     ]
    },
    {
     "name": "stdout",
     "output_type": "stream",
     "text": [
      "[CV 1/3; 96/150] END LR__C=5.623413251903491, LR__penalty=l2, LR__solver=lbfgs, imputer__n_neighbors=4; total time=   4.9s\n",
      "[CV 2/3; 96/150] START LR__C=5.623413251903491, LR__penalty=l2, LR__solver=lbfgs, imputer__n_neighbors=4\n"
     ]
    },
    {
     "name": "stderr",
     "output_type": "stream",
     "text": [
      "C:\\Users\\Matan\\anaconda3\\lib\\site-packages\\sklearn\\linear_model\\_logistic.py:763: ConvergenceWarning: lbfgs failed to converge (status=1):\n",
      "STOP: TOTAL NO. of ITERATIONS REACHED LIMIT.\n",
      "\n",
      "Increase the number of iterations (max_iter) or scale the data as shown in:\n",
      "    https://scikit-learn.org/stable/modules/preprocessing.html\n",
      "Please also refer to the documentation for alternative solver options:\n",
      "    https://scikit-learn.org/stable/modules/linear_model.html#logistic-regression\n",
      "  n_iter_i = _check_optimize_result(\n"
     ]
    },
    {
     "name": "stdout",
     "output_type": "stream",
     "text": [
      "[CV 2/3; 96/150] END LR__C=5.623413251903491, LR__penalty=l2, LR__solver=lbfgs, imputer__n_neighbors=4; total time=   4.6s\n",
      "[CV 3/3; 96/150] START LR__C=5.623413251903491, LR__penalty=l2, LR__solver=lbfgs, imputer__n_neighbors=4\n"
     ]
    },
    {
     "name": "stderr",
     "output_type": "stream",
     "text": [
      "C:\\Users\\Matan\\anaconda3\\lib\\site-packages\\sklearn\\linear_model\\_logistic.py:763: ConvergenceWarning: lbfgs failed to converge (status=1):\n",
      "STOP: TOTAL NO. of ITERATIONS REACHED LIMIT.\n",
      "\n",
      "Increase the number of iterations (max_iter) or scale the data as shown in:\n",
      "    https://scikit-learn.org/stable/modules/preprocessing.html\n",
      "Please also refer to the documentation for alternative solver options:\n",
      "    https://scikit-learn.org/stable/modules/linear_model.html#logistic-regression\n",
      "  n_iter_i = _check_optimize_result(\n"
     ]
    },
    {
     "name": "stdout",
     "output_type": "stream",
     "text": [
      "[CV 3/3; 96/150] END LR__C=5.623413251903491, LR__penalty=l2, LR__solver=lbfgs, imputer__n_neighbors=4; total time=   6.4s\n",
      "[CV 1/3; 97/150] START LR__C=5.623413251903491, LR__penalty=l2, LR__solver=liblinear, imputer__n_neighbors=2\n",
      "[CV 1/3; 97/150] END LR__C=5.623413251903491, LR__penalty=l2, LR__solver=liblinear, imputer__n_neighbors=2; total time=   1.9s\n",
      "[CV 2/3; 97/150] START LR__C=5.623413251903491, LR__penalty=l2, LR__solver=liblinear, imputer__n_neighbors=2\n",
      "[CV 2/3; 97/150] END LR__C=5.623413251903491, LR__penalty=l2, LR__solver=liblinear, imputer__n_neighbors=2; total time=   1.9s\n",
      "[CV 3/3; 97/150] START LR__C=5.623413251903491, LR__penalty=l2, LR__solver=liblinear, imputer__n_neighbors=2\n",
      "[CV 3/3; 97/150] END LR__C=5.623413251903491, LR__penalty=l2, LR__solver=liblinear, imputer__n_neighbors=2; total time=   2.2s\n",
      "[CV 1/3; 98/150] START LR__C=5.623413251903491, LR__penalty=l2, LR__solver=liblinear, imputer__n_neighbors=3\n",
      "[CV 1/3; 98/150] END LR__C=5.623413251903491, LR__penalty=l2, LR__solver=liblinear, imputer__n_neighbors=3; total time=   1.9s\n",
      "[CV 2/3; 98/150] START LR__C=5.623413251903491, LR__penalty=l2, LR__solver=liblinear, imputer__n_neighbors=3\n",
      "[CV 2/3; 98/150] END LR__C=5.623413251903491, LR__penalty=l2, LR__solver=liblinear, imputer__n_neighbors=3; total time=   2.6s\n",
      "[CV 3/3; 98/150] START LR__C=5.623413251903491, LR__penalty=l2, LR__solver=liblinear, imputer__n_neighbors=3\n",
      "[CV 3/3; 98/150] END LR__C=5.623413251903491, LR__penalty=l2, LR__solver=liblinear, imputer__n_neighbors=3; total time=   1.4s\n",
      "[CV 1/3; 99/150] START LR__C=5.623413251903491, LR__penalty=l2, LR__solver=liblinear, imputer__n_neighbors=4\n",
      "[CV 1/3; 99/150] END LR__C=5.623413251903491, LR__penalty=l2, LR__solver=liblinear, imputer__n_neighbors=4; total time=   1.3s\n",
      "[CV 2/3; 99/150] START LR__C=5.623413251903491, LR__penalty=l2, LR__solver=liblinear, imputer__n_neighbors=4\n",
      "[CV 2/3; 99/150] END LR__C=5.623413251903491, LR__penalty=l2, LR__solver=liblinear, imputer__n_neighbors=4; total time=   2.4s\n",
      "[CV 3/3; 99/150] START LR__C=5.623413251903491, LR__penalty=l2, LR__solver=liblinear, imputer__n_neighbors=4\n",
      "[CV 3/3; 99/150] END LR__C=5.623413251903491, LR__penalty=l2, LR__solver=liblinear, imputer__n_neighbors=4; total time=   1.2s\n",
      "[CV 1/3; 100/150] START LR__C=5.623413251903491, LR__penalty=l2, LR__solver=sag, imputer__n_neighbors=2\n"
     ]
    },
    {
     "name": "stderr",
     "output_type": "stream",
     "text": [
      "C:\\Users\\Matan\\anaconda3\\lib\\site-packages\\sklearn\\linear_model\\_sag.py:328: ConvergenceWarning: The max_iter was reached which means the coef_ did not converge\n",
      "  warnings.warn(\"The max_iter was reached which means \"\n"
     ]
    },
    {
     "name": "stdout",
     "output_type": "stream",
     "text": [
      "[CV 1/3; 100/150] END LR__C=5.623413251903491, LR__penalty=l2, LR__solver=sag, imputer__n_neighbors=2; total time=   4.8s\n",
      "[CV 2/3; 100/150] START LR__C=5.623413251903491, LR__penalty=l2, LR__solver=sag, imputer__n_neighbors=2\n"
     ]
    },
    {
     "name": "stderr",
     "output_type": "stream",
     "text": [
      "C:\\Users\\Matan\\anaconda3\\lib\\site-packages\\sklearn\\linear_model\\_sag.py:328: ConvergenceWarning: The max_iter was reached which means the coef_ did not converge\n",
      "  warnings.warn(\"The max_iter was reached which means \"\n"
     ]
    },
    {
     "name": "stdout",
     "output_type": "stream",
     "text": [
      "[CV 2/3; 100/150] END LR__C=5.623413251903491, LR__penalty=l2, LR__solver=sag, imputer__n_neighbors=2; total time=   4.5s\n",
      "[CV 3/3; 100/150] START LR__C=5.623413251903491, LR__penalty=l2, LR__solver=sag, imputer__n_neighbors=2\n"
     ]
    },
    {
     "name": "stderr",
     "output_type": "stream",
     "text": [
      "C:\\Users\\Matan\\anaconda3\\lib\\site-packages\\sklearn\\linear_model\\_sag.py:328: ConvergenceWarning: The max_iter was reached which means the coef_ did not converge\n",
      "  warnings.warn(\"The max_iter was reached which means \"\n"
     ]
    },
    {
     "name": "stdout",
     "output_type": "stream",
     "text": [
      "[CV 3/3; 100/150] END LR__C=5.623413251903491, LR__penalty=l2, LR__solver=sag, imputer__n_neighbors=2; total time=   4.8s\n",
      "[CV 1/3; 101/150] START LR__C=5.623413251903491, LR__penalty=l2, LR__solver=sag, imputer__n_neighbors=3\n"
     ]
    },
    {
     "name": "stderr",
     "output_type": "stream",
     "text": [
      "C:\\Users\\Matan\\anaconda3\\lib\\site-packages\\sklearn\\linear_model\\_sag.py:328: ConvergenceWarning: The max_iter was reached which means the coef_ did not converge\n",
      "  warnings.warn(\"The max_iter was reached which means \"\n"
     ]
    },
    {
     "name": "stdout",
     "output_type": "stream",
     "text": [
      "[CV 1/3; 101/150] END LR__C=5.623413251903491, LR__penalty=l2, LR__solver=sag, imputer__n_neighbors=3; total time=   3.8s\n",
      "[CV 2/3; 101/150] START LR__C=5.623413251903491, LR__penalty=l2, LR__solver=sag, imputer__n_neighbors=3\n"
     ]
    },
    {
     "name": "stderr",
     "output_type": "stream",
     "text": [
      "C:\\Users\\Matan\\anaconda3\\lib\\site-packages\\sklearn\\linear_model\\_sag.py:328: ConvergenceWarning: The max_iter was reached which means the coef_ did not converge\n",
      "  warnings.warn(\"The max_iter was reached which means \"\n"
     ]
    },
    {
     "name": "stdout",
     "output_type": "stream",
     "text": [
      "[CV 2/3; 101/150] END LR__C=5.623413251903491, LR__penalty=l2, LR__solver=sag, imputer__n_neighbors=3; total time=   4.6s\n",
      "[CV 3/3; 101/150] START LR__C=5.623413251903491, LR__penalty=l2, LR__solver=sag, imputer__n_neighbors=3\n"
     ]
    },
    {
     "name": "stderr",
     "output_type": "stream",
     "text": [
      "C:\\Users\\Matan\\anaconda3\\lib\\site-packages\\sklearn\\linear_model\\_sag.py:328: ConvergenceWarning: The max_iter was reached which means the coef_ did not converge\n",
      "  warnings.warn(\"The max_iter was reached which means \"\n"
     ]
    },
    {
     "name": "stdout",
     "output_type": "stream",
     "text": [
      "[CV 3/3; 101/150] END LR__C=5.623413251903491, LR__penalty=l2, LR__solver=sag, imputer__n_neighbors=3; total time=   5.2s\n",
      "[CV 1/3; 102/150] START LR__C=5.623413251903491, LR__penalty=l2, LR__solver=sag, imputer__n_neighbors=4\n"
     ]
    },
    {
     "name": "stderr",
     "output_type": "stream",
     "text": [
      "C:\\Users\\Matan\\anaconda3\\lib\\site-packages\\sklearn\\linear_model\\_sag.py:328: ConvergenceWarning: The max_iter was reached which means the coef_ did not converge\n",
      "  warnings.warn(\"The max_iter was reached which means \"\n"
     ]
    },
    {
     "name": "stdout",
     "output_type": "stream",
     "text": [
      "[CV 1/3; 102/150] END LR__C=5.623413251903491, LR__penalty=l2, LR__solver=sag, imputer__n_neighbors=4; total time=   4.2s\n",
      "[CV 2/3; 102/150] START LR__C=5.623413251903491, LR__penalty=l2, LR__solver=sag, imputer__n_neighbors=4\n"
     ]
    },
    {
     "name": "stderr",
     "output_type": "stream",
     "text": [
      "C:\\Users\\Matan\\anaconda3\\lib\\site-packages\\sklearn\\linear_model\\_sag.py:328: ConvergenceWarning: The max_iter was reached which means the coef_ did not converge\n",
      "  warnings.warn(\"The max_iter was reached which means \"\n"
     ]
    },
    {
     "name": "stdout",
     "output_type": "stream",
     "text": [
      "[CV 2/3; 102/150] END LR__C=5.623413251903491, LR__penalty=l2, LR__solver=sag, imputer__n_neighbors=4; total time=   3.5s\n",
      "[CV 3/3; 102/150] START LR__C=5.623413251903491, LR__penalty=l2, LR__solver=sag, imputer__n_neighbors=4\n"
     ]
    },
    {
     "name": "stderr",
     "output_type": "stream",
     "text": [
      "C:\\Users\\Matan\\anaconda3\\lib\\site-packages\\sklearn\\linear_model\\_sag.py:328: ConvergenceWarning: The max_iter was reached which means the coef_ did not converge\n",
      "  warnings.warn(\"The max_iter was reached which means \"\n"
     ]
    },
    {
     "name": "stdout",
     "output_type": "stream",
     "text": [
      "[CV 3/3; 102/150] END LR__C=5.623413251903491, LR__penalty=l2, LR__solver=sag, imputer__n_neighbors=4; total time=   4.1s\n",
      "[CV 1/3; 103/150] START LR__C=5.623413251903491, LR__penalty=l2, LR__solver=saga, imputer__n_neighbors=2\n"
     ]
    },
    {
     "name": "stderr",
     "output_type": "stream",
     "text": [
      "C:\\Users\\Matan\\anaconda3\\lib\\site-packages\\sklearn\\linear_model\\_sag.py:328: ConvergenceWarning: The max_iter was reached which means the coef_ did not converge\n",
      "  warnings.warn(\"The max_iter was reached which means \"\n"
     ]
    },
    {
     "name": "stdout",
     "output_type": "stream",
     "text": [
      "[CV 1/3; 103/150] END LR__C=5.623413251903491, LR__penalty=l2, LR__solver=saga, imputer__n_neighbors=2; total time=   5.5s\n",
      "[CV 2/3; 103/150] START LR__C=5.623413251903491, LR__penalty=l2, LR__solver=saga, imputer__n_neighbors=2\n"
     ]
    },
    {
     "name": "stderr",
     "output_type": "stream",
     "text": [
      "C:\\Users\\Matan\\anaconda3\\lib\\site-packages\\sklearn\\linear_model\\_sag.py:328: ConvergenceWarning: The max_iter was reached which means the coef_ did not converge\n",
      "  warnings.warn(\"The max_iter was reached which means \"\n"
     ]
    },
    {
     "name": "stdout",
     "output_type": "stream",
     "text": [
      "[CV 2/3; 103/150] END LR__C=5.623413251903491, LR__penalty=l2, LR__solver=saga, imputer__n_neighbors=2; total time=   5.9s\n",
      "[CV 3/3; 103/150] START LR__C=5.623413251903491, LR__penalty=l2, LR__solver=saga, imputer__n_neighbors=2\n"
     ]
    },
    {
     "name": "stderr",
     "output_type": "stream",
     "text": [
      "C:\\Users\\Matan\\anaconda3\\lib\\site-packages\\sklearn\\linear_model\\_sag.py:328: ConvergenceWarning: The max_iter was reached which means the coef_ did not converge\n",
      "  warnings.warn(\"The max_iter was reached which means \"\n"
     ]
    },
    {
     "name": "stdout",
     "output_type": "stream",
     "text": [
      "[CV 3/3; 103/150] END LR__C=5.623413251903491, LR__penalty=l2, LR__solver=saga, imputer__n_neighbors=2; total time=   5.3s\n",
      "[CV 1/3; 104/150] START LR__C=5.623413251903491, LR__penalty=l2, LR__solver=saga, imputer__n_neighbors=3\n"
     ]
    },
    {
     "name": "stderr",
     "output_type": "stream",
     "text": [
      "C:\\Users\\Matan\\anaconda3\\lib\\site-packages\\sklearn\\linear_model\\_sag.py:328: ConvergenceWarning: The max_iter was reached which means the coef_ did not converge\n",
      "  warnings.warn(\"The max_iter was reached which means \"\n"
     ]
    },
    {
     "name": "stdout",
     "output_type": "stream",
     "text": [
      "[CV 1/3; 104/150] END LR__C=5.623413251903491, LR__penalty=l2, LR__solver=saga, imputer__n_neighbors=3; total time=   5.2s\n",
      "[CV 2/3; 104/150] START LR__C=5.623413251903491, LR__penalty=l2, LR__solver=saga, imputer__n_neighbors=3\n"
     ]
    },
    {
     "name": "stderr",
     "output_type": "stream",
     "text": [
      "C:\\Users\\Matan\\anaconda3\\lib\\site-packages\\sklearn\\linear_model\\_sag.py:328: ConvergenceWarning: The max_iter was reached which means the coef_ did not converge\n",
      "  warnings.warn(\"The max_iter was reached which means \"\n"
     ]
    },
    {
     "name": "stdout",
     "output_type": "stream",
     "text": [
      "[CV 2/3; 104/150] END LR__C=5.623413251903491, LR__penalty=l2, LR__solver=saga, imputer__n_neighbors=3; total time=   5.1s\n",
      "[CV 3/3; 104/150] START LR__C=5.623413251903491, LR__penalty=l2, LR__solver=saga, imputer__n_neighbors=3\n"
     ]
    },
    {
     "name": "stderr",
     "output_type": "stream",
     "text": [
      "C:\\Users\\Matan\\anaconda3\\lib\\site-packages\\sklearn\\linear_model\\_sag.py:328: ConvergenceWarning: The max_iter was reached which means the coef_ did not converge\n",
      "  warnings.warn(\"The max_iter was reached which means \"\n"
     ]
    },
    {
     "name": "stdout",
     "output_type": "stream",
     "text": [
      "[CV 3/3; 104/150] END LR__C=5.623413251903491, LR__penalty=l2, LR__solver=saga, imputer__n_neighbors=3; total time=   5.1s\n",
      "[CV 1/3; 105/150] START LR__C=5.623413251903491, LR__penalty=l2, LR__solver=saga, imputer__n_neighbors=4\n"
     ]
    },
    {
     "name": "stderr",
     "output_type": "stream",
     "text": [
      "C:\\Users\\Matan\\anaconda3\\lib\\site-packages\\sklearn\\linear_model\\_sag.py:328: ConvergenceWarning: The max_iter was reached which means the coef_ did not converge\n",
      "  warnings.warn(\"The max_iter was reached which means \"\n"
     ]
    },
    {
     "name": "stdout",
     "output_type": "stream",
     "text": [
      "[CV 1/3; 105/150] END LR__C=5.623413251903491, LR__penalty=l2, LR__solver=saga, imputer__n_neighbors=4; total time=   4.9s\n",
      "[CV 2/3; 105/150] START LR__C=5.623413251903491, LR__penalty=l2, LR__solver=saga, imputer__n_neighbors=4\n"
     ]
    },
    {
     "name": "stderr",
     "output_type": "stream",
     "text": [
      "C:\\Users\\Matan\\anaconda3\\lib\\site-packages\\sklearn\\linear_model\\_sag.py:328: ConvergenceWarning: The max_iter was reached which means the coef_ did not converge\n",
      "  warnings.warn(\"The max_iter was reached which means \"\n"
     ]
    },
    {
     "name": "stdout",
     "output_type": "stream",
     "text": [
      "[CV 2/3; 105/150] END LR__C=5.623413251903491, LR__penalty=l2, LR__solver=saga, imputer__n_neighbors=4; total time=   5.6s\n",
      "[CV 3/3; 105/150] START LR__C=5.623413251903491, LR__penalty=l2, LR__solver=saga, imputer__n_neighbors=4\n"
     ]
    },
    {
     "name": "stderr",
     "output_type": "stream",
     "text": [
      "C:\\Users\\Matan\\anaconda3\\lib\\site-packages\\sklearn\\linear_model\\_sag.py:328: ConvergenceWarning: The max_iter was reached which means the coef_ did not converge\n",
      "  warnings.warn(\"The max_iter was reached which means \"\n"
     ]
    },
    {
     "name": "stdout",
     "output_type": "stream",
     "text": [
      "[CV 3/3; 105/150] END LR__C=5.623413251903491, LR__penalty=l2, LR__solver=saga, imputer__n_neighbors=4; total time=   5.5s\n",
      "[CV 1/3; 106/150] START LR__C=5.623413251903491, LR__penalty=l1, LR__solver=newton-cg, imputer__n_neighbors=2\n"
     ]
    },
    {
     "name": "stderr",
     "output_type": "stream",
     "text": [
      "C:\\Users\\Matan\\anaconda3\\lib\\site-packages\\sklearn\\model_selection\\_validation.py:610: FitFailedWarning: Estimator fit failed. The score on this train-test partition for these parameters will be set to nan. Details: \n",
      "Traceback (most recent call last):\n",
      "  File \"C:\\Users\\Matan\\anaconda3\\lib\\site-packages\\sklearn\\model_selection\\_validation.py\", line 593, in _fit_and_score\n",
      "    estimator.fit(X_train, y_train, **fit_params)\n",
      "  File \"C:\\Users\\Matan\\anaconda3\\lib\\site-packages\\sklearn\\pipeline.py\", line 346, in fit\n",
      "    self._final_estimator.fit(Xt, y, **fit_params_last_step)\n",
      "  File \"C:\\Users\\Matan\\anaconda3\\lib\\site-packages\\sklearn\\linear_model\\_logistic.py\", line 1306, in fit\n",
      "    solver = _check_solver(self.solver, self.penalty, self.dual)\n",
      "  File \"C:\\Users\\Matan\\anaconda3\\lib\\site-packages\\sklearn\\linear_model\\_logistic.py\", line 443, in _check_solver\n",
      "    raise ValueError(\"Solver %s supports only 'l2' or 'none' penalties, \"\n",
      "ValueError: Solver newton-cg supports only 'l2' or 'none' penalties, got l1 penalty.\n",
      "\n",
      "  warnings.warn(\"Estimator fit failed. The score on this train-test\"\n"
     ]
    },
    {
     "name": "stdout",
     "output_type": "stream",
     "text": [
      "[CV 1/3; 106/150] END LR__C=5.623413251903491, LR__penalty=l1, LR__solver=newton-cg, imputer__n_neighbors=2; total time=   0.2s\n",
      "[CV 2/3; 106/150] START LR__C=5.623413251903491, LR__penalty=l1, LR__solver=newton-cg, imputer__n_neighbors=2\n"
     ]
    },
    {
     "name": "stderr",
     "output_type": "stream",
     "text": [
      "C:\\Users\\Matan\\anaconda3\\lib\\site-packages\\sklearn\\model_selection\\_validation.py:610: FitFailedWarning: Estimator fit failed. The score on this train-test partition for these parameters will be set to nan. Details: \n",
      "Traceback (most recent call last):\n",
      "  File \"C:\\Users\\Matan\\anaconda3\\lib\\site-packages\\sklearn\\model_selection\\_validation.py\", line 593, in _fit_and_score\n",
      "    estimator.fit(X_train, y_train, **fit_params)\n",
      "  File \"C:\\Users\\Matan\\anaconda3\\lib\\site-packages\\sklearn\\pipeline.py\", line 346, in fit\n",
      "    self._final_estimator.fit(Xt, y, **fit_params_last_step)\n",
      "  File \"C:\\Users\\Matan\\anaconda3\\lib\\site-packages\\sklearn\\linear_model\\_logistic.py\", line 1306, in fit\n",
      "    solver = _check_solver(self.solver, self.penalty, self.dual)\n",
      "  File \"C:\\Users\\Matan\\anaconda3\\lib\\site-packages\\sklearn\\linear_model\\_logistic.py\", line 443, in _check_solver\n",
      "    raise ValueError(\"Solver %s supports only 'l2' or 'none' penalties, \"\n",
      "ValueError: Solver newton-cg supports only 'l2' or 'none' penalties, got l1 penalty.\n",
      "\n",
      "  warnings.warn(\"Estimator fit failed. The score on this train-test\"\n",
      "C:\\Users\\Matan\\anaconda3\\lib\\site-packages\\sklearn\\model_selection\\_validation.py:610: FitFailedWarning: Estimator fit failed. The score on this train-test partition for these parameters will be set to nan. Details: \n",
      "Traceback (most recent call last):\n",
      "  File \"C:\\Users\\Matan\\anaconda3\\lib\\site-packages\\sklearn\\model_selection\\_validation.py\", line 593, in _fit_and_score\n",
      "    estimator.fit(X_train, y_train, **fit_params)\n",
      "  File \"C:\\Users\\Matan\\anaconda3\\lib\\site-packages\\sklearn\\pipeline.py\", line 346, in fit\n",
      "    self._final_estimator.fit(Xt, y, **fit_params_last_step)\n",
      "  File \"C:\\Users\\Matan\\anaconda3\\lib\\site-packages\\sklearn\\linear_model\\_logistic.py\", line 1306, in fit\n",
      "    solver = _check_solver(self.solver, self.penalty, self.dual)\n",
      "  File \"C:\\Users\\Matan\\anaconda3\\lib\\site-packages\\sklearn\\linear_model\\_logistic.py\", line 443, in _check_solver\n",
      "    raise ValueError(\"Solver %s supports only 'l2' or 'none' penalties, \"\n",
      "ValueError: Solver newton-cg supports only 'l2' or 'none' penalties, got l1 penalty.\n",
      "\n",
      "  warnings.warn(\"Estimator fit failed. The score on this train-test\"\n"
     ]
    },
    {
     "name": "stdout",
     "output_type": "stream",
     "text": [
      "[CV 2/3; 106/150] END LR__C=5.623413251903491, LR__penalty=l1, LR__solver=newton-cg, imputer__n_neighbors=2; total time=   0.2s\n",
      "[CV 3/3; 106/150] START LR__C=5.623413251903491, LR__penalty=l1, LR__solver=newton-cg, imputer__n_neighbors=2\n",
      "[CV 3/3; 106/150] END LR__C=5.623413251903491, LR__penalty=l1, LR__solver=newton-cg, imputer__n_neighbors=2; total time=   0.1s\n",
      "[CV 1/3; 107/150] START LR__C=5.623413251903491, LR__penalty=l1, LR__solver=newton-cg, imputer__n_neighbors=3\n"
     ]
    },
    {
     "name": "stderr",
     "output_type": "stream",
     "text": [
      "C:\\Users\\Matan\\anaconda3\\lib\\site-packages\\sklearn\\model_selection\\_validation.py:610: FitFailedWarning: Estimator fit failed. The score on this train-test partition for these parameters will be set to nan. Details: \n",
      "Traceback (most recent call last):\n",
      "  File \"C:\\Users\\Matan\\anaconda3\\lib\\site-packages\\sklearn\\model_selection\\_validation.py\", line 593, in _fit_and_score\n",
      "    estimator.fit(X_train, y_train, **fit_params)\n",
      "  File \"C:\\Users\\Matan\\anaconda3\\lib\\site-packages\\sklearn\\pipeline.py\", line 346, in fit\n",
      "    self._final_estimator.fit(Xt, y, **fit_params_last_step)\n",
      "  File \"C:\\Users\\Matan\\anaconda3\\lib\\site-packages\\sklearn\\linear_model\\_logistic.py\", line 1306, in fit\n",
      "    solver = _check_solver(self.solver, self.penalty, self.dual)\n",
      "  File \"C:\\Users\\Matan\\anaconda3\\lib\\site-packages\\sklearn\\linear_model\\_logistic.py\", line 443, in _check_solver\n",
      "    raise ValueError(\"Solver %s supports only 'l2' or 'none' penalties, \"\n",
      "ValueError: Solver newton-cg supports only 'l2' or 'none' penalties, got l1 penalty.\n",
      "\n",
      "  warnings.warn(\"Estimator fit failed. The score on this train-test\"\n"
     ]
    },
    {
     "name": "stdout",
     "output_type": "stream",
     "text": [
      "[CV 1/3; 107/150] END LR__C=5.623413251903491, LR__penalty=l1, LR__solver=newton-cg, imputer__n_neighbors=3; total time=   0.1s\n",
      "[CV 2/3; 107/150] START LR__C=5.623413251903491, LR__penalty=l1, LR__solver=newton-cg, imputer__n_neighbors=3\n"
     ]
    },
    {
     "name": "stderr",
     "output_type": "stream",
     "text": [
      "C:\\Users\\Matan\\anaconda3\\lib\\site-packages\\sklearn\\model_selection\\_validation.py:610: FitFailedWarning: Estimator fit failed. The score on this train-test partition for these parameters will be set to nan. Details: \n",
      "Traceback (most recent call last):\n",
      "  File \"C:\\Users\\Matan\\anaconda3\\lib\\site-packages\\sklearn\\model_selection\\_validation.py\", line 593, in _fit_and_score\n",
      "    estimator.fit(X_train, y_train, **fit_params)\n",
      "  File \"C:\\Users\\Matan\\anaconda3\\lib\\site-packages\\sklearn\\pipeline.py\", line 346, in fit\n",
      "    self._final_estimator.fit(Xt, y, **fit_params_last_step)\n",
      "  File \"C:\\Users\\Matan\\anaconda3\\lib\\site-packages\\sklearn\\linear_model\\_logistic.py\", line 1306, in fit\n",
      "    solver = _check_solver(self.solver, self.penalty, self.dual)\n",
      "  File \"C:\\Users\\Matan\\anaconda3\\lib\\site-packages\\sklearn\\linear_model\\_logistic.py\", line 443, in _check_solver\n",
      "    raise ValueError(\"Solver %s supports only 'l2' or 'none' penalties, \"\n",
      "ValueError: Solver newton-cg supports only 'l2' or 'none' penalties, got l1 penalty.\n",
      "\n",
      "  warnings.warn(\"Estimator fit failed. The score on this train-test\"\n",
      "C:\\Users\\Matan\\anaconda3\\lib\\site-packages\\sklearn\\model_selection\\_validation.py:610: FitFailedWarning: Estimator fit failed. The score on this train-test partition for these parameters will be set to nan. Details: \n",
      "Traceback (most recent call last):\n",
      "  File \"C:\\Users\\Matan\\anaconda3\\lib\\site-packages\\sklearn\\model_selection\\_validation.py\", line 593, in _fit_and_score\n",
      "    estimator.fit(X_train, y_train, **fit_params)\n",
      "  File \"C:\\Users\\Matan\\anaconda3\\lib\\site-packages\\sklearn\\pipeline.py\", line 346, in fit\n",
      "    self._final_estimator.fit(Xt, y, **fit_params_last_step)\n",
      "  File \"C:\\Users\\Matan\\anaconda3\\lib\\site-packages\\sklearn\\linear_model\\_logistic.py\", line 1306, in fit\n",
      "    solver = _check_solver(self.solver, self.penalty, self.dual)\n",
      "  File \"C:\\Users\\Matan\\anaconda3\\lib\\site-packages\\sklearn\\linear_model\\_logistic.py\", line 443, in _check_solver\n",
      "    raise ValueError(\"Solver %s supports only 'l2' or 'none' penalties, \"\n",
      "ValueError: Solver newton-cg supports only 'l2' or 'none' penalties, got l1 penalty.\n",
      "\n",
      "  warnings.warn(\"Estimator fit failed. The score on this train-test\"\n"
     ]
    },
    {
     "name": "stdout",
     "output_type": "stream",
     "text": [
      "[CV 2/3; 107/150] END LR__C=5.623413251903491, LR__penalty=l1, LR__solver=newton-cg, imputer__n_neighbors=3; total time=   0.1s\n",
      "[CV 3/3; 107/150] START LR__C=5.623413251903491, LR__penalty=l1, LR__solver=newton-cg, imputer__n_neighbors=3\n",
      "[CV 3/3; 107/150] END LR__C=5.623413251903491, LR__penalty=l1, LR__solver=newton-cg, imputer__n_neighbors=3; total time=   0.1s\n",
      "[CV 1/3; 108/150] START LR__C=5.623413251903491, LR__penalty=l1, LR__solver=newton-cg, imputer__n_neighbors=4\n"
     ]
    },
    {
     "name": "stderr",
     "output_type": "stream",
     "text": [
      "C:\\Users\\Matan\\anaconda3\\lib\\site-packages\\sklearn\\model_selection\\_validation.py:610: FitFailedWarning: Estimator fit failed. The score on this train-test partition for these parameters will be set to nan. Details: \n",
      "Traceback (most recent call last):\n",
      "  File \"C:\\Users\\Matan\\anaconda3\\lib\\site-packages\\sklearn\\model_selection\\_validation.py\", line 593, in _fit_and_score\n",
      "    estimator.fit(X_train, y_train, **fit_params)\n",
      "  File \"C:\\Users\\Matan\\anaconda3\\lib\\site-packages\\sklearn\\pipeline.py\", line 346, in fit\n",
      "    self._final_estimator.fit(Xt, y, **fit_params_last_step)\n",
      "  File \"C:\\Users\\Matan\\anaconda3\\lib\\site-packages\\sklearn\\linear_model\\_logistic.py\", line 1306, in fit\n",
      "    solver = _check_solver(self.solver, self.penalty, self.dual)\n",
      "  File \"C:\\Users\\Matan\\anaconda3\\lib\\site-packages\\sklearn\\linear_model\\_logistic.py\", line 443, in _check_solver\n",
      "    raise ValueError(\"Solver %s supports only 'l2' or 'none' penalties, \"\n",
      "ValueError: Solver newton-cg supports only 'l2' or 'none' penalties, got l1 penalty.\n",
      "\n",
      "  warnings.warn(\"Estimator fit failed. The score on this train-test\"\n"
     ]
    },
    {
     "name": "stdout",
     "output_type": "stream",
     "text": [
      "[CV 1/3; 108/150] END LR__C=5.623413251903491, LR__penalty=l1, LR__solver=newton-cg, imputer__n_neighbors=4; total time=   0.1s\n",
      "[CV 2/3; 108/150] START LR__C=5.623413251903491, LR__penalty=l1, LR__solver=newton-cg, imputer__n_neighbors=4\n"
     ]
    },
    {
     "name": "stderr",
     "output_type": "stream",
     "text": [
      "C:\\Users\\Matan\\anaconda3\\lib\\site-packages\\sklearn\\model_selection\\_validation.py:610: FitFailedWarning: Estimator fit failed. The score on this train-test partition for these parameters will be set to nan. Details: \n",
      "Traceback (most recent call last):\n",
      "  File \"C:\\Users\\Matan\\anaconda3\\lib\\site-packages\\sklearn\\model_selection\\_validation.py\", line 593, in _fit_and_score\n",
      "    estimator.fit(X_train, y_train, **fit_params)\n",
      "  File \"C:\\Users\\Matan\\anaconda3\\lib\\site-packages\\sklearn\\pipeline.py\", line 346, in fit\n",
      "    self._final_estimator.fit(Xt, y, **fit_params_last_step)\n",
      "  File \"C:\\Users\\Matan\\anaconda3\\lib\\site-packages\\sklearn\\linear_model\\_logistic.py\", line 1306, in fit\n",
      "    solver = _check_solver(self.solver, self.penalty, self.dual)\n",
      "  File \"C:\\Users\\Matan\\anaconda3\\lib\\site-packages\\sklearn\\linear_model\\_logistic.py\", line 443, in _check_solver\n",
      "    raise ValueError(\"Solver %s supports only 'l2' or 'none' penalties, \"\n",
      "ValueError: Solver newton-cg supports only 'l2' or 'none' penalties, got l1 penalty.\n",
      "\n",
      "  warnings.warn(\"Estimator fit failed. The score on this train-test\"\n",
      "C:\\Users\\Matan\\anaconda3\\lib\\site-packages\\sklearn\\model_selection\\_validation.py:610: FitFailedWarning: Estimator fit failed. The score on this train-test partition for these parameters will be set to nan. Details: \n",
      "Traceback (most recent call last):\n",
      "  File \"C:\\Users\\Matan\\anaconda3\\lib\\site-packages\\sklearn\\model_selection\\_validation.py\", line 593, in _fit_and_score\n",
      "    estimator.fit(X_train, y_train, **fit_params)\n",
      "  File \"C:\\Users\\Matan\\anaconda3\\lib\\site-packages\\sklearn\\pipeline.py\", line 346, in fit\n",
      "    self._final_estimator.fit(Xt, y, **fit_params_last_step)\n",
      "  File \"C:\\Users\\Matan\\anaconda3\\lib\\site-packages\\sklearn\\linear_model\\_logistic.py\", line 1306, in fit\n",
      "    solver = _check_solver(self.solver, self.penalty, self.dual)\n",
      "  File \"C:\\Users\\Matan\\anaconda3\\lib\\site-packages\\sklearn\\linear_model\\_logistic.py\", line 443, in _check_solver\n",
      "    raise ValueError(\"Solver %s supports only 'l2' or 'none' penalties, \"\n",
      "ValueError: Solver newton-cg supports only 'l2' or 'none' penalties, got l1 penalty.\n",
      "\n",
      "  warnings.warn(\"Estimator fit failed. The score on this train-test\"\n"
     ]
    },
    {
     "name": "stdout",
     "output_type": "stream",
     "text": [
      "[CV 2/3; 108/150] END LR__C=5.623413251903491, LR__penalty=l1, LR__solver=newton-cg, imputer__n_neighbors=4; total time=   0.1s\n",
      "[CV 3/3; 108/150] START LR__C=5.623413251903491, LR__penalty=l1, LR__solver=newton-cg, imputer__n_neighbors=4\n",
      "[CV 3/3; 108/150] END LR__C=5.623413251903491, LR__penalty=l1, LR__solver=newton-cg, imputer__n_neighbors=4; total time=   0.1s\n",
      "[CV 1/3; 109/150] START LR__C=5.623413251903491, LR__penalty=l1, LR__solver=lbfgs, imputer__n_neighbors=2\n"
     ]
    },
    {
     "name": "stderr",
     "output_type": "stream",
     "text": [
      "C:\\Users\\Matan\\anaconda3\\lib\\site-packages\\sklearn\\model_selection\\_validation.py:610: FitFailedWarning: Estimator fit failed. The score on this train-test partition for these parameters will be set to nan. Details: \n",
      "Traceback (most recent call last):\n",
      "  File \"C:\\Users\\Matan\\anaconda3\\lib\\site-packages\\sklearn\\model_selection\\_validation.py\", line 593, in _fit_and_score\n",
      "    estimator.fit(X_train, y_train, **fit_params)\n",
      "  File \"C:\\Users\\Matan\\anaconda3\\lib\\site-packages\\sklearn\\pipeline.py\", line 346, in fit\n",
      "    self._final_estimator.fit(Xt, y, **fit_params_last_step)\n",
      "  File \"C:\\Users\\Matan\\anaconda3\\lib\\site-packages\\sklearn\\linear_model\\_logistic.py\", line 1306, in fit\n",
      "    solver = _check_solver(self.solver, self.penalty, self.dual)\n",
      "  File \"C:\\Users\\Matan\\anaconda3\\lib\\site-packages\\sklearn\\linear_model\\_logistic.py\", line 443, in _check_solver\n",
      "    raise ValueError(\"Solver %s supports only 'l2' or 'none' penalties, \"\n",
      "ValueError: Solver lbfgs supports only 'l2' or 'none' penalties, got l1 penalty.\n",
      "\n",
      "  warnings.warn(\"Estimator fit failed. The score on this train-test\"\n"
     ]
    },
    {
     "name": "stdout",
     "output_type": "stream",
     "text": [
      "[CV 1/3; 109/150] END LR__C=5.623413251903491, LR__penalty=l1, LR__solver=lbfgs, imputer__n_neighbors=2; total time=   0.1s\n",
      "[CV 2/3; 109/150] START LR__C=5.623413251903491, LR__penalty=l1, LR__solver=lbfgs, imputer__n_neighbors=2\n"
     ]
    },
    {
     "name": "stderr",
     "output_type": "stream",
     "text": [
      "C:\\Users\\Matan\\anaconda3\\lib\\site-packages\\sklearn\\model_selection\\_validation.py:610: FitFailedWarning: Estimator fit failed. The score on this train-test partition for these parameters will be set to nan. Details: \n",
      "Traceback (most recent call last):\n",
      "  File \"C:\\Users\\Matan\\anaconda3\\lib\\site-packages\\sklearn\\model_selection\\_validation.py\", line 593, in _fit_and_score\n",
      "    estimator.fit(X_train, y_train, **fit_params)\n",
      "  File \"C:\\Users\\Matan\\anaconda3\\lib\\site-packages\\sklearn\\pipeline.py\", line 346, in fit\n",
      "    self._final_estimator.fit(Xt, y, **fit_params_last_step)\n",
      "  File \"C:\\Users\\Matan\\anaconda3\\lib\\site-packages\\sklearn\\linear_model\\_logistic.py\", line 1306, in fit\n",
      "    solver = _check_solver(self.solver, self.penalty, self.dual)\n",
      "  File \"C:\\Users\\Matan\\anaconda3\\lib\\site-packages\\sklearn\\linear_model\\_logistic.py\", line 443, in _check_solver\n",
      "    raise ValueError(\"Solver %s supports only 'l2' or 'none' penalties, \"\n",
      "ValueError: Solver lbfgs supports only 'l2' or 'none' penalties, got l1 penalty.\n",
      "\n",
      "  warnings.warn(\"Estimator fit failed. The score on this train-test\"\n",
      "C:\\Users\\Matan\\anaconda3\\lib\\site-packages\\sklearn\\model_selection\\_validation.py:610: FitFailedWarning: Estimator fit failed. The score on this train-test partition for these parameters will be set to nan. Details: \n",
      "Traceback (most recent call last):\n",
      "  File \"C:\\Users\\Matan\\anaconda3\\lib\\site-packages\\sklearn\\model_selection\\_validation.py\", line 593, in _fit_and_score\n",
      "    estimator.fit(X_train, y_train, **fit_params)\n",
      "  File \"C:\\Users\\Matan\\anaconda3\\lib\\site-packages\\sklearn\\pipeline.py\", line 346, in fit\n",
      "    self._final_estimator.fit(Xt, y, **fit_params_last_step)\n",
      "  File \"C:\\Users\\Matan\\anaconda3\\lib\\site-packages\\sklearn\\linear_model\\_logistic.py\", line 1306, in fit\n",
      "    solver = _check_solver(self.solver, self.penalty, self.dual)\n",
      "  File \"C:\\Users\\Matan\\anaconda3\\lib\\site-packages\\sklearn\\linear_model\\_logistic.py\", line 443, in _check_solver\n",
      "    raise ValueError(\"Solver %s supports only 'l2' or 'none' penalties, \"\n",
      "ValueError: Solver lbfgs supports only 'l2' or 'none' penalties, got l1 penalty.\n",
      "\n",
      "  warnings.warn(\"Estimator fit failed. The score on this train-test\"\n"
     ]
    },
    {
     "name": "stdout",
     "output_type": "stream",
     "text": [
      "[CV 2/3; 109/150] END LR__C=5.623413251903491, LR__penalty=l1, LR__solver=lbfgs, imputer__n_neighbors=2; total time=   0.1s\n",
      "[CV 3/3; 109/150] START LR__C=5.623413251903491, LR__penalty=l1, LR__solver=lbfgs, imputer__n_neighbors=2\n"
     ]
    },
    {
     "name": "stderr",
     "output_type": "stream",
     "text": [
      "C:\\Users\\Matan\\anaconda3\\lib\\site-packages\\sklearn\\model_selection\\_validation.py:610: FitFailedWarning: Estimator fit failed. The score on this train-test partition for these parameters will be set to nan. Details: \n",
      "Traceback (most recent call last):\n",
      "  File \"C:\\Users\\Matan\\anaconda3\\lib\\site-packages\\sklearn\\model_selection\\_validation.py\", line 593, in _fit_and_score\n",
      "    estimator.fit(X_train, y_train, **fit_params)\n",
      "  File \"C:\\Users\\Matan\\anaconda3\\lib\\site-packages\\sklearn\\pipeline.py\", line 346, in fit\n",
      "    self._final_estimator.fit(Xt, y, **fit_params_last_step)\n",
      "  File \"C:\\Users\\Matan\\anaconda3\\lib\\site-packages\\sklearn\\linear_model\\_logistic.py\", line 1306, in fit\n",
      "    solver = _check_solver(self.solver, self.penalty, self.dual)\n",
      "  File \"C:\\Users\\Matan\\anaconda3\\lib\\site-packages\\sklearn\\linear_model\\_logistic.py\", line 443, in _check_solver\n",
      "    raise ValueError(\"Solver %s supports only 'l2' or 'none' penalties, \"\n",
      "ValueError: Solver lbfgs supports only 'l2' or 'none' penalties, got l1 penalty.\n",
      "\n",
      "  warnings.warn(\"Estimator fit failed. The score on this train-test\"\n"
     ]
    },
    {
     "name": "stdout",
     "output_type": "stream",
     "text": [
      "[CV 3/3; 109/150] END LR__C=5.623413251903491, LR__penalty=l1, LR__solver=lbfgs, imputer__n_neighbors=2; total time=   0.1s\n",
      "[CV 1/3; 110/150] START LR__C=5.623413251903491, LR__penalty=l1, LR__solver=lbfgs, imputer__n_neighbors=3\n",
      "[CV 1/3; 110/150] END LR__C=5.623413251903491, LR__penalty=l1, LR__solver=lbfgs, imputer__n_neighbors=3; total time=   0.1s\n",
      "[CV 2/3; 110/150] START LR__C=5.623413251903491, LR__penalty=l1, LR__solver=lbfgs, imputer__n_neighbors=3\n"
     ]
    },
    {
     "name": "stderr",
     "output_type": "stream",
     "text": [
      "C:\\Users\\Matan\\anaconda3\\lib\\site-packages\\sklearn\\model_selection\\_validation.py:610: FitFailedWarning: Estimator fit failed. The score on this train-test partition for these parameters will be set to nan. Details: \n",
      "Traceback (most recent call last):\n",
      "  File \"C:\\Users\\Matan\\anaconda3\\lib\\site-packages\\sklearn\\model_selection\\_validation.py\", line 593, in _fit_and_score\n",
      "    estimator.fit(X_train, y_train, **fit_params)\n",
      "  File \"C:\\Users\\Matan\\anaconda3\\lib\\site-packages\\sklearn\\pipeline.py\", line 346, in fit\n",
      "    self._final_estimator.fit(Xt, y, **fit_params_last_step)\n",
      "  File \"C:\\Users\\Matan\\anaconda3\\lib\\site-packages\\sklearn\\linear_model\\_logistic.py\", line 1306, in fit\n",
      "    solver = _check_solver(self.solver, self.penalty, self.dual)\n",
      "  File \"C:\\Users\\Matan\\anaconda3\\lib\\site-packages\\sklearn\\linear_model\\_logistic.py\", line 443, in _check_solver\n",
      "    raise ValueError(\"Solver %s supports only 'l2' or 'none' penalties, \"\n",
      "ValueError: Solver lbfgs supports only 'l2' or 'none' penalties, got l1 penalty.\n",
      "\n",
      "  warnings.warn(\"Estimator fit failed. The score on this train-test\"\n"
     ]
    },
    {
     "name": "stdout",
     "output_type": "stream",
     "text": [
      "[CV 2/3; 110/150] END LR__C=5.623413251903491, LR__penalty=l1, LR__solver=lbfgs, imputer__n_neighbors=3; total time=   0.2s\n",
      "[CV 3/3; 110/150] START LR__C=5.623413251903491, LR__penalty=l1, LR__solver=lbfgs, imputer__n_neighbors=3\n"
     ]
    },
    {
     "name": "stderr",
     "output_type": "stream",
     "text": [
      "C:\\Users\\Matan\\anaconda3\\lib\\site-packages\\sklearn\\model_selection\\_validation.py:610: FitFailedWarning: Estimator fit failed. The score on this train-test partition for these parameters will be set to nan. Details: \n",
      "Traceback (most recent call last):\n",
      "  File \"C:\\Users\\Matan\\anaconda3\\lib\\site-packages\\sklearn\\model_selection\\_validation.py\", line 593, in _fit_and_score\n",
      "    estimator.fit(X_train, y_train, **fit_params)\n",
      "  File \"C:\\Users\\Matan\\anaconda3\\lib\\site-packages\\sklearn\\pipeline.py\", line 346, in fit\n",
      "    self._final_estimator.fit(Xt, y, **fit_params_last_step)\n",
      "  File \"C:\\Users\\Matan\\anaconda3\\lib\\site-packages\\sklearn\\linear_model\\_logistic.py\", line 1306, in fit\n",
      "    solver = _check_solver(self.solver, self.penalty, self.dual)\n",
      "  File \"C:\\Users\\Matan\\anaconda3\\lib\\site-packages\\sklearn\\linear_model\\_logistic.py\", line 443, in _check_solver\n",
      "    raise ValueError(\"Solver %s supports only 'l2' or 'none' penalties, \"\n",
      "ValueError: Solver lbfgs supports only 'l2' or 'none' penalties, got l1 penalty.\n",
      "\n",
      "  warnings.warn(\"Estimator fit failed. The score on this train-test\"\n"
     ]
    },
    {
     "name": "stdout",
     "output_type": "stream",
     "text": [
      "[CV 3/3; 110/150] END LR__C=5.623413251903491, LR__penalty=l1, LR__solver=lbfgs, imputer__n_neighbors=3; total time=   0.2s\n",
      "[CV 1/3; 111/150] START LR__C=5.623413251903491, LR__penalty=l1, LR__solver=lbfgs, imputer__n_neighbors=4\n"
     ]
    },
    {
     "name": "stderr",
     "output_type": "stream",
     "text": [
      "C:\\Users\\Matan\\anaconda3\\lib\\site-packages\\sklearn\\model_selection\\_validation.py:610: FitFailedWarning: Estimator fit failed. The score on this train-test partition for these parameters will be set to nan. Details: \n",
      "Traceback (most recent call last):\n",
      "  File \"C:\\Users\\Matan\\anaconda3\\lib\\site-packages\\sklearn\\model_selection\\_validation.py\", line 593, in _fit_and_score\n",
      "    estimator.fit(X_train, y_train, **fit_params)\n",
      "  File \"C:\\Users\\Matan\\anaconda3\\lib\\site-packages\\sklearn\\pipeline.py\", line 346, in fit\n",
      "    self._final_estimator.fit(Xt, y, **fit_params_last_step)\n",
      "  File \"C:\\Users\\Matan\\anaconda3\\lib\\site-packages\\sklearn\\linear_model\\_logistic.py\", line 1306, in fit\n",
      "    solver = _check_solver(self.solver, self.penalty, self.dual)\n",
      "  File \"C:\\Users\\Matan\\anaconda3\\lib\\site-packages\\sklearn\\linear_model\\_logistic.py\", line 443, in _check_solver\n",
      "    raise ValueError(\"Solver %s supports only 'l2' or 'none' penalties, \"\n",
      "ValueError: Solver lbfgs supports only 'l2' or 'none' penalties, got l1 penalty.\n",
      "\n",
      "  warnings.warn(\"Estimator fit failed. The score on this train-test\"\n"
     ]
    },
    {
     "name": "stdout",
     "output_type": "stream",
     "text": [
      "[CV 1/3; 111/150] END LR__C=5.623413251903491, LR__penalty=l1, LR__solver=lbfgs, imputer__n_neighbors=4; total time=   0.2s\n",
      "[CV 2/3; 111/150] START LR__C=5.623413251903491, LR__penalty=l1, LR__solver=lbfgs, imputer__n_neighbors=4\n"
     ]
    },
    {
     "name": "stderr",
     "output_type": "stream",
     "text": [
      "C:\\Users\\Matan\\anaconda3\\lib\\site-packages\\sklearn\\model_selection\\_validation.py:610: FitFailedWarning: Estimator fit failed. The score on this train-test partition for these parameters will be set to nan. Details: \n",
      "Traceback (most recent call last):\n",
      "  File \"C:\\Users\\Matan\\anaconda3\\lib\\site-packages\\sklearn\\model_selection\\_validation.py\", line 593, in _fit_and_score\n",
      "    estimator.fit(X_train, y_train, **fit_params)\n",
      "  File \"C:\\Users\\Matan\\anaconda3\\lib\\site-packages\\sklearn\\pipeline.py\", line 346, in fit\n",
      "    self._final_estimator.fit(Xt, y, **fit_params_last_step)\n",
      "  File \"C:\\Users\\Matan\\anaconda3\\lib\\site-packages\\sklearn\\linear_model\\_logistic.py\", line 1306, in fit\n",
      "    solver = _check_solver(self.solver, self.penalty, self.dual)\n",
      "  File \"C:\\Users\\Matan\\anaconda3\\lib\\site-packages\\sklearn\\linear_model\\_logistic.py\", line 443, in _check_solver\n",
      "    raise ValueError(\"Solver %s supports only 'l2' or 'none' penalties, \"\n",
      "ValueError: Solver lbfgs supports only 'l2' or 'none' penalties, got l1 penalty.\n",
      "\n",
      "  warnings.warn(\"Estimator fit failed. The score on this train-test\"\n"
     ]
    },
    {
     "name": "stdout",
     "output_type": "stream",
     "text": [
      "[CV 2/3; 111/150] END LR__C=5.623413251903491, LR__penalty=l1, LR__solver=lbfgs, imputer__n_neighbors=4; total time=   0.3s\n",
      "[CV 3/3; 111/150] START LR__C=5.623413251903491, LR__penalty=l1, LR__solver=lbfgs, imputer__n_neighbors=4\n"
     ]
    },
    {
     "name": "stderr",
     "output_type": "stream",
     "text": [
      "C:\\Users\\Matan\\anaconda3\\lib\\site-packages\\sklearn\\model_selection\\_validation.py:610: FitFailedWarning: Estimator fit failed. The score on this train-test partition for these parameters will be set to nan. Details: \n",
      "Traceback (most recent call last):\n",
      "  File \"C:\\Users\\Matan\\anaconda3\\lib\\site-packages\\sklearn\\model_selection\\_validation.py\", line 593, in _fit_and_score\n",
      "    estimator.fit(X_train, y_train, **fit_params)\n",
      "  File \"C:\\Users\\Matan\\anaconda3\\lib\\site-packages\\sklearn\\pipeline.py\", line 346, in fit\n",
      "    self._final_estimator.fit(Xt, y, **fit_params_last_step)\n",
      "  File \"C:\\Users\\Matan\\anaconda3\\lib\\site-packages\\sklearn\\linear_model\\_logistic.py\", line 1306, in fit\n",
      "    solver = _check_solver(self.solver, self.penalty, self.dual)\n",
      "  File \"C:\\Users\\Matan\\anaconda3\\lib\\site-packages\\sklearn\\linear_model\\_logistic.py\", line 443, in _check_solver\n",
      "    raise ValueError(\"Solver %s supports only 'l2' or 'none' penalties, \"\n",
      "ValueError: Solver lbfgs supports only 'l2' or 'none' penalties, got l1 penalty.\n",
      "\n",
      "  warnings.warn(\"Estimator fit failed. The score on this train-test\"\n"
     ]
    },
    {
     "name": "stdout",
     "output_type": "stream",
     "text": [
      "[CV 3/3; 111/150] END LR__C=5.623413251903491, LR__penalty=l1, LR__solver=lbfgs, imputer__n_neighbors=4; total time=   0.3s\n",
      "[CV 1/3; 112/150] START LR__C=5.623413251903491, LR__penalty=l1, LR__solver=liblinear, imputer__n_neighbors=2\n",
      "[CV 1/3; 112/150] END LR__C=5.623413251903491, LR__penalty=l1, LR__solver=liblinear, imputer__n_neighbors=2; total time= 1.4min\n",
      "[CV 2/3; 112/150] START LR__C=5.623413251903491, LR__penalty=l1, LR__solver=liblinear, imputer__n_neighbors=2\n",
      "[CV 2/3; 112/150] END LR__C=5.623413251903491, LR__penalty=l1, LR__solver=liblinear, imputer__n_neighbors=2; total time=  50.8s\n",
      "[CV 3/3; 112/150] START LR__C=5.623413251903491, LR__penalty=l1, LR__solver=liblinear, imputer__n_neighbors=2\n",
      "[CV 3/3; 112/150] END LR__C=5.623413251903491, LR__penalty=l1, LR__solver=liblinear, imputer__n_neighbors=2; total time= 1.1min\n",
      "[CV 1/3; 113/150] START LR__C=5.623413251903491, LR__penalty=l1, LR__solver=liblinear, imputer__n_neighbors=3\n",
      "[CV 1/3; 113/150] END LR__C=5.623413251903491, LR__penalty=l1, LR__solver=liblinear, imputer__n_neighbors=3; total time= 1.4min\n",
      "[CV 2/3; 113/150] START LR__C=5.623413251903491, LR__penalty=l1, LR__solver=liblinear, imputer__n_neighbors=3\n",
      "[CV 2/3; 113/150] END LR__C=5.623413251903491, LR__penalty=l1, LR__solver=liblinear, imputer__n_neighbors=3; total time=  51.4s\n",
      "[CV 3/3; 113/150] START LR__C=5.623413251903491, LR__penalty=l1, LR__solver=liblinear, imputer__n_neighbors=3\n",
      "[CV 3/3; 113/150] END LR__C=5.623413251903491, LR__penalty=l1, LR__solver=liblinear, imputer__n_neighbors=3; total time= 1.1min\n",
      "[CV 1/3; 114/150] START LR__C=5.623413251903491, LR__penalty=l1, LR__solver=liblinear, imputer__n_neighbors=4\n",
      "[CV 1/3; 114/150] END LR__C=5.623413251903491, LR__penalty=l1, LR__solver=liblinear, imputer__n_neighbors=4; total time= 1.4min\n",
      "[CV 2/3; 114/150] START LR__C=5.623413251903491, LR__penalty=l1, LR__solver=liblinear, imputer__n_neighbors=4\n",
      "[CV 2/3; 114/150] END LR__C=5.623413251903491, LR__penalty=l1, LR__solver=liblinear, imputer__n_neighbors=4; total time=  48.6s\n",
      "[CV 3/3; 114/150] START LR__C=5.623413251903491, LR__penalty=l1, LR__solver=liblinear, imputer__n_neighbors=4\n",
      "[CV 3/3; 114/150] END LR__C=5.623413251903491, LR__penalty=l1, LR__solver=liblinear, imputer__n_neighbors=4; total time= 1.0min\n",
      "[CV 1/3; 115/150] START LR__C=5.623413251903491, LR__penalty=l1, LR__solver=sag, imputer__n_neighbors=2\n"
     ]
    },
    {
     "name": "stderr",
     "output_type": "stream",
     "text": [
      "C:\\Users\\Matan\\anaconda3\\lib\\site-packages\\sklearn\\model_selection\\_validation.py:610: FitFailedWarning: Estimator fit failed. The score on this train-test partition for these parameters will be set to nan. Details: \n",
      "Traceback (most recent call last):\n",
      "  File \"C:\\Users\\Matan\\anaconda3\\lib\\site-packages\\sklearn\\model_selection\\_validation.py\", line 593, in _fit_and_score\n",
      "    estimator.fit(X_train, y_train, **fit_params)\n",
      "  File \"C:\\Users\\Matan\\anaconda3\\lib\\site-packages\\sklearn\\pipeline.py\", line 346, in fit\n",
      "    self._final_estimator.fit(Xt, y, **fit_params_last_step)\n",
      "  File \"C:\\Users\\Matan\\anaconda3\\lib\\site-packages\\sklearn\\linear_model\\_logistic.py\", line 1306, in fit\n",
      "    solver = _check_solver(self.solver, self.penalty, self.dual)\n",
      "  File \"C:\\Users\\Matan\\anaconda3\\lib\\site-packages\\sklearn\\linear_model\\_logistic.py\", line 443, in _check_solver\n",
      "    raise ValueError(\"Solver %s supports only 'l2' or 'none' penalties, \"\n",
      "ValueError: Solver sag supports only 'l2' or 'none' penalties, got l1 penalty.\n",
      "\n",
      "  warnings.warn(\"Estimator fit failed. The score on this train-test\"\n"
     ]
    },
    {
     "name": "stdout",
     "output_type": "stream",
     "text": [
      "[CV 1/3; 115/150] END LR__C=5.623413251903491, LR__penalty=l1, LR__solver=sag, imputer__n_neighbors=2; total time=   0.2s\n",
      "[CV 2/3; 115/150] START LR__C=5.623413251903491, LR__penalty=l1, LR__solver=sag, imputer__n_neighbors=2\n"
     ]
    },
    {
     "name": "stderr",
     "output_type": "stream",
     "text": [
      "C:\\Users\\Matan\\anaconda3\\lib\\site-packages\\sklearn\\model_selection\\_validation.py:610: FitFailedWarning: Estimator fit failed. The score on this train-test partition for these parameters will be set to nan. Details: \n",
      "Traceback (most recent call last):\n",
      "  File \"C:\\Users\\Matan\\anaconda3\\lib\\site-packages\\sklearn\\model_selection\\_validation.py\", line 593, in _fit_and_score\n",
      "    estimator.fit(X_train, y_train, **fit_params)\n",
      "  File \"C:\\Users\\Matan\\anaconda3\\lib\\site-packages\\sklearn\\pipeline.py\", line 346, in fit\n",
      "    self._final_estimator.fit(Xt, y, **fit_params_last_step)\n",
      "  File \"C:\\Users\\Matan\\anaconda3\\lib\\site-packages\\sklearn\\linear_model\\_logistic.py\", line 1306, in fit\n",
      "    solver = _check_solver(self.solver, self.penalty, self.dual)\n",
      "  File \"C:\\Users\\Matan\\anaconda3\\lib\\site-packages\\sklearn\\linear_model\\_logistic.py\", line 443, in _check_solver\n",
      "    raise ValueError(\"Solver %s supports only 'l2' or 'none' penalties, \"\n",
      "ValueError: Solver sag supports only 'l2' or 'none' penalties, got l1 penalty.\n",
      "\n",
      "  warnings.warn(\"Estimator fit failed. The score on this train-test\"\n"
     ]
    },
    {
     "name": "stdout",
     "output_type": "stream",
     "text": [
      "[CV 2/3; 115/150] END LR__C=5.623413251903491, LR__penalty=l1, LR__solver=sag, imputer__n_neighbors=2; total time=   0.2s\n",
      "[CV 3/3; 115/150] START LR__C=5.623413251903491, LR__penalty=l1, LR__solver=sag, imputer__n_neighbors=2\n"
     ]
    },
    {
     "name": "stderr",
     "output_type": "stream",
     "text": [
      "C:\\Users\\Matan\\anaconda3\\lib\\site-packages\\sklearn\\model_selection\\_validation.py:610: FitFailedWarning: Estimator fit failed. The score on this train-test partition for these parameters will be set to nan. Details: \n",
      "Traceback (most recent call last):\n",
      "  File \"C:\\Users\\Matan\\anaconda3\\lib\\site-packages\\sklearn\\model_selection\\_validation.py\", line 593, in _fit_and_score\n",
      "    estimator.fit(X_train, y_train, **fit_params)\n",
      "  File \"C:\\Users\\Matan\\anaconda3\\lib\\site-packages\\sklearn\\pipeline.py\", line 346, in fit\n",
      "    self._final_estimator.fit(Xt, y, **fit_params_last_step)\n",
      "  File \"C:\\Users\\Matan\\anaconda3\\lib\\site-packages\\sklearn\\linear_model\\_logistic.py\", line 1306, in fit\n",
      "    solver = _check_solver(self.solver, self.penalty, self.dual)\n",
      "  File \"C:\\Users\\Matan\\anaconda3\\lib\\site-packages\\sklearn\\linear_model\\_logistic.py\", line 443, in _check_solver\n",
      "    raise ValueError(\"Solver %s supports only 'l2' or 'none' penalties, \"\n",
      "ValueError: Solver sag supports only 'l2' or 'none' penalties, got l1 penalty.\n",
      "\n",
      "  warnings.warn(\"Estimator fit failed. The score on this train-test\"\n"
     ]
    },
    {
     "name": "stdout",
     "output_type": "stream",
     "text": [
      "[CV 3/3; 115/150] END LR__C=5.623413251903491, LR__penalty=l1, LR__solver=sag, imputer__n_neighbors=2; total time=   0.2s\n",
      "[CV 1/3; 116/150] START LR__C=5.623413251903491, LR__penalty=l1, LR__solver=sag, imputer__n_neighbors=3\n"
     ]
    },
    {
     "name": "stderr",
     "output_type": "stream",
     "text": [
      "C:\\Users\\Matan\\anaconda3\\lib\\site-packages\\sklearn\\model_selection\\_validation.py:610: FitFailedWarning: Estimator fit failed. The score on this train-test partition for these parameters will be set to nan. Details: \n",
      "Traceback (most recent call last):\n",
      "  File \"C:\\Users\\Matan\\anaconda3\\lib\\site-packages\\sklearn\\model_selection\\_validation.py\", line 593, in _fit_and_score\n",
      "    estimator.fit(X_train, y_train, **fit_params)\n",
      "  File \"C:\\Users\\Matan\\anaconda3\\lib\\site-packages\\sklearn\\pipeline.py\", line 346, in fit\n",
      "    self._final_estimator.fit(Xt, y, **fit_params_last_step)\n",
      "  File \"C:\\Users\\Matan\\anaconda3\\lib\\site-packages\\sklearn\\linear_model\\_logistic.py\", line 1306, in fit\n",
      "    solver = _check_solver(self.solver, self.penalty, self.dual)\n",
      "  File \"C:\\Users\\Matan\\anaconda3\\lib\\site-packages\\sklearn\\linear_model\\_logistic.py\", line 443, in _check_solver\n",
      "    raise ValueError(\"Solver %s supports only 'l2' or 'none' penalties, \"\n",
      "ValueError: Solver sag supports only 'l2' or 'none' penalties, got l1 penalty.\n",
      "\n",
      "  warnings.warn(\"Estimator fit failed. The score on this train-test\"\n"
     ]
    },
    {
     "name": "stdout",
     "output_type": "stream",
     "text": [
      "[CV 1/3; 116/150] END LR__C=5.623413251903491, LR__penalty=l1, LR__solver=sag, imputer__n_neighbors=3; total time=   0.2s\n",
      "[CV 2/3; 116/150] START LR__C=5.623413251903491, LR__penalty=l1, LR__solver=sag, imputer__n_neighbors=3\n"
     ]
    },
    {
     "name": "stderr",
     "output_type": "stream",
     "text": [
      "C:\\Users\\Matan\\anaconda3\\lib\\site-packages\\sklearn\\model_selection\\_validation.py:610: FitFailedWarning: Estimator fit failed. The score on this train-test partition for these parameters will be set to nan. Details: \n",
      "Traceback (most recent call last):\n",
      "  File \"C:\\Users\\Matan\\anaconda3\\lib\\site-packages\\sklearn\\model_selection\\_validation.py\", line 593, in _fit_and_score\n",
      "    estimator.fit(X_train, y_train, **fit_params)\n",
      "  File \"C:\\Users\\Matan\\anaconda3\\lib\\site-packages\\sklearn\\pipeline.py\", line 346, in fit\n",
      "    self._final_estimator.fit(Xt, y, **fit_params_last_step)\n",
      "  File \"C:\\Users\\Matan\\anaconda3\\lib\\site-packages\\sklearn\\linear_model\\_logistic.py\", line 1306, in fit\n",
      "    solver = _check_solver(self.solver, self.penalty, self.dual)\n",
      "  File \"C:\\Users\\Matan\\anaconda3\\lib\\site-packages\\sklearn\\linear_model\\_logistic.py\", line 443, in _check_solver\n",
      "    raise ValueError(\"Solver %s supports only 'l2' or 'none' penalties, \"\n",
      "ValueError: Solver sag supports only 'l2' or 'none' penalties, got l1 penalty.\n",
      "\n",
      "  warnings.warn(\"Estimator fit failed. The score on this train-test\"\n"
     ]
    },
    {
     "name": "stdout",
     "output_type": "stream",
     "text": [
      "[CV 2/3; 116/150] END LR__C=5.623413251903491, LR__penalty=l1, LR__solver=sag, imputer__n_neighbors=3; total time=   0.3s\n",
      "[CV 3/3; 116/150] START LR__C=5.623413251903491, LR__penalty=l1, LR__solver=sag, imputer__n_neighbors=3\n"
     ]
    },
    {
     "name": "stderr",
     "output_type": "stream",
     "text": [
      "C:\\Users\\Matan\\anaconda3\\lib\\site-packages\\sklearn\\model_selection\\_validation.py:610: FitFailedWarning: Estimator fit failed. The score on this train-test partition for these parameters will be set to nan. Details: \n",
      "Traceback (most recent call last):\n",
      "  File \"C:\\Users\\Matan\\anaconda3\\lib\\site-packages\\sklearn\\model_selection\\_validation.py\", line 593, in _fit_and_score\n",
      "    estimator.fit(X_train, y_train, **fit_params)\n",
      "  File \"C:\\Users\\Matan\\anaconda3\\lib\\site-packages\\sklearn\\pipeline.py\", line 346, in fit\n",
      "    self._final_estimator.fit(Xt, y, **fit_params_last_step)\n",
      "  File \"C:\\Users\\Matan\\anaconda3\\lib\\site-packages\\sklearn\\linear_model\\_logistic.py\", line 1306, in fit\n",
      "    solver = _check_solver(self.solver, self.penalty, self.dual)\n",
      "  File \"C:\\Users\\Matan\\anaconda3\\lib\\site-packages\\sklearn\\linear_model\\_logistic.py\", line 443, in _check_solver\n",
      "    raise ValueError(\"Solver %s supports only 'l2' or 'none' penalties, \"\n",
      "ValueError: Solver sag supports only 'l2' or 'none' penalties, got l1 penalty.\n",
      "\n",
      "  warnings.warn(\"Estimator fit failed. The score on this train-test\"\n"
     ]
    },
    {
     "name": "stdout",
     "output_type": "stream",
     "text": [
      "[CV 3/3; 116/150] END LR__C=5.623413251903491, LR__penalty=l1, LR__solver=sag, imputer__n_neighbors=3; total time=   0.2s\n",
      "[CV 1/3; 117/150] START LR__C=5.623413251903491, LR__penalty=l1, LR__solver=sag, imputer__n_neighbors=4\n"
     ]
    },
    {
     "name": "stderr",
     "output_type": "stream",
     "text": [
      "C:\\Users\\Matan\\anaconda3\\lib\\site-packages\\sklearn\\model_selection\\_validation.py:610: FitFailedWarning: Estimator fit failed. The score on this train-test partition for these parameters will be set to nan. Details: \n",
      "Traceback (most recent call last):\n",
      "  File \"C:\\Users\\Matan\\anaconda3\\lib\\site-packages\\sklearn\\model_selection\\_validation.py\", line 593, in _fit_and_score\n",
      "    estimator.fit(X_train, y_train, **fit_params)\n",
      "  File \"C:\\Users\\Matan\\anaconda3\\lib\\site-packages\\sklearn\\pipeline.py\", line 346, in fit\n",
      "    self._final_estimator.fit(Xt, y, **fit_params_last_step)\n",
      "  File \"C:\\Users\\Matan\\anaconda3\\lib\\site-packages\\sklearn\\linear_model\\_logistic.py\", line 1306, in fit\n",
      "    solver = _check_solver(self.solver, self.penalty, self.dual)\n",
      "  File \"C:\\Users\\Matan\\anaconda3\\lib\\site-packages\\sklearn\\linear_model\\_logistic.py\", line 443, in _check_solver\n",
      "    raise ValueError(\"Solver %s supports only 'l2' or 'none' penalties, \"\n",
      "ValueError: Solver sag supports only 'l2' or 'none' penalties, got l1 penalty.\n",
      "\n",
      "  warnings.warn(\"Estimator fit failed. The score on this train-test\"\n"
     ]
    },
    {
     "name": "stdout",
     "output_type": "stream",
     "text": [
      "[CV 1/3; 117/150] END LR__C=5.623413251903491, LR__penalty=l1, LR__solver=sag, imputer__n_neighbors=4; total time=   0.2s\n",
      "[CV 2/3; 117/150] START LR__C=5.623413251903491, LR__penalty=l1, LR__solver=sag, imputer__n_neighbors=4\n"
     ]
    },
    {
     "name": "stderr",
     "output_type": "stream",
     "text": [
      "C:\\Users\\Matan\\anaconda3\\lib\\site-packages\\sklearn\\model_selection\\_validation.py:610: FitFailedWarning: Estimator fit failed. The score on this train-test partition for these parameters will be set to nan. Details: \n",
      "Traceback (most recent call last):\n",
      "  File \"C:\\Users\\Matan\\anaconda3\\lib\\site-packages\\sklearn\\model_selection\\_validation.py\", line 593, in _fit_and_score\n",
      "    estimator.fit(X_train, y_train, **fit_params)\n",
      "  File \"C:\\Users\\Matan\\anaconda3\\lib\\site-packages\\sklearn\\pipeline.py\", line 346, in fit\n",
      "    self._final_estimator.fit(Xt, y, **fit_params_last_step)\n",
      "  File \"C:\\Users\\Matan\\anaconda3\\lib\\site-packages\\sklearn\\linear_model\\_logistic.py\", line 1306, in fit\n",
      "    solver = _check_solver(self.solver, self.penalty, self.dual)\n",
      "  File \"C:\\Users\\Matan\\anaconda3\\lib\\site-packages\\sklearn\\linear_model\\_logistic.py\", line 443, in _check_solver\n",
      "    raise ValueError(\"Solver %s supports only 'l2' or 'none' penalties, \"\n",
      "ValueError: Solver sag supports only 'l2' or 'none' penalties, got l1 penalty.\n",
      "\n",
      "  warnings.warn(\"Estimator fit failed. The score on this train-test\"\n"
     ]
    },
    {
     "name": "stdout",
     "output_type": "stream",
     "text": [
      "[CV 2/3; 117/150] END LR__C=5.623413251903491, LR__penalty=l1, LR__solver=sag, imputer__n_neighbors=4; total time=   0.2s\n",
      "[CV 3/3; 117/150] START LR__C=5.623413251903491, LR__penalty=l1, LR__solver=sag, imputer__n_neighbors=4\n"
     ]
    },
    {
     "name": "stderr",
     "output_type": "stream",
     "text": [
      "C:\\Users\\Matan\\anaconda3\\lib\\site-packages\\sklearn\\model_selection\\_validation.py:610: FitFailedWarning: Estimator fit failed. The score on this train-test partition for these parameters will be set to nan. Details: \n",
      "Traceback (most recent call last):\n",
      "  File \"C:\\Users\\Matan\\anaconda3\\lib\\site-packages\\sklearn\\model_selection\\_validation.py\", line 593, in _fit_and_score\n",
      "    estimator.fit(X_train, y_train, **fit_params)\n",
      "  File \"C:\\Users\\Matan\\anaconda3\\lib\\site-packages\\sklearn\\pipeline.py\", line 346, in fit\n",
      "    self._final_estimator.fit(Xt, y, **fit_params_last_step)\n",
      "  File \"C:\\Users\\Matan\\anaconda3\\lib\\site-packages\\sklearn\\linear_model\\_logistic.py\", line 1306, in fit\n",
      "    solver = _check_solver(self.solver, self.penalty, self.dual)\n",
      "  File \"C:\\Users\\Matan\\anaconda3\\lib\\site-packages\\sklearn\\linear_model\\_logistic.py\", line 443, in _check_solver\n",
      "    raise ValueError(\"Solver %s supports only 'l2' or 'none' penalties, \"\n",
      "ValueError: Solver sag supports only 'l2' or 'none' penalties, got l1 penalty.\n",
      "\n",
      "  warnings.warn(\"Estimator fit failed. The score on this train-test\"\n"
     ]
    },
    {
     "name": "stdout",
     "output_type": "stream",
     "text": [
      "[CV 3/3; 117/150] END LR__C=5.623413251903491, LR__penalty=l1, LR__solver=sag, imputer__n_neighbors=4; total time=   0.1s\n",
      "[CV 1/3; 118/150] START LR__C=5.623413251903491, LR__penalty=l1, LR__solver=saga, imputer__n_neighbors=2\n"
     ]
    },
    {
     "name": "stderr",
     "output_type": "stream",
     "text": [
      "C:\\Users\\Matan\\anaconda3\\lib\\site-packages\\sklearn\\linear_model\\_sag.py:328: ConvergenceWarning: The max_iter was reached which means the coef_ did not converge\n",
      "  warnings.warn(\"The max_iter was reached which means \"\n"
     ]
    },
    {
     "name": "stdout",
     "output_type": "stream",
     "text": [
      "[CV 1/3; 118/150] END LR__C=5.623413251903491, LR__penalty=l1, LR__solver=saga, imputer__n_neighbors=2; total time=   7.1s\n",
      "[CV 2/3; 118/150] START LR__C=5.623413251903491, LR__penalty=l1, LR__solver=saga, imputer__n_neighbors=2\n"
     ]
    },
    {
     "name": "stderr",
     "output_type": "stream",
     "text": [
      "C:\\Users\\Matan\\anaconda3\\lib\\site-packages\\sklearn\\linear_model\\_sag.py:328: ConvergenceWarning: The max_iter was reached which means the coef_ did not converge\n",
      "  warnings.warn(\"The max_iter was reached which means \"\n"
     ]
    },
    {
     "name": "stdout",
     "output_type": "stream",
     "text": [
      "[CV 2/3; 118/150] END LR__C=5.623413251903491, LR__penalty=l1, LR__solver=saga, imputer__n_neighbors=2; total time=   9.1s\n",
      "[CV 3/3; 118/150] START LR__C=5.623413251903491, LR__penalty=l1, LR__solver=saga, imputer__n_neighbors=2\n"
     ]
    },
    {
     "name": "stderr",
     "output_type": "stream",
     "text": [
      "C:\\Users\\Matan\\anaconda3\\lib\\site-packages\\sklearn\\linear_model\\_sag.py:328: ConvergenceWarning: The max_iter was reached which means the coef_ did not converge\n",
      "  warnings.warn(\"The max_iter was reached which means \"\n"
     ]
    },
    {
     "name": "stdout",
     "output_type": "stream",
     "text": [
      "[CV 3/3; 118/150] END LR__C=5.623413251903491, LR__penalty=l1, LR__solver=saga, imputer__n_neighbors=2; total time=   8.9s\n",
      "[CV 1/3; 119/150] START LR__C=5.623413251903491, LR__penalty=l1, LR__solver=saga, imputer__n_neighbors=3\n"
     ]
    },
    {
     "name": "stderr",
     "output_type": "stream",
     "text": [
      "C:\\Users\\Matan\\anaconda3\\lib\\site-packages\\sklearn\\linear_model\\_sag.py:328: ConvergenceWarning: The max_iter was reached which means the coef_ did not converge\n",
      "  warnings.warn(\"The max_iter was reached which means \"\n"
     ]
    },
    {
     "name": "stdout",
     "output_type": "stream",
     "text": [
      "[CV 1/3; 119/150] END LR__C=5.623413251903491, LR__penalty=l1, LR__solver=saga, imputer__n_neighbors=3; total time=   7.3s\n",
      "[CV 2/3; 119/150] START LR__C=5.623413251903491, LR__penalty=l1, LR__solver=saga, imputer__n_neighbors=3\n"
     ]
    },
    {
     "name": "stderr",
     "output_type": "stream",
     "text": [
      "C:\\Users\\Matan\\anaconda3\\lib\\site-packages\\sklearn\\linear_model\\_sag.py:328: ConvergenceWarning: The max_iter was reached which means the coef_ did not converge\n",
      "  warnings.warn(\"The max_iter was reached which means \"\n"
     ]
    },
    {
     "name": "stdout",
     "output_type": "stream",
     "text": [
      "[CV 2/3; 119/150] END LR__C=5.623413251903491, LR__penalty=l1, LR__solver=saga, imputer__n_neighbors=3; total time=   8.8s\n",
      "[CV 3/3; 119/150] START LR__C=5.623413251903491, LR__penalty=l1, LR__solver=saga, imputer__n_neighbors=3\n"
     ]
    },
    {
     "name": "stderr",
     "output_type": "stream",
     "text": [
      "C:\\Users\\Matan\\anaconda3\\lib\\site-packages\\sklearn\\linear_model\\_sag.py:328: ConvergenceWarning: The max_iter was reached which means the coef_ did not converge\n",
      "  warnings.warn(\"The max_iter was reached which means \"\n"
     ]
    },
    {
     "name": "stdout",
     "output_type": "stream",
     "text": [
      "[CV 3/3; 119/150] END LR__C=5.623413251903491, LR__penalty=l1, LR__solver=saga, imputer__n_neighbors=3; total time=   8.0s\n",
      "[CV 1/3; 120/150] START LR__C=5.623413251903491, LR__penalty=l1, LR__solver=saga, imputer__n_neighbors=4\n"
     ]
    },
    {
     "name": "stderr",
     "output_type": "stream",
     "text": [
      "C:\\Users\\Matan\\anaconda3\\lib\\site-packages\\sklearn\\linear_model\\_sag.py:328: ConvergenceWarning: The max_iter was reached which means the coef_ did not converge\n",
      "  warnings.warn(\"The max_iter was reached which means \"\n"
     ]
    },
    {
     "name": "stdout",
     "output_type": "stream",
     "text": [
      "[CV 1/3; 120/150] END LR__C=5.623413251903491, LR__penalty=l1, LR__solver=saga, imputer__n_neighbors=4; total time=   9.6s\n",
      "[CV 2/3; 120/150] START LR__C=5.623413251903491, LR__penalty=l1, LR__solver=saga, imputer__n_neighbors=4\n"
     ]
    },
    {
     "name": "stderr",
     "output_type": "stream",
     "text": [
      "C:\\Users\\Matan\\anaconda3\\lib\\site-packages\\sklearn\\linear_model\\_sag.py:328: ConvergenceWarning: The max_iter was reached which means the coef_ did not converge\n",
      "  warnings.warn(\"The max_iter was reached which means \"\n"
     ]
    },
    {
     "name": "stdout",
     "output_type": "stream",
     "text": [
      "[CV 2/3; 120/150] END LR__C=5.623413251903491, LR__penalty=l1, LR__solver=saga, imputer__n_neighbors=4; total time=   9.2s\n",
      "[CV 3/3; 120/150] START LR__C=5.623413251903491, LR__penalty=l1, LR__solver=saga, imputer__n_neighbors=4\n"
     ]
    },
    {
     "name": "stderr",
     "output_type": "stream",
     "text": [
      "C:\\Users\\Matan\\anaconda3\\lib\\site-packages\\sklearn\\linear_model\\_sag.py:328: ConvergenceWarning: The max_iter was reached which means the coef_ did not converge\n",
      "  warnings.warn(\"The max_iter was reached which means \"\n"
     ]
    },
    {
     "name": "stdout",
     "output_type": "stream",
     "text": [
      "[CV 3/3; 120/150] END LR__C=5.623413251903491, LR__penalty=l1, LR__solver=saga, imputer__n_neighbors=4; total time=   7.3s\n",
      "[CV 1/3; 121/150] START LR__C=100.0, LR__penalty=l2, LR__solver=newton-cg, imputer__n_neighbors=2\n",
      "[CV 1/3; 121/150] END LR__C=100.0, LR__penalty=l2, LR__solver=newton-cg, imputer__n_neighbors=2; total time= 1.6min\n",
      "[CV 2/3; 121/150] START LR__C=100.0, LR__penalty=l2, LR__solver=newton-cg, imputer__n_neighbors=2\n",
      "[CV 2/3; 121/150] END LR__C=100.0, LR__penalty=l2, LR__solver=newton-cg, imputer__n_neighbors=2; total time= 1.5min\n",
      "[CV 3/3; 121/150] START LR__C=100.0, LR__penalty=l2, LR__solver=newton-cg, imputer__n_neighbors=2\n",
      "[CV 3/3; 121/150] END LR__C=100.0, LR__penalty=l2, LR__solver=newton-cg, imputer__n_neighbors=2; total time= 1.8min\n",
      "[CV 1/3; 122/150] START LR__C=100.0, LR__penalty=l2, LR__solver=newton-cg, imputer__n_neighbors=3\n",
      "[CV 1/3; 122/150] END LR__C=100.0, LR__penalty=l2, LR__solver=newton-cg, imputer__n_neighbors=3; total time= 1.7min\n",
      "[CV 2/3; 122/150] START LR__C=100.0, LR__penalty=l2, LR__solver=newton-cg, imputer__n_neighbors=3\n",
      "[CV 2/3; 122/150] END LR__C=100.0, LR__penalty=l2, LR__solver=newton-cg, imputer__n_neighbors=3; total time= 2.1min\n",
      "[CV 3/3; 122/150] START LR__C=100.0, LR__penalty=l2, LR__solver=newton-cg, imputer__n_neighbors=3\n",
      "[CV 3/3; 122/150] END LR__C=100.0, LR__penalty=l2, LR__solver=newton-cg, imputer__n_neighbors=3; total time= 1.8min\n",
      "[CV 1/3; 123/150] START LR__C=100.0, LR__penalty=l2, LR__solver=newton-cg, imputer__n_neighbors=4\n",
      "[CV 1/3; 123/150] END LR__C=100.0, LR__penalty=l2, LR__solver=newton-cg, imputer__n_neighbors=4; total time= 2.2min\n",
      "[CV 2/3; 123/150] START LR__C=100.0, LR__penalty=l2, LR__solver=newton-cg, imputer__n_neighbors=4\n",
      "[CV 2/3; 123/150] END LR__C=100.0, LR__penalty=l2, LR__solver=newton-cg, imputer__n_neighbors=4; total time= 1.9min\n",
      "[CV 3/3; 123/150] START LR__C=100.0, LR__penalty=l2, LR__solver=newton-cg, imputer__n_neighbors=4\n",
      "[CV 3/3; 123/150] END LR__C=100.0, LR__penalty=l2, LR__solver=newton-cg, imputer__n_neighbors=4; total time= 1.7min\n",
      "[CV 1/3; 124/150] START LR__C=100.0, LR__penalty=l2, LR__solver=lbfgs, imputer__n_neighbors=2\n"
     ]
    },
    {
     "name": "stderr",
     "output_type": "stream",
     "text": [
      "C:\\Users\\Matan\\anaconda3\\lib\\site-packages\\sklearn\\linear_model\\_logistic.py:763: ConvergenceWarning: lbfgs failed to converge (status=1):\n",
      "STOP: TOTAL NO. of ITERATIONS REACHED LIMIT.\n",
      "\n",
      "Increase the number of iterations (max_iter) or scale the data as shown in:\n",
      "    https://scikit-learn.org/stable/modules/preprocessing.html\n",
      "Please also refer to the documentation for alternative solver options:\n",
      "    https://scikit-learn.org/stable/modules/linear_model.html#logistic-regression\n",
      "  n_iter_i = _check_optimize_result(\n"
     ]
    },
    {
     "name": "stdout",
     "output_type": "stream",
     "text": [
      "[CV 1/3; 124/150] END LR__C=100.0, LR__penalty=l2, LR__solver=lbfgs, imputer__n_neighbors=2; total time=   4.9s\n",
      "[CV 2/3; 124/150] START LR__C=100.0, LR__penalty=l2, LR__solver=lbfgs, imputer__n_neighbors=2\n"
     ]
    },
    {
     "name": "stderr",
     "output_type": "stream",
     "text": [
      "C:\\Users\\Matan\\anaconda3\\lib\\site-packages\\sklearn\\linear_model\\_logistic.py:763: ConvergenceWarning: lbfgs failed to converge (status=1):\n",
      "STOP: TOTAL NO. of ITERATIONS REACHED LIMIT.\n",
      "\n",
      "Increase the number of iterations (max_iter) or scale the data as shown in:\n",
      "    https://scikit-learn.org/stable/modules/preprocessing.html\n",
      "Please also refer to the documentation for alternative solver options:\n",
      "    https://scikit-learn.org/stable/modules/linear_model.html#logistic-regression\n",
      "  n_iter_i = _check_optimize_result(\n"
     ]
    },
    {
     "name": "stdout",
     "output_type": "stream",
     "text": [
      "[CV 2/3; 124/150] END LR__C=100.0, LR__penalty=l2, LR__solver=lbfgs, imputer__n_neighbors=2; total time=   4.5s\n",
      "[CV 3/3; 124/150] START LR__C=100.0, LR__penalty=l2, LR__solver=lbfgs, imputer__n_neighbors=2\n"
     ]
    },
    {
     "name": "stderr",
     "output_type": "stream",
     "text": [
      "C:\\Users\\Matan\\anaconda3\\lib\\site-packages\\sklearn\\linear_model\\_logistic.py:763: ConvergenceWarning: lbfgs failed to converge (status=1):\n",
      "STOP: TOTAL NO. of ITERATIONS REACHED LIMIT.\n",
      "\n",
      "Increase the number of iterations (max_iter) or scale the data as shown in:\n",
      "    https://scikit-learn.org/stable/modules/preprocessing.html\n",
      "Please also refer to the documentation for alternative solver options:\n",
      "    https://scikit-learn.org/stable/modules/linear_model.html#logistic-regression\n",
      "  n_iter_i = _check_optimize_result(\n"
     ]
    },
    {
     "name": "stdout",
     "output_type": "stream",
     "text": [
      "[CV 3/3; 124/150] END LR__C=100.0, LR__penalty=l2, LR__solver=lbfgs, imputer__n_neighbors=2; total time=   4.2s\n",
      "[CV 1/3; 125/150] START LR__C=100.0, LR__penalty=l2, LR__solver=lbfgs, imputer__n_neighbors=3\n"
     ]
    },
    {
     "name": "stderr",
     "output_type": "stream",
     "text": [
      "C:\\Users\\Matan\\anaconda3\\lib\\site-packages\\sklearn\\linear_model\\_logistic.py:763: ConvergenceWarning: lbfgs failed to converge (status=1):\n",
      "STOP: TOTAL NO. of ITERATIONS REACHED LIMIT.\n",
      "\n",
      "Increase the number of iterations (max_iter) or scale the data as shown in:\n",
      "    https://scikit-learn.org/stable/modules/preprocessing.html\n",
      "Please also refer to the documentation for alternative solver options:\n",
      "    https://scikit-learn.org/stable/modules/linear_model.html#logistic-regression\n",
      "  n_iter_i = _check_optimize_result(\n"
     ]
    },
    {
     "name": "stdout",
     "output_type": "stream",
     "text": [
      "[CV 1/3; 125/150] END LR__C=100.0, LR__penalty=l2, LR__solver=lbfgs, imputer__n_neighbors=3; total time=   3.8s\n",
      "[CV 2/3; 125/150] START LR__C=100.0, LR__penalty=l2, LR__solver=lbfgs, imputer__n_neighbors=3\n"
     ]
    },
    {
     "name": "stderr",
     "output_type": "stream",
     "text": [
      "C:\\Users\\Matan\\anaconda3\\lib\\site-packages\\sklearn\\linear_model\\_logistic.py:763: ConvergenceWarning: lbfgs failed to converge (status=1):\n",
      "STOP: TOTAL NO. of ITERATIONS REACHED LIMIT.\n",
      "\n",
      "Increase the number of iterations (max_iter) or scale the data as shown in:\n",
      "    https://scikit-learn.org/stable/modules/preprocessing.html\n",
      "Please also refer to the documentation for alternative solver options:\n",
      "    https://scikit-learn.org/stable/modules/linear_model.html#logistic-regression\n",
      "  n_iter_i = _check_optimize_result(\n"
     ]
    },
    {
     "name": "stdout",
     "output_type": "stream",
     "text": [
      "[CV 2/3; 125/150] END LR__C=100.0, LR__penalty=l2, LR__solver=lbfgs, imputer__n_neighbors=3; total time=   3.9s\n",
      "[CV 3/3; 125/150] START LR__C=100.0, LR__penalty=l2, LR__solver=lbfgs, imputer__n_neighbors=3\n"
     ]
    },
    {
     "name": "stderr",
     "output_type": "stream",
     "text": [
      "C:\\Users\\Matan\\anaconda3\\lib\\site-packages\\sklearn\\linear_model\\_logistic.py:763: ConvergenceWarning: lbfgs failed to converge (status=1):\n",
      "STOP: TOTAL NO. of ITERATIONS REACHED LIMIT.\n",
      "\n",
      "Increase the number of iterations (max_iter) or scale the data as shown in:\n",
      "    https://scikit-learn.org/stable/modules/preprocessing.html\n",
      "Please also refer to the documentation for alternative solver options:\n",
      "    https://scikit-learn.org/stable/modules/linear_model.html#logistic-regression\n",
      "  n_iter_i = _check_optimize_result(\n"
     ]
    },
    {
     "name": "stdout",
     "output_type": "stream",
     "text": [
      "[CV 3/3; 125/150] END LR__C=100.0, LR__penalty=l2, LR__solver=lbfgs, imputer__n_neighbors=3; total time=   4.3s\n",
      "[CV 1/3; 126/150] START LR__C=100.0, LR__penalty=l2, LR__solver=lbfgs, imputer__n_neighbors=4\n"
     ]
    },
    {
     "name": "stderr",
     "output_type": "stream",
     "text": [
      "C:\\Users\\Matan\\anaconda3\\lib\\site-packages\\sklearn\\linear_model\\_logistic.py:763: ConvergenceWarning: lbfgs failed to converge (status=1):\n",
      "STOP: TOTAL NO. of ITERATIONS REACHED LIMIT.\n",
      "\n",
      "Increase the number of iterations (max_iter) or scale the data as shown in:\n",
      "    https://scikit-learn.org/stable/modules/preprocessing.html\n",
      "Please also refer to the documentation for alternative solver options:\n",
      "    https://scikit-learn.org/stable/modules/linear_model.html#logistic-regression\n",
      "  n_iter_i = _check_optimize_result(\n"
     ]
    },
    {
     "name": "stdout",
     "output_type": "stream",
     "text": [
      "[CV 1/3; 126/150] END LR__C=100.0, LR__penalty=l2, LR__solver=lbfgs, imputer__n_neighbors=4; total time=   3.8s\n",
      "[CV 2/3; 126/150] START LR__C=100.0, LR__penalty=l2, LR__solver=lbfgs, imputer__n_neighbors=4\n"
     ]
    },
    {
     "name": "stderr",
     "output_type": "stream",
     "text": [
      "C:\\Users\\Matan\\anaconda3\\lib\\site-packages\\sklearn\\linear_model\\_logistic.py:763: ConvergenceWarning: lbfgs failed to converge (status=1):\n",
      "STOP: TOTAL NO. of ITERATIONS REACHED LIMIT.\n",
      "\n",
      "Increase the number of iterations (max_iter) or scale the data as shown in:\n",
      "    https://scikit-learn.org/stable/modules/preprocessing.html\n",
      "Please also refer to the documentation for alternative solver options:\n",
      "    https://scikit-learn.org/stable/modules/linear_model.html#logistic-regression\n",
      "  n_iter_i = _check_optimize_result(\n"
     ]
    },
    {
     "name": "stdout",
     "output_type": "stream",
     "text": [
      "[CV 2/3; 126/150] END LR__C=100.0, LR__penalty=l2, LR__solver=lbfgs, imputer__n_neighbors=4; total time=   4.1s\n",
      "[CV 3/3; 126/150] START LR__C=100.0, LR__penalty=l2, LR__solver=lbfgs, imputer__n_neighbors=4\n"
     ]
    },
    {
     "name": "stderr",
     "output_type": "stream",
     "text": [
      "C:\\Users\\Matan\\anaconda3\\lib\\site-packages\\sklearn\\linear_model\\_logistic.py:763: ConvergenceWarning: lbfgs failed to converge (status=1):\n",
      "STOP: TOTAL NO. of ITERATIONS REACHED LIMIT.\n",
      "\n",
      "Increase the number of iterations (max_iter) or scale the data as shown in:\n",
      "    https://scikit-learn.org/stable/modules/preprocessing.html\n",
      "Please also refer to the documentation for alternative solver options:\n",
      "    https://scikit-learn.org/stable/modules/linear_model.html#logistic-regression\n",
      "  n_iter_i = _check_optimize_result(\n"
     ]
    },
    {
     "name": "stdout",
     "output_type": "stream",
     "text": [
      "[CV 3/3; 126/150] END LR__C=100.0, LR__penalty=l2, LR__solver=lbfgs, imputer__n_neighbors=4; total time=   4.4s\n",
      "[CV 1/3; 127/150] START LR__C=100.0, LR__penalty=l2, LR__solver=liblinear, imputer__n_neighbors=2\n",
      "[CV 1/3; 127/150] END LR__C=100.0, LR__penalty=l2, LR__solver=liblinear, imputer__n_neighbors=2; total time=   2.7s\n",
      "[CV 2/3; 127/150] START LR__C=100.0, LR__penalty=l2, LR__solver=liblinear, imputer__n_neighbors=2\n",
      "[CV 2/3; 127/150] END LR__C=100.0, LR__penalty=l2, LR__solver=liblinear, imputer__n_neighbors=2; total time=   1.3s\n",
      "[CV 3/3; 127/150] START LR__C=100.0, LR__penalty=l2, LR__solver=liblinear, imputer__n_neighbors=2\n",
      "[CV 3/3; 127/150] END LR__C=100.0, LR__penalty=l2, LR__solver=liblinear, imputer__n_neighbors=2; total time=   2.6s\n",
      "[CV 1/3; 128/150] START LR__C=100.0, LR__penalty=l2, LR__solver=liblinear, imputer__n_neighbors=3\n",
      "[CV 1/3; 128/150] END LR__C=100.0, LR__penalty=l2, LR__solver=liblinear, imputer__n_neighbors=3; total time=   1.4s\n",
      "[CV 2/3; 128/150] START LR__C=100.0, LR__penalty=l2, LR__solver=liblinear, imputer__n_neighbors=3\n",
      "[CV 2/3; 128/150] END LR__C=100.0, LR__penalty=l2, LR__solver=liblinear, imputer__n_neighbors=3; total time=   2.5s\n",
      "[CV 3/3; 128/150] START LR__C=100.0, LR__penalty=l2, LR__solver=liblinear, imputer__n_neighbors=3\n",
      "[CV 3/3; 128/150] END LR__C=100.0, LR__penalty=l2, LR__solver=liblinear, imputer__n_neighbors=3; total time=   1.3s\n",
      "[CV 1/3; 129/150] START LR__C=100.0, LR__penalty=l2, LR__solver=liblinear, imputer__n_neighbors=4\n",
      "[CV 1/3; 129/150] END LR__C=100.0, LR__penalty=l2, LR__solver=liblinear, imputer__n_neighbors=4; total time=   2.6s\n",
      "[CV 2/3; 129/150] START LR__C=100.0, LR__penalty=l2, LR__solver=liblinear, imputer__n_neighbors=4\n",
      "[CV 2/3; 129/150] END LR__C=100.0, LR__penalty=l2, LR__solver=liblinear, imputer__n_neighbors=4; total time=   1.2s\n",
      "[CV 3/3; 129/150] START LR__C=100.0, LR__penalty=l2, LR__solver=liblinear, imputer__n_neighbors=4\n",
      "[CV 3/3; 129/150] END LR__C=100.0, LR__penalty=l2, LR__solver=liblinear, imputer__n_neighbors=4; total time=   1.9s\n",
      "[CV 1/3; 130/150] START LR__C=100.0, LR__penalty=l2, LR__solver=sag, imputer__n_neighbors=2\n"
     ]
    },
    {
     "name": "stderr",
     "output_type": "stream",
     "text": [
      "C:\\Users\\Matan\\anaconda3\\lib\\site-packages\\sklearn\\linear_model\\_sag.py:328: ConvergenceWarning: The max_iter was reached which means the coef_ did not converge\n",
      "  warnings.warn(\"The max_iter was reached which means \"\n"
     ]
    },
    {
     "name": "stdout",
     "output_type": "stream",
     "text": [
      "[CV 1/3; 130/150] END LR__C=100.0, LR__penalty=l2, LR__solver=sag, imputer__n_neighbors=2; total time=   3.6s\n",
      "[CV 2/3; 130/150] START LR__C=100.0, LR__penalty=l2, LR__solver=sag, imputer__n_neighbors=2\n"
     ]
    },
    {
     "name": "stderr",
     "output_type": "stream",
     "text": [
      "C:\\Users\\Matan\\anaconda3\\lib\\site-packages\\sklearn\\linear_model\\_sag.py:328: ConvergenceWarning: The max_iter was reached which means the coef_ did not converge\n",
      "  warnings.warn(\"The max_iter was reached which means \"\n"
     ]
    },
    {
     "name": "stdout",
     "output_type": "stream",
     "text": [
      "[CV 2/3; 130/150] END LR__C=100.0, LR__penalty=l2, LR__solver=sag, imputer__n_neighbors=2; total time=   4.6s\n",
      "[CV 3/3; 130/150] START LR__C=100.0, LR__penalty=l2, LR__solver=sag, imputer__n_neighbors=2\n"
     ]
    },
    {
     "name": "stderr",
     "output_type": "stream",
     "text": [
      "C:\\Users\\Matan\\anaconda3\\lib\\site-packages\\sklearn\\linear_model\\_sag.py:328: ConvergenceWarning: The max_iter was reached which means the coef_ did not converge\n",
      "  warnings.warn(\"The max_iter was reached which means \"\n"
     ]
    },
    {
     "name": "stdout",
     "output_type": "stream",
     "text": [
      "[CV 3/3; 130/150] END LR__C=100.0, LR__penalty=l2, LR__solver=sag, imputer__n_neighbors=2; total time=   4.5s\n",
      "[CV 1/3; 131/150] START LR__C=100.0, LR__penalty=l2, LR__solver=sag, imputer__n_neighbors=3\n"
     ]
    },
    {
     "name": "stderr",
     "output_type": "stream",
     "text": [
      "C:\\Users\\Matan\\anaconda3\\lib\\site-packages\\sklearn\\linear_model\\_sag.py:328: ConvergenceWarning: The max_iter was reached which means the coef_ did not converge\n",
      "  warnings.warn(\"The max_iter was reached which means \"\n"
     ]
    },
    {
     "name": "stdout",
     "output_type": "stream",
     "text": [
      "[CV 1/3; 131/150] END LR__C=100.0, LR__penalty=l2, LR__solver=sag, imputer__n_neighbors=3; total time=   4.3s\n",
      "[CV 2/3; 131/150] START LR__C=100.0, LR__penalty=l2, LR__solver=sag, imputer__n_neighbors=3\n"
     ]
    },
    {
     "name": "stderr",
     "output_type": "stream",
     "text": [
      "C:\\Users\\Matan\\anaconda3\\lib\\site-packages\\sklearn\\linear_model\\_sag.py:328: ConvergenceWarning: The max_iter was reached which means the coef_ did not converge\n",
      "  warnings.warn(\"The max_iter was reached which means \"\n"
     ]
    },
    {
     "name": "stdout",
     "output_type": "stream",
     "text": [
      "[CV 2/3; 131/150] END LR__C=100.0, LR__penalty=l2, LR__solver=sag, imputer__n_neighbors=3; total time=   4.4s\n",
      "[CV 3/3; 131/150] START LR__C=100.0, LR__penalty=l2, LR__solver=sag, imputer__n_neighbors=3\n"
     ]
    },
    {
     "name": "stderr",
     "output_type": "stream",
     "text": [
      "C:\\Users\\Matan\\anaconda3\\lib\\site-packages\\sklearn\\linear_model\\_sag.py:328: ConvergenceWarning: The max_iter was reached which means the coef_ did not converge\n",
      "  warnings.warn(\"The max_iter was reached which means \"\n"
     ]
    },
    {
     "name": "stdout",
     "output_type": "stream",
     "text": [
      "[CV 3/3; 131/150] END LR__C=100.0, LR__penalty=l2, LR__solver=sag, imputer__n_neighbors=3; total time=   6.1s\n",
      "[CV 1/3; 132/150] START LR__C=100.0, LR__penalty=l2, LR__solver=sag, imputer__n_neighbors=4\n"
     ]
    },
    {
     "name": "stderr",
     "output_type": "stream",
     "text": [
      "C:\\Users\\Matan\\anaconda3\\lib\\site-packages\\sklearn\\linear_model\\_sag.py:328: ConvergenceWarning: The max_iter was reached which means the coef_ did not converge\n",
      "  warnings.warn(\"The max_iter was reached which means \"\n"
     ]
    },
    {
     "name": "stdout",
     "output_type": "stream",
     "text": [
      "[CV 1/3; 132/150] END LR__C=100.0, LR__penalty=l2, LR__solver=sag, imputer__n_neighbors=4; total time=   4.9s\n",
      "[CV 2/3; 132/150] START LR__C=100.0, LR__penalty=l2, LR__solver=sag, imputer__n_neighbors=4\n"
     ]
    },
    {
     "name": "stderr",
     "output_type": "stream",
     "text": [
      "C:\\Users\\Matan\\anaconda3\\lib\\site-packages\\sklearn\\linear_model\\_sag.py:328: ConvergenceWarning: The max_iter was reached which means the coef_ did not converge\n",
      "  warnings.warn(\"The max_iter was reached which means \"\n"
     ]
    },
    {
     "name": "stdout",
     "output_type": "stream",
     "text": [
      "[CV 2/3; 132/150] END LR__C=100.0, LR__penalty=l2, LR__solver=sag, imputer__n_neighbors=4; total time=   5.1s\n",
      "[CV 3/3; 132/150] START LR__C=100.0, LR__penalty=l2, LR__solver=sag, imputer__n_neighbors=4\n"
     ]
    },
    {
     "name": "stderr",
     "output_type": "stream",
     "text": [
      "C:\\Users\\Matan\\anaconda3\\lib\\site-packages\\sklearn\\linear_model\\_sag.py:328: ConvergenceWarning: The max_iter was reached which means the coef_ did not converge\n",
      "  warnings.warn(\"The max_iter was reached which means \"\n"
     ]
    },
    {
     "name": "stdout",
     "output_type": "stream",
     "text": [
      "[CV 3/3; 132/150] END LR__C=100.0, LR__penalty=l2, LR__solver=sag, imputer__n_neighbors=4; total time=   4.7s\n",
      "[CV 1/3; 133/150] START LR__C=100.0, LR__penalty=l2, LR__solver=saga, imputer__n_neighbors=2\n"
     ]
    },
    {
     "name": "stderr",
     "output_type": "stream",
     "text": [
      "C:\\Users\\Matan\\anaconda3\\lib\\site-packages\\sklearn\\linear_model\\_sag.py:328: ConvergenceWarning: The max_iter was reached which means the coef_ did not converge\n",
      "  warnings.warn(\"The max_iter was reached which means \"\n"
     ]
    },
    {
     "name": "stdout",
     "output_type": "stream",
     "text": [
      "[CV 1/3; 133/150] END LR__C=100.0, LR__penalty=l2, LR__solver=saga, imputer__n_neighbors=2; total time=   5.2s\n",
      "[CV 2/3; 133/150] START LR__C=100.0, LR__penalty=l2, LR__solver=saga, imputer__n_neighbors=2\n"
     ]
    },
    {
     "name": "stderr",
     "output_type": "stream",
     "text": [
      "C:\\Users\\Matan\\anaconda3\\lib\\site-packages\\sklearn\\linear_model\\_sag.py:328: ConvergenceWarning: The max_iter was reached which means the coef_ did not converge\n",
      "  warnings.warn(\"The max_iter was reached which means \"\n"
     ]
    },
    {
     "name": "stdout",
     "output_type": "stream",
     "text": [
      "[CV 2/3; 133/150] END LR__C=100.0, LR__penalty=l2, LR__solver=saga, imputer__n_neighbors=2; total time=   5.2s\n",
      "[CV 3/3; 133/150] START LR__C=100.0, LR__penalty=l2, LR__solver=saga, imputer__n_neighbors=2\n"
     ]
    },
    {
     "name": "stderr",
     "output_type": "stream",
     "text": [
      "C:\\Users\\Matan\\anaconda3\\lib\\site-packages\\sklearn\\linear_model\\_sag.py:328: ConvergenceWarning: The max_iter was reached which means the coef_ did not converge\n",
      "  warnings.warn(\"The max_iter was reached which means \"\n"
     ]
    },
    {
     "name": "stdout",
     "output_type": "stream",
     "text": [
      "[CV 3/3; 133/150] END LR__C=100.0, LR__penalty=l2, LR__solver=saga, imputer__n_neighbors=2; total time=   5.4s\n",
      "[CV 1/3; 134/150] START LR__C=100.0, LR__penalty=l2, LR__solver=saga, imputer__n_neighbors=3\n"
     ]
    },
    {
     "name": "stderr",
     "output_type": "stream",
     "text": [
      "C:\\Users\\Matan\\anaconda3\\lib\\site-packages\\sklearn\\linear_model\\_sag.py:328: ConvergenceWarning: The max_iter was reached which means the coef_ did not converge\n",
      "  warnings.warn(\"The max_iter was reached which means \"\n"
     ]
    },
    {
     "name": "stdout",
     "output_type": "stream",
     "text": [
      "[CV 1/3; 134/150] END LR__C=100.0, LR__penalty=l2, LR__solver=saga, imputer__n_neighbors=3; total time=   5.2s\n",
      "[CV 2/3; 134/150] START LR__C=100.0, LR__penalty=l2, LR__solver=saga, imputer__n_neighbors=3\n"
     ]
    },
    {
     "name": "stderr",
     "output_type": "stream",
     "text": [
      "C:\\Users\\Matan\\anaconda3\\lib\\site-packages\\sklearn\\linear_model\\_sag.py:328: ConvergenceWarning: The max_iter was reached which means the coef_ did not converge\n",
      "  warnings.warn(\"The max_iter was reached which means \"\n"
     ]
    },
    {
     "name": "stdout",
     "output_type": "stream",
     "text": [
      "[CV 2/3; 134/150] END LR__C=100.0, LR__penalty=l2, LR__solver=saga, imputer__n_neighbors=3; total time=   5.5s\n",
      "[CV 3/3; 134/150] START LR__C=100.0, LR__penalty=l2, LR__solver=saga, imputer__n_neighbors=3\n"
     ]
    },
    {
     "name": "stderr",
     "output_type": "stream",
     "text": [
      "C:\\Users\\Matan\\anaconda3\\lib\\site-packages\\sklearn\\linear_model\\_sag.py:328: ConvergenceWarning: The max_iter was reached which means the coef_ did not converge\n",
      "  warnings.warn(\"The max_iter was reached which means \"\n"
     ]
    },
    {
     "name": "stdout",
     "output_type": "stream",
     "text": [
      "[CV 3/3; 134/150] END LR__C=100.0, LR__penalty=l2, LR__solver=saga, imputer__n_neighbors=3; total time=   4.6s\n",
      "[CV 1/3; 135/150] START LR__C=100.0, LR__penalty=l2, LR__solver=saga, imputer__n_neighbors=4\n"
     ]
    },
    {
     "name": "stderr",
     "output_type": "stream",
     "text": [
      "C:\\Users\\Matan\\anaconda3\\lib\\site-packages\\sklearn\\linear_model\\_sag.py:328: ConvergenceWarning: The max_iter was reached which means the coef_ did not converge\n",
      "  warnings.warn(\"The max_iter was reached which means \"\n"
     ]
    },
    {
     "name": "stdout",
     "output_type": "stream",
     "text": [
      "[CV 1/3; 135/150] END LR__C=100.0, LR__penalty=l2, LR__solver=saga, imputer__n_neighbors=4; total time=   5.3s\n",
      "[CV 2/3; 135/150] START LR__C=100.0, LR__penalty=l2, LR__solver=saga, imputer__n_neighbors=4\n"
     ]
    },
    {
     "name": "stderr",
     "output_type": "stream",
     "text": [
      "C:\\Users\\Matan\\anaconda3\\lib\\site-packages\\sklearn\\linear_model\\_sag.py:328: ConvergenceWarning: The max_iter was reached which means the coef_ did not converge\n",
      "  warnings.warn(\"The max_iter was reached which means \"\n"
     ]
    },
    {
     "name": "stdout",
     "output_type": "stream",
     "text": [
      "[CV 2/3; 135/150] END LR__C=100.0, LR__penalty=l2, LR__solver=saga, imputer__n_neighbors=4; total time=   5.3s\n",
      "[CV 3/3; 135/150] START LR__C=100.0, LR__penalty=l2, LR__solver=saga, imputer__n_neighbors=4\n"
     ]
    },
    {
     "name": "stderr",
     "output_type": "stream",
     "text": [
      "C:\\Users\\Matan\\anaconda3\\lib\\site-packages\\sklearn\\linear_model\\_sag.py:328: ConvergenceWarning: The max_iter was reached which means the coef_ did not converge\n",
      "  warnings.warn(\"The max_iter was reached which means \"\n"
     ]
    },
    {
     "name": "stdout",
     "output_type": "stream",
     "text": [
      "[CV 3/3; 135/150] END LR__C=100.0, LR__penalty=l2, LR__solver=saga, imputer__n_neighbors=4; total time=   6.1s\n",
      "[CV 1/3; 136/150] START LR__C=100.0, LR__penalty=l1, LR__solver=newton-cg, imputer__n_neighbors=2\n"
     ]
    },
    {
     "name": "stderr",
     "output_type": "stream",
     "text": [
      "C:\\Users\\Matan\\anaconda3\\lib\\site-packages\\sklearn\\model_selection\\_validation.py:610: FitFailedWarning: Estimator fit failed. The score on this train-test partition for these parameters will be set to nan. Details: \n",
      "Traceback (most recent call last):\n",
      "  File \"C:\\Users\\Matan\\anaconda3\\lib\\site-packages\\sklearn\\model_selection\\_validation.py\", line 593, in _fit_and_score\n",
      "    estimator.fit(X_train, y_train, **fit_params)\n",
      "  File \"C:\\Users\\Matan\\anaconda3\\lib\\site-packages\\sklearn\\pipeline.py\", line 346, in fit\n",
      "    self._final_estimator.fit(Xt, y, **fit_params_last_step)\n",
      "  File \"C:\\Users\\Matan\\anaconda3\\lib\\site-packages\\sklearn\\linear_model\\_logistic.py\", line 1306, in fit\n",
      "    solver = _check_solver(self.solver, self.penalty, self.dual)\n",
      "  File \"C:\\Users\\Matan\\anaconda3\\lib\\site-packages\\sklearn\\linear_model\\_logistic.py\", line 443, in _check_solver\n",
      "    raise ValueError(\"Solver %s supports only 'l2' or 'none' penalties, \"\n",
      "ValueError: Solver newton-cg supports only 'l2' or 'none' penalties, got l1 penalty.\n",
      "\n",
      "  warnings.warn(\"Estimator fit failed. The score on this train-test\"\n"
     ]
    },
    {
     "name": "stdout",
     "output_type": "stream",
     "text": [
      "[CV 1/3; 136/150] END LR__C=100.0, LR__penalty=l1, LR__solver=newton-cg, imputer__n_neighbors=2; total time=   0.2s\n",
      "[CV 2/3; 136/150] START LR__C=100.0, LR__penalty=l1, LR__solver=newton-cg, imputer__n_neighbors=2\n"
     ]
    },
    {
     "name": "stderr",
     "output_type": "stream",
     "text": [
      "C:\\Users\\Matan\\anaconda3\\lib\\site-packages\\sklearn\\model_selection\\_validation.py:610: FitFailedWarning: Estimator fit failed. The score on this train-test partition for these parameters will be set to nan. Details: \n",
      "Traceback (most recent call last):\n",
      "  File \"C:\\Users\\Matan\\anaconda3\\lib\\site-packages\\sklearn\\model_selection\\_validation.py\", line 593, in _fit_and_score\n",
      "    estimator.fit(X_train, y_train, **fit_params)\n",
      "  File \"C:\\Users\\Matan\\anaconda3\\lib\\site-packages\\sklearn\\pipeline.py\", line 346, in fit\n",
      "    self._final_estimator.fit(Xt, y, **fit_params_last_step)\n",
      "  File \"C:\\Users\\Matan\\anaconda3\\lib\\site-packages\\sklearn\\linear_model\\_logistic.py\", line 1306, in fit\n",
      "    solver = _check_solver(self.solver, self.penalty, self.dual)\n",
      "  File \"C:\\Users\\Matan\\anaconda3\\lib\\site-packages\\sklearn\\linear_model\\_logistic.py\", line 443, in _check_solver\n",
      "    raise ValueError(\"Solver %s supports only 'l2' or 'none' penalties, \"\n",
      "ValueError: Solver newton-cg supports only 'l2' or 'none' penalties, got l1 penalty.\n",
      "\n",
      "  warnings.warn(\"Estimator fit failed. The score on this train-test\"\n"
     ]
    },
    {
     "name": "stdout",
     "output_type": "stream",
     "text": [
      "[CV 2/3; 136/150] END LR__C=100.0, LR__penalty=l1, LR__solver=newton-cg, imputer__n_neighbors=2; total time=   0.2s\n",
      "[CV 3/3; 136/150] START LR__C=100.0, LR__penalty=l1, LR__solver=newton-cg, imputer__n_neighbors=2\n"
     ]
    },
    {
     "name": "stderr",
     "output_type": "stream",
     "text": [
      "C:\\Users\\Matan\\anaconda3\\lib\\site-packages\\sklearn\\model_selection\\_validation.py:610: FitFailedWarning: Estimator fit failed. The score on this train-test partition for these parameters will be set to nan. Details: \n",
      "Traceback (most recent call last):\n",
      "  File \"C:\\Users\\Matan\\anaconda3\\lib\\site-packages\\sklearn\\model_selection\\_validation.py\", line 593, in _fit_and_score\n",
      "    estimator.fit(X_train, y_train, **fit_params)\n",
      "  File \"C:\\Users\\Matan\\anaconda3\\lib\\site-packages\\sklearn\\pipeline.py\", line 346, in fit\n",
      "    self._final_estimator.fit(Xt, y, **fit_params_last_step)\n",
      "  File \"C:\\Users\\Matan\\anaconda3\\lib\\site-packages\\sklearn\\linear_model\\_logistic.py\", line 1306, in fit\n",
      "    solver = _check_solver(self.solver, self.penalty, self.dual)\n",
      "  File \"C:\\Users\\Matan\\anaconda3\\lib\\site-packages\\sklearn\\linear_model\\_logistic.py\", line 443, in _check_solver\n",
      "    raise ValueError(\"Solver %s supports only 'l2' or 'none' penalties, \"\n",
      "ValueError: Solver newton-cg supports only 'l2' or 'none' penalties, got l1 penalty.\n",
      "\n",
      "  warnings.warn(\"Estimator fit failed. The score on this train-test\"\n"
     ]
    },
    {
     "name": "stdout",
     "output_type": "stream",
     "text": [
      "[CV 3/3; 136/150] END LR__C=100.0, LR__penalty=l1, LR__solver=newton-cg, imputer__n_neighbors=2; total time=   0.2s\n",
      "[CV 1/3; 137/150] START LR__C=100.0, LR__penalty=l1, LR__solver=newton-cg, imputer__n_neighbors=3\n"
     ]
    },
    {
     "name": "stderr",
     "output_type": "stream",
     "text": [
      "C:\\Users\\Matan\\anaconda3\\lib\\site-packages\\sklearn\\model_selection\\_validation.py:610: FitFailedWarning: Estimator fit failed. The score on this train-test partition for these parameters will be set to nan. Details: \n",
      "Traceback (most recent call last):\n",
      "  File \"C:\\Users\\Matan\\anaconda3\\lib\\site-packages\\sklearn\\model_selection\\_validation.py\", line 593, in _fit_and_score\n",
      "    estimator.fit(X_train, y_train, **fit_params)\n",
      "  File \"C:\\Users\\Matan\\anaconda3\\lib\\site-packages\\sklearn\\pipeline.py\", line 346, in fit\n",
      "    self._final_estimator.fit(Xt, y, **fit_params_last_step)\n",
      "  File \"C:\\Users\\Matan\\anaconda3\\lib\\site-packages\\sklearn\\linear_model\\_logistic.py\", line 1306, in fit\n",
      "    solver = _check_solver(self.solver, self.penalty, self.dual)\n",
      "  File \"C:\\Users\\Matan\\anaconda3\\lib\\site-packages\\sklearn\\linear_model\\_logistic.py\", line 443, in _check_solver\n",
      "    raise ValueError(\"Solver %s supports only 'l2' or 'none' penalties, \"\n",
      "ValueError: Solver newton-cg supports only 'l2' or 'none' penalties, got l1 penalty.\n",
      "\n",
      "  warnings.warn(\"Estimator fit failed. The score on this train-test\"\n",
      "C:\\Users\\Matan\\anaconda3\\lib\\site-packages\\sklearn\\model_selection\\_validation.py:610: FitFailedWarning: Estimator fit failed. The score on this train-test partition for these parameters will be set to nan. Details: \n",
      "Traceback (most recent call last):\n",
      "  File \"C:\\Users\\Matan\\anaconda3\\lib\\site-packages\\sklearn\\model_selection\\_validation.py\", line 593, in _fit_and_score\n",
      "    estimator.fit(X_train, y_train, **fit_params)\n",
      "  File \"C:\\Users\\Matan\\anaconda3\\lib\\site-packages\\sklearn\\pipeline.py\", line 346, in fit\n",
      "    self._final_estimator.fit(Xt, y, **fit_params_last_step)\n",
      "  File \"C:\\Users\\Matan\\anaconda3\\lib\\site-packages\\sklearn\\linear_model\\_logistic.py\", line 1306, in fit\n",
      "    solver = _check_solver(self.solver, self.penalty, self.dual)\n",
      "  File \"C:\\Users\\Matan\\anaconda3\\lib\\site-packages\\sklearn\\linear_model\\_logistic.py\", line 443, in _check_solver\n",
      "    raise ValueError(\"Solver %s supports only 'l2' or 'none' penalties, \"\n",
      "ValueError: Solver newton-cg supports only 'l2' or 'none' penalties, got l1 penalty.\n",
      "\n",
      "  warnings.warn(\"Estimator fit failed. The score on this train-test\"\n"
     ]
    },
    {
     "name": "stdout",
     "output_type": "stream",
     "text": [
      "[CV 1/3; 137/150] END LR__C=100.0, LR__penalty=l1, LR__solver=newton-cg, imputer__n_neighbors=3; total time=   0.1s\n",
      "[CV 2/3; 137/150] START LR__C=100.0, LR__penalty=l1, LR__solver=newton-cg, imputer__n_neighbors=3\n",
      "[CV 2/3; 137/150] END LR__C=100.0, LR__penalty=l1, LR__solver=newton-cg, imputer__n_neighbors=3; total time=   0.1s\n",
      "[CV 3/3; 137/150] START LR__C=100.0, LR__penalty=l1, LR__solver=newton-cg, imputer__n_neighbors=3\n"
     ]
    },
    {
     "name": "stderr",
     "output_type": "stream",
     "text": [
      "C:\\Users\\Matan\\anaconda3\\lib\\site-packages\\sklearn\\model_selection\\_validation.py:610: FitFailedWarning: Estimator fit failed. The score on this train-test partition for these parameters will be set to nan. Details: \n",
      "Traceback (most recent call last):\n",
      "  File \"C:\\Users\\Matan\\anaconda3\\lib\\site-packages\\sklearn\\model_selection\\_validation.py\", line 593, in _fit_and_score\n",
      "    estimator.fit(X_train, y_train, **fit_params)\n",
      "  File \"C:\\Users\\Matan\\anaconda3\\lib\\site-packages\\sklearn\\pipeline.py\", line 346, in fit\n",
      "    self._final_estimator.fit(Xt, y, **fit_params_last_step)\n",
      "  File \"C:\\Users\\Matan\\anaconda3\\lib\\site-packages\\sklearn\\linear_model\\_logistic.py\", line 1306, in fit\n",
      "    solver = _check_solver(self.solver, self.penalty, self.dual)\n",
      "  File \"C:\\Users\\Matan\\anaconda3\\lib\\site-packages\\sklearn\\linear_model\\_logistic.py\", line 443, in _check_solver\n",
      "    raise ValueError(\"Solver %s supports only 'l2' or 'none' penalties, \"\n",
      "ValueError: Solver newton-cg supports only 'l2' or 'none' penalties, got l1 penalty.\n",
      "\n",
      "  warnings.warn(\"Estimator fit failed. The score on this train-test\"\n"
     ]
    },
    {
     "name": "stdout",
     "output_type": "stream",
     "text": [
      "[CV 3/3; 137/150] END LR__C=100.0, LR__penalty=l1, LR__solver=newton-cg, imputer__n_neighbors=3; total time=   0.1s\n",
      "[CV 1/3; 138/150] START LR__C=100.0, LR__penalty=l1, LR__solver=newton-cg, imputer__n_neighbors=4\n"
     ]
    },
    {
     "name": "stderr",
     "output_type": "stream",
     "text": [
      "C:\\Users\\Matan\\anaconda3\\lib\\site-packages\\sklearn\\model_selection\\_validation.py:610: FitFailedWarning: Estimator fit failed. The score on this train-test partition for these parameters will be set to nan. Details: \n",
      "Traceback (most recent call last):\n",
      "  File \"C:\\Users\\Matan\\anaconda3\\lib\\site-packages\\sklearn\\model_selection\\_validation.py\", line 593, in _fit_and_score\n",
      "    estimator.fit(X_train, y_train, **fit_params)\n",
      "  File \"C:\\Users\\Matan\\anaconda3\\lib\\site-packages\\sklearn\\pipeline.py\", line 346, in fit\n",
      "    self._final_estimator.fit(Xt, y, **fit_params_last_step)\n",
      "  File \"C:\\Users\\Matan\\anaconda3\\lib\\site-packages\\sklearn\\linear_model\\_logistic.py\", line 1306, in fit\n",
      "    solver = _check_solver(self.solver, self.penalty, self.dual)\n",
      "  File \"C:\\Users\\Matan\\anaconda3\\lib\\site-packages\\sklearn\\linear_model\\_logistic.py\", line 443, in _check_solver\n",
      "    raise ValueError(\"Solver %s supports only 'l2' or 'none' penalties, \"\n",
      "ValueError: Solver newton-cg supports only 'l2' or 'none' penalties, got l1 penalty.\n",
      "\n",
      "  warnings.warn(\"Estimator fit failed. The score on this train-test\"\n"
     ]
    },
    {
     "name": "stdout",
     "output_type": "stream",
     "text": [
      "[CV 1/3; 138/150] END LR__C=100.0, LR__penalty=l1, LR__solver=newton-cg, imputer__n_neighbors=4; total time=   0.1s\n",
      "[CV 2/3; 138/150] START LR__C=100.0, LR__penalty=l1, LR__solver=newton-cg, imputer__n_neighbors=4\n"
     ]
    },
    {
     "name": "stderr",
     "output_type": "stream",
     "text": [
      "C:\\Users\\Matan\\anaconda3\\lib\\site-packages\\sklearn\\model_selection\\_validation.py:610: FitFailedWarning: Estimator fit failed. The score on this train-test partition for these parameters will be set to nan. Details: \n",
      "Traceback (most recent call last):\n",
      "  File \"C:\\Users\\Matan\\anaconda3\\lib\\site-packages\\sklearn\\model_selection\\_validation.py\", line 593, in _fit_and_score\n",
      "    estimator.fit(X_train, y_train, **fit_params)\n",
      "  File \"C:\\Users\\Matan\\anaconda3\\lib\\site-packages\\sklearn\\pipeline.py\", line 346, in fit\n",
      "    self._final_estimator.fit(Xt, y, **fit_params_last_step)\n",
      "  File \"C:\\Users\\Matan\\anaconda3\\lib\\site-packages\\sklearn\\linear_model\\_logistic.py\", line 1306, in fit\n",
      "    solver = _check_solver(self.solver, self.penalty, self.dual)\n",
      "  File \"C:\\Users\\Matan\\anaconda3\\lib\\site-packages\\sklearn\\linear_model\\_logistic.py\", line 443, in _check_solver\n",
      "    raise ValueError(\"Solver %s supports only 'l2' or 'none' penalties, \"\n",
      "ValueError: Solver newton-cg supports only 'l2' or 'none' penalties, got l1 penalty.\n",
      "\n",
      "  warnings.warn(\"Estimator fit failed. The score on this train-test\"\n",
      "C:\\Users\\Matan\\anaconda3\\lib\\site-packages\\sklearn\\model_selection\\_validation.py:610: FitFailedWarning: Estimator fit failed. The score on this train-test partition for these parameters will be set to nan. Details: \n",
      "Traceback (most recent call last):\n",
      "  File \"C:\\Users\\Matan\\anaconda3\\lib\\site-packages\\sklearn\\model_selection\\_validation.py\", line 593, in _fit_and_score\n",
      "    estimator.fit(X_train, y_train, **fit_params)\n",
      "  File \"C:\\Users\\Matan\\anaconda3\\lib\\site-packages\\sklearn\\pipeline.py\", line 346, in fit\n",
      "    self._final_estimator.fit(Xt, y, **fit_params_last_step)\n",
      "  File \"C:\\Users\\Matan\\anaconda3\\lib\\site-packages\\sklearn\\linear_model\\_logistic.py\", line 1306, in fit\n",
      "    solver = _check_solver(self.solver, self.penalty, self.dual)\n",
      "  File \"C:\\Users\\Matan\\anaconda3\\lib\\site-packages\\sklearn\\linear_model\\_logistic.py\", line 443, in _check_solver\n",
      "    raise ValueError(\"Solver %s supports only 'l2' or 'none' penalties, \"\n",
      "ValueError: Solver newton-cg supports only 'l2' or 'none' penalties, got l1 penalty.\n",
      "\n",
      "  warnings.warn(\"Estimator fit failed. The score on this train-test\"\n"
     ]
    },
    {
     "name": "stdout",
     "output_type": "stream",
     "text": [
      "[CV 2/3; 138/150] END LR__C=100.0, LR__penalty=l1, LR__solver=newton-cg, imputer__n_neighbors=4; total time=   0.2s\n",
      "[CV 3/3; 138/150] START LR__C=100.0, LR__penalty=l1, LR__solver=newton-cg, imputer__n_neighbors=4\n",
      "[CV 3/3; 138/150] END LR__C=100.0, LR__penalty=l1, LR__solver=newton-cg, imputer__n_neighbors=4; total time=   0.1s\n",
      "[CV 1/3; 139/150] START LR__C=100.0, LR__penalty=l1, LR__solver=lbfgs, imputer__n_neighbors=2\n"
     ]
    },
    {
     "name": "stderr",
     "output_type": "stream",
     "text": [
      "C:\\Users\\Matan\\anaconda3\\lib\\site-packages\\sklearn\\model_selection\\_validation.py:610: FitFailedWarning: Estimator fit failed. The score on this train-test partition for these parameters will be set to nan. Details: \n",
      "Traceback (most recent call last):\n",
      "  File \"C:\\Users\\Matan\\anaconda3\\lib\\site-packages\\sklearn\\model_selection\\_validation.py\", line 593, in _fit_and_score\n",
      "    estimator.fit(X_train, y_train, **fit_params)\n",
      "  File \"C:\\Users\\Matan\\anaconda3\\lib\\site-packages\\sklearn\\pipeline.py\", line 346, in fit\n",
      "    self._final_estimator.fit(Xt, y, **fit_params_last_step)\n",
      "  File \"C:\\Users\\Matan\\anaconda3\\lib\\site-packages\\sklearn\\linear_model\\_logistic.py\", line 1306, in fit\n",
      "    solver = _check_solver(self.solver, self.penalty, self.dual)\n",
      "  File \"C:\\Users\\Matan\\anaconda3\\lib\\site-packages\\sklearn\\linear_model\\_logistic.py\", line 443, in _check_solver\n",
      "    raise ValueError(\"Solver %s supports only 'l2' or 'none' penalties, \"\n",
      "ValueError: Solver lbfgs supports only 'l2' or 'none' penalties, got l1 penalty.\n",
      "\n",
      "  warnings.warn(\"Estimator fit failed. The score on this train-test\"\n"
     ]
    },
    {
     "name": "stdout",
     "output_type": "stream",
     "text": [
      "[CV 1/3; 139/150] END LR__C=100.0, LR__penalty=l1, LR__solver=lbfgs, imputer__n_neighbors=2; total time=   0.1s\n",
      "[CV 2/3; 139/150] START LR__C=100.0, LR__penalty=l1, LR__solver=lbfgs, imputer__n_neighbors=2\n"
     ]
    },
    {
     "name": "stderr",
     "output_type": "stream",
     "text": [
      "C:\\Users\\Matan\\anaconda3\\lib\\site-packages\\sklearn\\model_selection\\_validation.py:610: FitFailedWarning: Estimator fit failed. The score on this train-test partition for these parameters will be set to nan. Details: \n",
      "Traceback (most recent call last):\n",
      "  File \"C:\\Users\\Matan\\anaconda3\\lib\\site-packages\\sklearn\\model_selection\\_validation.py\", line 593, in _fit_and_score\n",
      "    estimator.fit(X_train, y_train, **fit_params)\n",
      "  File \"C:\\Users\\Matan\\anaconda3\\lib\\site-packages\\sklearn\\pipeline.py\", line 346, in fit\n",
      "    self._final_estimator.fit(Xt, y, **fit_params_last_step)\n",
      "  File \"C:\\Users\\Matan\\anaconda3\\lib\\site-packages\\sklearn\\linear_model\\_logistic.py\", line 1306, in fit\n",
      "    solver = _check_solver(self.solver, self.penalty, self.dual)\n",
      "  File \"C:\\Users\\Matan\\anaconda3\\lib\\site-packages\\sklearn\\linear_model\\_logistic.py\", line 443, in _check_solver\n",
      "    raise ValueError(\"Solver %s supports only 'l2' or 'none' penalties, \"\n",
      "ValueError: Solver lbfgs supports only 'l2' or 'none' penalties, got l1 penalty.\n",
      "\n",
      "  warnings.warn(\"Estimator fit failed. The score on this train-test\"\n",
      "C:\\Users\\Matan\\anaconda3\\lib\\site-packages\\sklearn\\model_selection\\_validation.py:610: FitFailedWarning: Estimator fit failed. The score on this train-test partition for these parameters will be set to nan. Details: \n",
      "Traceback (most recent call last):\n",
      "  File \"C:\\Users\\Matan\\anaconda3\\lib\\site-packages\\sklearn\\model_selection\\_validation.py\", line 593, in _fit_and_score\n",
      "    estimator.fit(X_train, y_train, **fit_params)\n",
      "  File \"C:\\Users\\Matan\\anaconda3\\lib\\site-packages\\sklearn\\pipeline.py\", line 346, in fit\n",
      "    self._final_estimator.fit(Xt, y, **fit_params_last_step)\n",
      "  File \"C:\\Users\\Matan\\anaconda3\\lib\\site-packages\\sklearn\\linear_model\\_logistic.py\", line 1306, in fit\n",
      "    solver = _check_solver(self.solver, self.penalty, self.dual)\n",
      "  File \"C:\\Users\\Matan\\anaconda3\\lib\\site-packages\\sklearn\\linear_model\\_logistic.py\", line 443, in _check_solver\n",
      "    raise ValueError(\"Solver %s supports only 'l2' or 'none' penalties, \"\n",
      "ValueError: Solver lbfgs supports only 'l2' or 'none' penalties, got l1 penalty.\n",
      "\n",
      "  warnings.warn(\"Estimator fit failed. The score on this train-test\"\n"
     ]
    },
    {
     "name": "stdout",
     "output_type": "stream",
     "text": [
      "[CV 2/3; 139/150] END LR__C=100.0, LR__penalty=l1, LR__solver=lbfgs, imputer__n_neighbors=2; total time=   0.1s\n",
      "[CV 3/3; 139/150] START LR__C=100.0, LR__penalty=l1, LR__solver=lbfgs, imputer__n_neighbors=2\n",
      "[CV 3/3; 139/150] END LR__C=100.0, LR__penalty=l1, LR__solver=lbfgs, imputer__n_neighbors=2; total time=   0.1s\n",
      "[CV 1/3; 140/150] START LR__C=100.0, LR__penalty=l1, LR__solver=lbfgs, imputer__n_neighbors=3\n"
     ]
    },
    {
     "name": "stderr",
     "output_type": "stream",
     "text": [
      "C:\\Users\\Matan\\anaconda3\\lib\\site-packages\\sklearn\\model_selection\\_validation.py:610: FitFailedWarning: Estimator fit failed. The score on this train-test partition for these parameters will be set to nan. Details: \n",
      "Traceback (most recent call last):\n",
      "  File \"C:\\Users\\Matan\\anaconda3\\lib\\site-packages\\sklearn\\model_selection\\_validation.py\", line 593, in _fit_and_score\n",
      "    estimator.fit(X_train, y_train, **fit_params)\n",
      "  File \"C:\\Users\\Matan\\anaconda3\\lib\\site-packages\\sklearn\\pipeline.py\", line 346, in fit\n",
      "    self._final_estimator.fit(Xt, y, **fit_params_last_step)\n",
      "  File \"C:\\Users\\Matan\\anaconda3\\lib\\site-packages\\sklearn\\linear_model\\_logistic.py\", line 1306, in fit\n",
      "    solver = _check_solver(self.solver, self.penalty, self.dual)\n",
      "  File \"C:\\Users\\Matan\\anaconda3\\lib\\site-packages\\sklearn\\linear_model\\_logistic.py\", line 443, in _check_solver\n",
      "    raise ValueError(\"Solver %s supports only 'l2' or 'none' penalties, \"\n",
      "ValueError: Solver lbfgs supports only 'l2' or 'none' penalties, got l1 penalty.\n",
      "\n",
      "  warnings.warn(\"Estimator fit failed. The score on this train-test\"\n"
     ]
    },
    {
     "name": "stdout",
     "output_type": "stream",
     "text": [
      "[CV 1/3; 140/150] END LR__C=100.0, LR__penalty=l1, LR__solver=lbfgs, imputer__n_neighbors=3; total time=   0.1s\n",
      "[CV 2/3; 140/150] START LR__C=100.0, LR__penalty=l1, LR__solver=lbfgs, imputer__n_neighbors=3\n"
     ]
    },
    {
     "name": "stderr",
     "output_type": "stream",
     "text": [
      "C:\\Users\\Matan\\anaconda3\\lib\\site-packages\\sklearn\\model_selection\\_validation.py:610: FitFailedWarning: Estimator fit failed. The score on this train-test partition for these parameters will be set to nan. Details: \n",
      "Traceback (most recent call last):\n",
      "  File \"C:\\Users\\Matan\\anaconda3\\lib\\site-packages\\sklearn\\model_selection\\_validation.py\", line 593, in _fit_and_score\n",
      "    estimator.fit(X_train, y_train, **fit_params)\n",
      "  File \"C:\\Users\\Matan\\anaconda3\\lib\\site-packages\\sklearn\\pipeline.py\", line 346, in fit\n",
      "    self._final_estimator.fit(Xt, y, **fit_params_last_step)\n",
      "  File \"C:\\Users\\Matan\\anaconda3\\lib\\site-packages\\sklearn\\linear_model\\_logistic.py\", line 1306, in fit\n",
      "    solver = _check_solver(self.solver, self.penalty, self.dual)\n",
      "  File \"C:\\Users\\Matan\\anaconda3\\lib\\site-packages\\sklearn\\linear_model\\_logistic.py\", line 443, in _check_solver\n",
      "    raise ValueError(\"Solver %s supports only 'l2' or 'none' penalties, \"\n",
      "ValueError: Solver lbfgs supports only 'l2' or 'none' penalties, got l1 penalty.\n",
      "\n",
      "  warnings.warn(\"Estimator fit failed. The score on this train-test\"\n"
     ]
    },
    {
     "name": "stdout",
     "output_type": "stream",
     "text": [
      "[CV 2/3; 140/150] END LR__C=100.0, LR__penalty=l1, LR__solver=lbfgs, imputer__n_neighbors=3; total time=   0.1s\n",
      "[CV 3/3; 140/150] START LR__C=100.0, LR__penalty=l1, LR__solver=lbfgs, imputer__n_neighbors=3\n"
     ]
    },
    {
     "name": "stderr",
     "output_type": "stream",
     "text": [
      "C:\\Users\\Matan\\anaconda3\\lib\\site-packages\\sklearn\\model_selection\\_validation.py:610: FitFailedWarning: Estimator fit failed. The score on this train-test partition for these parameters will be set to nan. Details: \n",
      "Traceback (most recent call last):\n",
      "  File \"C:\\Users\\Matan\\anaconda3\\lib\\site-packages\\sklearn\\model_selection\\_validation.py\", line 593, in _fit_and_score\n",
      "    estimator.fit(X_train, y_train, **fit_params)\n",
      "  File \"C:\\Users\\Matan\\anaconda3\\lib\\site-packages\\sklearn\\pipeline.py\", line 346, in fit\n",
      "    self._final_estimator.fit(Xt, y, **fit_params_last_step)\n",
      "  File \"C:\\Users\\Matan\\anaconda3\\lib\\site-packages\\sklearn\\linear_model\\_logistic.py\", line 1306, in fit\n",
      "    solver = _check_solver(self.solver, self.penalty, self.dual)\n",
      "  File \"C:\\Users\\Matan\\anaconda3\\lib\\site-packages\\sklearn\\linear_model\\_logistic.py\", line 443, in _check_solver\n",
      "    raise ValueError(\"Solver %s supports only 'l2' or 'none' penalties, \"\n",
      "ValueError: Solver lbfgs supports only 'l2' or 'none' penalties, got l1 penalty.\n",
      "\n",
      "  warnings.warn(\"Estimator fit failed. The score on this train-test\"\n"
     ]
    },
    {
     "name": "stdout",
     "output_type": "stream",
     "text": [
      "[CV 3/3; 140/150] END LR__C=100.0, LR__penalty=l1, LR__solver=lbfgs, imputer__n_neighbors=3; total time=   0.2s\n",
      "[CV 1/3; 141/150] START LR__C=100.0, LR__penalty=l1, LR__solver=lbfgs, imputer__n_neighbors=4\n"
     ]
    },
    {
     "name": "stderr",
     "output_type": "stream",
     "text": [
      "C:\\Users\\Matan\\anaconda3\\lib\\site-packages\\sklearn\\model_selection\\_validation.py:610: FitFailedWarning: Estimator fit failed. The score on this train-test partition for these parameters will be set to nan. Details: \n",
      "Traceback (most recent call last):\n",
      "  File \"C:\\Users\\Matan\\anaconda3\\lib\\site-packages\\sklearn\\model_selection\\_validation.py\", line 593, in _fit_and_score\n",
      "    estimator.fit(X_train, y_train, **fit_params)\n",
      "  File \"C:\\Users\\Matan\\anaconda3\\lib\\site-packages\\sklearn\\pipeline.py\", line 346, in fit\n",
      "    self._final_estimator.fit(Xt, y, **fit_params_last_step)\n",
      "  File \"C:\\Users\\Matan\\anaconda3\\lib\\site-packages\\sklearn\\linear_model\\_logistic.py\", line 1306, in fit\n",
      "    solver = _check_solver(self.solver, self.penalty, self.dual)\n",
      "  File \"C:\\Users\\Matan\\anaconda3\\lib\\site-packages\\sklearn\\linear_model\\_logistic.py\", line 443, in _check_solver\n",
      "    raise ValueError(\"Solver %s supports only 'l2' or 'none' penalties, \"\n",
      "ValueError: Solver lbfgs supports only 'l2' or 'none' penalties, got l1 penalty.\n",
      "\n",
      "  warnings.warn(\"Estimator fit failed. The score on this train-test\"\n"
     ]
    },
    {
     "name": "stdout",
     "output_type": "stream",
     "text": [
      "[CV 1/3; 141/150] END LR__C=100.0, LR__penalty=l1, LR__solver=lbfgs, imputer__n_neighbors=4; total time=   0.2s\n",
      "[CV 2/3; 141/150] START LR__C=100.0, LR__penalty=l1, LR__solver=lbfgs, imputer__n_neighbors=4\n"
     ]
    },
    {
     "name": "stderr",
     "output_type": "stream",
     "text": [
      "C:\\Users\\Matan\\anaconda3\\lib\\site-packages\\sklearn\\model_selection\\_validation.py:610: FitFailedWarning: Estimator fit failed. The score on this train-test partition for these parameters will be set to nan. Details: \n",
      "Traceback (most recent call last):\n",
      "  File \"C:\\Users\\Matan\\anaconda3\\lib\\site-packages\\sklearn\\model_selection\\_validation.py\", line 593, in _fit_and_score\n",
      "    estimator.fit(X_train, y_train, **fit_params)\n",
      "  File \"C:\\Users\\Matan\\anaconda3\\lib\\site-packages\\sklearn\\pipeline.py\", line 346, in fit\n",
      "    self._final_estimator.fit(Xt, y, **fit_params_last_step)\n",
      "  File \"C:\\Users\\Matan\\anaconda3\\lib\\site-packages\\sklearn\\linear_model\\_logistic.py\", line 1306, in fit\n",
      "    solver = _check_solver(self.solver, self.penalty, self.dual)\n",
      "  File \"C:\\Users\\Matan\\anaconda3\\lib\\site-packages\\sklearn\\linear_model\\_logistic.py\", line 443, in _check_solver\n",
      "    raise ValueError(\"Solver %s supports only 'l2' or 'none' penalties, \"\n",
      "ValueError: Solver lbfgs supports only 'l2' or 'none' penalties, got l1 penalty.\n",
      "\n",
      "  warnings.warn(\"Estimator fit failed. The score on this train-test\"\n"
     ]
    },
    {
     "name": "stdout",
     "output_type": "stream",
     "text": [
      "[CV 2/3; 141/150] END LR__C=100.0, LR__penalty=l1, LR__solver=lbfgs, imputer__n_neighbors=4; total time=   0.2s\n",
      "[CV 3/3; 141/150] START LR__C=100.0, LR__penalty=l1, LR__solver=lbfgs, imputer__n_neighbors=4\n"
     ]
    },
    {
     "name": "stderr",
     "output_type": "stream",
     "text": [
      "C:\\Users\\Matan\\anaconda3\\lib\\site-packages\\sklearn\\model_selection\\_validation.py:610: FitFailedWarning: Estimator fit failed. The score on this train-test partition for these parameters will be set to nan. Details: \n",
      "Traceback (most recent call last):\n",
      "  File \"C:\\Users\\Matan\\anaconda3\\lib\\site-packages\\sklearn\\model_selection\\_validation.py\", line 593, in _fit_and_score\n",
      "    estimator.fit(X_train, y_train, **fit_params)\n",
      "  File \"C:\\Users\\Matan\\anaconda3\\lib\\site-packages\\sklearn\\pipeline.py\", line 346, in fit\n",
      "    self._final_estimator.fit(Xt, y, **fit_params_last_step)\n",
      "  File \"C:\\Users\\Matan\\anaconda3\\lib\\site-packages\\sklearn\\linear_model\\_logistic.py\", line 1306, in fit\n",
      "    solver = _check_solver(self.solver, self.penalty, self.dual)\n",
      "  File \"C:\\Users\\Matan\\anaconda3\\lib\\site-packages\\sklearn\\linear_model\\_logistic.py\", line 443, in _check_solver\n",
      "    raise ValueError(\"Solver %s supports only 'l2' or 'none' penalties, \"\n",
      "ValueError: Solver lbfgs supports only 'l2' or 'none' penalties, got l1 penalty.\n",
      "\n",
      "  warnings.warn(\"Estimator fit failed. The score on this train-test\"\n"
     ]
    },
    {
     "name": "stdout",
     "output_type": "stream",
     "text": [
      "[CV 3/3; 141/150] END LR__C=100.0, LR__penalty=l1, LR__solver=lbfgs, imputer__n_neighbors=4; total time=   0.2s\n",
      "[CV 1/3; 142/150] START LR__C=100.0, LR__penalty=l1, LR__solver=liblinear, imputer__n_neighbors=2\n"
     ]
    },
    {
     "name": "stderr",
     "output_type": "stream",
     "text": [
      "C:\\Users\\Matan\\anaconda3\\lib\\site-packages\\sklearn\\svm\\_base.py:985: ConvergenceWarning: Liblinear failed to converge, increase the number of iterations.\n",
      "  warnings.warn(\"Liblinear failed to converge, increase \"\n"
     ]
    },
    {
     "name": "stdout",
     "output_type": "stream",
     "text": [
      "[CV 1/3; 142/150] END LR__C=100.0, LR__penalty=l1, LR__solver=liblinear, imputer__n_neighbors=2; total time= 3.6min\n",
      "[CV 2/3; 142/150] START LR__C=100.0, LR__penalty=l1, LR__solver=liblinear, imputer__n_neighbors=2\n"
     ]
    },
    {
     "name": "stderr",
     "output_type": "stream",
     "text": [
      "C:\\Users\\Matan\\anaconda3\\lib\\site-packages\\sklearn\\svm\\_base.py:985: ConvergenceWarning: Liblinear failed to converge, increase the number of iterations.\n",
      "  warnings.warn(\"Liblinear failed to converge, increase \"\n"
     ]
    },
    {
     "name": "stdout",
     "output_type": "stream",
     "text": [
      "[CV 2/3; 142/150] END LR__C=100.0, LR__penalty=l1, LR__solver=liblinear, imputer__n_neighbors=2; total time= 3.7min\n",
      "[CV 3/3; 142/150] START LR__C=100.0, LR__penalty=l1, LR__solver=liblinear, imputer__n_neighbors=2\n"
     ]
    },
    {
     "name": "stderr",
     "output_type": "stream",
     "text": [
      "C:\\Users\\Matan\\anaconda3\\lib\\site-packages\\sklearn\\svm\\_base.py:985: ConvergenceWarning: Liblinear failed to converge, increase the number of iterations.\n",
      "  warnings.warn(\"Liblinear failed to converge, increase \"\n"
     ]
    },
    {
     "name": "stdout",
     "output_type": "stream",
     "text": [
      "[CV 3/3; 142/150] END LR__C=100.0, LR__penalty=l1, LR__solver=liblinear, imputer__n_neighbors=2; total time= 3.7min\n",
      "[CV 1/3; 143/150] START LR__C=100.0, LR__penalty=l1, LR__solver=liblinear, imputer__n_neighbors=3\n"
     ]
    },
    {
     "name": "stderr",
     "output_type": "stream",
     "text": [
      "C:\\Users\\Matan\\anaconda3\\lib\\site-packages\\sklearn\\svm\\_base.py:985: ConvergenceWarning: Liblinear failed to converge, increase the number of iterations.\n",
      "  warnings.warn(\"Liblinear failed to converge, increase \"\n"
     ]
    },
    {
     "name": "stdout",
     "output_type": "stream",
     "text": [
      "[CV 1/3; 143/150] END LR__C=100.0, LR__penalty=l1, LR__solver=liblinear, imputer__n_neighbors=3; total time= 4.0min\n",
      "[CV 2/3; 143/150] START LR__C=100.0, LR__penalty=l1, LR__solver=liblinear, imputer__n_neighbors=3\n"
     ]
    },
    {
     "name": "stderr",
     "output_type": "stream",
     "text": [
      "C:\\Users\\Matan\\anaconda3\\lib\\site-packages\\sklearn\\svm\\_base.py:985: ConvergenceWarning: Liblinear failed to converge, increase the number of iterations.\n",
      "  warnings.warn(\"Liblinear failed to converge, increase \"\n"
     ]
    },
    {
     "name": "stdout",
     "output_type": "stream",
     "text": [
      "[CV 2/3; 143/150] END LR__C=100.0, LR__penalty=l1, LR__solver=liblinear, imputer__n_neighbors=3; total time= 4.1min\n",
      "[CV 3/3; 143/150] START LR__C=100.0, LR__penalty=l1, LR__solver=liblinear, imputer__n_neighbors=3\n"
     ]
    },
    {
     "name": "stderr",
     "output_type": "stream",
     "text": [
      "C:\\Users\\Matan\\anaconda3\\lib\\site-packages\\sklearn\\svm\\_base.py:985: ConvergenceWarning: Liblinear failed to converge, increase the number of iterations.\n",
      "  warnings.warn(\"Liblinear failed to converge, increase \"\n"
     ]
    },
    {
     "name": "stdout",
     "output_type": "stream",
     "text": [
      "[CV 3/3; 143/150] END LR__C=100.0, LR__penalty=l1, LR__solver=liblinear, imputer__n_neighbors=3; total time= 4.1min\n",
      "[CV 1/3; 144/150] START LR__C=100.0, LR__penalty=l1, LR__solver=liblinear, imputer__n_neighbors=4\n"
     ]
    },
    {
     "name": "stderr",
     "output_type": "stream",
     "text": [
      "C:\\Users\\Matan\\anaconda3\\lib\\site-packages\\sklearn\\svm\\_base.py:985: ConvergenceWarning: Liblinear failed to converge, increase the number of iterations.\n",
      "  warnings.warn(\"Liblinear failed to converge, increase \"\n"
     ]
    },
    {
     "name": "stdout",
     "output_type": "stream",
     "text": [
      "[CV 1/3; 144/150] END LR__C=100.0, LR__penalty=l1, LR__solver=liblinear, imputer__n_neighbors=4; total time= 4.2min\n",
      "[CV 2/3; 144/150] START LR__C=100.0, LR__penalty=l1, LR__solver=liblinear, imputer__n_neighbors=4\n"
     ]
    },
    {
     "name": "stderr",
     "output_type": "stream",
     "text": [
      "C:\\Users\\Matan\\anaconda3\\lib\\site-packages\\sklearn\\svm\\_base.py:985: ConvergenceWarning: Liblinear failed to converge, increase the number of iterations.\n",
      "  warnings.warn(\"Liblinear failed to converge, increase \"\n"
     ]
    },
    {
     "name": "stdout",
     "output_type": "stream",
     "text": [
      "[CV 2/3; 144/150] END LR__C=100.0, LR__penalty=l1, LR__solver=liblinear, imputer__n_neighbors=4; total time= 3.7min\n",
      "[CV 3/3; 144/150] START LR__C=100.0, LR__penalty=l1, LR__solver=liblinear, imputer__n_neighbors=4\n"
     ]
    },
    {
     "name": "stderr",
     "output_type": "stream",
     "text": [
      "C:\\Users\\Matan\\anaconda3\\lib\\site-packages\\sklearn\\svm\\_base.py:985: ConvergenceWarning: Liblinear failed to converge, increase the number of iterations.\n",
      "  warnings.warn(\"Liblinear failed to converge, increase \"\n"
     ]
    },
    {
     "name": "stdout",
     "output_type": "stream",
     "text": [
      "[CV 3/3; 144/150] END LR__C=100.0, LR__penalty=l1, LR__solver=liblinear, imputer__n_neighbors=4; total time= 3.7min\n",
      "[CV 1/3; 145/150] START LR__C=100.0, LR__penalty=l1, LR__solver=sag, imputer__n_neighbors=2\n"
     ]
    },
    {
     "name": "stderr",
     "output_type": "stream",
     "text": [
      "C:\\Users\\Matan\\anaconda3\\lib\\site-packages\\sklearn\\model_selection\\_validation.py:610: FitFailedWarning: Estimator fit failed. The score on this train-test partition for these parameters will be set to nan. Details: \n",
      "Traceback (most recent call last):\n",
      "  File \"C:\\Users\\Matan\\anaconda3\\lib\\site-packages\\sklearn\\model_selection\\_validation.py\", line 593, in _fit_and_score\n",
      "    estimator.fit(X_train, y_train, **fit_params)\n",
      "  File \"C:\\Users\\Matan\\anaconda3\\lib\\site-packages\\sklearn\\pipeline.py\", line 346, in fit\n",
      "    self._final_estimator.fit(Xt, y, **fit_params_last_step)\n",
      "  File \"C:\\Users\\Matan\\anaconda3\\lib\\site-packages\\sklearn\\linear_model\\_logistic.py\", line 1306, in fit\n",
      "    solver = _check_solver(self.solver, self.penalty, self.dual)\n",
      "  File \"C:\\Users\\Matan\\anaconda3\\lib\\site-packages\\sklearn\\linear_model\\_logistic.py\", line 443, in _check_solver\n",
      "    raise ValueError(\"Solver %s supports only 'l2' or 'none' penalties, \"\n",
      "ValueError: Solver sag supports only 'l2' or 'none' penalties, got l1 penalty.\n",
      "\n",
      "  warnings.warn(\"Estimator fit failed. The score on this train-test\"\n"
     ]
    },
    {
     "name": "stdout",
     "output_type": "stream",
     "text": [
      "[CV 1/3; 145/150] END LR__C=100.0, LR__penalty=l1, LR__solver=sag, imputer__n_neighbors=2; total time=   0.2s\n",
      "[CV 2/3; 145/150] START LR__C=100.0, LR__penalty=l1, LR__solver=sag, imputer__n_neighbors=2\n"
     ]
    },
    {
     "name": "stderr",
     "output_type": "stream",
     "text": [
      "C:\\Users\\Matan\\anaconda3\\lib\\site-packages\\sklearn\\model_selection\\_validation.py:610: FitFailedWarning: Estimator fit failed. The score on this train-test partition for these parameters will be set to nan. Details: \n",
      "Traceback (most recent call last):\n",
      "  File \"C:\\Users\\Matan\\anaconda3\\lib\\site-packages\\sklearn\\model_selection\\_validation.py\", line 593, in _fit_and_score\n",
      "    estimator.fit(X_train, y_train, **fit_params)\n",
      "  File \"C:\\Users\\Matan\\anaconda3\\lib\\site-packages\\sklearn\\pipeline.py\", line 346, in fit\n",
      "    self._final_estimator.fit(Xt, y, **fit_params_last_step)\n",
      "  File \"C:\\Users\\Matan\\anaconda3\\lib\\site-packages\\sklearn\\linear_model\\_logistic.py\", line 1306, in fit\n",
      "    solver = _check_solver(self.solver, self.penalty, self.dual)\n",
      "  File \"C:\\Users\\Matan\\anaconda3\\lib\\site-packages\\sklearn\\linear_model\\_logistic.py\", line 443, in _check_solver\n",
      "    raise ValueError(\"Solver %s supports only 'l2' or 'none' penalties, \"\n",
      "ValueError: Solver sag supports only 'l2' or 'none' penalties, got l1 penalty.\n",
      "\n",
      "  warnings.warn(\"Estimator fit failed. The score on this train-test\"\n",
      "C:\\Users\\Matan\\anaconda3\\lib\\site-packages\\sklearn\\model_selection\\_validation.py:610: FitFailedWarning: Estimator fit failed. The score on this train-test partition for these parameters will be set to nan. Details: \n",
      "Traceback (most recent call last):\n",
      "  File \"C:\\Users\\Matan\\anaconda3\\lib\\site-packages\\sklearn\\model_selection\\_validation.py\", line 593, in _fit_and_score\n",
      "    estimator.fit(X_train, y_train, **fit_params)\n",
      "  File \"C:\\Users\\Matan\\anaconda3\\lib\\site-packages\\sklearn\\pipeline.py\", line 346, in fit\n",
      "    self._final_estimator.fit(Xt, y, **fit_params_last_step)\n",
      "  File \"C:\\Users\\Matan\\anaconda3\\lib\\site-packages\\sklearn\\linear_model\\_logistic.py\", line 1306, in fit\n",
      "    solver = _check_solver(self.solver, self.penalty, self.dual)\n",
      "  File \"C:\\Users\\Matan\\anaconda3\\lib\\site-packages\\sklearn\\linear_model\\_logistic.py\", line 443, in _check_solver\n",
      "    raise ValueError(\"Solver %s supports only 'l2' or 'none' penalties, \"\n",
      "ValueError: Solver sag supports only 'l2' or 'none' penalties, got l1 penalty.\n",
      "\n",
      "  warnings.warn(\"Estimator fit failed. The score on this train-test\"\n"
     ]
    },
    {
     "name": "stdout",
     "output_type": "stream",
     "text": [
      "[CV 2/3; 145/150] END LR__C=100.0, LR__penalty=l1, LR__solver=sag, imputer__n_neighbors=2; total time=   0.2s\n",
      "[CV 3/3; 145/150] START LR__C=100.0, LR__penalty=l1, LR__solver=sag, imputer__n_neighbors=2\n",
      "[CV 3/3; 145/150] END LR__C=100.0, LR__penalty=l1, LR__solver=sag, imputer__n_neighbors=2; total time=   0.1s\n",
      "[CV 1/3; 146/150] START LR__C=100.0, LR__penalty=l1, LR__solver=sag, imputer__n_neighbors=3\n"
     ]
    },
    {
     "name": "stderr",
     "output_type": "stream",
     "text": [
      "C:\\Users\\Matan\\anaconda3\\lib\\site-packages\\sklearn\\model_selection\\_validation.py:610: FitFailedWarning: Estimator fit failed. The score on this train-test partition for these parameters will be set to nan. Details: \n",
      "Traceback (most recent call last):\n",
      "  File \"C:\\Users\\Matan\\anaconda3\\lib\\site-packages\\sklearn\\model_selection\\_validation.py\", line 593, in _fit_and_score\n",
      "    estimator.fit(X_train, y_train, **fit_params)\n",
      "  File \"C:\\Users\\Matan\\anaconda3\\lib\\site-packages\\sklearn\\pipeline.py\", line 346, in fit\n",
      "    self._final_estimator.fit(Xt, y, **fit_params_last_step)\n",
      "  File \"C:\\Users\\Matan\\anaconda3\\lib\\site-packages\\sklearn\\linear_model\\_logistic.py\", line 1306, in fit\n",
      "    solver = _check_solver(self.solver, self.penalty, self.dual)\n",
      "  File \"C:\\Users\\Matan\\anaconda3\\lib\\site-packages\\sklearn\\linear_model\\_logistic.py\", line 443, in _check_solver\n",
      "    raise ValueError(\"Solver %s supports only 'l2' or 'none' penalties, \"\n",
      "ValueError: Solver sag supports only 'l2' or 'none' penalties, got l1 penalty.\n",
      "\n",
      "  warnings.warn(\"Estimator fit failed. The score on this train-test\"\n",
      "C:\\Users\\Matan\\anaconda3\\lib\\site-packages\\sklearn\\model_selection\\_validation.py:610: FitFailedWarning: Estimator fit failed. The score on this train-test partition for these parameters will be set to nan. Details: \n",
      "Traceback (most recent call last):\n",
      "  File \"C:\\Users\\Matan\\anaconda3\\lib\\site-packages\\sklearn\\model_selection\\_validation.py\", line 593, in _fit_and_score\n",
      "    estimator.fit(X_train, y_train, **fit_params)\n",
      "  File \"C:\\Users\\Matan\\anaconda3\\lib\\site-packages\\sklearn\\pipeline.py\", line 346, in fit\n",
      "    self._final_estimator.fit(Xt, y, **fit_params_last_step)\n",
      "  File \"C:\\Users\\Matan\\anaconda3\\lib\\site-packages\\sklearn\\linear_model\\_logistic.py\", line 1306, in fit\n",
      "    solver = _check_solver(self.solver, self.penalty, self.dual)\n",
      "  File \"C:\\Users\\Matan\\anaconda3\\lib\\site-packages\\sklearn\\linear_model\\_logistic.py\", line 443, in _check_solver\n",
      "    raise ValueError(\"Solver %s supports only 'l2' or 'none' penalties, \"\n",
      "ValueError: Solver sag supports only 'l2' or 'none' penalties, got l1 penalty.\n",
      "\n",
      "  warnings.warn(\"Estimator fit failed. The score on this train-test\"\n"
     ]
    },
    {
     "name": "stdout",
     "output_type": "stream",
     "text": [
      "[CV 1/3; 146/150] END LR__C=100.0, LR__penalty=l1, LR__solver=sag, imputer__n_neighbors=3; total time=   0.1s\n",
      "[CV 2/3; 146/150] START LR__C=100.0, LR__penalty=l1, LR__solver=sag, imputer__n_neighbors=3\n"
     ]
    },
    {
     "name": "stderr",
     "output_type": "stream",
     "text": [
      "C:\\Users\\Matan\\anaconda3\\lib\\site-packages\\sklearn\\model_selection\\_validation.py:610: FitFailedWarning: Estimator fit failed. The score on this train-test partition for these parameters will be set to nan. Details: \n",
      "Traceback (most recent call last):\n",
      "  File \"C:\\Users\\Matan\\anaconda3\\lib\\site-packages\\sklearn\\model_selection\\_validation.py\", line 593, in _fit_and_score\n",
      "    estimator.fit(X_train, y_train, **fit_params)\n",
      "  File \"C:\\Users\\Matan\\anaconda3\\lib\\site-packages\\sklearn\\pipeline.py\", line 346, in fit\n",
      "    self._final_estimator.fit(Xt, y, **fit_params_last_step)\n",
      "  File \"C:\\Users\\Matan\\anaconda3\\lib\\site-packages\\sklearn\\linear_model\\_logistic.py\", line 1306, in fit\n",
      "    solver = _check_solver(self.solver, self.penalty, self.dual)\n",
      "  File \"C:\\Users\\Matan\\anaconda3\\lib\\site-packages\\sklearn\\linear_model\\_logistic.py\", line 443, in _check_solver\n",
      "    raise ValueError(\"Solver %s supports only 'l2' or 'none' penalties, \"\n",
      "ValueError: Solver sag supports only 'l2' or 'none' penalties, got l1 penalty.\n",
      "\n",
      "  warnings.warn(\"Estimator fit failed. The score on this train-test\"\n"
     ]
    },
    {
     "name": "stdout",
     "output_type": "stream",
     "text": [
      "[CV 2/3; 146/150] END LR__C=100.0, LR__penalty=l1, LR__solver=sag, imputer__n_neighbors=3; total time=   0.1s\n",
      "[CV 3/3; 146/150] START LR__C=100.0, LR__penalty=l1, LR__solver=sag, imputer__n_neighbors=3\n"
     ]
    },
    {
     "name": "stderr",
     "output_type": "stream",
     "text": [
      "C:\\Users\\Matan\\anaconda3\\lib\\site-packages\\sklearn\\model_selection\\_validation.py:610: FitFailedWarning: Estimator fit failed. The score on this train-test partition for these parameters will be set to nan. Details: \n",
      "Traceback (most recent call last):\n",
      "  File \"C:\\Users\\Matan\\anaconda3\\lib\\site-packages\\sklearn\\model_selection\\_validation.py\", line 593, in _fit_and_score\n",
      "    estimator.fit(X_train, y_train, **fit_params)\n",
      "  File \"C:\\Users\\Matan\\anaconda3\\lib\\site-packages\\sklearn\\pipeline.py\", line 346, in fit\n",
      "    self._final_estimator.fit(Xt, y, **fit_params_last_step)\n",
      "  File \"C:\\Users\\Matan\\anaconda3\\lib\\site-packages\\sklearn\\linear_model\\_logistic.py\", line 1306, in fit\n",
      "    solver = _check_solver(self.solver, self.penalty, self.dual)\n",
      "  File \"C:\\Users\\Matan\\anaconda3\\lib\\site-packages\\sklearn\\linear_model\\_logistic.py\", line 443, in _check_solver\n",
      "    raise ValueError(\"Solver %s supports only 'l2' or 'none' penalties, \"\n",
      "ValueError: Solver sag supports only 'l2' or 'none' penalties, got l1 penalty.\n",
      "\n",
      "  warnings.warn(\"Estimator fit failed. The score on this train-test\"\n"
     ]
    },
    {
     "name": "stdout",
     "output_type": "stream",
     "text": [
      "[CV 3/3; 146/150] END LR__C=100.0, LR__penalty=l1, LR__solver=sag, imputer__n_neighbors=3; total time=   0.1s\n",
      "[CV 1/3; 147/150] START LR__C=100.0, LR__penalty=l1, LR__solver=sag, imputer__n_neighbors=4\n",
      "[CV 1/3; 147/150] END LR__C=100.0, LR__penalty=l1, LR__solver=sag, imputer__n_neighbors=4; total time=   0.1s\n",
      "[CV 2/3; 147/150] START LR__C=100.0, LR__penalty=l1, LR__solver=sag, imputer__n_neighbors=4\n"
     ]
    },
    {
     "name": "stderr",
     "output_type": "stream",
     "text": [
      "C:\\Users\\Matan\\anaconda3\\lib\\site-packages\\sklearn\\model_selection\\_validation.py:610: FitFailedWarning: Estimator fit failed. The score on this train-test partition for these parameters will be set to nan. Details: \n",
      "Traceback (most recent call last):\n",
      "  File \"C:\\Users\\Matan\\anaconda3\\lib\\site-packages\\sklearn\\model_selection\\_validation.py\", line 593, in _fit_and_score\n",
      "    estimator.fit(X_train, y_train, **fit_params)\n",
      "  File \"C:\\Users\\Matan\\anaconda3\\lib\\site-packages\\sklearn\\pipeline.py\", line 346, in fit\n",
      "    self._final_estimator.fit(Xt, y, **fit_params_last_step)\n",
      "  File \"C:\\Users\\Matan\\anaconda3\\lib\\site-packages\\sklearn\\linear_model\\_logistic.py\", line 1306, in fit\n",
      "    solver = _check_solver(self.solver, self.penalty, self.dual)\n",
      "  File \"C:\\Users\\Matan\\anaconda3\\lib\\site-packages\\sklearn\\linear_model\\_logistic.py\", line 443, in _check_solver\n",
      "    raise ValueError(\"Solver %s supports only 'l2' or 'none' penalties, \"\n",
      "ValueError: Solver sag supports only 'l2' or 'none' penalties, got l1 penalty.\n",
      "\n",
      "  warnings.warn(\"Estimator fit failed. The score on this train-test\"\n",
      "C:\\Users\\Matan\\anaconda3\\lib\\site-packages\\sklearn\\model_selection\\_validation.py:610: FitFailedWarning: Estimator fit failed. The score on this train-test partition for these parameters will be set to nan. Details: \n",
      "Traceback (most recent call last):\n",
      "  File \"C:\\Users\\Matan\\anaconda3\\lib\\site-packages\\sklearn\\model_selection\\_validation.py\", line 593, in _fit_and_score\n",
      "    estimator.fit(X_train, y_train, **fit_params)\n",
      "  File \"C:\\Users\\Matan\\anaconda3\\lib\\site-packages\\sklearn\\pipeline.py\", line 346, in fit\n",
      "    self._final_estimator.fit(Xt, y, **fit_params_last_step)\n",
      "  File \"C:\\Users\\Matan\\anaconda3\\lib\\site-packages\\sklearn\\linear_model\\_logistic.py\", line 1306, in fit\n",
      "    solver = _check_solver(self.solver, self.penalty, self.dual)\n",
      "  File \"C:\\Users\\Matan\\anaconda3\\lib\\site-packages\\sklearn\\linear_model\\_logistic.py\", line 443, in _check_solver\n",
      "    raise ValueError(\"Solver %s supports only 'l2' or 'none' penalties, \"\n",
      "ValueError: Solver sag supports only 'l2' or 'none' penalties, got l1 penalty.\n",
      "\n",
      "  warnings.warn(\"Estimator fit failed. The score on this train-test\"\n"
     ]
    },
    {
     "name": "stdout",
     "output_type": "stream",
     "text": [
      "[CV 2/3; 147/150] END LR__C=100.0, LR__penalty=l1, LR__solver=sag, imputer__n_neighbors=4; total time=   0.1s\n",
      "[CV 3/3; 147/150] START LR__C=100.0, LR__penalty=l1, LR__solver=sag, imputer__n_neighbors=4\n",
      "[CV 3/3; 147/150] END LR__C=100.0, LR__penalty=l1, LR__solver=sag, imputer__n_neighbors=4; total time=   0.1s\n",
      "[CV 1/3; 148/150] START LR__C=100.0, LR__penalty=l1, LR__solver=saga, imputer__n_neighbors=2\n"
     ]
    },
    {
     "name": "stderr",
     "output_type": "stream",
     "text": [
      "C:\\Users\\Matan\\anaconda3\\lib\\site-packages\\sklearn\\linear_model\\_sag.py:328: ConvergenceWarning: The max_iter was reached which means the coef_ did not converge\n",
      "  warnings.warn(\"The max_iter was reached which means \"\n"
     ]
    },
    {
     "name": "stdout",
     "output_type": "stream",
     "text": [
      "[CV 1/3; 148/150] END LR__C=100.0, LR__penalty=l1, LR__solver=saga, imputer__n_neighbors=2; total time=   9.3s\n",
      "[CV 2/3; 148/150] START LR__C=100.0, LR__penalty=l1, LR__solver=saga, imputer__n_neighbors=2\n"
     ]
    },
    {
     "name": "stderr",
     "output_type": "stream",
     "text": [
      "C:\\Users\\Matan\\anaconda3\\lib\\site-packages\\sklearn\\linear_model\\_sag.py:328: ConvergenceWarning: The max_iter was reached which means the coef_ did not converge\n",
      "  warnings.warn(\"The max_iter was reached which means \"\n"
     ]
    },
    {
     "name": "stdout",
     "output_type": "stream",
     "text": [
      "[CV 2/3; 148/150] END LR__C=100.0, LR__penalty=l1, LR__solver=saga, imputer__n_neighbors=2; total time=   9.3s\n",
      "[CV 3/3; 148/150] START LR__C=100.0, LR__penalty=l1, LR__solver=saga, imputer__n_neighbors=2\n"
     ]
    },
    {
     "name": "stderr",
     "output_type": "stream",
     "text": [
      "C:\\Users\\Matan\\anaconda3\\lib\\site-packages\\sklearn\\linear_model\\_sag.py:328: ConvergenceWarning: The max_iter was reached which means the coef_ did not converge\n",
      "  warnings.warn(\"The max_iter was reached which means \"\n"
     ]
    },
    {
     "name": "stdout",
     "output_type": "stream",
     "text": [
      "[CV 3/3; 148/150] END LR__C=100.0, LR__penalty=l1, LR__solver=saga, imputer__n_neighbors=2; total time=   9.9s\n",
      "[CV 1/3; 149/150] START LR__C=100.0, LR__penalty=l1, LR__solver=saga, imputer__n_neighbors=3\n"
     ]
    },
    {
     "name": "stderr",
     "output_type": "stream",
     "text": [
      "C:\\Users\\Matan\\anaconda3\\lib\\site-packages\\sklearn\\linear_model\\_sag.py:328: ConvergenceWarning: The max_iter was reached which means the coef_ did not converge\n",
      "  warnings.warn(\"The max_iter was reached which means \"\n"
     ]
    },
    {
     "name": "stdout",
     "output_type": "stream",
     "text": [
      "[CV 1/3; 149/150] END LR__C=100.0, LR__penalty=l1, LR__solver=saga, imputer__n_neighbors=3; total time=   9.9s\n",
      "[CV 2/3; 149/150] START LR__C=100.0, LR__penalty=l1, LR__solver=saga, imputer__n_neighbors=3\n"
     ]
    },
    {
     "name": "stderr",
     "output_type": "stream",
     "text": [
      "C:\\Users\\Matan\\anaconda3\\lib\\site-packages\\sklearn\\linear_model\\_sag.py:328: ConvergenceWarning: The max_iter was reached which means the coef_ did not converge\n",
      "  warnings.warn(\"The max_iter was reached which means \"\n"
     ]
    },
    {
     "name": "stdout",
     "output_type": "stream",
     "text": [
      "[CV 2/3; 149/150] END LR__C=100.0, LR__penalty=l1, LR__solver=saga, imputer__n_neighbors=3; total time=   9.0s\n",
      "[CV 3/3; 149/150] START LR__C=100.0, LR__penalty=l1, LR__solver=saga, imputer__n_neighbors=3\n"
     ]
    },
    {
     "name": "stderr",
     "output_type": "stream",
     "text": [
      "C:\\Users\\Matan\\anaconda3\\lib\\site-packages\\sklearn\\linear_model\\_sag.py:328: ConvergenceWarning: The max_iter was reached which means the coef_ did not converge\n",
      "  warnings.warn(\"The max_iter was reached which means \"\n"
     ]
    },
    {
     "name": "stdout",
     "output_type": "stream",
     "text": [
      "[CV 3/3; 149/150] END LR__C=100.0, LR__penalty=l1, LR__solver=saga, imputer__n_neighbors=3; total time=   9.9s\n",
      "[CV 1/3; 150/150] START LR__C=100.0, LR__penalty=l1, LR__solver=saga, imputer__n_neighbors=4\n"
     ]
    },
    {
     "name": "stderr",
     "output_type": "stream",
     "text": [
      "C:\\Users\\Matan\\anaconda3\\lib\\site-packages\\sklearn\\linear_model\\_sag.py:328: ConvergenceWarning: The max_iter was reached which means the coef_ did not converge\n",
      "  warnings.warn(\"The max_iter was reached which means \"\n"
     ]
    },
    {
     "name": "stdout",
     "output_type": "stream",
     "text": [
      "[CV 1/3; 150/150] END LR__C=100.0, LR__penalty=l1, LR__solver=saga, imputer__n_neighbors=4; total time=   9.1s\n",
      "[CV 2/3; 150/150] START LR__C=100.0, LR__penalty=l1, LR__solver=saga, imputer__n_neighbors=4\n"
     ]
    },
    {
     "name": "stderr",
     "output_type": "stream",
     "text": [
      "C:\\Users\\Matan\\anaconda3\\lib\\site-packages\\sklearn\\linear_model\\_sag.py:328: ConvergenceWarning: The max_iter was reached which means the coef_ did not converge\n",
      "  warnings.warn(\"The max_iter was reached which means \"\n"
     ]
    },
    {
     "name": "stdout",
     "output_type": "stream",
     "text": [
      "[CV 2/3; 150/150] END LR__C=100.0, LR__penalty=l1, LR__solver=saga, imputer__n_neighbors=4; total time=   9.7s\n",
      "[CV 3/3; 150/150] START LR__C=100.0, LR__penalty=l1, LR__solver=saga, imputer__n_neighbors=4\n"
     ]
    },
    {
     "name": "stderr",
     "output_type": "stream",
     "text": [
      "C:\\Users\\Matan\\anaconda3\\lib\\site-packages\\sklearn\\linear_model\\_sag.py:328: ConvergenceWarning: The max_iter was reached which means the coef_ did not converge\n",
      "  warnings.warn(\"The max_iter was reached which means \"\n"
     ]
    },
    {
     "name": "stdout",
     "output_type": "stream",
     "text": [
      "[CV 3/3; 150/150] END LR__C=100.0, LR__penalty=l1, LR__solver=saga, imputer__n_neighbors=4; total time=   9.5s\n"
     ]
    },
    {
     "name": "stderr",
     "output_type": "stream",
     "text": [
      "C:\\Users\\Matan\\anaconda3\\lib\\site-packages\\sklearn\\model_selection\\_search.py:918: UserWarning: One or more of the test scores are non-finite: [0.16685875 0.1667277  0.16688496 0.16688496 0.16675391 0.16678011\n",
      " 0.1676713  0.16769751 0.16777614 0.16685875 0.1667277  0.16691117\n",
      " 0.16683254 0.16683254 0.16691117        nan        nan        nan\n",
      "        nan        nan        nan 0.12914133 0.12914133 0.12914133\n",
      "        nan        nan        nan 0.12914133 0.12914133 0.12914133\n",
      " 0.17314936 0.17307072 0.17322799 0.17309693 0.17299209 0.17322799\n",
      " 0.16971569 0.16976811 0.16979432 0.17317557 0.17307072 0.17322799\n",
      " 0.17314936 0.17314935 0.17328041        nan        nan        nan\n",
      "        nan        nan        nan 0.16903426 0.16908668 0.16900804\n",
      "        nan        nan        nan 0.17194367 0.17196989 0.17189125\n",
      " 0.17647819 0.17626849 0.17621607 0.17660924 0.17637333 0.1760326\n",
      " 0.17034476 0.17029234 0.17023992 0.17634713 0.17611123 0.17613744\n",
      " 0.17624229 0.17608501 0.17603259        nan        nan        nan\n",
      "        nan        nan        nan 0.17016129 0.17016129 0.17023992\n",
      "        nan        nan        nan 0.17600638 0.17553459 0.17566564\n",
      " 0.17681893 0.17684514 0.17684514 0.17634713 0.17618986 0.17592775\n",
      " 0.17021371 0.17016128 0.17013507 0.17650441 0.17632093 0.17634714\n",
      " 0.17618985 0.17587533 0.17592774        nan        nan        nan\n",
      "        nan        nan        nan 0.17042339 0.17031854 0.17034475\n",
      "        nan        nan        nan 0.17611122 0.17587533 0.17590153\n",
      " 0.17655682 0.17642576 0.17653061 0.17637336 0.1760588  0.17626849\n",
      " 0.17050201 0.17042338 0.17050201 0.17639956 0.17642577 0.17637335\n",
      " 0.17618985 0.17590154 0.17587532        nan        nan        nan\n",
      "        nan        nan        nan 0.17039716 0.17037095 0.1704758\n",
      "        nan        nan        nan 0.17613744 0.17590154 0.17587532]\n",
      "  warnings.warn(\n",
      "C:\\Users\\Matan\\anaconda3\\lib\\site-packages\\sklearn\\model_selection\\_search.py:918: UserWarning: One or more of the train scores are non-finite: [0.16768451 0.16772383 0.16763209 0.16773694 0.16772383 0.16761898\n",
      " 0.16913922 0.16917853 0.16913922 0.1676583  0.16769762 0.16760588\n",
      " 0.1676452  0.16772383 0.16757967        nan        nan        nan\n",
      "        nan        nan        nan 0.12916754 0.12916754 0.12918065\n",
      "        nan        nan        nan 0.12918065 0.12918065 0.12918065\n",
      " 0.17574439 0.17569196 0.17583612 0.17573128 0.17574438 0.17590165\n",
      " 0.17176031 0.17186516 0.17177342 0.17575749 0.17570507 0.17583612\n",
      " 0.17575749 0.17574438 0.17584923        nan        nan        nan\n",
      "        nan        nan        nan 0.16983379 0.16991243 0.16989932\n",
      "        nan        nan        nan 0.17321502 0.17320191 0.17333297\n",
      " 0.17896831 0.17898142 0.1789159  0.178929   0.17911247 0.17903385\n",
      " 0.17202242 0.17202242 0.17199621 0.17890279 0.17896832 0.17885037\n",
      " 0.17886347 0.17900763 0.17912558        nan        nan        nan\n",
      "        nan        nan        nan 0.17202242 0.17211416 0.17198311\n",
      "        nan        nan        nan 0.1789159  0.178929   0.17904695\n",
      " 0.17933527 0.17949254 0.17947943 0.17934838 0.17919111 0.17926975\n",
      " 0.17189136 0.17196999 0.17190447 0.1791518  0.17930906 0.17916491\n",
      " 0.17907317 0.17923043 0.17917801        nan        nan        nan\n",
      "        nan        nan        nan 0.17217968 0.17220589 0.17211415\n",
      "        nan        nan        nan 0.17898143 0.17919111 0.17913869\n",
      " 0.1794008  0.17934838 0.17947944 0.17951875 0.17949254 0.17921732\n",
      " 0.17241557 0.17245489 0.17242868 0.1791649  0.17926975 0.17921733\n",
      " 0.17912559 0.17920422 0.17921733        nan        nan        nan\n",
      "        nan        nan        nan 0.17252042 0.17258595 0.17244179\n",
      "        nan        nan        nan 0.17908627 0.17921732 0.17917801]\n",
      "  warnings.warn(\n"
     ]
    }
   ],
   "source": [
    "base_model = Pipeline(steps=[('imputer', KNNImputer()), ('scaler', StandardScaler()), ('LR', LR())])\n",
    "params = {'imputer__n_neighbors': [2, 3, 4], \n",
    "          'LR__penalty': ['l2', 'l1'],\n",
    "         'LR__C': np.logspace(-3, 2, 5),\n",
    "         'LR__solver': ['newton-cg', 'lbfgs', 'liblinear', 'sag', 'saga']}\n",
    "\n",
    "base_model = GridSearchCV(base_model, param_grid=params, cv=3, return_train_score=True, verbose=10).fit(x_train, y_train)"
   ]
  },
  {
   "cell_type": "code",
   "execution_count": 9,
   "metadata": {},
   "outputs": [
    {
     "data": {
      "text/plain": [
       "Pipeline(steps=[('imputer', KNNImputer(n_neighbors=3)),\n",
       "                ('scaler', StandardScaler()),\n",
       "                ('LR',\n",
       "                 LogisticRegression(C=5.623413251903491, solver='newton-cg'))])"
      ]
     },
     "execution_count": 9,
     "metadata": {},
     "output_type": "execute_result"
    }
   ],
   "source": [
    "base_model.best_estimator_"
   ]
  },
  {
   "cell_type": "code",
   "execution_count": 11,
   "metadata": {},
   "outputs": [],
   "source": [
    "base_model = Pipeline(steps=[('imputer', KNNImputer(n_neighbors=3)),\n",
    "                ('scaler', StandardScaler()),\n",
    "                ('LR',\n",
    "                 LR(C=5.623413251903491, solver='newton-cg'))]).fit(x_train, y_train)"
   ]
  },
  {
   "cell_type": "code",
   "execution_count": 12,
   "metadata": {},
   "outputs": [
    {
     "name": "stderr",
     "output_type": "stream",
     "text": [
      "C:\\Users\\Matan\\anaconda3\\lib\\site-packages\\sklearn\\metrics\\_classification.py:1245: UndefinedMetricWarning: Precision and F-score are ill-defined and being set to 0.0 in labels with no predicted samples. Use `zero_division` parameter to control this behavior.\n",
      "  _warn_prf(average, modifier, msg_start, len(result))\n",
      "C:\\Users\\Matan\\anaconda3\\lib\\site-packages\\sklearn\\metrics\\_classification.py:1245: UndefinedMetricWarning: Precision and F-score are ill-defined and being set to 0.0 in labels with no predicted samples. Use `zero_division` parameter to control this behavior.\n",
      "  _warn_prf(average, modifier, msg_start, len(result))\n",
      "C:\\Users\\Matan\\anaconda3\\lib\\site-packages\\sklearn\\metrics\\_classification.py:1245: UndefinedMetricWarning: Precision and F-score are ill-defined and being set to 0.0 in labels with no predicted samples. Use `zero_division` parameter to control this behavior.\n",
      "  _warn_prf(average, modifier, msg_start, len(result))\n"
     ]
    },
    {
     "name": "stdout",
     "output_type": "stream",
     "text": [
      "              precision    recall  f1-score   support\n",
      "\n",
      "          80       0.00      0.00      0.00        47\n",
      "          81       0.00      0.00      0.00        98\n",
      "          82       1.00      0.00      0.01       303\n",
      "          83       0.00      0.00      0.00       394\n",
      "          84       0.23      0.09      0.13       803\n",
      "          85       0.16      0.01      0.02      1105\n",
      "          86       0.05      0.00      0.00      1478\n",
      "          87       0.16      0.45      0.24      1990\n",
      "          88       0.18      0.39      0.24      2112\n",
      "          89       0.00      0.00      0.00      1325\n",
      "          90       0.17      0.27      0.21      2012\n",
      "          91       0.20      0.14      0.16      1591\n",
      "          92       0.16      0.15      0.15      1354\n",
      "          93       0.20      0.05      0.08       904\n",
      "          94       0.21      0.09      0.13       538\n",
      "          95       0.00      0.00      0.00       193\n",
      "          96       0.00      0.00      0.00        66\n",
      "          97       0.00      0.00      0.00        24\n",
      "          98       0.00      0.00      0.00        10\n",
      "          99       0.00      0.00      0.00         4\n",
      "         100       0.00      0.00      0.00         1\n",
      "\n",
      "    accuracy                           0.17     16352\n",
      "   macro avg       0.13      0.08      0.07     16352\n",
      "weighted avg       0.16      0.17      0.13     16352\n",
      "\n",
      "AUC = 0.7667601012448694\n"
     ]
    }
   ],
   "source": [
    "from sklearn.metrics import classification_report, roc_auc_score, plot_roc_curve, plot_confusion_matrix\n",
    "print(classification_report(y_test, base_model.predict(x_test)))\n",
    "print(f\"AUC = {roc_auc_score(y_test, base_model.predict_proba(x_test), multi_class='ovr')}\")"
   ]
  },
  {
   "cell_type": "code",
   "execution_count": 16,
   "metadata": {},
   "outputs": [],
   "source": [
    "from imblearn.over_sampling import SMOTE\n",
    "from imblearn.pipeline import Pipeline as smPipline"
   ]
  },
  {
   "cell_type": "code",
   "execution_count": 32,
   "metadata": {},
   "outputs": [],
   "source": [
    "x.loc[x['price'].isna(), 'price'] = x['price'].median()"
   ]
  },
  {
   "cell_type": "code",
   "execution_count": 38,
   "metadata": {},
   "outputs": [],
   "source": [
    "new_x, new_y = SMOTE(k_neighbors=3).fit_resample(x, y)\n",
    "x_train, x_test, y_train, y_test = train_test_split(new_x, new_y, test_size=0.3, stratify=new_y)"
   ]
  },
  {
   "cell_type": "code",
   "execution_count": 39,
   "metadata": {},
   "outputs": [],
   "source": [
    "base_model = Pipeline(steps=[('scaler', StandardScaler()), ('LR',LR(C=5.623413251903491, solver='newton-cg'))]).fit(x_train, y_train)"
   ]
  },
  {
   "cell_type": "code",
   "execution_count": 40,
   "metadata": {},
   "outputs": [
    {
     "name": "stdout",
     "output_type": "stream",
     "text": [
      "              precision    recall  f1-score   support\n",
      "\n",
      "          80       0.15      0.29      0.19      2112\n",
      "          81       0.18      0.28      0.22      2112\n",
      "          82       0.14      0.16      0.15      2112\n",
      "          83       0.15      0.12      0.14      2112\n",
      "          84       0.13      0.12      0.13      2111\n",
      "          85       0.12      0.07      0.09      2112\n",
      "          86       0.11      0.02      0.03      2112\n",
      "          87       0.08      0.04      0.06      2112\n",
      "          88       0.14      0.19      0.16      2112\n",
      "          89       0.13      0.10      0.11      2112\n",
      "          90       0.13      0.16      0.15      2112\n",
      "          91       0.17      0.14      0.15      2111\n",
      "          92       0.09      0.07      0.08      2112\n",
      "          93       0.17      0.25      0.20      2111\n",
      "          94       0.16      0.13      0.14      2111\n",
      "          95       0.18      0.15      0.16      2112\n",
      "          96       0.22      0.13      0.16      2112\n",
      "          97       0.26      0.23      0.24      2112\n",
      "          98       0.36      0.42      0.39      2111\n",
      "          99       0.35      0.44      0.39      2111\n",
      "         100       0.64      0.99      0.78      2112\n",
      "\n",
      "    accuracy                           0.21     44346\n",
      "   macro avg       0.19      0.21      0.20     44346\n",
      "weighted avg       0.19      0.21      0.20     44346\n",
      "\n",
      "AUC = 0.8148218743508463\n"
     ]
    }
   ],
   "source": [
    "from sklearn.metrics import classification_report, roc_auc_score, plot_roc_curve, plot_confusion_matrix\n",
    "print(classification_report(y_test, base_model.predict(x_test)))\n",
    "print(f\"AUC = {roc_auc_score(y_test, base_model.predict_proba(x_test), multi_class='ovr')}\")"
   ]
  },
  {
   "cell_type": "markdown",
   "metadata": {},
   "source": [
    "The results are not good at all. We expect to get a model to could do way better than that."
   ]
  },
  {
   "cell_type": "markdown",
   "metadata": {},
   "source": [
    "1.2 Create a simple text-based model using a bag-of-words approach and a linear model.\n"
   ]
  },
  {
   "cell_type": "code",
   "execution_count": 1,
   "metadata": {},
   "outputs": [],
   "source": [
    "import pandas as pd\n",
    "import numpy as np\n",
    "x = pd.read_csv('winemag-data-130k-v2.csv', index_col=0)\n",
    "x = x.loc[x['country'] == 'US']\n",
    "to_remove = x.columns.to_list()\n",
    "to_remove.remove('points')\n",
    "to_remove.remove('description')\n",
    "x.drop(columns=to_remove, inplace=True)\n",
    "y = x['points']\n",
    "x.drop(columns=['points'], inplace=True)"
   ]
  },
  {
   "cell_type": "code",
   "execution_count": 2,
   "metadata": {},
   "outputs": [],
   "source": [
    "from sklearn.model_selection import train_test_split\n",
    "from sklearn.linear_model import LogisticRegression as LR\n",
    "x_train, x_test, y_train, y_test = train_test_split(x, y, test_size=0.2)"
   ]
  },
  {
   "cell_type": "code",
   "execution_count": 3,
   "metadata": {},
   "outputs": [],
   "source": [
    "from sklearn.feature_extraction.text import CountVectorizer\n",
    "vect = CountVectorizer(stop_words='english')\n",
    "x_train = vect.fit_transform(x_train['description'].to_list())\n",
    "x_test = vect.transform(x_test['description'].to_list())"
   ]
  },
  {
   "cell_type": "code",
   "execution_count": 4,
   "metadata": {},
   "outputs": [],
   "source": [
    "from imblearn.over_sampling import SMOTE\n",
    "x_train, y_train = SMOTE().fit_resample(x_train, y_train)"
   ]
  },
  {
   "cell_type": "code",
   "execution_count": 5,
   "metadata": {},
   "outputs": [],
   "source": [
    "%%capture\n",
    "lr = LR().fit(x_train, y_train)"
   ]
  },
  {
   "cell_type": "code",
   "execution_count": 6,
   "metadata": {},
   "outputs": [
    {
     "name": "stdout",
     "output_type": "stream",
     "text": [
      "              precision    recall  f1-score   support\n",
      "\n",
      "          80       0.25      0.16      0.20        82\n",
      "          81       0.15      0.11      0.13       145\n",
      "          82       0.22      0.22      0.22       347\n",
      "          83       0.21      0.17      0.18       656\n",
      "          84       0.26      0.28      0.27      1284\n",
      "          85       0.24      0.23      0.23      1881\n",
      "          86       0.24      0.23      0.23      2475\n",
      "          87       0.28      0.29      0.29      3399\n",
      "          88       0.25      0.24      0.24      3430\n",
      "          89       0.22      0.19      0.20      2500\n",
      "          90       0.26      0.25      0.25      3114\n",
      "          91       0.21      0.20      0.21      2289\n",
      "          92       0.21      0.23      0.22      1854\n",
      "          93       0.19      0.19      0.19      1328\n",
      "          94       0.17      0.18      0.17       749\n",
      "          95       0.10      0.15      0.12       280\n",
      "          96       0.01      0.02      0.02       100\n",
      "          97       0.05      0.08      0.06        50\n",
      "          98       0.02      0.05      0.03        21\n",
      "          99       0.00      0.00      0.00         6\n",
      "         100       0.00      0.00      0.00         5\n",
      "\n",
      "    accuracy                           0.23     25995\n",
      "   macro avg       0.17      0.17      0.17     25995\n",
      "weighted avg       0.23      0.23      0.23     25995\n",
      "\n",
      "AUC = 0.7790112499179167\n"
     ]
    }
   ],
   "source": [
    "from sklearn.metrics import classification_report, roc_auc_score\n",
    "print(classification_report(y_test, lr.predict(x_test)))\n",
    "print(f\"AUC = {roc_auc_score(y_test, lr.predict_proba(x_test), multi_class='ovr')}\")"
   ]
  },
  {
   "cell_type": "markdown",
   "metadata": {},
   "source": [
    "1.3 Try using n-grams, characters, tf-idf rescaling and possibly other ways to tune the BoW model. Be aware that you might need to adjust the (regularization of the) linear model for different feature sets.\n"
   ]
  },
  {
   "cell_type": "markdown",
   "metadata": {},
   "source": [
    "### TF-IDF"
   ]
  },
  {
   "cell_type": "code",
   "execution_count": 1,
   "metadata": {},
   "outputs": [],
   "source": [
    "from sklearn.feature_extraction.text import TfidfTransformer, CountVectorizer\n",
    "import pandas as pd\n",
    "import numpy as np\n",
    "from sklearn.pipeline import make_pipeline\n",
    "from sklearn.linear_model import LogisticRegression as LR\n",
    "from imblearn.over_sampling import SMOTE\n",
    "x = pd.read_csv('winemag-data-130k-v2.csv', index_col=0)\n",
    "to_remove = x.columns.to_list()\n",
    "to_remove.remove('points')\n",
    "to_remove.remove('description')\n",
    "x.drop(columns=to_remove, inplace=True)\n",
    "y = x['points']\n",
    "x.drop(columns=['points'], inplace=True)"
   ]
  },
  {
   "cell_type": "code",
   "execution_count": 2,
   "metadata": {},
   "outputs": [],
   "source": [
    "from sklearn.model_selection import train_test_split\n",
    "x_train, x_test, y_train, y_test = train_test_split(x, y, test_size=0.2)"
   ]
  },
  {
   "cell_type": "code",
   "execution_count": 6,
   "metadata": {},
   "outputs": [],
   "source": [
    "transformer = make_pipeline(CountVectorizer(stop_words='english'), TfidfTransformer()).fit(x_train['description'].to_list())"
   ]
  },
  {
   "cell_type": "code",
   "execution_count": 7,
   "metadata": {},
   "outputs": [],
   "source": [
    "x_train = transformer.transform(x_train['description'].to_list())\n",
    "x_test = transformer.transform(x_test['description'].to_list())"
   ]
  },
  {
   "cell_type": "code",
   "execution_count": 8,
   "metadata": {},
   "outputs": [],
   "source": [
    "x_train, y_train = SMOTE().fit_resample(x_train, y_train)"
   ]
  },
  {
   "cell_type": "code",
   "execution_count": 9,
   "metadata": {},
   "outputs": [],
   "source": [
    "%%capture\n",
    "lr = LR().fit(x_train, y_train)"
   ]
  },
  {
   "cell_type": "code",
   "execution_count": 10,
   "metadata": {},
   "outputs": [
    {
     "name": "stderr",
     "output_type": "stream",
     "text": [
      "C:\\Users\\Matan\\anaconda3\\lib\\site-packages\\sklearn\\metrics\\_classification.py:1248: UndefinedMetricWarning: Precision and F-score are ill-defined and being set to 0.0 in labels with no predicted samples. Use `zero_division` parameter to control this behavior.\n",
      "  _warn_prf(average, modifier, msg_start, len(result))\n",
      "C:\\Users\\Matan\\anaconda3\\lib\\site-packages\\sklearn\\metrics\\_classification.py:1248: UndefinedMetricWarning: Precision and F-score are ill-defined and being set to 0.0 in labels with no predicted samples. Use `zero_division` parameter to control this behavior.\n",
      "  _warn_prf(average, modifier, msg_start, len(result))\n",
      "C:\\Users\\Matan\\anaconda3\\lib\\site-packages\\sklearn\\metrics\\_classification.py:1248: UndefinedMetricWarning: Precision and F-score are ill-defined and being set to 0.0 in labels with no predicted samples. Use `zero_division` parameter to control this behavior.\n",
      "  _warn_prf(average, modifier, msg_start, len(result))\n"
     ]
    },
    {
     "name": "stdout",
     "output_type": "stream",
     "text": [
      "              precision    recall  f1-score   support\n",
      "\n",
      "          80       0.13      0.26      0.17        78\n",
      "          81       0.08      0.25      0.12       124\n",
      "          82       0.15      0.26      0.19       389\n",
      "          83       0.13      0.26      0.17       602\n",
      "          84       0.19      0.22      0.20      1284\n",
      "          85       0.22      0.24      0.23      1885\n",
      "          86       0.24      0.19      0.21      2474\n",
      "          87       0.28      0.22      0.25      3335\n",
      "          88       0.27      0.20      0.23      3473\n",
      "          89       0.23      0.22      0.22      2449\n",
      "          90       0.27      0.20      0.23      3133\n",
      "          91       0.22      0.21      0.22      2295\n",
      "          92       0.24      0.22      0.23      2000\n",
      "          93       0.18      0.22      0.20      1272\n",
      "          94       0.15      0.29      0.20       735\n",
      "          95       0.10      0.27      0.14       293\n",
      "          96       0.02      0.06      0.03       109\n",
      "          97       0.08      0.12      0.09        43\n",
      "          98       0.00      0.00      0.00        13\n",
      "          99       0.00      0.00      0.00         6\n",
      "         100       0.00      0.00      0.00         3\n",
      "\n",
      "    accuracy                           0.21     25995\n",
      "   macro avg       0.15      0.19      0.16     25995\n",
      "weighted avg       0.23      0.21      0.22     25995\n",
      "\n",
      "AUC = 0.8253927867372297\n"
     ]
    }
   ],
   "source": [
    "from sklearn.metrics import classification_report, roc_auc_score\n",
    "print(classification_report(y_test, lr.predict(x_test)))\n",
    "print(f\"AUC = {roc_auc_score(y_test, lr.predict_proba(x_test), multi_class='ovr')}\")"
   ]
  },
  {
   "cell_type": "code",
   "execution_count": 11,
   "metadata": {},
   "outputs": [],
   "source": [
    "from sklearn.preprocessing import normalize"
   ]
  },
  {
   "cell_type": "code",
   "execution_count": 13,
   "metadata": {},
   "outputs": [],
   "source": [
    "%%capture\n",
    "lr = LR().fit(normalize(x_train, norm='l2'), y_train)"
   ]
  },
  {
   "cell_type": "code",
   "execution_count": 14,
   "metadata": {},
   "outputs": [
    {
     "name": "stdout",
     "output_type": "stream",
     "text": [
      "              precision    recall  f1-score   support\n",
      "\n",
      "          80       0.13      0.24      0.17        78\n",
      "          81       0.08      0.21      0.11       124\n",
      "          82       0.15      0.28      0.20       389\n",
      "          83       0.13      0.21      0.16       602\n",
      "          84       0.19      0.24      0.21      1284\n",
      "          85       0.22      0.21      0.22      1885\n",
      "          86       0.23      0.21      0.22      2474\n",
      "          87       0.27      0.23      0.25      3335\n",
      "          88       0.25      0.20      0.22      3473\n",
      "          89       0.23      0.23      0.23      2449\n",
      "          90       0.27      0.20      0.23      3133\n",
      "          91       0.22      0.24      0.23      2295\n",
      "          92       0.24      0.22      0.23      2000\n",
      "          93       0.20      0.23      0.21      1272\n",
      "          94       0.16      0.26      0.20       735\n",
      "          95       0.10      0.22      0.14       293\n",
      "          96       0.05      0.06      0.05       109\n",
      "          97       0.06      0.12      0.08        43\n",
      "          98       0.00      0.00      0.00        13\n",
      "          99       0.00      0.00      0.00         6\n",
      "         100       0.00      0.00      0.00         3\n",
      "\n",
      "    accuracy                           0.22     25995\n",
      "   macro avg       0.15      0.18      0.16     25995\n",
      "weighted avg       0.23      0.22      0.22     25995\n",
      "\n",
      "AUC = 0.82494274257981\n"
     ]
    },
    {
     "name": "stderr",
     "output_type": "stream",
     "text": [
      "C:\\Users\\Matan\\anaconda3\\lib\\site-packages\\sklearn\\metrics\\_classification.py:1248: UndefinedMetricWarning: Precision and F-score are ill-defined and being set to 0.0 in labels with no predicted samples. Use `zero_division` parameter to control this behavior.\n",
      "  _warn_prf(average, modifier, msg_start, len(result))\n",
      "C:\\Users\\Matan\\anaconda3\\lib\\site-packages\\sklearn\\metrics\\_classification.py:1248: UndefinedMetricWarning: Precision and F-score are ill-defined and being set to 0.0 in labels with no predicted samples. Use `zero_division` parameter to control this behavior.\n",
      "  _warn_prf(average, modifier, msg_start, len(result))\n",
      "C:\\Users\\Matan\\anaconda3\\lib\\site-packages\\sklearn\\metrics\\_classification.py:1248: UndefinedMetricWarning: Precision and F-score are ill-defined and being set to 0.0 in labels with no predicted samples. Use `zero_division` parameter to control this behavior.\n",
      "  _warn_prf(average, modifier, msg_start, len(result))\n"
     ]
    }
   ],
   "source": [
    "print(classification_report(y_test, lr.predict(x_test)))\n",
    "print(f\"AUC = {roc_auc_score(y_test, lr.predict_proba(x_test), multi_class='ovr')}\")"
   ]
  },
  {
   "cell_type": "markdown",
   "metadata": {},
   "source": [
    "### N-Grams"
   ]
  },
  {
   "cell_type": "code",
   "execution_count": 6,
   "metadata": {},
   "outputs": [],
   "source": [
    "x_train, x_test, y_train, y_test = train_test_split(x, y, test_size=0.2)"
   ]
  },
  {
   "cell_type": "code",
   "execution_count": 7,
   "metadata": {},
   "outputs": [
    {
     "name": "stderr",
     "output_type": "stream",
     "text": [
      "C:\\Users\\Matan\\anaconda3\\lib\\site-packages\\sklearn\\linear_model\\_logistic.py:763: ConvergenceWarning: lbfgs failed to converge (status=1):\n",
      "STOP: TOTAL NO. of ITERATIONS REACHED LIMIT.\n",
      "\n",
      "Increase the number of iterations (max_iter) or scale the data as shown in:\n",
      "    https://scikit-learn.org/stable/modules/preprocessing.html\n",
      "Please also refer to the documentation for alternative solver options:\n",
      "    https://scikit-learn.org/stable/modules/linear_model.html#logistic-regression\n",
      "  n_iter_i = _check_optimize_result(\n"
     ]
    },
    {
     "name": "stdout",
     "output_type": "stream",
     "text": [
      "count =  1\n"
     ]
    },
    {
     "name": "stderr",
     "output_type": "stream",
     "text": [
      "C:\\Users\\Matan\\anaconda3\\lib\\site-packages\\sklearn\\linear_model\\_logistic.py:763: ConvergenceWarning: lbfgs failed to converge (status=1):\n",
      "STOP: TOTAL NO. of ITERATIONS REACHED LIMIT.\n",
      "\n",
      "Increase the number of iterations (max_iter) or scale the data as shown in:\n",
      "    https://scikit-learn.org/stable/modules/preprocessing.html\n",
      "Please also refer to the documentation for alternative solver options:\n",
      "    https://scikit-learn.org/stable/modules/linear_model.html#logistic-regression\n",
      "  n_iter_i = _check_optimize_result(\n"
     ]
    },
    {
     "name": "stdout",
     "output_type": "stream",
     "text": [
      "count =  2\n"
     ]
    },
    {
     "name": "stderr",
     "output_type": "stream",
     "text": [
      "C:\\Users\\Matan\\anaconda3\\lib\\site-packages\\sklearn\\linear_model\\_logistic.py:763: ConvergenceWarning: lbfgs failed to converge (status=1):\n",
      "STOP: TOTAL NO. of ITERATIONS REACHED LIMIT.\n",
      "\n",
      "Increase the number of iterations (max_iter) or scale the data as shown in:\n",
      "    https://scikit-learn.org/stable/modules/preprocessing.html\n",
      "Please also refer to the documentation for alternative solver options:\n",
      "    https://scikit-learn.org/stable/modules/linear_model.html#logistic-regression\n",
      "  n_iter_i = _check_optimize_result(\n"
     ]
    },
    {
     "name": "stdout",
     "output_type": "stream",
     "text": [
      "count =  3\n"
     ]
    },
    {
     "name": "stderr",
     "output_type": "stream",
     "text": [
      "C:\\Users\\Matan\\anaconda3\\lib\\site-packages\\sklearn\\linear_model\\_logistic.py:763: ConvergenceWarning: lbfgs failed to converge (status=1):\n",
      "STOP: TOTAL NO. of ITERATIONS REACHED LIMIT.\n",
      "\n",
      "Increase the number of iterations (max_iter) or scale the data as shown in:\n",
      "    https://scikit-learn.org/stable/modules/preprocessing.html\n",
      "Please also refer to the documentation for alternative solver options:\n",
      "    https://scikit-learn.org/stable/modules/linear_model.html#logistic-regression\n",
      "  n_iter_i = _check_optimize_result(\n"
     ]
    },
    {
     "name": "stdout",
     "output_type": "stream",
     "text": [
      "count =  4\n"
     ]
    }
   ],
   "source": [
    "from sklearn.metrics import f1_score, average_precision_score, recall_score, classification_report, roc_auc_score\n",
    "results = np.zeros((4, 4))\n",
    "count = 0\n",
    "for i in [(1, 1), (1, 2), (2, 2), (2, 3)]:\n",
    "    transformer = CountVectorizer(stop_words='english', ngram_range=i).fit(x_train['description'].to_list())\n",
    "    x_train = transformer.transform(x_train['description'].to_list())\n",
    "    x_test = transformer.transform(x_test['description'].to_list())\n",
    "    x_train, y_train = SMOTE().fit_resample(x_train, y_train)\n",
    "    lr = LR().fit(x_train, y_train)\n",
    "    results[count, 0] = lr.score(x_test, y_test)\n",
    "    results[count, 1] = roc_auc_score(y_test, lr.predict_proba(x_test), multi_class='ovr')\n",
    "    results[count, 2] = f1_score(y_test, lr.predict(x_test), average='macro')\n",
    "    results[count, 3] = recall_score(y_test, lr.predict(x_test), average='macro')\n",
    "    count += 1\n",
    "    print('count = ', count)\n",
    "    x_train, x_test, y_train, y_test = train_test_split(x, y, test_size=0.2)\n"
   ]
  },
  {
   "cell_type": "code",
   "execution_count": 9,
   "metadata": {},
   "outputs": [
    {
     "data": {
      "text/html": [
       "<div>\n",
       "<style scoped>\n",
       "    .dataframe tbody tr th:only-of-type {\n",
       "        vertical-align: middle;\n",
       "    }\n",
       "\n",
       "    .dataframe tbody tr th {\n",
       "        vertical-align: top;\n",
       "    }\n",
       "\n",
       "    .dataframe thead th {\n",
       "        text-align: right;\n",
       "    }\n",
       "</style>\n",
       "<table border=\"1\" class=\"dataframe\">\n",
       "  <thead>\n",
       "    <tr style=\"text-align: right;\">\n",
       "      <th></th>\n",
       "      <th>accuracy</th>\n",
       "      <th>auc</th>\n",
       "      <th>f1</th>\n",
       "      <th>recall</th>\n",
       "    </tr>\n",
       "  </thead>\n",
       "  <tbody>\n",
       "    <tr>\n",
       "      <th>(1, 1)</th>\n",
       "      <td>0.236622</td>\n",
       "      <td>0.782689</td>\n",
       "      <td>0.174187</td>\n",
       "      <td>0.174153</td>\n",
       "    </tr>\n",
       "    <tr>\n",
       "      <th>(1, 2)</th>\n",
       "      <td>0.303943</td>\n",
       "      <td>0.792835</td>\n",
       "      <td>0.208129</td>\n",
       "      <td>0.208173</td>\n",
       "    </tr>\n",
       "    <tr>\n",
       "      <th>(2, 2)</th>\n",
       "      <td>0.283285</td>\n",
       "      <td>0.749124</td>\n",
       "      <td>0.186470</td>\n",
       "      <td>0.194465</td>\n",
       "    </tr>\n",
       "    <tr>\n",
       "      <th>(2, 3)</th>\n",
       "      <td>0.276976</td>\n",
       "      <td>0.757223</td>\n",
       "      <td>0.173667</td>\n",
       "      <td>0.198477</td>\n",
       "    </tr>\n",
       "  </tbody>\n",
       "</table>\n",
       "</div>"
      ],
      "text/plain": [
       "        accuracy       auc        f1    recall\n",
       "(1, 1)  0.236622  0.782689  0.174187  0.174153\n",
       "(1, 2)  0.303943  0.792835  0.208129  0.208173\n",
       "(2, 2)  0.283285  0.749124  0.186470  0.194465\n",
       "(2, 3)  0.276976  0.757223  0.173667  0.198477"
      ]
     },
     "execution_count": 9,
     "metadata": {},
     "output_type": "execute_result"
    }
   ],
   "source": [
    "pd.DataFrame(data=results, index=[(1, 1), (1, 2), (2, 2), (2, 3)], columns=['accuracy', 'auc', 'f1', 'recall'])"
   ]
  },
  {
   "cell_type": "code",
   "execution_count": 13,
   "metadata": {},
   "outputs": [
    {
     "name": "stderr",
     "output_type": "stream",
     "text": [
      "C:\\Users\\Matan\\anaconda3\\lib\\site-packages\\sklearn\\feature_extraction\\text.py:502: UserWarning: The parameter 'stop_words' will not be used since 'analyzer' != 'word'\n",
      "  warnings.warn(\"The parameter 'stop_words' will not be used\"\n",
      "C:\\Users\\Matan\\anaconda3\\lib\\site-packages\\sklearn\\linear_model\\_logistic.py:763: ConvergenceWarning: lbfgs failed to converge (status=1):\n",
      "STOP: TOTAL NO. of ITERATIONS REACHED LIMIT.\n",
      "\n",
      "Increase the number of iterations (max_iter) or scale the data as shown in:\n",
      "    https://scikit-learn.org/stable/modules/preprocessing.html\n",
      "Please also refer to the documentation for alternative solver options:\n",
      "    https://scikit-learn.org/stable/modules/linear_model.html#logistic-regression\n",
      "  n_iter_i = _check_optimize_result(\n"
     ]
    }
   ],
   "source": [
    "x_train, x_test, y_train, y_test = train_test_split(x, y, test_size=0.2)\n",
    "transformer = CountVectorizer(stop_words='english', ngram_range=(2, 5), analyzer='char_wb').fit(x_train['description'].to_list())\n",
    "x_train = transformer.transform(x_train['description'].to_list())\n",
    "x_test = transformer.transform(x_test['description'].to_list())\n",
    "x_train, y_train = SMOTE().fit_resample(x_train, y_train)\n",
    "lr = LR().fit(x_train, y_train)"
   ]
  },
  {
   "cell_type": "code",
   "execution_count": 14,
   "metadata": {},
   "outputs": [
    {
     "name": "stdout",
     "output_type": "stream",
     "text": [
      "              precision    recall  f1-score   support\n",
      "\n",
      "          80       0.39      0.08      0.14        83\n",
      "          81       0.17      0.10      0.12       144\n",
      "          82       0.19      0.25      0.21       370\n",
      "          83       0.16      0.13      0.14       598\n",
      "          84       0.27      0.24      0.25      1352\n",
      "          85       0.22      0.20      0.21      1928\n",
      "          86       0.24      0.23      0.23      2497\n",
      "          87       0.26      0.30      0.28      3401\n",
      "          88       0.23      0.24      0.24      3479\n",
      "          89       0.20      0.15      0.17      2442\n",
      "          90       0.23      0.31      0.27      3023\n",
      "          91       0.22      0.19      0.20      2244\n",
      "          92       0.22      0.20      0.21      1907\n",
      "          93       0.20      0.20      0.20      1280\n",
      "          94       0.16      0.15      0.15       755\n",
      "          95       0.10      0.13      0.11       307\n",
      "          96       0.04      0.04      0.04       112\n",
      "          97       0.08      0.08      0.08        52\n",
      "          98       0.00      0.00      0.00         9\n",
      "          99       0.00      0.00      0.00         9\n",
      "         100       0.00      0.00      0.00         3\n",
      "\n",
      "    accuracy                           0.23     25995\n",
      "   macro avg       0.17      0.15      0.16     25995\n",
      "weighted avg       0.22      0.23      0.22     25995\n",
      "\n",
      "AUC = 0.8086954765823677\n"
     ]
    }
   ],
   "source": [
    "print(classification_report(y_test, lr.predict(x_test)))\n",
    "print(f\"AUC = {roc_auc_score(y_test, lr.predict_proba(x_test), multi_class='ovr')}\")"
   ]
  },
  {
   "cell_type": "markdown",
   "metadata": {},
   "source": [
    "#### Mid Q summary:\n",
    "Up to this point, we went easy on ourselves by not cross-validating anything, nor giving much care about the pre-processing.\n",
    "However, we'll take care of it all in the next part."
   ]
  },
  {
   "cell_type": "markdown",
   "metadata": {},
   "source": [
    "1.4 Combine the non-text features and the text features. How does adding those features improve upon just using bag-of-words?"
   ]
  },
  {
   "cell_type": "code",
   "execution_count": 1,
   "metadata": {},
   "outputs": [
    {
     "data": {
      "text/html": [
       "<div>\n",
       "<style scoped>\n",
       "    .dataframe tbody tr th:only-of-type {\n",
       "        vertical-align: middle;\n",
       "    }\n",
       "\n",
       "    .dataframe tbody tr th {\n",
       "        vertical-align: top;\n",
       "    }\n",
       "\n",
       "    .dataframe thead th {\n",
       "        text-align: right;\n",
       "    }\n",
       "</style>\n",
       "<table border=\"1\" class=\"dataframe\">\n",
       "  <thead>\n",
       "    <tr style=\"text-align: right;\">\n",
       "      <th></th>\n",
       "      <th>description</th>\n",
       "      <th>designation</th>\n",
       "      <th>price</th>\n",
       "      <th>province</th>\n",
       "      <th>region_1</th>\n",
       "      <th>region_2</th>\n",
       "      <th>taster_name</th>\n",
       "      <th>taster_twitter_handle</th>\n",
       "      <th>title</th>\n",
       "      <th>variety</th>\n",
       "      <th>winery</th>\n",
       "    </tr>\n",
       "  </thead>\n",
       "  <tbody>\n",
       "    <tr>\n",
       "      <th>0</th>\n",
       "      <td>Tart and snappy, the flavors of lime flesh and...</td>\n",
       "      <td>NaN</td>\n",
       "      <td>14.0</td>\n",
       "      <td>Oregon</td>\n",
       "      <td>Willamette Valley</td>\n",
       "      <td>Willamette Valley</td>\n",
       "      <td>Paul Gregutt</td>\n",
       "      <td>@paulgwine</td>\n",
       "      <td>Rainstorm 2013 Pinot Gris (Willamette Valley)</td>\n",
       "      <td>Pinot Gris</td>\n",
       "      <td>Rainstorm</td>\n",
       "    </tr>\n",
       "    <tr>\n",
       "      <th>1</th>\n",
       "      <td>Pineapple rind, lemon pith and orange blossom ...</td>\n",
       "      <td>Reserve Late Harvest</td>\n",
       "      <td>13.0</td>\n",
       "      <td>Michigan</td>\n",
       "      <td>Lake Michigan Shore</td>\n",
       "      <td>NaN</td>\n",
       "      <td>Alexander Peartree</td>\n",
       "      <td>NaN</td>\n",
       "      <td>St. Julian 2013 Reserve Late Harvest Riesling ...</td>\n",
       "      <td>Riesling</td>\n",
       "      <td>St. Julian</td>\n",
       "    </tr>\n",
       "    <tr>\n",
       "      <th>2</th>\n",
       "      <td>Much like the regular bottling from 2012, this...</td>\n",
       "      <td>Vintner's Reserve Wild Child Block</td>\n",
       "      <td>65.0</td>\n",
       "      <td>Oregon</td>\n",
       "      <td>Willamette Valley</td>\n",
       "      <td>Willamette Valley</td>\n",
       "      <td>Paul Gregutt</td>\n",
       "      <td>@paulgwine</td>\n",
       "      <td>Sweet Cheeks 2012 Vintner's Reserve Wild Child...</td>\n",
       "      <td>Pinot Noir</td>\n",
       "      <td>Sweet Cheeks</td>\n",
       "    </tr>\n",
       "  </tbody>\n",
       "</table>\n",
       "</div>"
      ],
      "text/plain": [
       "                                         description  \\\n",
       "0  Tart and snappy, the flavors of lime flesh and...   \n",
       "1  Pineapple rind, lemon pith and orange blossom ...   \n",
       "2  Much like the regular bottling from 2012, this...   \n",
       "\n",
       "                          designation  price  province             region_1  \\\n",
       "0                                 NaN   14.0    Oregon    Willamette Valley   \n",
       "1                Reserve Late Harvest   13.0  Michigan  Lake Michigan Shore   \n",
       "2  Vintner's Reserve Wild Child Block   65.0    Oregon    Willamette Valley   \n",
       "\n",
       "            region_2         taster_name taster_twitter_handle  \\\n",
       "0  Willamette Valley        Paul Gregutt           @paulgwine    \n",
       "1                NaN  Alexander Peartree                   NaN   \n",
       "2  Willamette Valley        Paul Gregutt           @paulgwine    \n",
       "\n",
       "                                               title     variety        winery  \n",
       "0      Rainstorm 2013 Pinot Gris (Willamette Valley)  Pinot Gris     Rainstorm  \n",
       "1  St. Julian 2013 Reserve Late Harvest Riesling ...    Riesling    St. Julian  \n",
       "2  Sweet Cheeks 2012 Vintner's Reserve Wild Child...  Pinot Noir  Sweet Cheeks  "
      ]
     },
     "execution_count": 1,
     "metadata": {},
     "output_type": "execute_result"
    }
   ],
   "source": [
    "import pandas as pd\n",
    "import numpy as np\n",
    "import seaborn as sns\n",
    "from matplotlib import pyplot as plt\n",
    "from imblearn.over_sampling import SMOTE\n",
    "from sklearn.feature_extraction.text import TfidfTransformer, CountVectorizer\n",
    "from sklearn.pipeline import make_pipeline, Pipeline\n",
    "\n",
    "x = pd.read_csv('winemag-data-130k-v2.csv', index_col=0)\n",
    "x = x.loc[x['country'] == 'US']\n",
    "x = x.reset_index(drop=True)\n",
    "y = x['points']\n",
    "x.drop(columns=['points', 'country'], inplace=True)\n",
    "x.head(3)"
   ]
  },
  {
   "cell_type": "code",
   "execution_count": 2,
   "metadata": {},
   "outputs": [
    {
     "data": {
      "text/plain": [
       "description                  0\n",
       "designation              17596\n",
       "price                      239\n",
       "province                     0\n",
       "region_1                   278\n",
       "region_2                  3993\n",
       "taster_name              16774\n",
       "taster_twitter_handle    19763\n",
       "title                        0\n",
       "variety                      0\n",
       "winery                       0\n",
       "dtype: int64"
      ]
     },
     "execution_count": 2,
     "metadata": {},
     "output_type": "execute_result"
    }
   ],
   "source": [
    "x.isna().sum()"
   ]
  },
  {
   "cell_type": "code",
   "execution_count": 3,
   "metadata": {},
   "outputs": [
    {
     "data": {
      "text/html": [
       "<div>\n",
       "<style scoped>\n",
       "    .dataframe tbody tr th:only-of-type {\n",
       "        vertical-align: middle;\n",
       "    }\n",
       "\n",
       "    .dataframe tbody tr th {\n",
       "        vertical-align: top;\n",
       "    }\n",
       "\n",
       "    .dataframe thead th {\n",
       "        text-align: right;\n",
       "    }\n",
       "</style>\n",
       "<table border=\"1\" class=\"dataframe\">\n",
       "  <thead>\n",
       "    <tr style=\"text-align: right;\">\n",
       "      <th></th>\n",
       "      <th>designation</th>\n",
       "      <th>variety</th>\n",
       "      <th>winery</th>\n",
       "      <th>region_1</th>\n",
       "      <th>title</th>\n",
       "    </tr>\n",
       "  </thead>\n",
       "  <tbody>\n",
       "    <tr>\n",
       "      <th>0</th>\n",
       "      <td>NaN</td>\n",
       "      <td>Pinot Gris</td>\n",
       "      <td>Rainstorm</td>\n",
       "      <td>Willamette Valley</td>\n",
       "      <td>Rainstorm 2013 Pinot Gris (Willamette Valley)</td>\n",
       "    </tr>\n",
       "    <tr>\n",
       "      <th>4</th>\n",
       "      <td>NaN</td>\n",
       "      <td>Cabernet Sauvignon</td>\n",
       "      <td>Louis M. Martini</td>\n",
       "      <td>Alexander Valley</td>\n",
       "      <td>Louis M. Martini 2012 Cabernet Sauvignon (Alex...</td>\n",
       "    </tr>\n",
       "    <tr>\n",
       "      <th>5</th>\n",
       "      <td>NaN</td>\n",
       "      <td>Chardonnay</td>\n",
       "      <td>Mirassou</td>\n",
       "      <td>Central Coast</td>\n",
       "      <td>Mirassou 2012 Chardonnay (Central Coast)</td>\n",
       "    </tr>\n",
       "    <tr>\n",
       "      <th>6</th>\n",
       "      <td>NaN</td>\n",
       "      <td>Meritage</td>\n",
       "      <td>Quiévremont</td>\n",
       "      <td>Virginia</td>\n",
       "      <td>Quiévremont 2012 Meritage (Virginia)</td>\n",
       "    </tr>\n",
       "    <tr>\n",
       "      <th>8</th>\n",
       "      <td>NaN</td>\n",
       "      <td>Pinot Noir</td>\n",
       "      <td>Acrobat</td>\n",
       "      <td>Oregon</td>\n",
       "      <td>Acrobat 2013 Pinot Noir (Oregon)</td>\n",
       "    </tr>\n",
       "    <tr>\n",
       "      <th>...</th>\n",
       "      <td>...</td>\n",
       "      <td>...</td>\n",
       "      <td>...</td>\n",
       "      <td>...</td>\n",
       "      <td>...</td>\n",
       "    </tr>\n",
       "    <tr>\n",
       "      <th>54495</th>\n",
       "      <td>NaN</td>\n",
       "      <td>Syrah</td>\n",
       "      <td>Va Piano</td>\n",
       "      <td>Columbia Valley-Walla Walla Valley</td>\n",
       "      <td>Va Piano 2006 Syrah (Columbia Valley-Walla Wal...</td>\n",
       "    </tr>\n",
       "    <tr>\n",
       "      <th>54497</th>\n",
       "      <td>NaN</td>\n",
       "      <td>Chardonnay</td>\n",
       "      <td>Apriori</td>\n",
       "      <td>Mendocino County</td>\n",
       "      <td>Apriori 2013 Chardonnay (Mendocino County)</td>\n",
       "    </tr>\n",
       "    <tr>\n",
       "      <th>54498</th>\n",
       "      <td>NaN</td>\n",
       "      <td>Cabernet Sauvignon</td>\n",
       "      <td>Arrowood</td>\n",
       "      <td>Sonoma County</td>\n",
       "      <td>Arrowood 2010 Cabernet Sauvignon (Sonoma County)</td>\n",
       "    </tr>\n",
       "    <tr>\n",
       "      <th>54502</th>\n",
       "      <td>NaN</td>\n",
       "      <td>Zinfandel</td>\n",
       "      <td>Houdini</td>\n",
       "      <td>Chiles Valley</td>\n",
       "      <td>Houdini 2011 Zinfandel (Chiles Valley)</td>\n",
       "    </tr>\n",
       "    <tr>\n",
       "      <th>54503</th>\n",
       "      <td>NaN</td>\n",
       "      <td>Pinot Noir</td>\n",
       "      <td>Citation</td>\n",
       "      <td>Oregon</td>\n",
       "      <td>Citation 2004 Pinot Noir (Oregon)</td>\n",
       "    </tr>\n",
       "  </tbody>\n",
       "</table>\n",
       "<p>17596 rows × 5 columns</p>\n",
       "</div>"
      ],
      "text/plain": [
       "      designation             variety            winery  \\\n",
       "0             NaN          Pinot Gris         Rainstorm   \n",
       "4             NaN  Cabernet Sauvignon  Louis M. Martini   \n",
       "5             NaN          Chardonnay          Mirassou   \n",
       "6             NaN            Meritage       Quiévremont   \n",
       "8             NaN          Pinot Noir           Acrobat   \n",
       "...           ...                 ...               ...   \n",
       "54495         NaN               Syrah          Va Piano   \n",
       "54497         NaN          Chardonnay           Apriori   \n",
       "54498         NaN  Cabernet Sauvignon          Arrowood   \n",
       "54502         NaN           Zinfandel           Houdini   \n",
       "54503         NaN          Pinot Noir          Citation   \n",
       "\n",
       "                                 region_1  \\\n",
       "0                       Willamette Valley   \n",
       "4                        Alexander Valley   \n",
       "5                           Central Coast   \n",
       "6                                Virginia   \n",
       "8                                  Oregon   \n",
       "...                                   ...   \n",
       "54495  Columbia Valley-Walla Walla Valley   \n",
       "54497                    Mendocino County   \n",
       "54498                       Sonoma County   \n",
       "54502                       Chiles Valley   \n",
       "54503                              Oregon   \n",
       "\n",
       "                                                   title  \n",
       "0          Rainstorm 2013 Pinot Gris (Willamette Valley)  \n",
       "4      Louis M. Martini 2012 Cabernet Sauvignon (Alex...  \n",
       "5               Mirassou 2012 Chardonnay (Central Coast)  \n",
       "6                   Quiévremont 2012 Meritage (Virginia)  \n",
       "8                       Acrobat 2013 Pinot Noir (Oregon)  \n",
       "...                                                  ...  \n",
       "54495  Va Piano 2006 Syrah (Columbia Valley-Walla Wal...  \n",
       "54497         Apriori 2013 Chardonnay (Mendocino County)  \n",
       "54498   Arrowood 2010 Cabernet Sauvignon (Sonoma County)  \n",
       "54502             Houdini 2011 Zinfandel (Chiles Valley)  \n",
       "54503                  Citation 2004 Pinot Noir (Oregon)  \n",
       "\n",
       "[17596 rows x 5 columns]"
      ]
     },
     "execution_count": 3,
     "metadata": {},
     "output_type": "execute_result"
    }
   ],
   "source": [
    "x.loc[x['designation'].isna(), ['designation', 'variety', 'winery', 'region_1', 'title']]"
   ]
  },
  {
   "cell_type": "code",
   "execution_count": 4,
   "metadata": {},
   "outputs": [
    {
     "data": {
      "text/html": [
       "<div>\n",
       "<style scoped>\n",
       "    .dataframe tbody tr th:only-of-type {\n",
       "        vertical-align: middle;\n",
       "    }\n",
       "\n",
       "    .dataframe tbody tr th {\n",
       "        vertical-align: top;\n",
       "    }\n",
       "\n",
       "    .dataframe thead th {\n",
       "        text-align: right;\n",
       "    }\n",
       "</style>\n",
       "<table border=\"1\" class=\"dataframe\">\n",
       "  <thead>\n",
       "    <tr style=\"text-align: right;\">\n",
       "      <th></th>\n",
       "      <th>designation</th>\n",
       "      <th>variety</th>\n",
       "      <th>winery</th>\n",
       "      <th>region_1</th>\n",
       "      <th>title</th>\n",
       "    </tr>\n",
       "  </thead>\n",
       "  <tbody>\n",
       "    <tr>\n",
       "      <th>1</th>\n",
       "      <td>Reserve Late Harvest</td>\n",
       "      <td>Riesling</td>\n",
       "      <td>St. Julian</td>\n",
       "      <td>Lake Michigan Shore</td>\n",
       "      <td>St. Julian 2013 Reserve Late Harvest Riesling ...</td>\n",
       "    </tr>\n",
       "    <tr>\n",
       "      <th>2</th>\n",
       "      <td>Vintner's Reserve Wild Child Block</td>\n",
       "      <td>Pinot Noir</td>\n",
       "      <td>Sweet Cheeks</td>\n",
       "      <td>Willamette Valley</td>\n",
       "      <td>Sweet Cheeks 2012 Vintner's Reserve Wild Child...</td>\n",
       "    </tr>\n",
       "    <tr>\n",
       "      <th>3</th>\n",
       "      <td>Mountain Cuvée</td>\n",
       "      <td>Cabernet Sauvignon</td>\n",
       "      <td>Kirkland Signature</td>\n",
       "      <td>Napa Valley</td>\n",
       "      <td>Kirkland Signature 2011 Mountain Cuvée Caberne...</td>\n",
       "    </tr>\n",
       "    <tr>\n",
       "      <th>7</th>\n",
       "      <td>Vin de Maison</td>\n",
       "      <td>Red Blend</td>\n",
       "      <td>Quiévremont</td>\n",
       "      <td>Virginia</td>\n",
       "      <td>Quiévremont 2012 Vin de Maison Red (Virginia)</td>\n",
       "    </tr>\n",
       "    <tr>\n",
       "      <th>9</th>\n",
       "      <td>Signature Selection</td>\n",
       "      <td>Merlot</td>\n",
       "      <td>Bianchi</td>\n",
       "      <td>Paso Robles</td>\n",
       "      <td>Bianchi 2011 Signature Selection Merlot (Paso ...</td>\n",
       "    </tr>\n",
       "    <tr>\n",
       "      <th>...</th>\n",
       "      <td>...</td>\n",
       "      <td>...</td>\n",
       "      <td>...</td>\n",
       "      <td>...</td>\n",
       "      <td>...</td>\n",
       "    </tr>\n",
       "    <tr>\n",
       "      <th>54493</th>\n",
       "      <td>Ash Hollow Vineyard</td>\n",
       "      <td>Syrah</td>\n",
       "      <td>Reininger</td>\n",
       "      <td>Walla Walla Valley (WA)</td>\n",
       "      <td>Reininger 2005 Ash Hollow Vineyard Syrah (Wall...</td>\n",
       "    </tr>\n",
       "    <tr>\n",
       "      <th>54496</th>\n",
       "      <td>Watson Vineyard</td>\n",
       "      <td>Chardonnay</td>\n",
       "      <td>Standish</td>\n",
       "      <td>Mendocino</td>\n",
       "      <td>Standish 2006 Watson Vineyard Chardonnay (Mend...</td>\n",
       "    </tr>\n",
       "    <tr>\n",
       "      <th>54499</th>\n",
       "      <td>Jurassic Park Vineyard Old Vines</td>\n",
       "      <td>Chenin Blanc</td>\n",
       "      <td>Birichino</td>\n",
       "      <td>Santa Ynez Valley</td>\n",
       "      <td>Birichino 2013 Jurassic Park Vineyard Old Vine...</td>\n",
       "    </tr>\n",
       "    <tr>\n",
       "      <th>54500</th>\n",
       "      <td>Barrel Fermented</td>\n",
       "      <td>Chardonnay</td>\n",
       "      <td>Flora Springs</td>\n",
       "      <td>Napa Valley</td>\n",
       "      <td>Flora Springs 2013 Barrel Fermented Chardonnay...</td>\n",
       "    </tr>\n",
       "    <tr>\n",
       "      <th>54501</th>\n",
       "      <td>Blocks 7 &amp; 22</td>\n",
       "      <td>Zinfandel</td>\n",
       "      <td>Hendry</td>\n",
       "      <td>Napa Valley</td>\n",
       "      <td>Hendry 2012 Blocks 7 &amp; 22 Zinfandel (Napa Valley)</td>\n",
       "    </tr>\n",
       "  </tbody>\n",
       "</table>\n",
       "<p>36908 rows × 5 columns</p>\n",
       "</div>"
      ],
      "text/plain": [
       "                              designation             variety  \\\n",
       "1                    Reserve Late Harvest            Riesling   \n",
       "2      Vintner's Reserve Wild Child Block          Pinot Noir   \n",
       "3                          Mountain Cuvée  Cabernet Sauvignon   \n",
       "7                           Vin de Maison           Red Blend   \n",
       "9                     Signature Selection              Merlot   \n",
       "...                                   ...                 ...   \n",
       "54493                 Ash Hollow Vineyard               Syrah   \n",
       "54496                     Watson Vineyard          Chardonnay   \n",
       "54499    Jurassic Park Vineyard Old Vines        Chenin Blanc   \n",
       "54500                    Barrel Fermented          Chardonnay   \n",
       "54501                       Blocks 7 & 22           Zinfandel   \n",
       "\n",
       "                   winery                 region_1  \\\n",
       "1              St. Julian      Lake Michigan Shore   \n",
       "2            Sweet Cheeks        Willamette Valley   \n",
       "3      Kirkland Signature              Napa Valley   \n",
       "7             Quiévremont                 Virginia   \n",
       "9                 Bianchi              Paso Robles   \n",
       "...                   ...                      ...   \n",
       "54493           Reininger  Walla Walla Valley (WA)   \n",
       "54496            Standish                Mendocino   \n",
       "54499           Birichino        Santa Ynez Valley   \n",
       "54500       Flora Springs              Napa Valley   \n",
       "54501              Hendry              Napa Valley   \n",
       "\n",
       "                                                   title  \n",
       "1      St. Julian 2013 Reserve Late Harvest Riesling ...  \n",
       "2      Sweet Cheeks 2012 Vintner's Reserve Wild Child...  \n",
       "3      Kirkland Signature 2011 Mountain Cuvée Caberne...  \n",
       "7          Quiévremont 2012 Vin de Maison Red (Virginia)  \n",
       "9      Bianchi 2011 Signature Selection Merlot (Paso ...  \n",
       "...                                                  ...  \n",
       "54493  Reininger 2005 Ash Hollow Vineyard Syrah (Wall...  \n",
       "54496  Standish 2006 Watson Vineyard Chardonnay (Mend...  \n",
       "54499  Birichino 2013 Jurassic Park Vineyard Old Vine...  \n",
       "54500  Flora Springs 2013 Barrel Fermented Chardonnay...  \n",
       "54501  Hendry 2012 Blocks 7 & 22 Zinfandel (Napa Valley)  \n",
       "\n",
       "[36908 rows x 5 columns]"
      ]
     },
     "execution_count": 4,
     "metadata": {},
     "output_type": "execute_result"
    }
   ],
   "source": [
    "x.loc[~x['designation'].isna(), ['designation', 'variety', 'winery', 'region_1', 'title']]"
   ]
  },
  {
   "cell_type": "markdown",
   "metadata": {},
   "source": [
    "#### From looking at the _designation_, _title_, _winery_ and _variety_ columns, it seems like there are some missing values that we could impute by ourselves to the _designation_. Why is that true? because the _title_ column, when _designation_ is filled, designed like the following:\n",
    "\n",
    "Let $t_i$ be the value of _title_ in row $i$, so: $\\\\$\n",
    "$t_i$ = $x_i$ ... $y$ ... $w_i$ ... $z_i$ ... ($v_i$) where: \n",
    "\n",
    "- $x_i = $ the value of _winery_ in row $i$\n",
    "- $y \\in \\mathbb{N}$ a year\n",
    "- $w_i = $ the value of _designation_ in row $i$\n",
    "- $z_i = $ the value of _variety_ in row $i$\n",
    "- $v_i = $ the value of _province_ in row $i$\n",
    "\n",
    "#### However, when _designation_ is not filled, the _title_ column designed like the following:\n",
    "\n",
    "Let $t_i$ be the value of _title_ in row $i$, so: $\\\\$\n",
    "$t_i$ = $x_i$ ... $y$ ... $w_i$ ... ($z_i$) where: \n",
    "\n",
    "- $x_i = $ the value of _winery_ in row $i$\n",
    "- $y \\in \\mathbb{N}$ a year\n",
    "- $w_i = $ the value of _variety_ in row $i$\n",
    "- $z_i = $ the value of _province_ in row $i$\n",
    "\n",
    "#### Which means that the right way of imputation to the column is by setting the missing values to \"Unknown\"."
   ]
  },
  {
   "cell_type": "code",
   "execution_count": 4,
   "metadata": {},
   "outputs": [],
   "source": [
    "x['designation'] = x['designation'].fillna(value='unknown') "
   ]
  },
  {
   "cell_type": "code",
   "execution_count": 5,
   "metadata": {},
   "outputs": [
    {
     "data": {
      "text/plain": [
       "description                  0\n",
       "designation                  0\n",
       "price                      239\n",
       "province                     0\n",
       "region_1                   278\n",
       "region_2                  3993\n",
       "taster_name              16774\n",
       "taster_twitter_handle    19763\n",
       "title                        0\n",
       "variety                      0\n",
       "winery                       0\n",
       "dtype: int64"
      ]
     },
     "execution_count": 5,
     "metadata": {},
     "output_type": "execute_result"
    }
   ],
   "source": [
    "x.isna().sum()"
   ]
  },
  {
   "cell_type": "code",
   "execution_count": 6,
   "metadata": {},
   "outputs": [
    {
     "data": {
      "text/html": [
       "<div>\n",
       "<style scoped>\n",
       "    .dataframe tbody tr th:only-of-type {\n",
       "        vertical-align: middle;\n",
       "    }\n",
       "\n",
       "    .dataframe tbody tr th {\n",
       "        vertical-align: top;\n",
       "    }\n",
       "\n",
       "    .dataframe thead th {\n",
       "        text-align: right;\n",
       "    }\n",
       "</style>\n",
       "<table border=\"1\" class=\"dataframe\">\n",
       "  <thead>\n",
       "    <tr style=\"text-align: right;\">\n",
       "      <th></th>\n",
       "      <th>province</th>\n",
       "      <th>region_1</th>\n",
       "      <th>region_2</th>\n",
       "      <th>title</th>\n",
       "    </tr>\n",
       "  </thead>\n",
       "  <tbody>\n",
       "    <tr>\n",
       "      <th>254</th>\n",
       "      <td>Idaho</td>\n",
       "      <td>NaN</td>\n",
       "      <td>NaN</td>\n",
       "      <td>Coiled 2009 Sidewinder Red</td>\n",
       "    </tr>\n",
       "    <tr>\n",
       "      <th>255</th>\n",
       "      <td>Idaho</td>\n",
       "      <td>NaN</td>\n",
       "      <td>NaN</td>\n",
       "      <td>Coiled 2010 Black Mamba Red</td>\n",
       "    </tr>\n",
       "    <tr>\n",
       "      <th>638</th>\n",
       "      <td>America</td>\n",
       "      <td>NaN</td>\n",
       "      <td>NaN</td>\n",
       "      <td>Gruet NV Blanc de Blancs Chardonnay (America)</td>\n",
       "    </tr>\n",
       "    <tr>\n",
       "      <th>692</th>\n",
       "      <td>Idaho</td>\n",
       "      <td>NaN</td>\n",
       "      <td>NaN</td>\n",
       "      <td>Koenig Vineyards 2011 Ice Wine Riesling</td>\n",
       "    </tr>\n",
       "    <tr>\n",
       "      <th>930</th>\n",
       "      <td>America</td>\n",
       "      <td>NaN</td>\n",
       "      <td>NaN</td>\n",
       "      <td>Biltmore Estate NV Blanc de Noir Brut Sparklin...</td>\n",
       "    </tr>\n",
       "    <tr>\n",
       "      <th>...</th>\n",
       "      <td>...</td>\n",
       "      <td>...</td>\n",
       "      <td>...</td>\n",
       "      <td>...</td>\n",
       "    </tr>\n",
       "    <tr>\n",
       "      <th>53893</th>\n",
       "      <td>Idaho</td>\n",
       "      <td>NaN</td>\n",
       "      <td>NaN</td>\n",
       "      <td>Cinder 2014 Syrah</td>\n",
       "    </tr>\n",
       "    <tr>\n",
       "      <th>53920</th>\n",
       "      <td>America</td>\n",
       "      <td>NaN</td>\n",
       "      <td>NaN</td>\n",
       "      <td>BBQ Wine Company NV Oink! Red (America)</td>\n",
       "    </tr>\n",
       "    <tr>\n",
       "      <th>53921</th>\n",
       "      <td>America</td>\n",
       "      <td>NaN</td>\n",
       "      <td>NaN</td>\n",
       "      <td>BBQ Wine Company NV Oink! White (America)</td>\n",
       "    </tr>\n",
       "    <tr>\n",
       "      <th>54283</th>\n",
       "      <td>America</td>\n",
       "      <td>NaN</td>\n",
       "      <td>NaN</td>\n",
       "      <td>Sokol Blosser NV Evolution Brut Sparkling (Ame...</td>\n",
       "    </tr>\n",
       "    <tr>\n",
       "      <th>54294</th>\n",
       "      <td>Washington-Oregon</td>\n",
       "      <td>NaN</td>\n",
       "      <td>NaN</td>\n",
       "      <td>ENSO NV Resonate White #5 Pinot Gris (Washingt...</td>\n",
       "    </tr>\n",
       "  </tbody>\n",
       "</table>\n",
       "<p>278 rows × 4 columns</p>\n",
       "</div>"
      ],
      "text/plain": [
       "                province region_1 region_2  \\\n",
       "254                Idaho      NaN      NaN   \n",
       "255                Idaho      NaN      NaN   \n",
       "638              America      NaN      NaN   \n",
       "692                Idaho      NaN      NaN   \n",
       "930              America      NaN      NaN   \n",
       "...                  ...      ...      ...   \n",
       "53893              Idaho      NaN      NaN   \n",
       "53920            America      NaN      NaN   \n",
       "53921            America      NaN      NaN   \n",
       "54283            America      NaN      NaN   \n",
       "54294  Washington-Oregon      NaN      NaN   \n",
       "\n",
       "                                                   title  \n",
       "254                           Coiled 2009 Sidewinder Red  \n",
       "255                          Coiled 2010 Black Mamba Red  \n",
       "638        Gruet NV Blanc de Blancs Chardonnay (America)  \n",
       "692              Koenig Vineyards 2011 Ice Wine Riesling  \n",
       "930    Biltmore Estate NV Blanc de Noir Brut Sparklin...  \n",
       "...                                                  ...  \n",
       "53893                                  Cinder 2014 Syrah  \n",
       "53920            BBQ Wine Company NV Oink! Red (America)  \n",
       "53921          BBQ Wine Company NV Oink! White (America)  \n",
       "54283  Sokol Blosser NV Evolution Brut Sparkling (Ame...  \n",
       "54294  ENSO NV Resonate White #5 Pinot Gris (Washingt...  \n",
       "\n",
       "[278 rows x 4 columns]"
      ]
     },
     "execution_count": 6,
     "metadata": {},
     "output_type": "execute_result"
    }
   ],
   "source": [
    "x.loc[x['region_1'].isna(), ['province', 'region_1', 'region_2','title']]"
   ]
  },
  {
   "cell_type": "code",
   "execution_count": 7,
   "metadata": {},
   "outputs": [
    {
     "data": {
      "text/plain": [
       "(array(['America', 'No Clue', 'Washington-Oregon'], dtype=object),\n",
       " array([ 95, 176,   7], dtype=int64))"
      ]
     },
     "execution_count": 7,
     "metadata": {},
     "output_type": "execute_result"
    }
   ],
   "source": [
    "np.unique(x.loc[x['region_1'].isna()]['title'].apply(lambda x: x.split('(')[-1][:-1] if len(x.split('(')) > 1 else \"No Clue\"),\n",
    "          return_counts = True)"
   ]
  },
  {
   "cell_type": "markdown",
   "metadata": {},
   "source": [
    "#### In the case of the rest of the columns contains of missing values, we'll probably have to use an ML algorithm to fill them up, since there's no way for us to do that manually and sufficiently."
   ]
  },
  {
   "cell_type": "code",
   "execution_count": 8,
   "metadata": {},
   "outputs": [],
   "source": [
    "def get_year(row):\n",
    "    _t = row['title']\n",
    "    _x = row['winery']\n",
    "    _w = row['designation']\n",
    "    _z = row['variety']\n",
    "    _v = row['region_1']\n",
    "    \n",
    "    _words = _t.split(_x)[1][1:].split(' ')\n",
    "    if _words[0].isnumeric():\n",
    "        return int(_words[0])\n",
    "        \n",
    "    elif _words[0] == 'NV':    \n",
    "        if _w == 'unknown':\n",
    "            return np.nan\n",
    "        else:\n",
    "            #print(_w.split(' '))\n",
    "            return np.nan\n",
    "x['year'] = x.apply(lambda z: get_year(z), axis=1)"
   ]
  },
  {
   "cell_type": "code",
   "execution_count": 9,
   "metadata": {},
   "outputs": [
    {
     "data": {
      "text/html": [
       "<div>\n",
       "<style scoped>\n",
       "    .dataframe tbody tr th:only-of-type {\n",
       "        vertical-align: middle;\n",
       "    }\n",
       "\n",
       "    .dataframe tbody tr th {\n",
       "        vertical-align: top;\n",
       "    }\n",
       "\n",
       "    .dataframe thead th {\n",
       "        text-align: right;\n",
       "    }\n",
       "</style>\n",
       "<table border=\"1\" class=\"dataframe\">\n",
       "  <thead>\n",
       "    <tr style=\"text-align: right;\">\n",
       "      <th></th>\n",
       "      <th>designation</th>\n",
       "      <th>price</th>\n",
       "      <th>province</th>\n",
       "      <th>region_1</th>\n",
       "      <th>region_2</th>\n",
       "      <th>taster_name</th>\n",
       "      <th>taster_twitter_handle</th>\n",
       "      <th>title</th>\n",
       "      <th>variety</th>\n",
       "      <th>winery</th>\n",
       "      <th>year</th>\n",
       "    </tr>\n",
       "  </thead>\n",
       "  <tbody>\n",
       "    <tr>\n",
       "      <th>0</th>\n",
       "      <td>unknown</td>\n",
       "      <td>14.0</td>\n",
       "      <td>Oregon</td>\n",
       "      <td>Willamette Valley</td>\n",
       "      <td>Willamette Valley</td>\n",
       "      <td>Paul Gregutt</td>\n",
       "      <td>@paulgwine</td>\n",
       "      <td>Rainstorm 2013 Pinot Gris (Willamette Valley)</td>\n",
       "      <td>Pinot Gris</td>\n",
       "      <td>Rainstorm</td>\n",
       "      <td>2013.0</td>\n",
       "    </tr>\n",
       "    <tr>\n",
       "      <th>1</th>\n",
       "      <td>Reserve Late Harvest</td>\n",
       "      <td>13.0</td>\n",
       "      <td>Michigan</td>\n",
       "      <td>Lake Michigan Shore</td>\n",
       "      <td>NaN</td>\n",
       "      <td>Alexander Peartree</td>\n",
       "      <td>NaN</td>\n",
       "      <td>St. Julian 2013 Reserve Late Harvest Riesling ...</td>\n",
       "      <td>Riesling</td>\n",
       "      <td>St. Julian</td>\n",
       "      <td>2013.0</td>\n",
       "    </tr>\n",
       "    <tr>\n",
       "      <th>2</th>\n",
       "      <td>Vintner's Reserve Wild Child Block</td>\n",
       "      <td>65.0</td>\n",
       "      <td>Oregon</td>\n",
       "      <td>Willamette Valley</td>\n",
       "      <td>Willamette Valley</td>\n",
       "      <td>Paul Gregutt</td>\n",
       "      <td>@paulgwine</td>\n",
       "      <td>Sweet Cheeks 2012 Vintner's Reserve Wild Child...</td>\n",
       "      <td>Pinot Noir</td>\n",
       "      <td>Sweet Cheeks</td>\n",
       "      <td>2012.0</td>\n",
       "    </tr>\n",
       "  </tbody>\n",
       "</table>\n",
       "</div>"
      ],
      "text/plain": [
       "                          designation  price  province             region_1  \\\n",
       "0                             unknown   14.0    Oregon    Willamette Valley   \n",
       "1                Reserve Late Harvest   13.0  Michigan  Lake Michigan Shore   \n",
       "2  Vintner's Reserve Wild Child Block   65.0    Oregon    Willamette Valley   \n",
       "\n",
       "            region_2         taster_name taster_twitter_handle  \\\n",
       "0  Willamette Valley        Paul Gregutt           @paulgwine    \n",
       "1                NaN  Alexander Peartree                   NaN   \n",
       "2  Willamette Valley        Paul Gregutt           @paulgwine    \n",
       "\n",
       "                                               title     variety  \\\n",
       "0      Rainstorm 2013 Pinot Gris (Willamette Valley)  Pinot Gris   \n",
       "1  St. Julian 2013 Reserve Late Harvest Riesling ...    Riesling   \n",
       "2  Sweet Cheeks 2012 Vintner's Reserve Wild Child...  Pinot Noir   \n",
       "\n",
       "         winery    year  \n",
       "0     Rainstorm  2013.0  \n",
       "1    St. Julian  2013.0  \n",
       "2  Sweet Cheeks  2012.0  "
      ]
     },
     "execution_count": 9,
     "metadata": {},
     "output_type": "execute_result"
    }
   ],
   "source": [
    "description = x['description'].copy()\n",
    "x = x.drop(columns=['description'])\n",
    "x.head(3)"
   ]
  },
  {
   "cell_type": "code",
   "execution_count": 10,
   "metadata": {},
   "outputs": [
    {
     "data": {
      "image/png": "[encoded data removed]",
      "text/plain": [
       "<Figure size 720x720 with 2 Axes>"
      ]
     },
     "metadata": {
      "needs_background": "light"
     },
     "output_type": "display_data"
    }
   ],
   "source": [
    "temp_df = x.apply(lambda z: z.astype('category').cat.codes if z.dtype == object else z)\n",
    "temp_df['points'] = y.copy()\n",
    "plt.figure(figsize=(10, 10))\n",
    "plt.title('Correlation of All Features',y=1,size=16)\n",
    "sns.heatmap(temp_df.corr().abs(), vmax=1, vmin=0, ax=plt.gca())\n",
    "plt.show()\n",
    "temp_df = None"
   ]
  },
  {
   "cell_type": "markdown",
   "metadata": {},
   "source": [
    "#### We can tell there are features that highly correlated with our target:\n",
    "- _year_\n",
    "- _price_\n",
    "#### In addition, since any possible information has been extracted from _title_, we feel like this feature is a bit redundant, as well as the _taster_twitter_handle_ feature."
   ]
  },
  {
   "cell_type": "code",
   "execution_count": 11,
   "metadata": {},
   "outputs": [
    {
     "data": {
      "text/html": [
       "<div>\n",
       "<style scoped>\n",
       "    .dataframe tbody tr th:only-of-type {\n",
       "        vertical-align: middle;\n",
       "    }\n",
       "\n",
       "    .dataframe tbody tr th {\n",
       "        vertical-align: top;\n",
       "    }\n",
       "\n",
       "    .dataframe thead th {\n",
       "        text-align: right;\n",
       "    }\n",
       "</style>\n",
       "<table border=\"1\" class=\"dataframe\">\n",
       "  <thead>\n",
       "    <tr style=\"text-align: right;\">\n",
       "      <th></th>\n",
       "      <th>designation</th>\n",
       "      <th>price</th>\n",
       "      <th>province</th>\n",
       "      <th>region_1</th>\n",
       "      <th>region_2</th>\n",
       "      <th>taster_name</th>\n",
       "      <th>variety</th>\n",
       "      <th>winery</th>\n",
       "      <th>year</th>\n",
       "    </tr>\n",
       "  </thead>\n",
       "  <tbody>\n",
       "    <tr>\n",
       "      <th>0</th>\n",
       "      <td>unknown</td>\n",
       "      <td>14.0</td>\n",
       "      <td>Oregon</td>\n",
       "      <td>Willamette Valley</td>\n",
       "      <td>Willamette Valley</td>\n",
       "      <td>Paul Gregutt</td>\n",
       "      <td>Pinot Gris</td>\n",
       "      <td>Rainstorm</td>\n",
       "      <td>2013.0</td>\n",
       "    </tr>\n",
       "    <tr>\n",
       "      <th>1</th>\n",
       "      <td>Reserve Late Harvest</td>\n",
       "      <td>13.0</td>\n",
       "      <td>Michigan</td>\n",
       "      <td>Lake Michigan Shore</td>\n",
       "      <td>NaN</td>\n",
       "      <td>Alexander Peartree</td>\n",
       "      <td>Riesling</td>\n",
       "      <td>St. Julian</td>\n",
       "      <td>2013.0</td>\n",
       "    </tr>\n",
       "    <tr>\n",
       "      <th>2</th>\n",
       "      <td>Vintner's Reserve Wild Child Block</td>\n",
       "      <td>65.0</td>\n",
       "      <td>Oregon</td>\n",
       "      <td>Willamette Valley</td>\n",
       "      <td>Willamette Valley</td>\n",
       "      <td>Paul Gregutt</td>\n",
       "      <td>Pinot Noir</td>\n",
       "      <td>Sweet Cheeks</td>\n",
       "      <td>2012.0</td>\n",
       "    </tr>\n",
       "  </tbody>\n",
       "</table>\n",
       "</div>"
      ],
      "text/plain": [
       "                          designation  price  province             region_1  \\\n",
       "0                             unknown   14.0    Oregon    Willamette Valley   \n",
       "1                Reserve Late Harvest   13.0  Michigan  Lake Michigan Shore   \n",
       "2  Vintner's Reserve Wild Child Block   65.0    Oregon    Willamette Valley   \n",
       "\n",
       "            region_2         taster_name     variety        winery    year  \n",
       "0  Willamette Valley        Paul Gregutt  Pinot Gris     Rainstorm  2013.0  \n",
       "1                NaN  Alexander Peartree    Riesling    St. Julian  2013.0  \n",
       "2  Willamette Valley        Paul Gregutt  Pinot Noir  Sweet Cheeks  2012.0  "
      ]
     },
     "execution_count": 11,
     "metadata": {},
     "output_type": "execute_result"
    }
   ],
   "source": [
    "x = x.drop(columns=['title', 'taster_twitter_handle'])\n",
    "x.head(3)"
   ]
  },
  {
   "cell_type": "code",
   "execution_count": 12,
   "metadata": {},
   "outputs": [],
   "source": [
    "from sklearn.model_selection import train_test_split\n",
    "from sklearn.linear_model import LogisticRegression as LR\n",
    "from sklearn.preprocessing import StandardScaler\n",
    "from sklearn.impute import KNNImputer\n",
    "from sklearn.model_selection import GridSearchCV"
   ]
  },
  {
   "cell_type": "code",
   "execution_count": 13,
   "metadata": {},
   "outputs": [
    {
     "name": "stdout",
     "output_type": "stream",
     "text": [
      "in designation there are 14184 unique values\n",
      "in price there are 161 unique values\n",
      "in province there are 27 unique values\n",
      "in region_1 there are 265 unique values\n",
      "in region_2 there are 18 unique values\n",
      "in taster_name there are 16 unique values\n",
      "in variety there are 257 unique values\n",
      "in winery there are 5375 unique values\n",
      "in year there are 32 unique values\n"
     ]
    }
   ],
   "source": [
    "for c in x:\n",
    "    print(f'in {c} there are {len(x[c].unique())} unique values')"
   ]
  },
  {
   "cell_type": "code",
   "execution_count": null,
   "metadata": {},
   "outputs": [],
   "source": [
    "#to_one_hot = ['']"
   ]
  },
  {
   "cell_type": "code",
   "execution_count": 14,
   "metadata": {},
   "outputs": [
    {
     "data": {
      "text/html": [
       "<div>\n",
       "<style scoped>\n",
       "    .dataframe tbody tr th:only-of-type {\n",
       "        vertical-align: middle;\n",
       "    }\n",
       "\n",
       "    .dataframe tbody tr th {\n",
       "        vertical-align: top;\n",
       "    }\n",
       "\n",
       "    .dataframe thead th {\n",
       "        text-align: right;\n",
       "    }\n",
       "</style>\n",
       "<table border=\"1\" class=\"dataframe\">\n",
       "  <thead>\n",
       "    <tr style=\"text-align: right;\">\n",
       "      <th></th>\n",
       "      <th>designation</th>\n",
       "      <th>price</th>\n",
       "      <th>province</th>\n",
       "      <th>region_1</th>\n",
       "      <th>region_2</th>\n",
       "      <th>taster_name</th>\n",
       "      <th>variety</th>\n",
       "      <th>winery</th>\n",
       "      <th>year</th>\n",
       "    </tr>\n",
       "  </thead>\n",
       "  <tbody>\n",
       "    <tr>\n",
       "      <th>0</th>\n",
       "      <td>14162.0</td>\n",
       "      <td>14.0</td>\n",
       "      <td>19.0</td>\n",
       "      <td>256.0</td>\n",
       "      <td>16.0</td>\n",
       "      <td>10.0</td>\n",
       "      <td>154.0</td>\n",
       "      <td>3819.0</td>\n",
       "      <td>2013.0</td>\n",
       "    </tr>\n",
       "    <tr>\n",
       "      <th>1</th>\n",
       "      <td>9990.0</td>\n",
       "      <td>13.0</td>\n",
       "      <td>11.0</td>\n",
       "      <td>88.0</td>\n",
       "      <td>-1.0</td>\n",
       "      <td>0.0</td>\n",
       "      <td>171.0</td>\n",
       "      <td>4475.0</td>\n",
       "      <td>2013.0</td>\n",
       "    </tr>\n",
       "    <tr>\n",
       "      <th>2</th>\n",
       "      <td>13436.0</td>\n",
       "      <td>65.0</td>\n",
       "      <td>19.0</td>\n",
       "      <td>256.0</td>\n",
       "      <td>16.0</td>\n",
       "      <td>10.0</td>\n",
       "      <td>158.0</td>\n",
       "      <td>4606.0</td>\n",
       "      <td>2012.0</td>\n",
       "    </tr>\n",
       "  </tbody>\n",
       "</table>\n",
       "</div>"
      ],
      "text/plain": [
       "   designation  price  province  region_1  region_2  taster_name  variety  \\\n",
       "0      14162.0   14.0      19.0     256.0      16.0         10.0    154.0   \n",
       "1       9990.0   13.0      11.0      88.0      -1.0          0.0    171.0   \n",
       "2      13436.0   65.0      19.0     256.0      16.0         10.0    158.0   \n",
       "\n",
       "   winery    year  \n",
       "0  3819.0  2013.0  \n",
       "1  4475.0  2013.0  \n",
       "2  4606.0  2012.0  "
      ]
     },
     "execution_count": 14,
     "metadata": {},
     "output_type": "execute_result"
    }
   ],
   "source": [
    "tdf = make_pipeline(KNNImputer(n_neighbors=3)).fit_transform(x.apply(lambda z: z.astype('category').cat.codes if z.dtype == object else z).copy())\n",
    "x = pd.DataFrame(tdf, columns=x.columns)\n",
    "tdf = None\n",
    "x.head(3)"
   ]
  },
  {
   "cell_type": "code",
   "execution_count": 15,
   "metadata": {},
   "outputs": [],
   "source": [
    "vect = make_pipeline(CountVectorizer(stop_words='english'), TfidfTransformer())\n",
    "description = vect.fit_transform(description)"
   ]
  },
  {
   "cell_type": "code",
   "execution_count": 16,
   "metadata": {},
   "outputs": [
    {
     "data": {
      "text/html": [
       "<div>\n",
       "<style scoped>\n",
       "    .dataframe tbody tr th:only-of-type {\n",
       "        vertical-align: middle;\n",
       "    }\n",
       "\n",
       "    .dataframe tbody tr th {\n",
       "        vertical-align: top;\n",
       "    }\n",
       "\n",
       "    .dataframe thead th {\n",
       "        text-align: right;\n",
       "    }\n",
       "</style>\n",
       "<table border=\"1\" class=\"dataframe\">\n",
       "  <thead>\n",
       "    <tr style=\"text-align: right;\">\n",
       "      <th></th>\n",
       "      <th>0</th>\n",
       "      <th>1</th>\n",
       "      <th>2</th>\n",
       "      <th>3</th>\n",
       "      <th>4</th>\n",
       "      <th>5</th>\n",
       "      <th>6</th>\n",
       "      <th>7</th>\n",
       "      <th>8</th>\n",
       "      <th>9</th>\n",
       "      <th>...</th>\n",
       "      <th>19286</th>\n",
       "      <th>designation</th>\n",
       "      <th>price</th>\n",
       "      <th>province</th>\n",
       "      <th>region_1</th>\n",
       "      <th>region_2</th>\n",
       "      <th>taster_name</th>\n",
       "      <th>variety</th>\n",
       "      <th>winery</th>\n",
       "      <th>year</th>\n",
       "    </tr>\n",
       "  </thead>\n",
       "  <tbody>\n",
       "    <tr>\n",
       "      <th>0</th>\n",
       "      <td>0.0</td>\n",
       "      <td>0.0</td>\n",
       "      <td>0.0</td>\n",
       "      <td>0.0</td>\n",
       "      <td>0.0</td>\n",
       "      <td>0.0</td>\n",
       "      <td>0.0</td>\n",
       "      <td>0.0</td>\n",
       "      <td>0.0</td>\n",
       "      <td>0.0</td>\n",
       "      <td>...</td>\n",
       "      <td>0.0</td>\n",
       "      <td>14162.0</td>\n",
       "      <td>14.0</td>\n",
       "      <td>19.0</td>\n",
       "      <td>256.0</td>\n",
       "      <td>16.0</td>\n",
       "      <td>10.0</td>\n",
       "      <td>154.0</td>\n",
       "      <td>3819.0</td>\n",
       "      <td>2013.0</td>\n",
       "    </tr>\n",
       "    <tr>\n",
       "      <th>1</th>\n",
       "      <td>0.0</td>\n",
       "      <td>0.0</td>\n",
       "      <td>0.0</td>\n",
       "      <td>0.0</td>\n",
       "      <td>0.0</td>\n",
       "      <td>0.0</td>\n",
       "      <td>0.0</td>\n",
       "      <td>0.0</td>\n",
       "      <td>0.0</td>\n",
       "      <td>0.0</td>\n",
       "      <td>...</td>\n",
       "      <td>0.0</td>\n",
       "      <td>9990.0</td>\n",
       "      <td>13.0</td>\n",
       "      <td>11.0</td>\n",
       "      <td>88.0</td>\n",
       "      <td>-1.0</td>\n",
       "      <td>0.0</td>\n",
       "      <td>171.0</td>\n",
       "      <td>4475.0</td>\n",
       "      <td>2013.0</td>\n",
       "    </tr>\n",
       "    <tr>\n",
       "      <th>2</th>\n",
       "      <td>0.0</td>\n",
       "      <td>0.0</td>\n",
       "      <td>0.0</td>\n",
       "      <td>0.0</td>\n",
       "      <td>0.0</td>\n",
       "      <td>0.0</td>\n",
       "      <td>0.0</td>\n",
       "      <td>0.0</td>\n",
       "      <td>0.0</td>\n",
       "      <td>0.0</td>\n",
       "      <td>...</td>\n",
       "      <td>0.0</td>\n",
       "      <td>13436.0</td>\n",
       "      <td>65.0</td>\n",
       "      <td>19.0</td>\n",
       "      <td>256.0</td>\n",
       "      <td>16.0</td>\n",
       "      <td>10.0</td>\n",
       "      <td>158.0</td>\n",
       "      <td>4606.0</td>\n",
       "      <td>2012.0</td>\n",
       "    </tr>\n",
       "  </tbody>\n",
       "</table>\n",
       "<p>3 rows × 19296 columns</p>\n",
       "</div>"
      ],
      "text/plain": [
       "     0    1    2    3    4    5    6    7    8    9  ...  19286  designation  \\\n",
       "0  0.0  0.0  0.0  0.0  0.0  0.0  0.0  0.0  0.0  0.0  ...    0.0      14162.0   \n",
       "1  0.0  0.0  0.0  0.0  0.0  0.0  0.0  0.0  0.0  0.0  ...    0.0       9990.0   \n",
       "2  0.0  0.0  0.0  0.0  0.0  0.0  0.0  0.0  0.0  0.0  ...    0.0      13436.0   \n",
       "\n",
       "   price  province  region_1  region_2  taster_name  variety  winery    year  \n",
       "0   14.0      19.0     256.0      16.0         10.0    154.0  3819.0  2013.0  \n",
       "1   13.0      11.0      88.0      -1.0          0.0    171.0  4475.0  2013.0  \n",
       "2   65.0      19.0     256.0      16.0         10.0    158.0  4606.0  2012.0  \n",
       "\n",
       "[3 rows x 19296 columns]"
      ]
     },
     "execution_count": 16,
     "metadata": {},
     "output_type": "execute_result"
    }
   ],
   "source": [
    "cols = x.columns\n",
    "description = description.todense()\n",
    "description = pd.DataFrame(description)\n",
    "description[cols] = x.copy()\n",
    "description.head(3)"
   ]
  },
  {
   "cell_type": "code",
   "execution_count": 17,
   "metadata": {},
   "outputs": [
    {
     "data": {
      "text/html": [
       "<div>\n",
       "<style scoped>\n",
       "    .dataframe tbody tr th:only-of-type {\n",
       "        vertical-align: middle;\n",
       "    }\n",
       "\n",
       "    .dataframe tbody tr th {\n",
       "        vertical-align: top;\n",
       "    }\n",
       "\n",
       "    .dataframe thead th {\n",
       "        text-align: right;\n",
       "    }\n",
       "</style>\n",
       "<table border=\"1\" class=\"dataframe\">\n",
       "  <thead>\n",
       "    <tr style=\"text-align: right;\">\n",
       "      <th></th>\n",
       "      <th>$MI$</th>\n",
       "      <th>column</th>\n",
       "    </tr>\n",
       "  </thead>\n",
       "  <tbody>\n",
       "    <tr>\n",
       "      <th>0</th>\n",
       "      <td>0.125968</td>\n",
       "      <td>designation</td>\n",
       "    </tr>\n",
       "    <tr>\n",
       "      <th>1</th>\n",
       "      <td>0.201089</td>\n",
       "      <td>price</td>\n",
       "    </tr>\n",
       "    <tr>\n",
       "      <th>2</th>\n",
       "      <td>0.039007</td>\n",
       "      <td>province</td>\n",
       "    </tr>\n",
       "    <tr>\n",
       "      <th>3</th>\n",
       "      <td>0.134566</td>\n",
       "      <td>region_1</td>\n",
       "    </tr>\n",
       "    <tr>\n",
       "      <th>4</th>\n",
       "      <td>0.067164</td>\n",
       "      <td>region_2</td>\n",
       "    </tr>\n",
       "    <tr>\n",
       "      <th>5</th>\n",
       "      <td>0.090367</td>\n",
       "      <td>taster_name</td>\n",
       "    </tr>\n",
       "    <tr>\n",
       "      <th>6</th>\n",
       "      <td>0.055739</td>\n",
       "      <td>variety</td>\n",
       "    </tr>\n",
       "    <tr>\n",
       "      <th>7</th>\n",
       "      <td>0.270988</td>\n",
       "      <td>winery</td>\n",
       "    </tr>\n",
       "    <tr>\n",
       "      <th>8</th>\n",
       "      <td>0.045489</td>\n",
       "      <td>year</td>\n",
       "    </tr>\n",
       "  </tbody>\n",
       "</table>\n",
       "</div>"
      ],
      "text/plain": [
       "       $MI$       column\n",
       "0  0.125968  designation\n",
       "1  0.201089        price\n",
       "2  0.039007     province\n",
       "3  0.134566     region_1\n",
       "4  0.067164     region_2\n",
       "5  0.090367  taster_name\n",
       "6  0.055739      variety\n",
       "7  0.270988       winery\n",
       "8  0.045489         year"
      ]
     },
     "execution_count": 17,
     "metadata": {},
     "output_type": "execute_result"
    }
   ],
   "source": [
    "from sklearn.feature_selection import SelectKBest, mutual_info_classif\n",
    "scores = SelectKBest(mutual_info_classif, k='all')\n",
    "scores.fit(x, y)\n",
    "scores = pd.DataFrame(data=scores.scores_, columns=['$MI$'])\n",
    "scores['column'] = cols\n",
    "scores"
   ]
  },
  {
   "cell_type": "markdown",
   "metadata": {},
   "source": [
    "Now, let's summarize what we've done so far:"
   ]
  },
  {
   "cell_type": "code",
   "execution_count": 1,
   "metadata": {},
   "outputs": [
    {
     "name": "stdout",
     "output_type": "stream",
     "text": [
      "Wall time: 10.2 s\n"
     ]
    }
   ],
   "source": [
    "%%time\n",
    "import pandas as pd\n",
    "import numpy as np\n",
    "import seaborn as sns\n",
    "from matplotlib import pyplot as plt\n",
    "from imblearn.over_sampling import SMOTE\n",
    "from sklearn.feature_extraction.text import TfidfTransformer, CountVectorizer\n",
    "from sklearn.pipeline import make_pipeline, Pipeline\n",
    "from sklearn.model_selection import train_test_split\n",
    "from sklearn.linear_model import LogisticRegression as LR\n",
    "from sklearn.preprocessing import StandardScaler\n",
    "from sklearn.impute import KNNImputer\n",
    "from sklearn.metrics import roc_auc_score\n",
    "from time import time\n",
    "from sklearn.compose import make_column_transformer\n",
    "\n",
    "x = pd.read_csv('winemag-data-130k-v2.csv', index_col=0)\n",
    "x = x.loc[x['country'] == 'US']\n",
    "x = x.reset_index(drop=True)\n",
    "y = x['points']\n",
    "x.drop(columns=['points', 'country'], inplace=True)\n",
    "x['designation'] = x['designation'].fillna(value='unknown')\n",
    "def get_year(row):\n",
    "    _t = row['title']\n",
    "    _x = row['winery']\n",
    "    _w = row['designation']\n",
    "    _z = row['variety']\n",
    "    _v = row['region_1']\n",
    "    \n",
    "    _words = _t.split(_x)[1][1:].split(' ')\n",
    "    if _words[0].isnumeric():\n",
    "        return int(_words[0])\n",
    "        \n",
    "    elif _words[0] == 'NV':    \n",
    "        if _w == 'unknown':\n",
    "            return np.nan\n",
    "        else:\n",
    "            return np.nan\n",
    "x['year'] = x.apply(lambda z: get_year(z), axis=1)\n",
    "description = x['description'].copy()\n",
    "x = x.drop(columns=['description', 'title', 'taster_twitter_handle'])\n",
    "tdf = make_pipeline(KNNImputer(n_neighbors=3)).fit_transform(x.apply(lambda z: z.astype('category').cat.codes if z.dtype == object else z).copy())\n",
    "x = pd.DataFrame(tdf, columns=x.columns)\n",
    "tdf = None\n",
    "x['description'] = description\n",
    "cols = x.columns\n",
    "description = None"
   ]
  },
  {
   "cell_type": "code",
   "execution_count": 3,
   "metadata": {},
   "outputs": [],
   "source": [
    "from sklearn.base import BaseEstimator, TransformerMixin\n",
    "class TextProcessor(BaseEstimator, TransformerMixin):\n",
    "    def __init__(self):\n",
    "        self.text_transformer = make_pipeline(CountVectorizer(stop_words='english'), TfidfTransformer())\n",
    "       \n",
    "    def fit(self, X, y=None):\n",
    "        return self.text_transformer.fit(X, y)\n",
    "\n",
    "    def transform(self, X, y=None):\n",
    "        return self.text_transformer.transform(X.squeeze()).toarray()\n",
    "    \n",
    "    def fit_transform(self, X, y=None):\n",
    "        return self.text_transformer.fit_transform(X.squeeze()).toarray()\n",
    "\n",
    "class Dummy(BaseEstimator, TransformerMixin):\n",
    "    def __init__(self):\n",
    "        pass\n",
    "       \n",
    "    def fit(self, X, y=None):\n",
    "        return self\n",
    "\n",
    "    def transform(self, X, y=None):\n",
    "        return X\n",
    "\n",
    "transformer = make_column_transformer((TextProcessor(), ['description']), (StandardScaler(), cols.drop('description')))"
   ]
  },
  {
   "cell_type": "code",
   "execution_count": 4,
   "metadata": {},
   "outputs": [
    {
     "name": "stdout",
     "output_type": "stream",
     "text": [
      "Wall time: 31.9 ms\n"
     ]
    }
   ],
   "source": [
    "%%time\n",
    "x_train, x_test, y_train, y_test = train_test_split(x, y, test_size=0.3, stratify=y)"
   ]
  },
  {
   "cell_type": "code",
   "execution_count": 5,
   "metadata": {},
   "outputs": [],
   "source": [
    "x_train.reset_index(drop=True, inplace=True)\n",
    "x_test.reset_index(drop=True, inplace=True)\n",
    "y_test.reset_index(drop=True, inplace=True)\n",
    "y_train.reset_index(drop=True, inplace=True)"
   ]
  },
  {
   "cell_type": "code",
   "execution_count": 6,
   "metadata": {},
   "outputs": [],
   "source": [
    "from sklearn.model_selection import StratifiedShuffleSplit\n",
    "sss = StratifiedShuffleSplit(n_splits=3, test_size=0.3)"
   ]
  },
  {
   "cell_type": "code",
   "execution_count": 10,
   "metadata": {},
   "outputs": [],
   "source": [
    "%%capture\n",
    "params = np.logspace(-2, 1, 5)[:-1]\n",
    "results = np.zeros((2, 4), dtype=object)\n",
    "for i, _c in enumerate(params):\n",
    "    auc = np.zeros(3)\n",
    "    for j, (x1, x2) in enumerate(sss.split(x_train, y_train)):\n",
    "        t = time()\n",
    "        _x_1 = x_train.iloc[x1]\n",
    "        _x_2 = x_train.iloc[x2]\n",
    "    \n",
    "        _y_1 = y_train[x1]\n",
    "        _y_2 = y_train[x2]\n",
    "        model = Pipeline(steps=[('transformer', transformer), \n",
    "                                ('LR',LR(C=_c, n_jobs=3))]).fit(_x_1, _y_1)\n",
    "        \n",
    "        auc[j] = roc_auc_score(_y_2, model.predict_proba(_x_2), multi_class='ovr')\n",
    "    \n",
    "    results[0, i] = auc.mean()\n",
    "    results[1, i] = auc.std()\n",
    "        "
   ]
  },
  {
   "cell_type": "code",
   "execution_count": 8,
   "metadata": {},
   "outputs": [
    {
     "data": {
      "text/plain": [
       "array([0.736916762920603, 0.8030915582411521, 0.8237142246003075,\n",
       "       0.8035756236306102, 0], dtype=object)"
      ]
     },
     "execution_count": 8,
     "metadata": {},
     "output_type": "execute_result"
    }
   ],
   "source": [
    "results[0, :]"
   ]
  },
  {
   "cell_type": "code",
   "execution_count": 12,
   "metadata": {},
   "outputs": [
    {
     "data": {
      "text/plain": [
       "array([0.015181781654675331, 0.0034186740792336513, 0.009229909058309737,\n",
       "       0.013098519932513564, 0], dtype=object)"
      ]
     },
     "execution_count": 12,
     "metadata": {},
     "output_type": "execute_result"
    }
   ],
   "source": [
    "results[1, :]"
   ]
  },
  {
   "cell_type": "code",
   "execution_count": 13,
   "metadata": {},
   "outputs": [],
   "source": [
    "_x_2 = _x_1 = _y_1 = _y_2 = None"
   ]
  },
  {
   "cell_type": "code",
   "execution_count": 14,
   "metadata": {},
   "outputs": [
    {
     "name": "stdout",
     "output_type": "stream",
     "text": [
      "[Pipeline] ....... (step 1 of 2) Processing transformer, total=   5.5s\n"
     ]
    },
    {
     "name": "stderr",
     "output_type": "stream",
     "text": [
      "[Parallel(n_jobs=3)]: Using backend LokyBackend with 3 concurrent workers.\n",
      "[Parallel(n_jobs=3)]: Done   1 tasks      | elapsed: 12.8min\n",
      "[Parallel(n_jobs=3)]: Done   1 out of   1 | elapsed: 12.8min finished\n"
     ]
    },
    {
     "name": "stdout",
     "output_type": "stream",
     "text": [
      "[Pipeline] ................ (step 2 of 2) Processing LR, total=12.8min\n"
     ]
    }
   ],
   "source": [
    "model = Pipeline(steps=[('transformer', transformer), \n",
    "                                ('LR',LR(C=params[2], n_jobs=3, verbose=10))], verbose=10).fit(x_train, y_train)"
   ]
  },
  {
   "cell_type": "code",
   "execution_count": 15,
   "metadata": {},
   "outputs": [
    {
     "name": "stderr",
     "output_type": "stream",
     "text": [
      "C:\\Users\\Matan\\anaconda3\\lib\\site-packages\\sklearn\\metrics\\_classification.py:1245: UndefinedMetricWarning: Precision and F-score are ill-defined and being set to 0.0 in labels with no predicted samples. Use `zero_division` parameter to control this behavior.\n",
      "  _warn_prf(average, modifier, msg_start, len(result))\n",
      "C:\\Users\\Matan\\anaconda3\\lib\\site-packages\\sklearn\\metrics\\_classification.py:1245: UndefinedMetricWarning: Precision and F-score are ill-defined and being set to 0.0 in labels with no predicted samples. Use `zero_division` parameter to control this behavior.\n",
      "  _warn_prf(average, modifier, msg_start, len(result))\n",
      "C:\\Users\\Matan\\anaconda3\\lib\\site-packages\\sklearn\\metrics\\_classification.py:1245: UndefinedMetricWarning: Precision and F-score are ill-defined and being set to 0.0 in labels with no predicted samples. Use `zero_division` parameter to control this behavior.\n",
      "  _warn_prf(average, modifier, msg_start, len(result))\n"
     ]
    },
    {
     "name": "stdout",
     "output_type": "stream",
     "text": [
      "              precision    recall  f1-score   support\n",
      "\n",
      "          80       0.00      0.00      0.00        47\n",
      "          81       0.00      0.00      0.00        98\n",
      "          82       0.45      0.17      0.25       303\n",
      "          83       0.28      0.01      0.02       394\n",
      "          84       0.29      0.22      0.25       803\n",
      "          85       0.23      0.13      0.17      1105\n",
      "          86       0.25      0.21      0.23      1478\n",
      "          87       0.25      0.41      0.31      1990\n",
      "          88       0.25      0.39      0.30      2112\n",
      "          89       0.23      0.06      0.10      1325\n",
      "          90       0.25      0.38      0.30      2012\n",
      "          91       0.25      0.23      0.24      1591\n",
      "          92       0.23      0.25      0.24      1354\n",
      "          93       0.23      0.13      0.16       904\n",
      "          94       0.20      0.07      0.11       538\n",
      "          95       0.10      0.01      0.01       193\n",
      "          96       0.00      0.00      0.00        66\n",
      "          97       0.00      0.00      0.00        24\n",
      "          98       0.00      0.00      0.00        10\n",
      "          99       0.00      0.00      0.00         4\n",
      "         100       0.00      0.00      0.00         1\n",
      "\n",
      "    accuracy                           0.25     16352\n",
      "   macro avg       0.17      0.13      0.13     16352\n",
      "weighted avg       0.24      0.25      0.23     16352\n",
      "\n",
      "AUC = 0.8433081788952206\n"
     ]
    }
   ],
   "source": [
    "from sklearn.metrics import classification_report\n",
    "print(classification_report(y_test, model.predict(x_test)))\n",
    "print(f\"AUC = {roc_auc_score(y_test, model.predict_proba(x_test), multi_class='ovr')}\")"
   ]
  },
  {
   "cell_type": "markdown",
   "metadata": {},
   "source": [
    "So, at this point it seems like we built the best model we've had so far. We'll try to improve it using SMOTE."
   ]
  },
  {
   "cell_type": "code",
   "execution_count": null,
   "metadata": {},
   "outputs": [],
   "source": []
  },
  {
   "cell_type": "code",
   "execution_count": null,
   "metadata": {},
   "outputs": [],
   "source": []
  },
  {
   "cell_type": "code",
   "execution_count": null,
   "metadata": {},
   "outputs": [],
   "source": []
  },
  {
   "cell_type": "code",
   "execution_count": null,
   "metadata": {},
   "outputs": [],
   "source": []
  },
  {
   "cell_type": "code",
   "execution_count": null,
   "metadata": {},
   "outputs": [],
   "source": []
  },
  {
   "cell_type": "code",
   "execution_count": null,
   "metadata": {},
   "outputs": [],
   "source": []
  },
  {
   "cell_type": "code",
   "execution_count": null,
   "metadata": {},
   "outputs": [],
   "source": []
  },
  {
   "cell_type": "code",
   "execution_count": null,
   "metadata": {},
   "outputs": [],
   "source": []
  },
  {
   "cell_type": "code",
   "execution_count": null,
   "metadata": {},
   "outputs": [],
   "source": []
  },
  {
   "cell_type": "code",
   "execution_count": null,
   "metadata": {},
   "outputs": [],
   "source": []
  },
  {
   "cell_type": "markdown",
   "metadata": {},
   "source": [
    "## Task 2 Word Vectors [50pts]\n",
    "\n",
    "Use a pretrained word-embedding (word2vec, glove or fasttext) for featurization instead of the bag-of-words model. Does this improve classification? How about combining the embedded words with the BoW model?"
   ]
  },
  {
   "cell_type": "code",
   "execution_count": 1,
   "metadata": {},
   "outputs": [],
   "source": [
    "#your code here"
   ]
  },
  {
   "cell_type": "markdown",
   "metadata": {},
   "source": [
    "# Task 3 Transformers (bonus / optional) [50pts] - Like Extra Assignment with 50% weight\n",
    "\n",
    "Fine-tune a BERT model on the text data alone using the transformers library. How does this model compare to a BoW model, and how does it compare to a model using all features?"
   ]
  },
  {
   "cell_type": "code",
   "execution_count": 2,
   "metadata": {},
   "outputs": [],
   "source": [
    "#your code here"
   ]
  }
 ],
 "metadata": {
  "kernelspec": {
   "display_name": "Python 3",
   "language": "python",
   "name": "python3"
  },
  "language_info": {
   "codemirror_mode": {
    "name": "ipython",
    "version": 3
   },
   "file_extension": ".py",
   "mimetype": "text/x-python",
   "name": "python",
   "nbconvert_exporter": "python",
   "pygments_lexer": "ipython3",
   "version": "3.8.5"
  },
  "toc": {
   "base_numbering": 1,
   "nav_menu": {},
   "number_sections": false,
   "sideBar": true,
   "skip_h1_title": false,
   "title_cell": "Table of Contents",
   "title_sidebar": "Contents",
   "toc_cell": false,
   "toc_position": {},
   "toc_section_display": true,
   "toc_window_display": false
  }
 },
 "nbformat": 4,
 "nbformat_minor": 4
}
