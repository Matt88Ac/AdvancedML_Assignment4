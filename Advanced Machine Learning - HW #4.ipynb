{
  "nbformat": 4,
  "nbformat_minor": 0,
  "metadata": {
    "kernelspec": {
      "display_name": "Python 3",
      "language": "python",
      "name": "python3"
    },
    "language_info": {
      "codemirror_mode": {
        "name": "ipython",
        "version": 3
      },
      "file_extension": ".py",
      "mimetype": "text/x-python",
      "name": "python",
      "nbconvert_exporter": "python",
      "pygments_lexer": "ipython3",
      "version": "3.8.5"
    },
    "toc": {
      "base_numbering": 1,
      "nav_menu": {},
      "number_sections": false,
      "sideBar": true,
      "skip_h1_title": false,
      "title_cell": "Table of Contents",
      "title_sidebar": "Contents",
      "toc_cell": false,
      "toc_position": {},
      "toc_section_display": true,
      "toc_window_display": false
    },
    "colab": {
      "name": "Advanced Machine Learning - HW #4.ipynb",
      "provenance": []
    }
  },
  "cells": [
    {
      "cell_type": "markdown",
      "metadata": {
        "id": "wL03SpAoSMiw"
      },
      "source": [
        "### Advanced Machine Learning\n",
        "\n",
        "# Home Exercise #4\n",
        "\n",
        "Assignment Due: 17/05/21 23:59\n",
        "\n",
        "Jonathan Schler"
      ]
    },
    {
      "cell_type": "code",
      "metadata": {
        "id": "fcFiDuJLSMiz"
      },
      "source": [
        "student1Name=\"Matan Mizrachi\" # student1 name here\n",
        "student1ID=\"207299363\" # student1 ID here\n",
        "\n",
        "\n",
        "student2Name=\"Ron Yosef\" # student2 name here\n",
        "student2ID=\"318466711\" # student2 ID here"
      ],
      "execution_count": null,
      "outputs": []
    },
    {
      "cell_type": "markdown",
      "metadata": {
        "id": "SHIYah49SMi0"
      },
      "source": [
        "The goal of this homework is to try to solve the problem of predicting wine quality from review texts and other properties of the wine. You can find the dataset here:https://www.kaggle.com/zynicide/wine-reviews\n",
        "\n",
        "While you can find several kernels on kaggle already, I highly recommend you start your ownsolution from scratch. For this homework, only use wine from the United States (only 42% of data). Feel free to subsample the data for building your model."
      ]
    },
    {
      "cell_type": "markdown",
      "metadata": {
        "id": "IPvYncugSMi0"
      },
      "source": [
        "## Task 1 Bag of Words and simple Features [50pts]\n",
        "\n",
        "1.1 Create a baseline model for predicting wine quality using only non-text features.\n",
        "\n",
        "\n",
        "\n"
      ]
    },
    {
      "cell_type": "code",
      "metadata": {
        "id": "kIC3NUyBSMi1",
        "outputId": "b3007b59-0c7d-4dc1-cf3a-4dc70cf22546"
      },
      "source": [
        "import pandas as pd\n",
        "import numpy as np\n",
        "x = pd.read_csv('winemag-data-130k-v2.csv', index_col=0)\n",
        "x = x.loc[x['country'] == 'US']\n",
        "x.drop(columns=['country'], inplace=True)\n",
        "x.head(3)"
      ],
      "execution_count": null,
      "outputs": [
        {
          "output_type": "execute_result",
          "data": {
            "text/html": [
              "<div>\n",
              "<style scoped>\n",
              "    .dataframe tbody tr th:only-of-type {\n",
              "        vertical-align: middle;\n",
              "    }\n",
              "\n",
              "    .dataframe tbody tr th {\n",
              "        vertical-align: top;\n",
              "    }\n",
              "\n",
              "    .dataframe thead th {\n",
              "        text-align: right;\n",
              "    }\n",
              "</style>\n",
              "<table border=\"1\" class=\"dataframe\">\n",
              "  <thead>\n",
              "    <tr style=\"text-align: right;\">\n",
              "      <th></th>\n",
              "      <th>description</th>\n",
              "      <th>designation</th>\n",
              "      <th>points</th>\n",
              "      <th>price</th>\n",
              "      <th>province</th>\n",
              "      <th>region_1</th>\n",
              "      <th>region_2</th>\n",
              "      <th>taster_name</th>\n",
              "      <th>taster_twitter_handle</th>\n",
              "      <th>title</th>\n",
              "      <th>variety</th>\n",
              "      <th>winery</th>\n",
              "    </tr>\n",
              "  </thead>\n",
              "  <tbody>\n",
              "    <tr>\n",
              "      <th>2</th>\n",
              "      <td>Tart and snappy, the flavors of lime flesh and...</td>\n",
              "      <td>NaN</td>\n",
              "      <td>87</td>\n",
              "      <td>14.0</td>\n",
              "      <td>Oregon</td>\n",
              "      <td>Willamette Valley</td>\n",
              "      <td>Willamette Valley</td>\n",
              "      <td>Paul Gregutt</td>\n",
              "      <td>@paulgwine</td>\n",
              "      <td>Rainstorm 2013 Pinot Gris (Willamette Valley)</td>\n",
              "      <td>Pinot Gris</td>\n",
              "      <td>Rainstorm</td>\n",
              "    </tr>\n",
              "    <tr>\n",
              "      <th>3</th>\n",
              "      <td>Pineapple rind, lemon pith and orange blossom ...</td>\n",
              "      <td>Reserve Late Harvest</td>\n",
              "      <td>87</td>\n",
              "      <td>13.0</td>\n",
              "      <td>Michigan</td>\n",
              "      <td>Lake Michigan Shore</td>\n",
              "      <td>NaN</td>\n",
              "      <td>Alexander Peartree</td>\n",
              "      <td>NaN</td>\n",
              "      <td>St. Julian 2013 Reserve Late Harvest Riesling ...</td>\n",
              "      <td>Riesling</td>\n",
              "      <td>St. Julian</td>\n",
              "    </tr>\n",
              "    <tr>\n",
              "      <th>4</th>\n",
              "      <td>Much like the regular bottling from 2012, this...</td>\n",
              "      <td>Vintner's Reserve Wild Child Block</td>\n",
              "      <td>87</td>\n",
              "      <td>65.0</td>\n",
              "      <td>Oregon</td>\n",
              "      <td>Willamette Valley</td>\n",
              "      <td>Willamette Valley</td>\n",
              "      <td>Paul Gregutt</td>\n",
              "      <td>@paulgwine</td>\n",
              "      <td>Sweet Cheeks 2012 Vintner's Reserve Wild Child...</td>\n",
              "      <td>Pinot Noir</td>\n",
              "      <td>Sweet Cheeks</td>\n",
              "    </tr>\n",
              "  </tbody>\n",
              "</table>\n",
              "</div>"
            ],
            "text/plain": [
              "                                         description  \\\n",
              "2  Tart and snappy, the flavors of lime flesh and...   \n",
              "3  Pineapple rind, lemon pith and orange blossom ...   \n",
              "4  Much like the regular bottling from 2012, this...   \n",
              "\n",
              "                          designation  points  price  province  \\\n",
              "2                                 NaN      87   14.0    Oregon   \n",
              "3                Reserve Late Harvest      87   13.0  Michigan   \n",
              "4  Vintner's Reserve Wild Child Block      87   65.0    Oregon   \n",
              "\n",
              "              region_1           region_2         taster_name  \\\n",
              "2    Willamette Valley  Willamette Valley        Paul Gregutt   \n",
              "3  Lake Michigan Shore                NaN  Alexander Peartree   \n",
              "4    Willamette Valley  Willamette Valley        Paul Gregutt   \n",
              "\n",
              "  taster_twitter_handle                                              title  \\\n",
              "2           @paulgwine       Rainstorm 2013 Pinot Gris (Willamette Valley)   \n",
              "3                   NaN  St. Julian 2013 Reserve Late Harvest Riesling ...   \n",
              "4           @paulgwine   Sweet Cheeks 2012 Vintner's Reserve Wild Child...   \n",
              "\n",
              "      variety        winery  \n",
              "2  Pinot Gris     Rainstorm  \n",
              "3    Riesling    St. Julian  \n",
              "4  Pinot Noir  Sweet Cheeks  "
            ]
          },
          "metadata": {
            "tags": []
          },
          "execution_count": 24
        }
      ]
    },
    {
      "cell_type": "code",
      "metadata": {
        "id": "2DHjmTD_SMi2",
        "outputId": "537e0ffd-a553-4e5a-b96a-89e51fc7f8d6"
      },
      "source": [
        "x.info()"
      ],
      "execution_count": null,
      "outputs": [
        {
          "output_type": "stream",
          "text": [
            "<class 'pandas.core.frame.DataFrame'>\n",
            "Int64Index: 54504 entries, 2 to 129967\n",
            "Data columns (total 12 columns):\n",
            " #   Column                 Non-Null Count  Dtype  \n",
            "---  ------                 --------------  -----  \n",
            " 0   description            54504 non-null  object \n",
            " 1   designation            36908 non-null  object \n",
            " 2   points                 54504 non-null  int64  \n",
            " 3   price                  54265 non-null  float64\n",
            " 4   province               54504 non-null  object \n",
            " 5   region_1               54226 non-null  object \n",
            " 6   region_2               50511 non-null  object \n",
            " 7   taster_name            37730 non-null  object \n",
            " 8   taster_twitter_handle  34741 non-null  object \n",
            " 9   title                  54504 non-null  object \n",
            " 10  variety                54504 non-null  object \n",
            " 11  winery                 54504 non-null  object \n",
            "dtypes: float64(1), int64(1), object(10)\n",
            "memory usage: 5.4+ MB\n"
          ],
          "name": "stdout"
        }
      ]
    },
    {
      "cell_type": "markdown",
      "metadata": {
        "id": "SSXXc1n7SMi2"
      },
      "source": [
        "As per the requirements, we drop the text-based column."
      ]
    },
    {
      "cell_type": "code",
      "metadata": {
        "id": "zeKqL3x-SMi2"
      },
      "source": [
        "x.drop(columns=['description'], inplace=True)\n",
        "y = x['points']\n",
        "x.drop(columns=['points'], inplace=True)"
      ],
      "execution_count": null,
      "outputs": []
    },
    {
      "cell_type": "code",
      "metadata": {
        "id": "oWSTayz9SMi3",
        "outputId": "7093f790-4c72-482d-ab87-5c8273b26b8e"
      },
      "source": [
        "np.unique(y, return_counts=True)"
      ],
      "execution_count": null,
      "outputs": [
        {
          "output_type": "execute_result",
          "data": {
            "text/plain": [
              "(array([ 80,  81,  82,  83,  84,  85,  86,  87,  88,  89,  90,  91,  92,\n",
              "         93,  94,  95,  96,  97,  98,  99, 100], dtype=int64),\n",
              " array([ 157,  326, 1010, 1313, 2676, 3684, 4926, 6632, 7039, 4416, 6708,\n",
              "        5302, 4515, 3013, 1794,  642,  221,   81,   33,   12,    4],\n",
              "       dtype=int64))"
            ]
          },
          "metadata": {
            "tags": []
          },
          "execution_count": 27
        }
      ]
    },
    {
      "cell_type": "markdown",
      "metadata": {
        "id": "BvMqc_woSMi3"
      },
      "source": [
        "The data isn't balanced, so we'll see how it works before we use SMOTE to balance it."
      ]
    },
    {
      "cell_type": "code",
      "metadata": {
        "id": "QxXss2BASMi4",
        "outputId": "9993674f-994b-43d1-e82f-1689a4848276"
      },
      "source": [
        "cat = x.dtypes == object\n",
        "x.loc[:, cat] = x.loc[:, cat].apply(lambda z: z.astype('category').cat.codes)\n",
        "x.shape"
      ],
      "execution_count": null,
      "outputs": [
        {
          "output_type": "execute_result",
          "data": {
            "text/plain": [
              "(54504, 10)"
            ]
          },
          "metadata": {
            "tags": []
          },
          "execution_count": 28
        }
      ]
    },
    {
      "cell_type": "code",
      "metadata": {
        "id": "10vjBEHwSMi4"
      },
      "source": [
        "from sklearn.pipeline import make_pipeline, Pipeline\n",
        "from sklearn.model_selection import train_test_split\n",
        "from sklearn.linear_model import LogisticRegression as LR\n",
        "from sklearn.preprocessing import StandardScaler\n",
        "from sklearn.impute import KNNImputer\n",
        "from sklearn.model_selection import GridSearchCV"
      ],
      "execution_count": null,
      "outputs": []
    },
    {
      "cell_type": "code",
      "metadata": {
        "id": "lU9q0hwjSMi4"
      },
      "source": [
        "x_train, x_test, y_train, y_test = train_test_split(x, y, test_size=0.3, stratify=y)"
      ],
      "execution_count": null,
      "outputs": []
    },
    {
      "cell_type": "code",
      "metadata": {
        "id": "a-sINCfbSMi5"
      },
      "source": [
        "base_model = Pipeline(steps=[('imputer', KNNImputer()), ('scaler', StandardScaler()), ('LR', LR())])\n",
        "params = {'imputer__n_neighbors': [2, 3, 4], \n",
        "          'LR__penalty': ['l2', 'l1'],\n",
        "         'LR__C': np.logspace(-3, 2, 5),\n",
        "         'LR__solver': ['newton-cg', 'lbfgs', 'liblinear', 'sag', 'saga']}\n",
        "\n",
        "base_model = GridSearchCV(base_model, param_grid=params, cv=3, return_train_score=True, verbose=10).fit(x_train, y_train)"
      ],
      "execution_count": null,
      "outputs": []
    },
    {
      "cell_type": "code",
      "metadata": {
        "id": "Gv5xQcHsSMi5",
        "outputId": "48504af7-a665-45a6-de65-687fa49f37ba"
      },
      "source": [
        "base_model.best_estimator_"
      ],
      "execution_count": null,
      "outputs": [
        {
          "output_type": "execute_result",
          "data": {
            "text/plain": [
              "Pipeline(steps=[('imputer', KNNImputer(n_neighbors=3)),\n",
              "                ('scaler', StandardScaler()),\n",
              "                ('LR',\n",
              "                 LogisticRegression(C=5.623413251903491, solver='newton-cg'))])"
            ]
          },
          "metadata": {
            "tags": []
          },
          "execution_count": 9
        }
      ]
    },
    {
      "cell_type": "code",
      "metadata": {
        "id": "S-0EdIZYSMi6"
      },
      "source": [
        "base_model = Pipeline(steps=[('imputer', KNNImputer(n_neighbors=3)),\n",
        "                ('scaler', StandardScaler()),\n",
        "                ('LR',\n",
        "                 LR(C=5.623413251903491, solver='newton-cg'))]).fit(x_train, y_train)"
      ],
      "execution_count": null,
      "outputs": []
    },
    {
      "cell_type": "code",
      "metadata": {
        "id": "xnDq7snSSMi6",
        "outputId": "8370e775-0bdb-4ee7-ba97-200bf9e303ac"
      },
      "source": [
        "from sklearn.metrics import classification_report, roc_auc_score, plot_roc_curve, plot_confusion_matrix\n",
        "print(classification_report(y_test, base_model.predict(x_test)))\n",
        "print(f\"AUC = {roc_auc_score(y_test, base_model.predict_proba(x_test), multi_class='ovr')}\")"
      ],
      "execution_count": null,
      "outputs": [
        {
          "output_type": "stream",
          "text": [
            "C:\\Users\\Matan\\anaconda3\\lib\\site-packages\\sklearn\\metrics\\_classification.py:1245: UndefinedMetricWarning: Precision and F-score are ill-defined and being set to 0.0 in labels with no predicted samples. Use `zero_division` parameter to control this behavior.\n",
            "  _warn_prf(average, modifier, msg_start, len(result))\n",
            "C:\\Users\\Matan\\anaconda3\\lib\\site-packages\\sklearn\\metrics\\_classification.py:1245: UndefinedMetricWarning: Precision and F-score are ill-defined and being set to 0.0 in labels with no predicted samples. Use `zero_division` parameter to control this behavior.\n",
            "  _warn_prf(average, modifier, msg_start, len(result))\n",
            "C:\\Users\\Matan\\anaconda3\\lib\\site-packages\\sklearn\\metrics\\_classification.py:1245: UndefinedMetricWarning: Precision and F-score are ill-defined and being set to 0.0 in labels with no predicted samples. Use `zero_division` parameter to control this behavior.\n",
            "  _warn_prf(average, modifier, msg_start, len(result))\n"
          ],
          "name": "stderr"
        },
        {
          "output_type": "stream",
          "text": [
            "              precision    recall  f1-score   support\n",
            "\n",
            "          80       0.00      0.00      0.00        47\n",
            "          81       0.00      0.00      0.00        98\n",
            "          82       1.00      0.00      0.01       303\n",
            "          83       0.00      0.00      0.00       394\n",
            "          84       0.23      0.09      0.13       803\n",
            "          85       0.16      0.01      0.02      1105\n",
            "          86       0.05      0.00      0.00      1478\n",
            "          87       0.16      0.45      0.24      1990\n",
            "          88       0.18      0.39      0.24      2112\n",
            "          89       0.00      0.00      0.00      1325\n",
            "          90       0.17      0.27      0.21      2012\n",
            "          91       0.20      0.14      0.16      1591\n",
            "          92       0.16      0.15      0.15      1354\n",
            "          93       0.20      0.05      0.08       904\n",
            "          94       0.21      0.09      0.13       538\n",
            "          95       0.00      0.00      0.00       193\n",
            "          96       0.00      0.00      0.00        66\n",
            "          97       0.00      0.00      0.00        24\n",
            "          98       0.00      0.00      0.00        10\n",
            "          99       0.00      0.00      0.00         4\n",
            "         100       0.00      0.00      0.00         1\n",
            "\n",
            "    accuracy                           0.17     16352\n",
            "   macro avg       0.13      0.08      0.07     16352\n",
            "weighted avg       0.16      0.17      0.13     16352\n",
            "\n",
            "AUC = 0.7667601012448694\n"
          ],
          "name": "stdout"
        }
      ]
    },
    {
      "cell_type": "code",
      "metadata": {
        "id": "tXKkFJQ0SMi6"
      },
      "source": [
        "from imblearn.over_sampling import SMOTE\n",
        "from imblearn.pipeline import Pipeline as smPipline"
      ],
      "execution_count": null,
      "outputs": []
    },
    {
      "cell_type": "code",
      "metadata": {
        "id": "P84XOhDVSMi6"
      },
      "source": [
        "x.loc[x['price'].isna(), 'price'] = x['price'].median()"
      ],
      "execution_count": null,
      "outputs": []
    },
    {
      "cell_type": "code",
      "metadata": {
        "id": "aFM5xLuhSMi7"
      },
      "source": [
        "new_x, new_y = SMOTE(k_neighbors=3).fit_resample(x, y)\n",
        "x_train, x_test, y_train, y_test = train_test_split(new_x, new_y, test_size=0.3, stratify=new_y)"
      ],
      "execution_count": null,
      "outputs": []
    },
    {
      "cell_type": "code",
      "metadata": {
        "id": "ntgWtiU3SMi7"
      },
      "source": [
        "base_model = Pipeline(steps=[('scaler', StandardScaler()), ('LR',LR(C=5.623413251903491, solver='newton-cg'))]).fit(x_train, y_train)"
      ],
      "execution_count": null,
      "outputs": []
    },
    {
      "cell_type": "code",
      "metadata": {
        "id": "7aEMhKawSMi7",
        "outputId": "ecf795f2-8dc1-4bc7-952c-0371d3db03eb"
      },
      "source": [
        "from sklearn.metrics import classification_report, roc_auc_score, plot_roc_curve, plot_confusion_matrix\n",
        "print(classification_report(y_test, base_model.predict(x_test)))\n",
        "print(f\"AUC = {roc_auc_score(y_test, base_model.predict_proba(x_test), multi_class='ovr')}\")"
      ],
      "execution_count": null,
      "outputs": [
        {
          "output_type": "stream",
          "text": [
            "              precision    recall  f1-score   support\n",
            "\n",
            "          80       0.15      0.29      0.19      2112\n",
            "          81       0.18      0.28      0.22      2112\n",
            "          82       0.14      0.16      0.15      2112\n",
            "          83       0.15      0.12      0.14      2112\n",
            "          84       0.13      0.12      0.13      2111\n",
            "          85       0.12      0.07      0.09      2112\n",
            "          86       0.11      0.02      0.03      2112\n",
            "          87       0.08      0.04      0.06      2112\n",
            "          88       0.14      0.19      0.16      2112\n",
            "          89       0.13      0.10      0.11      2112\n",
            "          90       0.13      0.16      0.15      2112\n",
            "          91       0.17      0.14      0.15      2111\n",
            "          92       0.09      0.07      0.08      2112\n",
            "          93       0.17      0.25      0.20      2111\n",
            "          94       0.16      0.13      0.14      2111\n",
            "          95       0.18      0.15      0.16      2112\n",
            "          96       0.22      0.13      0.16      2112\n",
            "          97       0.26      0.23      0.24      2112\n",
            "          98       0.36      0.42      0.39      2111\n",
            "          99       0.35      0.44      0.39      2111\n",
            "         100       0.64      0.99      0.78      2112\n",
            "\n",
            "    accuracy                           0.21     44346\n",
            "   macro avg       0.19      0.21      0.20     44346\n",
            "weighted avg       0.19      0.21      0.20     44346\n",
            "\n",
            "AUC = 0.8148218743508463\n"
          ],
          "name": "stdout"
        }
      ]
    },
    {
      "cell_type": "markdown",
      "metadata": {
        "id": "uF3Bc2PwSMi8"
      },
      "source": [
        "The results are not good at all. We expect to get a model to could do way better than that."
      ]
    },
    {
      "cell_type": "markdown",
      "metadata": {
        "id": "dS1Mre1JSMi8"
      },
      "source": [
        "1.2 Create a simple text-based model using a bag-of-words approach and a linear model.\n"
      ]
    },
    {
      "cell_type": "code",
      "metadata": {
        "id": "gIx_AJffSMi8"
      },
      "source": [
        "import pandas as pd\n",
        "import numpy as np\n",
        "x = pd.read_csv('winemag-data-130k-v2.csv', index_col=0)\n",
        "x = x.loc[x['country'] == 'US']\n",
        "to_remove = x.columns.to_list()\n",
        "to_remove.remove('points')\n",
        "to_remove.remove('description')\n",
        "x.drop(columns=to_remove, inplace=True)\n",
        "y = x['points']\n",
        "x.drop(columns=['points'], inplace=True)"
      ],
      "execution_count": null,
      "outputs": []
    },
    {
      "cell_type": "code",
      "metadata": {
        "id": "nu91u_b1SMi8"
      },
      "source": [
        "from sklearn.model_selection import train_test_split\n",
        "from sklearn.linear_model import LogisticRegression as LR\n",
        "x_train, x_test, y_train, y_test = train_test_split(x, y, test_size=0.2)"
      ],
      "execution_count": null,
      "outputs": []
    },
    {
      "cell_type": "code",
      "metadata": {
        "id": "UU9IL0JbSMi8"
      },
      "source": [
        "from sklearn.feature_extraction.text import CountVectorizer\n",
        "vect = CountVectorizer(stop_words='english')\n",
        "x_train = vect.fit_transform(x_train['description'].to_list())\n",
        "x_test = vect.transform(x_test['description'].to_list())"
      ],
      "execution_count": null,
      "outputs": []
    },
    {
      "cell_type": "code",
      "metadata": {
        "id": "ekT5yVE7SMi9"
      },
      "source": [
        "from imblearn.over_sampling import SMOTE\n",
        "x_train, y_train = SMOTE().fit_resample(x_train, y_train)"
      ],
      "execution_count": null,
      "outputs": []
    },
    {
      "cell_type": "code",
      "metadata": {
        "id": "G362sW1fSMi9"
      },
      "source": [
        "%%capture\n",
        "lr = LR().fit(x_train, y_train)"
      ],
      "execution_count": null,
      "outputs": []
    },
    {
      "cell_type": "code",
      "metadata": {
        "id": "O_G9dBbVSMi9",
        "outputId": "048a182f-3e02-4fa2-92a6-8e485c2733a9"
      },
      "source": [
        "from sklearn.metrics import classification_report, roc_auc_score\n",
        "print(classification_report(y_test, lr.predict(x_test)))\n",
        "print(f\"AUC = {roc_auc_score(y_test, lr.predict_proba(x_test), multi_class='ovr')}\")"
      ],
      "execution_count": null,
      "outputs": [
        {
          "output_type": "stream",
          "text": [
            "              precision    recall  f1-score   support\n",
            "\n",
            "          80       0.25      0.16      0.20        82\n",
            "          81       0.15      0.11      0.13       145\n",
            "          82       0.22      0.22      0.22       347\n",
            "          83       0.21      0.17      0.18       656\n",
            "          84       0.26      0.28      0.27      1284\n",
            "          85       0.24      0.23      0.23      1881\n",
            "          86       0.24      0.23      0.23      2475\n",
            "          87       0.28      0.29      0.29      3399\n",
            "          88       0.25      0.24      0.24      3430\n",
            "          89       0.22      0.19      0.20      2500\n",
            "          90       0.26      0.25      0.25      3114\n",
            "          91       0.21      0.20      0.21      2289\n",
            "          92       0.21      0.23      0.22      1854\n",
            "          93       0.19      0.19      0.19      1328\n",
            "          94       0.17      0.18      0.17       749\n",
            "          95       0.10      0.15      0.12       280\n",
            "          96       0.01      0.02      0.02       100\n",
            "          97       0.05      0.08      0.06        50\n",
            "          98       0.02      0.05      0.03        21\n",
            "          99       0.00      0.00      0.00         6\n",
            "         100       0.00      0.00      0.00         5\n",
            "\n",
            "    accuracy                           0.23     25995\n",
            "   macro avg       0.17      0.17      0.17     25995\n",
            "weighted avg       0.23      0.23      0.23     25995\n",
            "\n",
            "AUC = 0.7790112499179167\n"
          ],
          "name": "stdout"
        }
      ]
    },
    {
      "cell_type": "markdown",
      "metadata": {
        "id": "gNVqc1PaSMi-"
      },
      "source": [
        "1.3 Try using n-grams, characters, tf-idf rescaling and possibly other ways to tune the BoW model. Be aware that you might need to adjust the (regularization of the) linear model for different feature sets.\n"
      ]
    },
    {
      "cell_type": "markdown",
      "metadata": {
        "id": "_vRvR3JJSMi-"
      },
      "source": [
        "### TF-IDF"
      ]
    },
    {
      "cell_type": "code",
      "metadata": {
        "id": "ID_PFVaISMi-"
      },
      "source": [
        "from sklearn.feature_extraction.text import TfidfTransformer, CountVectorizer\n",
        "import pandas as pd\n",
        "import numpy as np\n",
        "from sklearn.pipeline import make_pipeline\n",
        "from sklearn.linear_model import LogisticRegression as LR\n",
        "from imblearn.over_sampling import SMOTE\n",
        "x = pd.read_csv('winemag-data-130k-v2.csv', index_col=0)\n",
        "to_remove = x.columns.to_list()\n",
        "to_remove.remove('points')\n",
        "to_remove.remove('description')\n",
        "x.drop(columns=to_remove, inplace=True)\n",
        "y = x['points']\n",
        "x.drop(columns=['points'], inplace=True)"
      ],
      "execution_count": null,
      "outputs": []
    },
    {
      "cell_type": "code",
      "metadata": {
        "id": "nUS1xY7sSMi-"
      },
      "source": [
        "from sklearn.model_selection import train_test_split\n",
        "x_train, x_test, y_train, y_test = train_test_split(x, y, test_size=0.2)"
      ],
      "execution_count": null,
      "outputs": []
    },
    {
      "cell_type": "code",
      "metadata": {
        "id": "1soDfkuVSMi_"
      },
      "source": [
        "transformer = make_pipeline(CountVectorizer(stop_words='english'), TfidfTransformer()).fit(x_train['description'].to_list())"
      ],
      "execution_count": null,
      "outputs": []
    },
    {
      "cell_type": "code",
      "metadata": {
        "id": "iyXRkooOSMi_"
      },
      "source": [
        "x_train = transformer.transform(x_train['description'].to_list())\n",
        "x_test = transformer.transform(x_test['description'].to_list())"
      ],
      "execution_count": null,
      "outputs": []
    },
    {
      "cell_type": "code",
      "metadata": {
        "id": "ZLkF-QL9SMi_"
      },
      "source": [
        "x_train, y_train = SMOTE().fit_resample(x_train, y_train)"
      ],
      "execution_count": null,
      "outputs": []
    },
    {
      "cell_type": "code",
      "metadata": {
        "id": "VbkgNDEJSMi_"
      },
      "source": [
        "%%capture\n",
        "lr = LR().fit(x_train, y_train)"
      ],
      "execution_count": null,
      "outputs": []
    },
    {
      "cell_type": "code",
      "metadata": {
        "id": "lvleYVKCSMi_",
        "outputId": "75b7a016-44de-4d4a-e164-a92ee1eb87fd"
      },
      "source": [
        "from sklearn.metrics import classification_report, roc_auc_score\n",
        "print(classification_report(y_test, lr.predict(x_test)))\n",
        "print(f\"AUC = {roc_auc_score(y_test, lr.predict_proba(x_test), multi_class='ovr')}\")"
      ],
      "execution_count": null,
      "outputs": [
        {
          "output_type": "stream",
          "text": [
            "C:\\Users\\Matan\\anaconda3\\lib\\site-packages\\sklearn\\metrics\\_classification.py:1248: UndefinedMetricWarning: Precision and F-score are ill-defined and being set to 0.0 in labels with no predicted samples. Use `zero_division` parameter to control this behavior.\n",
            "  _warn_prf(average, modifier, msg_start, len(result))\n",
            "C:\\Users\\Matan\\anaconda3\\lib\\site-packages\\sklearn\\metrics\\_classification.py:1248: UndefinedMetricWarning: Precision and F-score are ill-defined and being set to 0.0 in labels with no predicted samples. Use `zero_division` parameter to control this behavior.\n",
            "  _warn_prf(average, modifier, msg_start, len(result))\n",
            "C:\\Users\\Matan\\anaconda3\\lib\\site-packages\\sklearn\\metrics\\_classification.py:1248: UndefinedMetricWarning: Precision and F-score are ill-defined and being set to 0.0 in labels with no predicted samples. Use `zero_division` parameter to control this behavior.\n",
            "  _warn_prf(average, modifier, msg_start, len(result))\n"
          ],
          "name": "stderr"
        },
        {
          "output_type": "stream",
          "text": [
            "              precision    recall  f1-score   support\n",
            "\n",
            "          80       0.13      0.26      0.17        78\n",
            "          81       0.08      0.25      0.12       124\n",
            "          82       0.15      0.26      0.19       389\n",
            "          83       0.13      0.26      0.17       602\n",
            "          84       0.19      0.22      0.20      1284\n",
            "          85       0.22      0.24      0.23      1885\n",
            "          86       0.24      0.19      0.21      2474\n",
            "          87       0.28      0.22      0.25      3335\n",
            "          88       0.27      0.20      0.23      3473\n",
            "          89       0.23      0.22      0.22      2449\n",
            "          90       0.27      0.20      0.23      3133\n",
            "          91       0.22      0.21      0.22      2295\n",
            "          92       0.24      0.22      0.23      2000\n",
            "          93       0.18      0.22      0.20      1272\n",
            "          94       0.15      0.29      0.20       735\n",
            "          95       0.10      0.27      0.14       293\n",
            "          96       0.02      0.06      0.03       109\n",
            "          97       0.08      0.12      0.09        43\n",
            "          98       0.00      0.00      0.00        13\n",
            "          99       0.00      0.00      0.00         6\n",
            "         100       0.00      0.00      0.00         3\n",
            "\n",
            "    accuracy                           0.21     25995\n",
            "   macro avg       0.15      0.19      0.16     25995\n",
            "weighted avg       0.23      0.21      0.22     25995\n",
            "\n",
            "AUC = 0.8253927867372297\n"
          ],
          "name": "stdout"
        }
      ]
    },
    {
      "cell_type": "code",
      "metadata": {
        "id": "vKiR3wwqSMi_"
      },
      "source": [
        "from sklearn.preprocessing import normalize"
      ],
      "execution_count": null,
      "outputs": []
    },
    {
      "cell_type": "code",
      "metadata": {
        "id": "MQmqz4ZoSMjA"
      },
      "source": [
        "%%capture\n",
        "lr = LR().fit(normalize(x_train, norm='l2'), y_train)"
      ],
      "execution_count": null,
      "outputs": []
    },
    {
      "cell_type": "code",
      "metadata": {
        "id": "4klHsDoMSMjA",
        "outputId": "0f270de0-091c-4b60-c891-fe424d8dde75"
      },
      "source": [
        "print(classification_report(y_test, lr.predict(x_test)))\n",
        "print(f\"AUC = {roc_auc_score(y_test, lr.predict_proba(x_test), multi_class='ovr')}\")"
      ],
      "execution_count": null,
      "outputs": [
        {
          "output_type": "stream",
          "text": [
            "              precision    recall  f1-score   support\n",
            "\n",
            "          80       0.13      0.24      0.17        78\n",
            "          81       0.08      0.21      0.11       124\n",
            "          82       0.15      0.28      0.20       389\n",
            "          83       0.13      0.21      0.16       602\n",
            "          84       0.19      0.24      0.21      1284\n",
            "          85       0.22      0.21      0.22      1885\n",
            "          86       0.23      0.21      0.22      2474\n",
            "          87       0.27      0.23      0.25      3335\n",
            "          88       0.25      0.20      0.22      3473\n",
            "          89       0.23      0.23      0.23      2449\n",
            "          90       0.27      0.20      0.23      3133\n",
            "          91       0.22      0.24      0.23      2295\n",
            "          92       0.24      0.22      0.23      2000\n",
            "          93       0.20      0.23      0.21      1272\n",
            "          94       0.16      0.26      0.20       735\n",
            "          95       0.10      0.22      0.14       293\n",
            "          96       0.05      0.06      0.05       109\n",
            "          97       0.06      0.12      0.08        43\n",
            "          98       0.00      0.00      0.00        13\n",
            "          99       0.00      0.00      0.00         6\n",
            "         100       0.00      0.00      0.00         3\n",
            "\n",
            "    accuracy                           0.22     25995\n",
            "   macro avg       0.15      0.18      0.16     25995\n",
            "weighted avg       0.23      0.22      0.22     25995\n",
            "\n",
            "AUC = 0.82494274257981\n"
          ],
          "name": "stdout"
        },
        {
          "output_type": "stream",
          "text": [
            "C:\\Users\\Matan\\anaconda3\\lib\\site-packages\\sklearn\\metrics\\_classification.py:1248: UndefinedMetricWarning: Precision and F-score are ill-defined and being set to 0.0 in labels with no predicted samples. Use `zero_division` parameter to control this behavior.\n",
            "  _warn_prf(average, modifier, msg_start, len(result))\n",
            "C:\\Users\\Matan\\anaconda3\\lib\\site-packages\\sklearn\\metrics\\_classification.py:1248: UndefinedMetricWarning: Precision and F-score are ill-defined and being set to 0.0 in labels with no predicted samples. Use `zero_division` parameter to control this behavior.\n",
            "  _warn_prf(average, modifier, msg_start, len(result))\n",
            "C:\\Users\\Matan\\anaconda3\\lib\\site-packages\\sklearn\\metrics\\_classification.py:1248: UndefinedMetricWarning: Precision and F-score are ill-defined and being set to 0.0 in labels with no predicted samples. Use `zero_division` parameter to control this behavior.\n",
            "  _warn_prf(average, modifier, msg_start, len(result))\n"
          ],
          "name": "stderr"
        }
      ]
    },
    {
      "cell_type": "markdown",
      "metadata": {
        "id": "qjb9jKPYSMjA"
      },
      "source": [
        "### N-Grams"
      ]
    },
    {
      "cell_type": "code",
      "metadata": {
        "id": "FcP1UN0mSMjA"
      },
      "source": [
        "x_train, x_test, y_train, y_test = train_test_split(x, y, test_size=0.2)"
      ],
      "execution_count": null,
      "outputs": []
    },
    {
      "cell_type": "code",
      "metadata": {
        "id": "XSadstGxSMjA"
      },
      "source": [
        "from sklearn.metrics import f1_score, average_precision_score, recall_score, classification_report, roc_auc_score\n",
        "results = np.zeros((4, 4))\n",
        "count = 0\n",
        "for i in [(1, 1), (1, 2), (2, 2), (2, 3)]:\n",
        "    transformer = CountVectorizer(stop_words='english', ngram_range=i).fit(x_train['description'].to_list())\n",
        "    x_train = transformer.transform(x_train['description'].to_list())\n",
        "    x_test = transformer.transform(x_test['description'].to_list())\n",
        "    x_train, y_train = SMOTE().fit_resample(x_train, y_train)\n",
        "    lr = LR().fit(x_train, y_train)\n",
        "    results[count, 0] = lr.score(x_test, y_test)\n",
        "    results[count, 1] = roc_auc_score(y_test, lr.predict_proba(x_test), multi_class='ovr')\n",
        "    results[count, 2] = f1_score(y_test, lr.predict(x_test), average='macro')\n",
        "    results[count, 3] = recall_score(y_test, lr.predict(x_test), average='macro')\n",
        "    count += 1\n",
        "    print('count = ', count)\n",
        "    x_train, x_test, y_train, y_test = train_test_split(x, y, test_size=0.2)\n"
      ],
      "execution_count": null,
      "outputs": []
    },
    {
      "cell_type": "code",
      "metadata": {
        "id": "6dbNlGe6SMjB",
        "outputId": "3c3ab6e2-11a7-48ec-a736-b581c44e0cbb"
      },
      "source": [
        "pd.DataFrame(data=results, index=[(1, 1), (1, 2), (2, 2), (2, 3)], columns=['accuracy', 'auc', 'f1', 'recall'])"
      ],
      "execution_count": null,
      "outputs": [
        {
          "output_type": "execute_result",
          "data": {
            "text/html": [
              "<div>\n",
              "<style scoped>\n",
              "    .dataframe tbody tr th:only-of-type {\n",
              "        vertical-align: middle;\n",
              "    }\n",
              "\n",
              "    .dataframe tbody tr th {\n",
              "        vertical-align: top;\n",
              "    }\n",
              "\n",
              "    .dataframe thead th {\n",
              "        text-align: right;\n",
              "    }\n",
              "</style>\n",
              "<table border=\"1\" class=\"dataframe\">\n",
              "  <thead>\n",
              "    <tr style=\"text-align: right;\">\n",
              "      <th></th>\n",
              "      <th>accuracy</th>\n",
              "      <th>auc</th>\n",
              "      <th>f1</th>\n",
              "      <th>recall</th>\n",
              "    </tr>\n",
              "  </thead>\n",
              "  <tbody>\n",
              "    <tr>\n",
              "      <th>(1, 1)</th>\n",
              "      <td>0.236622</td>\n",
              "      <td>0.782689</td>\n",
              "      <td>0.174187</td>\n",
              "      <td>0.174153</td>\n",
              "    </tr>\n",
              "    <tr>\n",
              "      <th>(1, 2)</th>\n",
              "      <td>0.303943</td>\n",
              "      <td>0.792835</td>\n",
              "      <td>0.208129</td>\n",
              "      <td>0.208173</td>\n",
              "    </tr>\n",
              "    <tr>\n",
              "      <th>(2, 2)</th>\n",
              "      <td>0.283285</td>\n",
              "      <td>0.749124</td>\n",
              "      <td>0.186470</td>\n",
              "      <td>0.194465</td>\n",
              "    </tr>\n",
              "    <tr>\n",
              "      <th>(2, 3)</th>\n",
              "      <td>0.276976</td>\n",
              "      <td>0.757223</td>\n",
              "      <td>0.173667</td>\n",
              "      <td>0.198477</td>\n",
              "    </tr>\n",
              "  </tbody>\n",
              "</table>\n",
              "</div>"
            ],
            "text/plain": [
              "        accuracy       auc        f1    recall\n",
              "(1, 1)  0.236622  0.782689  0.174187  0.174153\n",
              "(1, 2)  0.303943  0.792835  0.208129  0.208173\n",
              "(2, 2)  0.283285  0.749124  0.186470  0.194465\n",
              "(2, 3)  0.276976  0.757223  0.173667  0.198477"
            ]
          },
          "metadata": {
            "tags": []
          },
          "execution_count": 9
        }
      ]
    },
    {
      "cell_type": "code",
      "metadata": {
        "id": "kJuNUA-YSMjB",
        "outputId": "749c94a9-5bce-4845-e10b-78db7afd7541"
      },
      "source": [
        "x_train, x_test, y_train, y_test = train_test_split(x, y, test_size=0.2)\n",
        "transformer = CountVectorizer(stop_words='english', ngram_range=(2, 5), analyzer='char_wb').fit(x_train['description'].to_list())\n",
        "x_train = transformer.transform(x_train['description'].to_list())\n",
        "x_test = transformer.transform(x_test['description'].to_list())\n",
        "x_train, y_train = SMOTE().fit_resample(x_train, y_train)\n",
        "lr = LR().fit(x_train, y_train)"
      ],
      "execution_count": null,
      "outputs": [
        {
          "output_type": "stream",
          "text": [
            "C:\\Users\\Matan\\anaconda3\\lib\\site-packages\\sklearn\\feature_extraction\\text.py:502: UserWarning: The parameter 'stop_words' will not be used since 'analyzer' != 'word'\n",
            "  warnings.warn(\"The parameter 'stop_words' will not be used\"\n",
            "C:\\Users\\Matan\\anaconda3\\lib\\site-packages\\sklearn\\linear_model\\_logistic.py:763: ConvergenceWarning: lbfgs failed to converge (status=1):\n",
            "STOP: TOTAL NO. of ITERATIONS REACHED LIMIT.\n",
            "\n",
            "Increase the number of iterations (max_iter) or scale the data as shown in:\n",
            "    https://scikit-learn.org/stable/modules/preprocessing.html\n",
            "Please also refer to the documentation for alternative solver options:\n",
            "    https://scikit-learn.org/stable/modules/linear_model.html#logistic-regression\n",
            "  n_iter_i = _check_optimize_result(\n"
          ],
          "name": "stderr"
        }
      ]
    },
    {
      "cell_type": "code",
      "metadata": {
        "id": "dQh5m2ZZSMjB",
        "outputId": "64ca1387-e511-47cb-ef5a-2b7bc05d510d"
      },
      "source": [
        "print(classification_report(y_test, lr.predict(x_test)))\n",
        "print(f\"AUC = {roc_auc_score(y_test, lr.predict_proba(x_test), multi_class='ovr')}\")"
      ],
      "execution_count": null,
      "outputs": [
        {
          "output_type": "stream",
          "text": [
            "              precision    recall  f1-score   support\n",
            "\n",
            "          80       0.39      0.08      0.14        83\n",
            "          81       0.17      0.10      0.12       144\n",
            "          82       0.19      0.25      0.21       370\n",
            "          83       0.16      0.13      0.14       598\n",
            "          84       0.27      0.24      0.25      1352\n",
            "          85       0.22      0.20      0.21      1928\n",
            "          86       0.24      0.23      0.23      2497\n",
            "          87       0.26      0.30      0.28      3401\n",
            "          88       0.23      0.24      0.24      3479\n",
            "          89       0.20      0.15      0.17      2442\n",
            "          90       0.23      0.31      0.27      3023\n",
            "          91       0.22      0.19      0.20      2244\n",
            "          92       0.22      0.20      0.21      1907\n",
            "          93       0.20      0.20      0.20      1280\n",
            "          94       0.16      0.15      0.15       755\n",
            "          95       0.10      0.13      0.11       307\n",
            "          96       0.04      0.04      0.04       112\n",
            "          97       0.08      0.08      0.08        52\n",
            "          98       0.00      0.00      0.00         9\n",
            "          99       0.00      0.00      0.00         9\n",
            "         100       0.00      0.00      0.00         3\n",
            "\n",
            "    accuracy                           0.23     25995\n",
            "   macro avg       0.17      0.15      0.16     25995\n",
            "weighted avg       0.22      0.23      0.22     25995\n",
            "\n",
            "AUC = 0.8086954765823677\n"
          ],
          "name": "stdout"
        }
      ]
    },
    {
      "cell_type": "markdown",
      "metadata": {
        "id": "Ui0lJO73SMjB"
      },
      "source": [
        "#### Mid Q summary:\n",
        "Up to this point, we went easy on ourselves by not cross-validating anything, nor giving much care about the pre-processing.\n",
        "However, we'll take care of it all in the next part."
      ]
    },
    {
      "cell_type": "markdown",
      "metadata": {
        "id": "Xg29UGohSMjC"
      },
      "source": [
        "1.4 Combine the non-text features and the text features. How does adding those features improve upon just using bag-of-words?"
      ]
    },
    {
      "cell_type": "code",
      "metadata": {
        "id": "F96MykT7SMjC",
        "outputId": "c75fb107-829b-4043-c315-b0ecd5bd11b6"
      },
      "source": [
        "import pandas as pd\n",
        "import numpy as np\n",
        "import seaborn as sns\n",
        "from matplotlib import pyplot as plt\n",
        "from imblearn.over_sampling import SMOTE\n",
        "from sklearn.feature_extraction.text import TfidfTransformer, CountVectorizer\n",
        "from sklearn.pipeline import make_pipeline, Pipeline\n",
        "\n",
        "x = pd.read_csv('winemag-data-130k-v2.csv', index_col=0)\n",
        "x = x.loc[x['country'] == 'US']\n",
        "x = x.reset_index(drop=True)\n",
        "y = x['points']\n",
        "x.drop(columns=['points', 'country'], inplace=True)\n",
        "x.head(3)"
      ],
      "execution_count": null,
      "outputs": [
        {
          "output_type": "execute_result",
          "data": {
            "text/html": [
              "<div>\n",
              "<style scoped>\n",
              "    .dataframe tbody tr th:only-of-type {\n",
              "        vertical-align: middle;\n",
              "    }\n",
              "\n",
              "    .dataframe tbody tr th {\n",
              "        vertical-align: top;\n",
              "    }\n",
              "\n",
              "    .dataframe thead th {\n",
              "        text-align: right;\n",
              "    }\n",
              "</style>\n",
              "<table border=\"1\" class=\"dataframe\">\n",
              "  <thead>\n",
              "    <tr style=\"text-align: right;\">\n",
              "      <th></th>\n",
              "      <th>description</th>\n",
              "      <th>designation</th>\n",
              "      <th>price</th>\n",
              "      <th>province</th>\n",
              "      <th>region_1</th>\n",
              "      <th>region_2</th>\n",
              "      <th>taster_name</th>\n",
              "      <th>taster_twitter_handle</th>\n",
              "      <th>title</th>\n",
              "      <th>variety</th>\n",
              "      <th>winery</th>\n",
              "    </tr>\n",
              "  </thead>\n",
              "  <tbody>\n",
              "    <tr>\n",
              "      <th>0</th>\n",
              "      <td>Tart and snappy, the flavors of lime flesh and...</td>\n",
              "      <td>NaN</td>\n",
              "      <td>14.0</td>\n",
              "      <td>Oregon</td>\n",
              "      <td>Willamette Valley</td>\n",
              "      <td>Willamette Valley</td>\n",
              "      <td>Paul Gregutt</td>\n",
              "      <td>@paulgwine</td>\n",
              "      <td>Rainstorm 2013 Pinot Gris (Willamette Valley)</td>\n",
              "      <td>Pinot Gris</td>\n",
              "      <td>Rainstorm</td>\n",
              "    </tr>\n",
              "    <tr>\n",
              "      <th>1</th>\n",
              "      <td>Pineapple rind, lemon pith and orange blossom ...</td>\n",
              "      <td>Reserve Late Harvest</td>\n",
              "      <td>13.0</td>\n",
              "      <td>Michigan</td>\n",
              "      <td>Lake Michigan Shore</td>\n",
              "      <td>NaN</td>\n",
              "      <td>Alexander Peartree</td>\n",
              "      <td>NaN</td>\n",
              "      <td>St. Julian 2013 Reserve Late Harvest Riesling ...</td>\n",
              "      <td>Riesling</td>\n",
              "      <td>St. Julian</td>\n",
              "    </tr>\n",
              "    <tr>\n",
              "      <th>2</th>\n",
              "      <td>Much like the regular bottling from 2012, this...</td>\n",
              "      <td>Vintner's Reserve Wild Child Block</td>\n",
              "      <td>65.0</td>\n",
              "      <td>Oregon</td>\n",
              "      <td>Willamette Valley</td>\n",
              "      <td>Willamette Valley</td>\n",
              "      <td>Paul Gregutt</td>\n",
              "      <td>@paulgwine</td>\n",
              "      <td>Sweet Cheeks 2012 Vintner's Reserve Wild Child...</td>\n",
              "      <td>Pinot Noir</td>\n",
              "      <td>Sweet Cheeks</td>\n",
              "    </tr>\n",
              "  </tbody>\n",
              "</table>\n",
              "</div>"
            ],
            "text/plain": [
              "                                         description  \\\n",
              "0  Tart and snappy, the flavors of lime flesh and...   \n",
              "1  Pineapple rind, lemon pith and orange blossom ...   \n",
              "2  Much like the regular bottling from 2012, this...   \n",
              "\n",
              "                          designation  price  province             region_1  \\\n",
              "0                                 NaN   14.0    Oregon    Willamette Valley   \n",
              "1                Reserve Late Harvest   13.0  Michigan  Lake Michigan Shore   \n",
              "2  Vintner's Reserve Wild Child Block   65.0    Oregon    Willamette Valley   \n",
              "\n",
              "            region_2         taster_name taster_twitter_handle  \\\n",
              "0  Willamette Valley        Paul Gregutt           @paulgwine    \n",
              "1                NaN  Alexander Peartree                   NaN   \n",
              "2  Willamette Valley        Paul Gregutt           @paulgwine    \n",
              "\n",
              "                                               title     variety        winery  \n",
              "0      Rainstorm 2013 Pinot Gris (Willamette Valley)  Pinot Gris     Rainstorm  \n",
              "1  St. Julian 2013 Reserve Late Harvest Riesling ...    Riesling    St. Julian  \n",
              "2  Sweet Cheeks 2012 Vintner's Reserve Wild Child...  Pinot Noir  Sweet Cheeks  "
            ]
          },
          "metadata": {
            "tags": []
          },
          "execution_count": 1
        }
      ]
    },
    {
      "cell_type": "code",
      "metadata": {
        "id": "67kvKToNSMjC",
        "outputId": "52cdd37a-b41f-405b-82da-8a1723910f47"
      },
      "source": [
        "x.isna().sum()"
      ],
      "execution_count": null,
      "outputs": [
        {
          "output_type": "execute_result",
          "data": {
            "text/plain": [
              "description                  0\n",
              "designation              17596\n",
              "price                      239\n",
              "province                     0\n",
              "region_1                   278\n",
              "region_2                  3993\n",
              "taster_name              16774\n",
              "taster_twitter_handle    19763\n",
              "title                        0\n",
              "variety                      0\n",
              "winery                       0\n",
              "dtype: int64"
            ]
          },
          "metadata": {
            "tags": []
          },
          "execution_count": 2
        }
      ]
    },
    {
      "cell_type": "code",
      "metadata": {
        "id": "cTRn3XNiSMjC",
        "outputId": "ebd217e1-b595-415a-cba1-f40c57b63529"
      },
      "source": [
        "x.loc[x['designation'].isna(), ['designation', 'variety', 'winery', 'region_1', 'title']]"
      ],
      "execution_count": null,
      "outputs": [
        {
          "output_type": "execute_result",
          "data": {
            "text/html": [
              "<div>\n",
              "<style scoped>\n",
              "    .dataframe tbody tr th:only-of-type {\n",
              "        vertical-align: middle;\n",
              "    }\n",
              "\n",
              "    .dataframe tbody tr th {\n",
              "        vertical-align: top;\n",
              "    }\n",
              "\n",
              "    .dataframe thead th {\n",
              "        text-align: right;\n",
              "    }\n",
              "</style>\n",
              "<table border=\"1\" class=\"dataframe\">\n",
              "  <thead>\n",
              "    <tr style=\"text-align: right;\">\n",
              "      <th></th>\n",
              "      <th>designation</th>\n",
              "      <th>variety</th>\n",
              "      <th>winery</th>\n",
              "      <th>region_1</th>\n",
              "      <th>title</th>\n",
              "    </tr>\n",
              "  </thead>\n",
              "  <tbody>\n",
              "    <tr>\n",
              "      <th>0</th>\n",
              "      <td>NaN</td>\n",
              "      <td>Pinot Gris</td>\n",
              "      <td>Rainstorm</td>\n",
              "      <td>Willamette Valley</td>\n",
              "      <td>Rainstorm 2013 Pinot Gris (Willamette Valley)</td>\n",
              "    </tr>\n",
              "    <tr>\n",
              "      <th>4</th>\n",
              "      <td>NaN</td>\n",
              "      <td>Cabernet Sauvignon</td>\n",
              "      <td>Louis M. Martini</td>\n",
              "      <td>Alexander Valley</td>\n",
              "      <td>Louis M. Martini 2012 Cabernet Sauvignon (Alex...</td>\n",
              "    </tr>\n",
              "    <tr>\n",
              "      <th>5</th>\n",
              "      <td>NaN</td>\n",
              "      <td>Chardonnay</td>\n",
              "      <td>Mirassou</td>\n",
              "      <td>Central Coast</td>\n",
              "      <td>Mirassou 2012 Chardonnay (Central Coast)</td>\n",
              "    </tr>\n",
              "    <tr>\n",
              "      <th>6</th>\n",
              "      <td>NaN</td>\n",
              "      <td>Meritage</td>\n",
              "      <td>Quiévremont</td>\n",
              "      <td>Virginia</td>\n",
              "      <td>Quiévremont 2012 Meritage (Virginia)</td>\n",
              "    </tr>\n",
              "    <tr>\n",
              "      <th>8</th>\n",
              "      <td>NaN</td>\n",
              "      <td>Pinot Noir</td>\n",
              "      <td>Acrobat</td>\n",
              "      <td>Oregon</td>\n",
              "      <td>Acrobat 2013 Pinot Noir (Oregon)</td>\n",
              "    </tr>\n",
              "    <tr>\n",
              "      <th>...</th>\n",
              "      <td>...</td>\n",
              "      <td>...</td>\n",
              "      <td>...</td>\n",
              "      <td>...</td>\n",
              "      <td>...</td>\n",
              "    </tr>\n",
              "    <tr>\n",
              "      <th>54495</th>\n",
              "      <td>NaN</td>\n",
              "      <td>Syrah</td>\n",
              "      <td>Va Piano</td>\n",
              "      <td>Columbia Valley-Walla Walla Valley</td>\n",
              "      <td>Va Piano 2006 Syrah (Columbia Valley-Walla Wal...</td>\n",
              "    </tr>\n",
              "    <tr>\n",
              "      <th>54497</th>\n",
              "      <td>NaN</td>\n",
              "      <td>Chardonnay</td>\n",
              "      <td>Apriori</td>\n",
              "      <td>Mendocino County</td>\n",
              "      <td>Apriori 2013 Chardonnay (Mendocino County)</td>\n",
              "    </tr>\n",
              "    <tr>\n",
              "      <th>54498</th>\n",
              "      <td>NaN</td>\n",
              "      <td>Cabernet Sauvignon</td>\n",
              "      <td>Arrowood</td>\n",
              "      <td>Sonoma County</td>\n",
              "      <td>Arrowood 2010 Cabernet Sauvignon (Sonoma County)</td>\n",
              "    </tr>\n",
              "    <tr>\n",
              "      <th>54502</th>\n",
              "      <td>NaN</td>\n",
              "      <td>Zinfandel</td>\n",
              "      <td>Houdini</td>\n",
              "      <td>Chiles Valley</td>\n",
              "      <td>Houdini 2011 Zinfandel (Chiles Valley)</td>\n",
              "    </tr>\n",
              "    <tr>\n",
              "      <th>54503</th>\n",
              "      <td>NaN</td>\n",
              "      <td>Pinot Noir</td>\n",
              "      <td>Citation</td>\n",
              "      <td>Oregon</td>\n",
              "      <td>Citation 2004 Pinot Noir (Oregon)</td>\n",
              "    </tr>\n",
              "  </tbody>\n",
              "</table>\n",
              "<p>17596 rows × 5 columns</p>\n",
              "</div>"
            ],
            "text/plain": [
              "      designation             variety            winery  \\\n",
              "0             NaN          Pinot Gris         Rainstorm   \n",
              "4             NaN  Cabernet Sauvignon  Louis M. Martini   \n",
              "5             NaN          Chardonnay          Mirassou   \n",
              "6             NaN            Meritage       Quiévremont   \n",
              "8             NaN          Pinot Noir           Acrobat   \n",
              "...           ...                 ...               ...   \n",
              "54495         NaN               Syrah          Va Piano   \n",
              "54497         NaN          Chardonnay           Apriori   \n",
              "54498         NaN  Cabernet Sauvignon          Arrowood   \n",
              "54502         NaN           Zinfandel           Houdini   \n",
              "54503         NaN          Pinot Noir          Citation   \n",
              "\n",
              "                                 region_1  \\\n",
              "0                       Willamette Valley   \n",
              "4                        Alexander Valley   \n",
              "5                           Central Coast   \n",
              "6                                Virginia   \n",
              "8                                  Oregon   \n",
              "...                                   ...   \n",
              "54495  Columbia Valley-Walla Walla Valley   \n",
              "54497                    Mendocino County   \n",
              "54498                       Sonoma County   \n",
              "54502                       Chiles Valley   \n",
              "54503                              Oregon   \n",
              "\n",
              "                                                   title  \n",
              "0          Rainstorm 2013 Pinot Gris (Willamette Valley)  \n",
              "4      Louis M. Martini 2012 Cabernet Sauvignon (Alex...  \n",
              "5               Mirassou 2012 Chardonnay (Central Coast)  \n",
              "6                   Quiévremont 2012 Meritage (Virginia)  \n",
              "8                       Acrobat 2013 Pinot Noir (Oregon)  \n",
              "...                                                  ...  \n",
              "54495  Va Piano 2006 Syrah (Columbia Valley-Walla Wal...  \n",
              "54497         Apriori 2013 Chardonnay (Mendocino County)  \n",
              "54498   Arrowood 2010 Cabernet Sauvignon (Sonoma County)  \n",
              "54502             Houdini 2011 Zinfandel (Chiles Valley)  \n",
              "54503                  Citation 2004 Pinot Noir (Oregon)  \n",
              "\n",
              "[17596 rows x 5 columns]"
            ]
          },
          "metadata": {
            "tags": []
          },
          "execution_count": 3
        }
      ]
    },
    {
      "cell_type": "code",
      "metadata": {
        "id": "qymmNrSuSMjD",
        "outputId": "fd673008-5150-4f75-c22f-0d1c168bfd75"
      },
      "source": [
        "x.loc[~x['designation'].isna(), ['designation', 'variety', 'winery', 'region_1', 'title']]"
      ],
      "execution_count": null,
      "outputs": [
        {
          "output_type": "execute_result",
          "data": {
            "text/html": [
              "<div>\n",
              "<style scoped>\n",
              "    .dataframe tbody tr th:only-of-type {\n",
              "        vertical-align: middle;\n",
              "    }\n",
              "\n",
              "    .dataframe tbody tr th {\n",
              "        vertical-align: top;\n",
              "    }\n",
              "\n",
              "    .dataframe thead th {\n",
              "        text-align: right;\n",
              "    }\n",
              "</style>\n",
              "<table border=\"1\" class=\"dataframe\">\n",
              "  <thead>\n",
              "    <tr style=\"text-align: right;\">\n",
              "      <th></th>\n",
              "      <th>designation</th>\n",
              "      <th>variety</th>\n",
              "      <th>winery</th>\n",
              "      <th>region_1</th>\n",
              "      <th>title</th>\n",
              "    </tr>\n",
              "  </thead>\n",
              "  <tbody>\n",
              "    <tr>\n",
              "      <th>1</th>\n",
              "      <td>Reserve Late Harvest</td>\n",
              "      <td>Riesling</td>\n",
              "      <td>St. Julian</td>\n",
              "      <td>Lake Michigan Shore</td>\n",
              "      <td>St. Julian 2013 Reserve Late Harvest Riesling ...</td>\n",
              "    </tr>\n",
              "    <tr>\n",
              "      <th>2</th>\n",
              "      <td>Vintner's Reserve Wild Child Block</td>\n",
              "      <td>Pinot Noir</td>\n",
              "      <td>Sweet Cheeks</td>\n",
              "      <td>Willamette Valley</td>\n",
              "      <td>Sweet Cheeks 2012 Vintner's Reserve Wild Child...</td>\n",
              "    </tr>\n",
              "    <tr>\n",
              "      <th>3</th>\n",
              "      <td>Mountain Cuvée</td>\n",
              "      <td>Cabernet Sauvignon</td>\n",
              "      <td>Kirkland Signature</td>\n",
              "      <td>Napa Valley</td>\n",
              "      <td>Kirkland Signature 2011 Mountain Cuvée Caberne...</td>\n",
              "    </tr>\n",
              "    <tr>\n",
              "      <th>7</th>\n",
              "      <td>Vin de Maison</td>\n",
              "      <td>Red Blend</td>\n",
              "      <td>Quiévremont</td>\n",
              "      <td>Virginia</td>\n",
              "      <td>Quiévremont 2012 Vin de Maison Red (Virginia)</td>\n",
              "    </tr>\n",
              "    <tr>\n",
              "      <th>9</th>\n",
              "      <td>Signature Selection</td>\n",
              "      <td>Merlot</td>\n",
              "      <td>Bianchi</td>\n",
              "      <td>Paso Robles</td>\n",
              "      <td>Bianchi 2011 Signature Selection Merlot (Paso ...</td>\n",
              "    </tr>\n",
              "    <tr>\n",
              "      <th>...</th>\n",
              "      <td>...</td>\n",
              "      <td>...</td>\n",
              "      <td>...</td>\n",
              "      <td>...</td>\n",
              "      <td>...</td>\n",
              "    </tr>\n",
              "    <tr>\n",
              "      <th>54493</th>\n",
              "      <td>Ash Hollow Vineyard</td>\n",
              "      <td>Syrah</td>\n",
              "      <td>Reininger</td>\n",
              "      <td>Walla Walla Valley (WA)</td>\n",
              "      <td>Reininger 2005 Ash Hollow Vineyard Syrah (Wall...</td>\n",
              "    </tr>\n",
              "    <tr>\n",
              "      <th>54496</th>\n",
              "      <td>Watson Vineyard</td>\n",
              "      <td>Chardonnay</td>\n",
              "      <td>Standish</td>\n",
              "      <td>Mendocino</td>\n",
              "      <td>Standish 2006 Watson Vineyard Chardonnay (Mend...</td>\n",
              "    </tr>\n",
              "    <tr>\n",
              "      <th>54499</th>\n",
              "      <td>Jurassic Park Vineyard Old Vines</td>\n",
              "      <td>Chenin Blanc</td>\n",
              "      <td>Birichino</td>\n",
              "      <td>Santa Ynez Valley</td>\n",
              "      <td>Birichino 2013 Jurassic Park Vineyard Old Vine...</td>\n",
              "    </tr>\n",
              "    <tr>\n",
              "      <th>54500</th>\n",
              "      <td>Barrel Fermented</td>\n",
              "      <td>Chardonnay</td>\n",
              "      <td>Flora Springs</td>\n",
              "      <td>Napa Valley</td>\n",
              "      <td>Flora Springs 2013 Barrel Fermented Chardonnay...</td>\n",
              "    </tr>\n",
              "    <tr>\n",
              "      <th>54501</th>\n",
              "      <td>Blocks 7 &amp; 22</td>\n",
              "      <td>Zinfandel</td>\n",
              "      <td>Hendry</td>\n",
              "      <td>Napa Valley</td>\n",
              "      <td>Hendry 2012 Blocks 7 &amp; 22 Zinfandel (Napa Valley)</td>\n",
              "    </tr>\n",
              "  </tbody>\n",
              "</table>\n",
              "<p>36908 rows × 5 columns</p>\n",
              "</div>"
            ],
            "text/plain": [
              "                              designation             variety  \\\n",
              "1                    Reserve Late Harvest            Riesling   \n",
              "2      Vintner's Reserve Wild Child Block          Pinot Noir   \n",
              "3                          Mountain Cuvée  Cabernet Sauvignon   \n",
              "7                           Vin de Maison           Red Blend   \n",
              "9                     Signature Selection              Merlot   \n",
              "...                                   ...                 ...   \n",
              "54493                 Ash Hollow Vineyard               Syrah   \n",
              "54496                     Watson Vineyard          Chardonnay   \n",
              "54499    Jurassic Park Vineyard Old Vines        Chenin Blanc   \n",
              "54500                    Barrel Fermented          Chardonnay   \n",
              "54501                       Blocks 7 & 22           Zinfandel   \n",
              "\n",
              "                   winery                 region_1  \\\n",
              "1              St. Julian      Lake Michigan Shore   \n",
              "2            Sweet Cheeks        Willamette Valley   \n",
              "3      Kirkland Signature              Napa Valley   \n",
              "7             Quiévremont                 Virginia   \n",
              "9                 Bianchi              Paso Robles   \n",
              "...                   ...                      ...   \n",
              "54493           Reininger  Walla Walla Valley (WA)   \n",
              "54496            Standish                Mendocino   \n",
              "54499           Birichino        Santa Ynez Valley   \n",
              "54500       Flora Springs              Napa Valley   \n",
              "54501              Hendry              Napa Valley   \n",
              "\n",
              "                                                   title  \n",
              "1      St. Julian 2013 Reserve Late Harvest Riesling ...  \n",
              "2      Sweet Cheeks 2012 Vintner's Reserve Wild Child...  \n",
              "3      Kirkland Signature 2011 Mountain Cuvée Caberne...  \n",
              "7          Quiévremont 2012 Vin de Maison Red (Virginia)  \n",
              "9      Bianchi 2011 Signature Selection Merlot (Paso ...  \n",
              "...                                                  ...  \n",
              "54493  Reininger 2005 Ash Hollow Vineyard Syrah (Wall...  \n",
              "54496  Standish 2006 Watson Vineyard Chardonnay (Mend...  \n",
              "54499  Birichino 2013 Jurassic Park Vineyard Old Vine...  \n",
              "54500  Flora Springs 2013 Barrel Fermented Chardonnay...  \n",
              "54501  Hendry 2012 Blocks 7 & 22 Zinfandel (Napa Valley)  \n",
              "\n",
              "[36908 rows x 5 columns]"
            ]
          },
          "metadata": {
            "tags": []
          },
          "execution_count": 4
        }
      ]
    },
    {
      "cell_type": "markdown",
      "metadata": {
        "id": "b01Gwq-zSMjD"
      },
      "source": [
        "#### From looking at the _designation_, _title_, _winery_ and _variety_ columns, it seems like there are some missing values that we could impute by ourselves to the _designation_. Why is that true? because the _title_ column, when _designation_ is filled, designed like the following:\n",
        "\n",
        "Let $t_i$ be the value of _title_ in row $i$, so: $\\\\$\n",
        "$t_i$ = $x_i$ ... $y$ ... $w_i$ ... $z_i$ ... ($v_i$) where: \n",
        "\n",
        "- $x_i = $ the value of _winery_ in row $i$\n",
        "- $y \\in \\mathbb{N}$ a year\n",
        "- $w_i = $ the value of _designation_ in row $i$\n",
        "- $z_i = $ the value of _variety_ in row $i$\n",
        "- $v_i = $ the value of _province_ in row $i$\n",
        "\n",
        "#### However, when _designation_ is not filled, the _title_ column designed like the following:\n",
        "\n",
        "Let $t_i$ be the value of _title_ in row $i$, so: $\\\\$\n",
        "$t_i$ = $x_i$ ... $y$ ... $w_i$ ... ($z_i$) where: \n",
        "\n",
        "- $x_i = $ the value of _winery_ in row $i$\n",
        "- $y \\in \\mathbb{N}$ a year\n",
        "- $w_i = $ the value of _variety_ in row $i$\n",
        "- $z_i = $ the value of _province_ in row $i$\n",
        "\n",
        "#### Which means that the right way of imputation to the column is by setting the missing values to \"Unknown\"."
      ]
    },
    {
      "cell_type": "code",
      "metadata": {
        "id": "JzZdOUInSMjD"
      },
      "source": [
        "x['designation'] = x['designation'].fillna(value='unknown') "
      ],
      "execution_count": null,
      "outputs": []
    },
    {
      "cell_type": "code",
      "metadata": {
        "id": "SCIrHqUhSMjD",
        "outputId": "5249c117-d4f1-46cb-930d-61ca7226b7dc"
      },
      "source": [
        "x.isna().sum()"
      ],
      "execution_count": null,
      "outputs": [
        {
          "output_type": "execute_result",
          "data": {
            "text/plain": [
              "description                  0\n",
              "designation                  0\n",
              "price                      239\n",
              "province                     0\n",
              "region_1                   278\n",
              "region_2                  3993\n",
              "taster_name              16774\n",
              "taster_twitter_handle    19763\n",
              "title                        0\n",
              "variety                      0\n",
              "winery                       0\n",
              "dtype: int64"
            ]
          },
          "metadata": {
            "tags": []
          },
          "execution_count": 5
        }
      ]
    },
    {
      "cell_type": "code",
      "metadata": {
        "id": "Shq79Yy7SMjE",
        "outputId": "8a69681e-e97a-4a78-92d0-b6a7fa8ccd3d"
      },
      "source": [
        "x.loc[x['region_1'].isna(), ['province', 'region_1', 'region_2','title']]"
      ],
      "execution_count": null,
      "outputs": [
        {
          "output_type": "execute_result",
          "data": {
            "text/html": [
              "<div>\n",
              "<style scoped>\n",
              "    .dataframe tbody tr th:only-of-type {\n",
              "        vertical-align: middle;\n",
              "    }\n",
              "\n",
              "    .dataframe tbody tr th {\n",
              "        vertical-align: top;\n",
              "    }\n",
              "\n",
              "    .dataframe thead th {\n",
              "        text-align: right;\n",
              "    }\n",
              "</style>\n",
              "<table border=\"1\" class=\"dataframe\">\n",
              "  <thead>\n",
              "    <tr style=\"text-align: right;\">\n",
              "      <th></th>\n",
              "      <th>province</th>\n",
              "      <th>region_1</th>\n",
              "      <th>region_2</th>\n",
              "      <th>title</th>\n",
              "    </tr>\n",
              "  </thead>\n",
              "  <tbody>\n",
              "    <tr>\n",
              "      <th>254</th>\n",
              "      <td>Idaho</td>\n",
              "      <td>NaN</td>\n",
              "      <td>NaN</td>\n",
              "      <td>Coiled 2009 Sidewinder Red</td>\n",
              "    </tr>\n",
              "    <tr>\n",
              "      <th>255</th>\n",
              "      <td>Idaho</td>\n",
              "      <td>NaN</td>\n",
              "      <td>NaN</td>\n",
              "      <td>Coiled 2010 Black Mamba Red</td>\n",
              "    </tr>\n",
              "    <tr>\n",
              "      <th>638</th>\n",
              "      <td>America</td>\n",
              "      <td>NaN</td>\n",
              "      <td>NaN</td>\n",
              "      <td>Gruet NV Blanc de Blancs Chardonnay (America)</td>\n",
              "    </tr>\n",
              "    <tr>\n",
              "      <th>692</th>\n",
              "      <td>Idaho</td>\n",
              "      <td>NaN</td>\n",
              "      <td>NaN</td>\n",
              "      <td>Koenig Vineyards 2011 Ice Wine Riesling</td>\n",
              "    </tr>\n",
              "    <tr>\n",
              "      <th>930</th>\n",
              "      <td>America</td>\n",
              "      <td>NaN</td>\n",
              "      <td>NaN</td>\n",
              "      <td>Biltmore Estate NV Blanc de Noir Brut Sparklin...</td>\n",
              "    </tr>\n",
              "    <tr>\n",
              "      <th>...</th>\n",
              "      <td>...</td>\n",
              "      <td>...</td>\n",
              "      <td>...</td>\n",
              "      <td>...</td>\n",
              "    </tr>\n",
              "    <tr>\n",
              "      <th>53893</th>\n",
              "      <td>Idaho</td>\n",
              "      <td>NaN</td>\n",
              "      <td>NaN</td>\n",
              "      <td>Cinder 2014 Syrah</td>\n",
              "    </tr>\n",
              "    <tr>\n",
              "      <th>53920</th>\n",
              "      <td>America</td>\n",
              "      <td>NaN</td>\n",
              "      <td>NaN</td>\n",
              "      <td>BBQ Wine Company NV Oink! Red (America)</td>\n",
              "    </tr>\n",
              "    <tr>\n",
              "      <th>53921</th>\n",
              "      <td>America</td>\n",
              "      <td>NaN</td>\n",
              "      <td>NaN</td>\n",
              "      <td>BBQ Wine Company NV Oink! White (America)</td>\n",
              "    </tr>\n",
              "    <tr>\n",
              "      <th>54283</th>\n",
              "      <td>America</td>\n",
              "      <td>NaN</td>\n",
              "      <td>NaN</td>\n",
              "      <td>Sokol Blosser NV Evolution Brut Sparkling (Ame...</td>\n",
              "    </tr>\n",
              "    <tr>\n",
              "      <th>54294</th>\n",
              "      <td>Washington-Oregon</td>\n",
              "      <td>NaN</td>\n",
              "      <td>NaN</td>\n",
              "      <td>ENSO NV Resonate White #5 Pinot Gris (Washingt...</td>\n",
              "    </tr>\n",
              "  </tbody>\n",
              "</table>\n",
              "<p>278 rows × 4 columns</p>\n",
              "</div>"
            ],
            "text/plain": [
              "                province region_1 region_2  \\\n",
              "254                Idaho      NaN      NaN   \n",
              "255                Idaho      NaN      NaN   \n",
              "638              America      NaN      NaN   \n",
              "692                Idaho      NaN      NaN   \n",
              "930              America      NaN      NaN   \n",
              "...                  ...      ...      ...   \n",
              "53893              Idaho      NaN      NaN   \n",
              "53920            America      NaN      NaN   \n",
              "53921            America      NaN      NaN   \n",
              "54283            America      NaN      NaN   \n",
              "54294  Washington-Oregon      NaN      NaN   \n",
              "\n",
              "                                                   title  \n",
              "254                           Coiled 2009 Sidewinder Red  \n",
              "255                          Coiled 2010 Black Mamba Red  \n",
              "638        Gruet NV Blanc de Blancs Chardonnay (America)  \n",
              "692              Koenig Vineyards 2011 Ice Wine Riesling  \n",
              "930    Biltmore Estate NV Blanc de Noir Brut Sparklin...  \n",
              "...                                                  ...  \n",
              "53893                                  Cinder 2014 Syrah  \n",
              "53920            BBQ Wine Company NV Oink! Red (America)  \n",
              "53921          BBQ Wine Company NV Oink! White (America)  \n",
              "54283  Sokol Blosser NV Evolution Brut Sparkling (Ame...  \n",
              "54294  ENSO NV Resonate White #5 Pinot Gris (Washingt...  \n",
              "\n",
              "[278 rows x 4 columns]"
            ]
          },
          "metadata": {
            "tags": []
          },
          "execution_count": 6
        }
      ]
    },
    {
      "cell_type": "code",
      "metadata": {
        "id": "Ys3IlJABSMjE",
        "outputId": "5f811378-c308-4deb-a026-2fb45ac8092e"
      },
      "source": [
        "np.unique(x.loc[x['region_1'].isna()]['title'].apply(lambda x: x.split('(')[-1][:-1] if len(x.split('(')) > 1 else \"No Clue\"),\n",
        "          return_counts = True)"
      ],
      "execution_count": null,
      "outputs": [
        {
          "output_type": "execute_result",
          "data": {
            "text/plain": [
              "(array(['America', 'No Clue', 'Washington-Oregon'], dtype=object),\n",
              " array([ 95, 176,   7], dtype=int64))"
            ]
          },
          "metadata": {
            "tags": []
          },
          "execution_count": 7
        }
      ]
    },
    {
      "cell_type": "markdown",
      "metadata": {
        "id": "EKRiyWOuSMjE"
      },
      "source": [
        "#### In the case of the rest of the columns contains of missing values, we'll probably have to use an ML algorithm to fill them up, since there's no way for us to do that manually and sufficiently."
      ]
    },
    {
      "cell_type": "code",
      "metadata": {
        "id": "Ft8KqmntSMjE"
      },
      "source": [
        "def get_year(row):\n",
        "    _t = row['title']\n",
        "    _x = row['winery']\n",
        "    _w = row['designation']\n",
        "    _z = row['variety']\n",
        "    _v = row['region_1']\n",
        "    \n",
        "    _words = _t.split(_x)[1][1:].split(' ')\n",
        "    if _words[0].isnumeric():\n",
        "        return int(_words[0])\n",
        "        \n",
        "    elif _words[0] == 'NV':    \n",
        "        if _w == 'unknown':\n",
        "            return np.nan\n",
        "        else:\n",
        "            #print(_w.split(' '))\n",
        "            return np.nan\n",
        "x['year'] = x.apply(lambda z: get_year(z), axis=1)"
      ],
      "execution_count": null,
      "outputs": []
    },
    {
      "cell_type": "code",
      "metadata": {
        "id": "gLjUY6zzSMjE",
        "outputId": "96df61e0-bf93-47c4-90bd-2374fead7aea"
      },
      "source": [
        "description = x['description'].copy()\n",
        "x = x.drop(columns=['description'])\n",
        "x.head(3)"
      ],
      "execution_count": null,
      "outputs": [
        {
          "output_type": "execute_result",
          "data": {
            "text/html": [
              "<div>\n",
              "<style scoped>\n",
              "    .dataframe tbody tr th:only-of-type {\n",
              "        vertical-align: middle;\n",
              "    }\n",
              "\n",
              "    .dataframe tbody tr th {\n",
              "        vertical-align: top;\n",
              "    }\n",
              "\n",
              "    .dataframe thead th {\n",
              "        text-align: right;\n",
              "    }\n",
              "</style>\n",
              "<table border=\"1\" class=\"dataframe\">\n",
              "  <thead>\n",
              "    <tr style=\"text-align: right;\">\n",
              "      <th></th>\n",
              "      <th>designation</th>\n",
              "      <th>price</th>\n",
              "      <th>province</th>\n",
              "      <th>region_1</th>\n",
              "      <th>region_2</th>\n",
              "      <th>taster_name</th>\n",
              "      <th>taster_twitter_handle</th>\n",
              "      <th>title</th>\n",
              "      <th>variety</th>\n",
              "      <th>winery</th>\n",
              "      <th>year</th>\n",
              "    </tr>\n",
              "  </thead>\n",
              "  <tbody>\n",
              "    <tr>\n",
              "      <th>0</th>\n",
              "      <td>unknown</td>\n",
              "      <td>14.0</td>\n",
              "      <td>Oregon</td>\n",
              "      <td>Willamette Valley</td>\n",
              "      <td>Willamette Valley</td>\n",
              "      <td>Paul Gregutt</td>\n",
              "      <td>@paulgwine</td>\n",
              "      <td>Rainstorm 2013 Pinot Gris (Willamette Valley)</td>\n",
              "      <td>Pinot Gris</td>\n",
              "      <td>Rainstorm</td>\n",
              "      <td>2013.0</td>\n",
              "    </tr>\n",
              "    <tr>\n",
              "      <th>1</th>\n",
              "      <td>Reserve Late Harvest</td>\n",
              "      <td>13.0</td>\n",
              "      <td>Michigan</td>\n",
              "      <td>Lake Michigan Shore</td>\n",
              "      <td>NaN</td>\n",
              "      <td>Alexander Peartree</td>\n",
              "      <td>NaN</td>\n",
              "      <td>St. Julian 2013 Reserve Late Harvest Riesling ...</td>\n",
              "      <td>Riesling</td>\n",
              "      <td>St. Julian</td>\n",
              "      <td>2013.0</td>\n",
              "    </tr>\n",
              "    <tr>\n",
              "      <th>2</th>\n",
              "      <td>Vintner's Reserve Wild Child Block</td>\n",
              "      <td>65.0</td>\n",
              "      <td>Oregon</td>\n",
              "      <td>Willamette Valley</td>\n",
              "      <td>Willamette Valley</td>\n",
              "      <td>Paul Gregutt</td>\n",
              "      <td>@paulgwine</td>\n",
              "      <td>Sweet Cheeks 2012 Vintner's Reserve Wild Child...</td>\n",
              "      <td>Pinot Noir</td>\n",
              "      <td>Sweet Cheeks</td>\n",
              "      <td>2012.0</td>\n",
              "    </tr>\n",
              "  </tbody>\n",
              "</table>\n",
              "</div>"
            ],
            "text/plain": [
              "                          designation  price  province             region_1  \\\n",
              "0                             unknown   14.0    Oregon    Willamette Valley   \n",
              "1                Reserve Late Harvest   13.0  Michigan  Lake Michigan Shore   \n",
              "2  Vintner's Reserve Wild Child Block   65.0    Oregon    Willamette Valley   \n",
              "\n",
              "            region_2         taster_name taster_twitter_handle  \\\n",
              "0  Willamette Valley        Paul Gregutt           @paulgwine    \n",
              "1                NaN  Alexander Peartree                   NaN   \n",
              "2  Willamette Valley        Paul Gregutt           @paulgwine    \n",
              "\n",
              "                                               title     variety  \\\n",
              "0      Rainstorm 2013 Pinot Gris (Willamette Valley)  Pinot Gris   \n",
              "1  St. Julian 2013 Reserve Late Harvest Riesling ...    Riesling   \n",
              "2  Sweet Cheeks 2012 Vintner's Reserve Wild Child...  Pinot Noir   \n",
              "\n",
              "         winery    year  \n",
              "0     Rainstorm  2013.0  \n",
              "1    St. Julian  2013.0  \n",
              "2  Sweet Cheeks  2012.0  "
            ]
          },
          "metadata": {
            "tags": []
          },
          "execution_count": 9
        }
      ]
    },
    {
      "cell_type": "code",
      "metadata": {
        "id": "LItN-Z7USMjF",
        "outputId": "912e6248-18fa-4f8f-c1e0-ddab9a3fcab0"
      },
      "source": [
        "temp_df = x.apply(lambda z: z.astype('category').cat.codes if z.dtype == object else z)\n",
        "temp_df['points'] = y.copy()\n",
        "plt.figure(figsize=(10, 10))\n",
        "plt.title('Correlation of All Features',y=1,size=16)\n",
        "sns.heatmap(temp_df.corr().abs(), vmax=1, vmin=0, ax=plt.gca())\n",
        "plt.show()\n",
        "temp_df = None"
      ],
      "execution_count": null,
      "outputs": [
        {
          "output_type": "display_data",
          "data": {
            "image/png": "[encoded data removed]",
            "text/plain": [
              "<Figure size 720x720 with 2 Axes>"
            ]
          },
          "metadata": {
            "tags": [],
            "needs_background": "light"
          }
        }
      ]
    },
    {
      "cell_type": "markdown",
      "metadata": {
        "id": "a50XzXAjSMjF"
      },
      "source": [
        "#### We can tell there are features that highly correlated with our target:\n",
        "- _year_\n",
        "- _price_\n",
        "#### In addition, since any possible information has been extracted from _title_, we feel like this feature is a bit redundant, as well as the _taster_twitter_handle_ feature."
      ]
    },
    {
      "cell_type": "code",
      "metadata": {
        "id": "JDIkAYpKSMjF",
        "outputId": "7fab62ca-2a10-4398-9b98-f31bb34132ed"
      },
      "source": [
        "x = x.drop(columns=['title', 'taster_twitter_handle'])\n",
        "x.head(3)"
      ],
      "execution_count": null,
      "outputs": [
        {
          "output_type": "execute_result",
          "data": {
            "text/html": [
              "<div>\n",
              "<style scoped>\n",
              "    .dataframe tbody tr th:only-of-type {\n",
              "        vertical-align: middle;\n",
              "    }\n",
              "\n",
              "    .dataframe tbody tr th {\n",
              "        vertical-align: top;\n",
              "    }\n",
              "\n",
              "    .dataframe thead th {\n",
              "        text-align: right;\n",
              "    }\n",
              "</style>\n",
              "<table border=\"1\" class=\"dataframe\">\n",
              "  <thead>\n",
              "    <tr style=\"text-align: right;\">\n",
              "      <th></th>\n",
              "      <th>designation</th>\n",
              "      <th>price</th>\n",
              "      <th>province</th>\n",
              "      <th>region_1</th>\n",
              "      <th>region_2</th>\n",
              "      <th>taster_name</th>\n",
              "      <th>variety</th>\n",
              "      <th>winery</th>\n",
              "      <th>year</th>\n",
              "    </tr>\n",
              "  </thead>\n",
              "  <tbody>\n",
              "    <tr>\n",
              "      <th>0</th>\n",
              "      <td>unknown</td>\n",
              "      <td>14.0</td>\n",
              "      <td>Oregon</td>\n",
              "      <td>Willamette Valley</td>\n",
              "      <td>Willamette Valley</td>\n",
              "      <td>Paul Gregutt</td>\n",
              "      <td>Pinot Gris</td>\n",
              "      <td>Rainstorm</td>\n",
              "      <td>2013.0</td>\n",
              "    </tr>\n",
              "    <tr>\n",
              "      <th>1</th>\n",
              "      <td>Reserve Late Harvest</td>\n",
              "      <td>13.0</td>\n",
              "      <td>Michigan</td>\n",
              "      <td>Lake Michigan Shore</td>\n",
              "      <td>NaN</td>\n",
              "      <td>Alexander Peartree</td>\n",
              "      <td>Riesling</td>\n",
              "      <td>St. Julian</td>\n",
              "      <td>2013.0</td>\n",
              "    </tr>\n",
              "    <tr>\n",
              "      <th>2</th>\n",
              "      <td>Vintner's Reserve Wild Child Block</td>\n",
              "      <td>65.0</td>\n",
              "      <td>Oregon</td>\n",
              "      <td>Willamette Valley</td>\n",
              "      <td>Willamette Valley</td>\n",
              "      <td>Paul Gregutt</td>\n",
              "      <td>Pinot Noir</td>\n",
              "      <td>Sweet Cheeks</td>\n",
              "      <td>2012.0</td>\n",
              "    </tr>\n",
              "  </tbody>\n",
              "</table>\n",
              "</div>"
            ],
            "text/plain": [
              "                          designation  price  province             region_1  \\\n",
              "0                             unknown   14.0    Oregon    Willamette Valley   \n",
              "1                Reserve Late Harvest   13.0  Michigan  Lake Michigan Shore   \n",
              "2  Vintner's Reserve Wild Child Block   65.0    Oregon    Willamette Valley   \n",
              "\n",
              "            region_2         taster_name     variety        winery    year  \n",
              "0  Willamette Valley        Paul Gregutt  Pinot Gris     Rainstorm  2013.0  \n",
              "1                NaN  Alexander Peartree    Riesling    St. Julian  2013.0  \n",
              "2  Willamette Valley        Paul Gregutt  Pinot Noir  Sweet Cheeks  2012.0  "
            ]
          },
          "metadata": {
            "tags": []
          },
          "execution_count": 11
        }
      ]
    },
    {
      "cell_type": "code",
      "metadata": {
        "id": "mFKPN_SlSMjF"
      },
      "source": [
        "from sklearn.model_selection import train_test_split\n",
        "from sklearn.linear_model import LogisticRegression as LR\n",
        "from sklearn.preprocessing import StandardScaler\n",
        "from sklearn.impute import KNNImputer\n",
        "from sklearn.model_selection import GridSearchCV"
      ],
      "execution_count": null,
      "outputs": []
    },
    {
      "cell_type": "code",
      "metadata": {
        "id": "jVo-eC8wSMjF",
        "outputId": "cd62edb1-fe2b-4cf5-cdf9-97a852900caa"
      },
      "source": [
        "for c in x:\n",
        "    print(f'in {c} there are {len(x[c].unique())} unique values')"
      ],
      "execution_count": null,
      "outputs": [
        {
          "output_type": "stream",
          "text": [
            "in designation there are 14184 unique values\n",
            "in price there are 161 unique values\n",
            "in province there are 27 unique values\n",
            "in region_1 there are 265 unique values\n",
            "in region_2 there are 18 unique values\n",
            "in taster_name there are 16 unique values\n",
            "in variety there are 257 unique values\n",
            "in winery there are 5375 unique values\n",
            "in year there are 32 unique values\n"
          ],
          "name": "stdout"
        }
      ]
    },
    {
      "cell_type": "code",
      "metadata": {
        "id": "fvdzNP4HSMjG"
      },
      "source": [
        "#to_one_hot = ['']"
      ],
      "execution_count": null,
      "outputs": []
    },
    {
      "cell_type": "code",
      "metadata": {
        "id": "1xWlo7sPSMjG",
        "outputId": "30429c35-f342-45f2-db14-24d8e6313bff"
      },
      "source": [
        "tdf = make_pipeline(KNNImputer(n_neighbors=3)).fit_transform(x.apply(lambda z: z.astype('category').cat.codes if z.dtype == object else z).copy())\n",
        "x = pd.DataFrame(tdf, columns=x.columns)\n",
        "tdf = None\n",
        "x.head(3)"
      ],
      "execution_count": null,
      "outputs": [
        {
          "output_type": "execute_result",
          "data": {
            "text/html": [
              "<div>\n",
              "<style scoped>\n",
              "    .dataframe tbody tr th:only-of-type {\n",
              "        vertical-align: middle;\n",
              "    }\n",
              "\n",
              "    .dataframe tbody tr th {\n",
              "        vertical-align: top;\n",
              "    }\n",
              "\n",
              "    .dataframe thead th {\n",
              "        text-align: right;\n",
              "    }\n",
              "</style>\n",
              "<table border=\"1\" class=\"dataframe\">\n",
              "  <thead>\n",
              "    <tr style=\"text-align: right;\">\n",
              "      <th></th>\n",
              "      <th>designation</th>\n",
              "      <th>price</th>\n",
              "      <th>province</th>\n",
              "      <th>region_1</th>\n",
              "      <th>region_2</th>\n",
              "      <th>taster_name</th>\n",
              "      <th>variety</th>\n",
              "      <th>winery</th>\n",
              "      <th>year</th>\n",
              "    </tr>\n",
              "  </thead>\n",
              "  <tbody>\n",
              "    <tr>\n",
              "      <th>0</th>\n",
              "      <td>14162.0</td>\n",
              "      <td>14.0</td>\n",
              "      <td>19.0</td>\n",
              "      <td>256.0</td>\n",
              "      <td>16.0</td>\n",
              "      <td>10.0</td>\n",
              "      <td>154.0</td>\n",
              "      <td>3819.0</td>\n",
              "      <td>2013.0</td>\n",
              "    </tr>\n",
              "    <tr>\n",
              "      <th>1</th>\n",
              "      <td>9990.0</td>\n",
              "      <td>13.0</td>\n",
              "      <td>11.0</td>\n",
              "      <td>88.0</td>\n",
              "      <td>-1.0</td>\n",
              "      <td>0.0</td>\n",
              "      <td>171.0</td>\n",
              "      <td>4475.0</td>\n",
              "      <td>2013.0</td>\n",
              "    </tr>\n",
              "    <tr>\n",
              "      <th>2</th>\n",
              "      <td>13436.0</td>\n",
              "      <td>65.0</td>\n",
              "      <td>19.0</td>\n",
              "      <td>256.0</td>\n",
              "      <td>16.0</td>\n",
              "      <td>10.0</td>\n",
              "      <td>158.0</td>\n",
              "      <td>4606.0</td>\n",
              "      <td>2012.0</td>\n",
              "    </tr>\n",
              "  </tbody>\n",
              "</table>\n",
              "</div>"
            ],
            "text/plain": [
              "   designation  price  province  region_1  region_2  taster_name  variety  \\\n",
              "0      14162.0   14.0      19.0     256.0      16.0         10.0    154.0   \n",
              "1       9990.0   13.0      11.0      88.0      -1.0          0.0    171.0   \n",
              "2      13436.0   65.0      19.0     256.0      16.0         10.0    158.0   \n",
              "\n",
              "   winery    year  \n",
              "0  3819.0  2013.0  \n",
              "1  4475.0  2013.0  \n",
              "2  4606.0  2012.0  "
            ]
          },
          "metadata": {
            "tags": []
          },
          "execution_count": 14
        }
      ]
    },
    {
      "cell_type": "code",
      "metadata": {
        "id": "jVpR9Kj2SMjG"
      },
      "source": [
        "vect = make_pipeline(CountVectorizer(stop_words='english'), TfidfTransformer())\n",
        "description = vect.fit_transform(description)"
      ],
      "execution_count": null,
      "outputs": []
    },
    {
      "cell_type": "code",
      "metadata": {
        "id": "FYNv7AjSSMjG",
        "outputId": "003938a6-5ecb-42d7-d500-042a6ca72423"
      },
      "source": [
        "cols = x.columns\n",
        "description = description.todense()\n",
        "description = pd.DataFrame(description)\n",
        "description[cols] = x.copy()\n",
        "description.head(3)"
      ],
      "execution_count": null,
      "outputs": [
        {
          "output_type": "execute_result",
          "data": {
            "text/html": [
              "<div>\n",
              "<style scoped>\n",
              "    .dataframe tbody tr th:only-of-type {\n",
              "        vertical-align: middle;\n",
              "    }\n",
              "\n",
              "    .dataframe tbody tr th {\n",
              "        vertical-align: top;\n",
              "    }\n",
              "\n",
              "    .dataframe thead th {\n",
              "        text-align: right;\n",
              "    }\n",
              "</style>\n",
              "<table border=\"1\" class=\"dataframe\">\n",
              "  <thead>\n",
              "    <tr style=\"text-align: right;\">\n",
              "      <th></th>\n",
              "      <th>0</th>\n",
              "      <th>1</th>\n",
              "      <th>2</th>\n",
              "      <th>3</th>\n",
              "      <th>4</th>\n",
              "      <th>5</th>\n",
              "      <th>6</th>\n",
              "      <th>7</th>\n",
              "      <th>8</th>\n",
              "      <th>9</th>\n",
              "      <th>...</th>\n",
              "      <th>19286</th>\n",
              "      <th>designation</th>\n",
              "      <th>price</th>\n",
              "      <th>province</th>\n",
              "      <th>region_1</th>\n",
              "      <th>region_2</th>\n",
              "      <th>taster_name</th>\n",
              "      <th>variety</th>\n",
              "      <th>winery</th>\n",
              "      <th>year</th>\n",
              "    </tr>\n",
              "  </thead>\n",
              "  <tbody>\n",
              "    <tr>\n",
              "      <th>0</th>\n",
              "      <td>0.0</td>\n",
              "      <td>0.0</td>\n",
              "      <td>0.0</td>\n",
              "      <td>0.0</td>\n",
              "      <td>0.0</td>\n",
              "      <td>0.0</td>\n",
              "      <td>0.0</td>\n",
              "      <td>0.0</td>\n",
              "      <td>0.0</td>\n",
              "      <td>0.0</td>\n",
              "      <td>...</td>\n",
              "      <td>0.0</td>\n",
              "      <td>14162.0</td>\n",
              "      <td>14.0</td>\n",
              "      <td>19.0</td>\n",
              "      <td>256.0</td>\n",
              "      <td>16.0</td>\n",
              "      <td>10.0</td>\n",
              "      <td>154.0</td>\n",
              "      <td>3819.0</td>\n",
              "      <td>2013.0</td>\n",
              "    </tr>\n",
              "    <tr>\n",
              "      <th>1</th>\n",
              "      <td>0.0</td>\n",
              "      <td>0.0</td>\n",
              "      <td>0.0</td>\n",
              "      <td>0.0</td>\n",
              "      <td>0.0</td>\n",
              "      <td>0.0</td>\n",
              "      <td>0.0</td>\n",
              "      <td>0.0</td>\n",
              "      <td>0.0</td>\n",
              "      <td>0.0</td>\n",
              "      <td>...</td>\n",
              "      <td>0.0</td>\n",
              "      <td>9990.0</td>\n",
              "      <td>13.0</td>\n",
              "      <td>11.0</td>\n",
              "      <td>88.0</td>\n",
              "      <td>-1.0</td>\n",
              "      <td>0.0</td>\n",
              "      <td>171.0</td>\n",
              "      <td>4475.0</td>\n",
              "      <td>2013.0</td>\n",
              "    </tr>\n",
              "    <tr>\n",
              "      <th>2</th>\n",
              "      <td>0.0</td>\n",
              "      <td>0.0</td>\n",
              "      <td>0.0</td>\n",
              "      <td>0.0</td>\n",
              "      <td>0.0</td>\n",
              "      <td>0.0</td>\n",
              "      <td>0.0</td>\n",
              "      <td>0.0</td>\n",
              "      <td>0.0</td>\n",
              "      <td>0.0</td>\n",
              "      <td>...</td>\n",
              "      <td>0.0</td>\n",
              "      <td>13436.0</td>\n",
              "      <td>65.0</td>\n",
              "      <td>19.0</td>\n",
              "      <td>256.0</td>\n",
              "      <td>16.0</td>\n",
              "      <td>10.0</td>\n",
              "      <td>158.0</td>\n",
              "      <td>4606.0</td>\n",
              "      <td>2012.0</td>\n",
              "    </tr>\n",
              "  </tbody>\n",
              "</table>\n",
              "<p>3 rows × 19296 columns</p>\n",
              "</div>"
            ],
            "text/plain": [
              "     0    1    2    3    4    5    6    7    8    9  ...  19286  designation  \\\n",
              "0  0.0  0.0  0.0  0.0  0.0  0.0  0.0  0.0  0.0  0.0  ...    0.0      14162.0   \n",
              "1  0.0  0.0  0.0  0.0  0.0  0.0  0.0  0.0  0.0  0.0  ...    0.0       9990.0   \n",
              "2  0.0  0.0  0.0  0.0  0.0  0.0  0.0  0.0  0.0  0.0  ...    0.0      13436.0   \n",
              "\n",
              "   price  province  region_1  region_2  taster_name  variety  winery    year  \n",
              "0   14.0      19.0     256.0      16.0         10.0    154.0  3819.0  2013.0  \n",
              "1   13.0      11.0      88.0      -1.0          0.0    171.0  4475.0  2013.0  \n",
              "2   65.0      19.0     256.0      16.0         10.0    158.0  4606.0  2012.0  \n",
              "\n",
              "[3 rows x 19296 columns]"
            ]
          },
          "metadata": {
            "tags": []
          },
          "execution_count": 16
        }
      ]
    },
    {
      "cell_type": "code",
      "metadata": {
        "id": "mmKtF-gKSMjG",
        "outputId": "c3901289-b72c-4e64-e8cc-61d785fca1bb"
      },
      "source": [
        "from sklearn.feature_selection import SelectKBest, mutual_info_classif\n",
        "scores = SelectKBest(mutual_info_classif, k='all')\n",
        "scores.fit(x, y)\n",
        "scores = pd.DataFrame(data=scores.scores_, columns=['$MI$'])\n",
        "scores['column'] = cols\n",
        "scores"
      ],
      "execution_count": null,
      "outputs": [
        {
          "output_type": "execute_result",
          "data": {
            "text/html": [
              "<div>\n",
              "<style scoped>\n",
              "    .dataframe tbody tr th:only-of-type {\n",
              "        vertical-align: middle;\n",
              "    }\n",
              "\n",
              "    .dataframe tbody tr th {\n",
              "        vertical-align: top;\n",
              "    }\n",
              "\n",
              "    .dataframe thead th {\n",
              "        text-align: right;\n",
              "    }\n",
              "</style>\n",
              "<table border=\"1\" class=\"dataframe\">\n",
              "  <thead>\n",
              "    <tr style=\"text-align: right;\">\n",
              "      <th></th>\n",
              "      <th>$MI$</th>\n",
              "      <th>column</th>\n",
              "    </tr>\n",
              "  </thead>\n",
              "  <tbody>\n",
              "    <tr>\n",
              "      <th>0</th>\n",
              "      <td>0.125968</td>\n",
              "      <td>designation</td>\n",
              "    </tr>\n",
              "    <tr>\n",
              "      <th>1</th>\n",
              "      <td>0.201089</td>\n",
              "      <td>price</td>\n",
              "    </tr>\n",
              "    <tr>\n",
              "      <th>2</th>\n",
              "      <td>0.039007</td>\n",
              "      <td>province</td>\n",
              "    </tr>\n",
              "    <tr>\n",
              "      <th>3</th>\n",
              "      <td>0.134566</td>\n",
              "      <td>region_1</td>\n",
              "    </tr>\n",
              "    <tr>\n",
              "      <th>4</th>\n",
              "      <td>0.067164</td>\n",
              "      <td>region_2</td>\n",
              "    </tr>\n",
              "    <tr>\n",
              "      <th>5</th>\n",
              "      <td>0.090367</td>\n",
              "      <td>taster_name</td>\n",
              "    </tr>\n",
              "    <tr>\n",
              "      <th>6</th>\n",
              "      <td>0.055739</td>\n",
              "      <td>variety</td>\n",
              "    </tr>\n",
              "    <tr>\n",
              "      <th>7</th>\n",
              "      <td>0.270988</td>\n",
              "      <td>winery</td>\n",
              "    </tr>\n",
              "    <tr>\n",
              "      <th>8</th>\n",
              "      <td>0.045489</td>\n",
              "      <td>year</td>\n",
              "    </tr>\n",
              "  </tbody>\n",
              "</table>\n",
              "</div>"
            ],
            "text/plain": [
              "       $MI$       column\n",
              "0  0.125968  designation\n",
              "1  0.201089        price\n",
              "2  0.039007     province\n",
              "3  0.134566     region_1\n",
              "4  0.067164     region_2\n",
              "5  0.090367  taster_name\n",
              "6  0.055739      variety\n",
              "7  0.270988       winery\n",
              "8  0.045489         year"
            ]
          },
          "metadata": {
            "tags": []
          },
          "execution_count": 17
        }
      ]
    },
    {
      "cell_type": "markdown",
      "metadata": {
        "id": "185DI_uqSMjH"
      },
      "source": [
        "Now, let's summarize what we've done so far:"
      ]
    },
    {
      "cell_type": "code",
      "metadata": {
        "id": "zXc-uamGSMjH",
        "outputId": "4f76785a-cf22-443c-c806-ce0732759c72"
      },
      "source": [
        "%%time\n",
        "import pandas as pd\n",
        "import numpy as np\n",
        "from sklearn.feature_extraction.text import TfidfTransformer, CountVectorizer\n",
        "from sklearn.pipeline import make_pipeline, Pipeline\n",
        "from sklearn.model_selection import train_test_split\n",
        "from sklearn.linear_model import LogisticRegression as LR\n",
        "from sklearn.preprocessing import StandardScaler\n",
        "from sklearn.impute import KNNImputer\n",
        "from sklearn.metrics import roc_auc_score, classification_report\n",
        "from time import time\n",
        "from sklearn.compose import make_column_transformer\n",
        "\n",
        "x = pd.read_csv('winemag-data-130k-v2.csv', index_col=0)\n",
        "x = x.loc[x['country'] == 'US']\n",
        "x = x.reset_index(drop=True)\n",
        "y = x['points']\n",
        "x.drop(columns=['points', 'country'], inplace=True)\n",
        "x['designation'] = x['designation'].fillna(value='unknown')\n",
        "def get_year(row):\n",
        "    _t = row['title']\n",
        "    _x = row['winery']\n",
        "    _w = row['designation']\n",
        "    _z = row['variety']\n",
        "    _v = row['region_1']\n",
        "    \n",
        "    _words = _t.split(_x)[1][1:].split(' ')\n",
        "    if _words[0].isnumeric():\n",
        "        return int(_words[0])\n",
        "        \n",
        "    elif _words[0] == 'NV':    \n",
        "        if _w == 'unknown':\n",
        "            return np.nan\n",
        "        else:\n",
        "            return np.nan\n",
        "x['year'] = x.apply(lambda z: get_year(z), axis=1)\n",
        "description = x['description'].copy()\n",
        "x = x.drop(columns=['description', 'title', 'taster_twitter_handle'])\n",
        "tdf = make_pipeline(KNNImputer(n_neighbors=3)).fit_transform(x.apply(lambda z: z.astype('category').cat.codes if z.dtype == object else z).copy())\n",
        "x = pd.DataFrame(tdf, columns=x.columns)\n",
        "tdf = None\n",
        "x['description'] = description\n",
        "cols = x.columns\n",
        "description = None"
      ],
      "execution_count": null,
      "outputs": [
        {
          "output_type": "stream",
          "text": [
            "Wall time: 12.4 s\n"
          ],
          "name": "stdout"
        }
      ]
    },
    {
      "cell_type": "code",
      "metadata": {
        "id": "2A5GdDsESMjH"
      },
      "source": [
        "from sklearn.base import BaseEstimator, TransformerMixin\n",
        "class TextProcessor(BaseEstimator, TransformerMixin):\n",
        "    def __init__(self):\n",
        "        self.text_transformer = make_pipeline(CountVectorizer(stop_words='english'), TfidfTransformer())\n",
        "       \n",
        "    def fit(self, X, y=None):\n",
        "        return self.text_transformer.fit(X, y)\n",
        "\n",
        "    def transform(self, X, y=None):\n",
        "        return self.text_transformer.transform(X.squeeze()).toarray()\n",
        "    \n",
        "    def fit_transform(self, X, y=None):\n",
        "        return self.text_transformer.fit_transform(X.squeeze()).toarray()\n",
        "\n",
        "transformer = make_column_transformer((TextProcessor(), ['description']), (StandardScaler(), cols.drop('description')))"
      ],
      "execution_count": null,
      "outputs": []
    },
    {
      "cell_type": "code",
      "metadata": {
        "id": "uELUtGP6SMjH",
        "outputId": "35e7bfd0-72ec-4510-b0f0-07a159631c7a"
      },
      "source": [
        "%%time\n",
        "x_train, x_test, y_train, y_test = train_test_split(x, y, test_size=0.3, stratify=y)"
      ],
      "execution_count": null,
      "outputs": [
        {
          "output_type": "stream",
          "text": [
            "Wall time: 41.9 ms\n"
          ],
          "name": "stdout"
        }
      ]
    },
    {
      "cell_type": "code",
      "metadata": {
        "id": "ybHL1UgXSMjI"
      },
      "source": [
        "x_train.reset_index(drop=True, inplace=True)\n",
        "x_test.reset_index(drop=True, inplace=True)\n",
        "y_test.reset_index(drop=True, inplace=True)\n",
        "y_train.reset_index(drop=True, inplace=True)"
      ],
      "execution_count": null,
      "outputs": []
    },
    {
      "cell_type": "code",
      "metadata": {
        "id": "yMA4idDVSMjI"
      },
      "source": [
        "from sklearn.model_selection import StratifiedShuffleSplit\n",
        "sss = StratifiedShuffleSplit(n_splits=3, test_size=0.3)"
      ],
      "execution_count": null,
      "outputs": []
    },
    {
      "cell_type": "code",
      "metadata": {
        "id": "aUe-kHciSMjI"
      },
      "source": [
        "%%capture\n",
        "params = np.logspace(-2, 1, 5)[:-1]\n",
        "results = np.zeros((2, 4), dtype=object)\n",
        "for i, _c in enumerate(params):\n",
        "    auc = np.zeros(3)\n",
        "    for j, (x1, x2) in enumerate(sss.split(x_train, y_train)):\n",
        "        t = time()\n",
        "        _x_1 = x_train.iloc[x1]\n",
        "        _x_2 = x_train.iloc[x2]\n",
        "    \n",
        "        _y_1 = y_train[x1]\n",
        "        _y_2 = y_train[x2]\n",
        "        model = Pipeline(steps=[('transformer', transformer), \n",
        "                                ('LR',LR(C=_c, n_jobs=3))]).fit(_x_1, _y_1)\n",
        "        \n",
        "        auc[j] = roc_auc_score(_y_2, model.predict_proba(_x_2), multi_class='ovr')\n",
        "    \n",
        "    results[0, i] = auc.mean()\n",
        "    results[1, i] = auc.std()\n",
        "        "
      ],
      "execution_count": null,
      "outputs": []
    },
    {
      "cell_type": "code",
      "metadata": {
        "id": "8oI29Jy0SMjI",
        "outputId": "75b25c7f-f0bd-4d54-9258-2f347b5d5ede"
      },
      "source": [
        "results[0, :]"
      ],
      "execution_count": null,
      "outputs": [
        {
          "output_type": "execute_result",
          "data": {
            "text/plain": [
              "array([0.736916762920603, 0.8030915582411521, 0.8237142246003075,\n",
              "       0.8035756236306102, 0], dtype=object)"
            ]
          },
          "metadata": {
            "tags": []
          },
          "execution_count": 8
        }
      ]
    },
    {
      "cell_type": "code",
      "metadata": {
        "id": "RhXXKmT6SMjJ",
        "outputId": "16df03d5-c426-4942-bca5-bde1d805ec65"
      },
      "source": [
        "results[1, :]"
      ],
      "execution_count": null,
      "outputs": [
        {
          "output_type": "execute_result",
          "data": {
            "text/plain": [
              "array([0.015181781654675331, 0.0034186740792336513, 0.009229909058309737,\n",
              "       0.013098519932513564, 0], dtype=object)"
            ]
          },
          "metadata": {
            "tags": []
          },
          "execution_count": 12
        }
      ]
    },
    {
      "cell_type": "code",
      "metadata": {
        "id": "4plLlQH5SMjJ"
      },
      "source": [
        "_x_2 = _x_1 = _y_1 = _y_2 = None"
      ],
      "execution_count": null,
      "outputs": []
    },
    {
      "cell_type": "code",
      "metadata": {
        "id": "WwlllFQ5SMjJ",
        "outputId": "7265c043-112f-430f-ed1f-04af7c5b831e"
      },
      "source": [
        "model = Pipeline(steps=[('transformer', transformer), \n",
        "                                ('LR',LR(C=params[2], n_jobs=3, verbose=10))], verbose=10).fit(x_train, y_train)"
      ],
      "execution_count": null,
      "outputs": [
        {
          "output_type": "stream",
          "text": [
            "[Pipeline] ....... (step 1 of 2) Processing transformer, total=   5.5s\n"
          ],
          "name": "stdout"
        },
        {
          "output_type": "stream",
          "text": [
            "[Parallel(n_jobs=3)]: Using backend LokyBackend with 3 concurrent workers.\n",
            "[Parallel(n_jobs=3)]: Done   1 tasks      | elapsed: 12.8min\n",
            "[Parallel(n_jobs=3)]: Done   1 out of   1 | elapsed: 12.8min finished\n"
          ],
          "name": "stderr"
        },
        {
          "output_type": "stream",
          "text": [
            "[Pipeline] ................ (step 2 of 2) Processing LR, total=12.8min\n"
          ],
          "name": "stdout"
        }
      ]
    },
    {
      "cell_type": "code",
      "metadata": {
        "id": "eQQzyabnSMjJ",
        "outputId": "eccae7ef-3541-47ad-e429-c11a991d1a07"
      },
      "source": [
        "print(classification_report(y_test, model.predict(x_test)))\n",
        "print(f\"AUC = {roc_auc_score(y_test, model.predict_proba(x_test), multi_class='ovr')}\")"
      ],
      "execution_count": null,
      "outputs": [
        {
          "output_type": "stream",
          "text": [
            "C:\\Users\\Matan\\anaconda3\\lib\\site-packages\\sklearn\\metrics\\_classification.py:1245: UndefinedMetricWarning: Precision and F-score are ill-defined and being set to 0.0 in labels with no predicted samples. Use `zero_division` parameter to control this behavior.\n",
            "  _warn_prf(average, modifier, msg_start, len(result))\n",
            "C:\\Users\\Matan\\anaconda3\\lib\\site-packages\\sklearn\\metrics\\_classification.py:1245: UndefinedMetricWarning: Precision and F-score are ill-defined and being set to 0.0 in labels with no predicted samples. Use `zero_division` parameter to control this behavior.\n",
            "  _warn_prf(average, modifier, msg_start, len(result))\n",
            "C:\\Users\\Matan\\anaconda3\\lib\\site-packages\\sklearn\\metrics\\_classification.py:1245: UndefinedMetricWarning: Precision and F-score are ill-defined and being set to 0.0 in labels with no predicted samples. Use `zero_division` parameter to control this behavior.\n",
            "  _warn_prf(average, modifier, msg_start, len(result))\n"
          ],
          "name": "stderr"
        },
        {
          "output_type": "stream",
          "text": [
            "              precision    recall  f1-score   support\n",
            "\n",
            "          80       0.00      0.00      0.00        47\n",
            "          81       0.00      0.00      0.00        98\n",
            "          82       0.45      0.17      0.25       303\n",
            "          83       0.28      0.01      0.02       394\n",
            "          84       0.29      0.22      0.25       803\n",
            "          85       0.23      0.13      0.17      1105\n",
            "          86       0.25      0.21      0.23      1478\n",
            "          87       0.25      0.41      0.31      1990\n",
            "          88       0.25      0.39      0.30      2112\n",
            "          89       0.23      0.06      0.10      1325\n",
            "          90       0.25      0.38      0.30      2012\n",
            "          91       0.25      0.23      0.24      1591\n",
            "          92       0.23      0.25      0.24      1354\n",
            "          93       0.23      0.13      0.16       904\n",
            "          94       0.20      0.07      0.11       538\n",
            "          95       0.10      0.01      0.01       193\n",
            "          96       0.00      0.00      0.00        66\n",
            "          97       0.00      0.00      0.00        24\n",
            "          98       0.00      0.00      0.00        10\n",
            "          99       0.00      0.00      0.00         4\n",
            "         100       0.00      0.00      0.00         1\n",
            "\n",
            "    accuracy                           0.25     16352\n",
            "   macro avg       0.17      0.13      0.13     16352\n",
            "weighted avg       0.24      0.25      0.23     16352\n",
            "\n",
            "AUC = 0.8433081788952206\n"
          ],
          "name": "stdout"
        }
      ]
    },
    {
      "cell_type": "markdown",
      "metadata": {
        "id": "DEeQ_bLOSMjJ"
      },
      "source": [
        "So, at this point it seems like we built the best model we've had so far. We cannot try to improve it using SMOTE, as it demands way too much RAM from our machines, so we'll have to accept the results above, although, theoretically, we have a basis to the assumption that balancing our imbalanced data **will** improve our results."
      ]
    },
    {
      "cell_type": "markdown",
      "metadata": {
        "id": "mjJwG63sSMjK"
      },
      "source": [
        "## Task 2 Word Vectors [50pts]\n",
        "\n",
        "Use a pretrained word-embedding (word2vec, glove or fasttext) for featurization instead of the bag-of-words model. Does this improve classification? How about combining the embedded words with the BoW model?"
      ]
    },
    {
      "cell_type": "code",
      "metadata": {
        "id": "ce72hGNnSMjK"
      },
      "source": [
        "# !python -m spacy download en_core_web_sm\n",
        "# !python -m spacy download en_core_web_lg\n",
        "# !pip install \"gensim==4.0.1\""
      ],
      "execution_count": null,
      "outputs": []
    },
    {
      "cell_type": "code",
      "metadata": {
        "id": "37p8WdpeSMjK",
        "outputId": "59550a4a-d28d-49b9-f335-07787a65461c"
      },
      "source": [
        "%%time\n",
        "import pandas as pd\n",
        "import numpy as np\n",
        "from sklearn.pipeline import make_pipeline, Pipeline\n",
        "from sklearn.model_selection import train_test_split\n",
        "from sklearn.linear_model import LogisticRegression as LR\n",
        "from sklearn.preprocessing import StandardScaler\n",
        "from sklearn.impute import KNNImputer\n",
        "from gensim.models import Word2Vec, Doc2Vec\n",
        "from gensim.models.doc2vec import TaggedDocument\n",
        "from gensim.utils import simple_preprocess\n",
        "from sklearn.metrics import roc_auc_score, classification_report\n",
        "from time import time\n",
        "from sklearn.compose import make_column_transformer\n",
        "from sklearn.model_selection import StratifiedShuffleSplit\n",
        "\n",
        "sss = StratifiedShuffleSplit(n_splits=3, test_size=0.3)\n",
        "x = pd.read_csv('winemag-data-130k-v2.csv', index_col=0)\n",
        "x = x.loc[x['country'] == 'US']\n",
        "x = x.reset_index(drop=True)\n",
        "y = x['points']\n",
        "x.drop(columns=['points', 'country'], inplace=True)\n",
        "x['designation'] = x['designation'].fillna(value='unknown')\n",
        "def get_year(row):\n",
        "    _t = row['title']\n",
        "    _x = row['winery']\n",
        "    _w = row['designation']\n",
        "    _z = row['variety']\n",
        "    _v = row['region_1']\n",
        "    \n",
        "    _words = _t.split(_x)[1][1:].split(' ')\n",
        "    if _words[0].isnumeric():\n",
        "        return int(_words[0])\n",
        "        \n",
        "    elif _words[0] == 'NV':    \n",
        "        if _w == 'unknown':\n",
        "            return np.nan\n",
        "        else:\n",
        "            return np.nan\n",
        "x['year'] = x.apply(lambda z: get_year(z), axis=1)\n",
        "description = x['description'].copy()\n",
        "x = x.drop(columns=['description', 'title', 'taster_twitter_handle'])\n",
        "tdf = make_pipeline(KNNImputer(n_neighbors=3)).fit_transform(x.apply(lambda z: z.astype('category').cat.codes if z.dtype == object else z).copy())\n",
        "x = pd.DataFrame(tdf, columns=x.columns)\n",
        "tdf = None\n",
        "x['description'] = description\n",
        "cols = x.columns\n",
        "description = None"
      ],
      "execution_count": null,
      "outputs": [
        {
          "output_type": "stream",
          "text": [
            "C:\\Users\\Matan\\anaconda3\\lib\\site-packages\\gensim\\similarities\\__init__.py:15: UserWarning: The gensim.similarities.levenshtein submodule is disabled, because the optional Levenshtein package <https://pypi.org/project/python-Levenshtein/> is unavailable. Install Levenhstein (e.g. `pip install python-Levenshtein`) to suppress this warning.\n",
            "  warnings.warn(msg)\n"
          ],
          "name": "stderr"
        },
        {
          "output_type": "stream",
          "text": [
            "Wall time: 8.02 s\n"
          ],
          "name": "stdout"
        }
      ]
    },
    {
      "cell_type": "code",
      "metadata": {
        "id": "ln1Wf4qoSMjK",
        "outputId": "67cf7430-c85b-4df6-b232-053535e1c0bc"
      },
      "source": [
        "x.info()\n",
        "x.head(3)"
      ],
      "execution_count": null,
      "outputs": [
        {
          "output_type": "stream",
          "text": [
            "<class 'pandas.core.frame.DataFrame'>\n",
            "RangeIndex: 54504 entries, 0 to 54503\n",
            "Data columns (total 10 columns):\n",
            " #   Column       Non-Null Count  Dtype  \n",
            "---  ------       --------------  -----  \n",
            " 0   designation  54504 non-null  float64\n",
            " 1   price        54504 non-null  float64\n",
            " 2   province     54504 non-null  float64\n",
            " 3   region_1     54504 non-null  float64\n",
            " 4   region_2     54504 non-null  float64\n",
            " 5   taster_name  54504 non-null  float64\n",
            " 6   variety      54504 non-null  float64\n",
            " 7   winery       54504 non-null  float64\n",
            " 8   year         54504 non-null  float64\n",
            " 9   description  54504 non-null  object \n",
            "dtypes: float64(9), object(1)\n",
            "memory usage: 4.2+ MB\n"
          ],
          "name": "stdout"
        },
        {
          "output_type": "execute_result",
          "data": {
            "text/html": [
              "<div>\n",
              "<style scoped>\n",
              "    .dataframe tbody tr th:only-of-type {\n",
              "        vertical-align: middle;\n",
              "    }\n",
              "\n",
              "    .dataframe tbody tr th {\n",
              "        vertical-align: top;\n",
              "    }\n",
              "\n",
              "    .dataframe thead th {\n",
              "        text-align: right;\n",
              "    }\n",
              "</style>\n",
              "<table border=\"1\" class=\"dataframe\">\n",
              "  <thead>\n",
              "    <tr style=\"text-align: right;\">\n",
              "      <th></th>\n",
              "      <th>designation</th>\n",
              "      <th>price</th>\n",
              "      <th>province</th>\n",
              "      <th>region_1</th>\n",
              "      <th>region_2</th>\n",
              "      <th>taster_name</th>\n",
              "      <th>variety</th>\n",
              "      <th>winery</th>\n",
              "      <th>year</th>\n",
              "      <th>description</th>\n",
              "    </tr>\n",
              "  </thead>\n",
              "  <tbody>\n",
              "    <tr>\n",
              "      <th>0</th>\n",
              "      <td>14162.0</td>\n",
              "      <td>14.0</td>\n",
              "      <td>19.0</td>\n",
              "      <td>256.0</td>\n",
              "      <td>16.0</td>\n",
              "      <td>10.0</td>\n",
              "      <td>154.0</td>\n",
              "      <td>3819.0</td>\n",
              "      <td>2013.0</td>\n",
              "      <td>Tart and snappy, the flavors of lime flesh and...</td>\n",
              "    </tr>\n",
              "    <tr>\n",
              "      <th>1</th>\n",
              "      <td>9990.0</td>\n",
              "      <td>13.0</td>\n",
              "      <td>11.0</td>\n",
              "      <td>88.0</td>\n",
              "      <td>-1.0</td>\n",
              "      <td>0.0</td>\n",
              "      <td>171.0</td>\n",
              "      <td>4475.0</td>\n",
              "      <td>2013.0</td>\n",
              "      <td>Pineapple rind, lemon pith and orange blossom ...</td>\n",
              "    </tr>\n",
              "    <tr>\n",
              "      <th>2</th>\n",
              "      <td>13436.0</td>\n",
              "      <td>65.0</td>\n",
              "      <td>19.0</td>\n",
              "      <td>256.0</td>\n",
              "      <td>16.0</td>\n",
              "      <td>10.0</td>\n",
              "      <td>158.0</td>\n",
              "      <td>4606.0</td>\n",
              "      <td>2012.0</td>\n",
              "      <td>Much like the regular bottling from 2012, this...</td>\n",
              "    </tr>\n",
              "  </tbody>\n",
              "</table>\n",
              "</div>"
            ],
            "text/plain": [
              "   designation  price  province  region_1  region_2  taster_name  variety  \\\n",
              "0      14162.0   14.0      19.0     256.0      16.0         10.0    154.0   \n",
              "1       9990.0   13.0      11.0      88.0      -1.0          0.0    171.0   \n",
              "2      13436.0   65.0      19.0     256.0      16.0         10.0    158.0   \n",
              "\n",
              "   winery    year                                        description  \n",
              "0  3819.0  2013.0  Tart and snappy, the flavors of lime flesh and...  \n",
              "1  4475.0  2013.0  Pineapple rind, lemon pith and orange blossom ...  \n",
              "2  4606.0  2012.0  Much like the regular bottling from 2012, this...  "
            ]
          },
          "metadata": {
            "tags": []
          },
          "execution_count": 2
        }
      ]
    },
    {
      "cell_type": "code",
      "metadata": {
        "id": "a-nrzl3DSMjK",
        "outputId": "9f92f7f7-aae4-41c5-c728-63621a26af21"
      },
      "source": [
        "%%time\n",
        "x_train, x_test, y_train, y_test = train_test_split(x, y, test_size=0.3, stratify=y)\n",
        "\n",
        "x_train.reset_index(drop=True, inplace=True)\n",
        "x_test.reset_index(drop=True, inplace=True)\n",
        "y_test.reset_index(drop=True, inplace=True)\n",
        "y_train.reset_index(drop=True, inplace=True)"
      ],
      "execution_count": null,
      "outputs": [
        {
          "output_type": "stream",
          "text": [
            "Wall time: 33.9 ms\n"
          ],
          "name": "stdout"
        }
      ]
    },
    {
      "cell_type": "code",
      "metadata": {
        "id": "8zWg91k4SMjL"
      },
      "source": [
        "from sklearn.base import BaseEstimator, TransformerMixin\n",
        "class D2V(BaseEstimator, TransformerMixin):\n",
        "    def __init__(self, vector_size=5, window=5, min_count=1, epochs=10):\n",
        "        self.model = Doc2Vec(vector_size=vector_size, window=window, min_count=min_count, workers=3)\n",
        "        self.epochs = epochs\n",
        "        self.min_count = min_count\n",
        "        self.window = window\n",
        "        self.vector_size = vector_size\n",
        "       \n",
        "    def fit(self, X, y=None):\n",
        "        _X = [TaggedDocument(simple_preprocess(doc), [i]) for i, doc in enumerate(X.iloc[:, 0])]\n",
        "        self.vocab = _X.copy()\n",
        "        self.model.build_vocab(_X)\n",
        "        self.model.train(_X, total_examples=self.model.corpus_count, epochs=self.epochs)\n",
        "        return self\n",
        "\n",
        "    def transform(self, X, y=None):\n",
        "        _X = [TaggedDocument(simple_preprocess(doc), [i]) for i, doc in enumerate(X.iloc[:, 0])]\n",
        "        vectors = [self.model.infer_vector(_X[doc_id].words) for doc_id in range(len(_X))]\n",
        "        return np.vstack(vectors)\n",
        "    \n",
        "    def fit_transform(self, X, y=None):\n",
        "        _X = [TaggedDocument(simple_preprocess(doc), [i]) for i, doc in enumerate(X.iloc[:, 0])]\n",
        "        self.vocab = _X.copy()\n",
        "        self.model.build_vocab(_X)\n",
        "        self.model.train(_X, total_examples=self.model.corpus_count, epochs=self.epochs)\n",
        "        vectors = [self.model.infer_vector(_X[doc_id].words) for doc_id in range(len(_X))]\n",
        "        return np.vstack(vectors)"
      ],
      "execution_count": null,
      "outputs": []
    },
    {
      "cell_type": "markdown",
      "metadata": {
        "id": "tRngohRtSMjL"
      },
      "source": [
        "#### Doc2Vec:"
      ]
    },
    {
      "cell_type": "code",
      "metadata": {
        "id": "7IUz9OmxSMjL"
      },
      "source": [
        "from sklearn.model_selection import ParameterGrid\n",
        "c = np.logspace(-2, 1, 5)[2]\n",
        "params = {'mc': np.arange(2, 5), 'window': [3, 5], 'vs': [50, 70, 100]}\n",
        "params = list(ParameterGrid(params))\n"
      ],
      "execution_count": null,
      "outputs": []
    },
    {
      "cell_type": "code",
      "metadata": {
        "scrolled": true,
        "id": "rK4BsLvOSMjL"
      },
      "source": [
        "results = np.zeros((len(params), 4))\n",
        "for i, _p in enumerate(params):\n",
        "    auc = np.zeros(3)\n",
        "    score = np.zeros(3)\n",
        "    print(f'starting hyperparameters set {i+1}/{len(params)}')\n",
        "    for j, (x1, x2) in enumerate(sss.split(x_train, y_train)):\n",
        "        t = time()\n",
        "        _x_1 = x_train.iloc[x1]\n",
        "        _x_2 = x_train.iloc[x2]\n",
        "    \n",
        "        _y_1 = y_train[x1]\n",
        "        _y_2 = y_train[x2]\n",
        "        print(f'starting cv {j+1}/3')\n",
        "        transformer = make_column_transformer((D2V(vector_size=_p['vs'], window=_p['window'], min_count=_p['mc'], epochs=25), \n",
        "                                               ['description']), (StandardScaler(), cols.drop('description')))\n",
        "        model = Pipeline(steps=[('transformer', transformer), \n",
        "                                ('LR',LR(C=c, n_jobs=3, solver='newton-cg'))], verbose=10).fit(_x_1, _y_1)\n",
        "        \n",
        "        auc[j] = roc_auc_score(_y_2, model.predict_proba(_x_2), multi_class='ovr')\n",
        "        score[j] = model.score(_x_2, _y_2)\n",
        "        print(f'ending cv {j+1}/3')\n",
        "    \n",
        "    print(f'ending hyperparameters set {i+1}/{len(params)}; auc = {auc.mean()}')\n",
        "    results[i, 0] = auc.mean()\n",
        "    results[i, 1] = auc.std()\n",
        "    results[i, 2] = score.mean()\n",
        "    results[i, 3] = score.std()"
      ],
      "execution_count": null,
      "outputs": []
    },
    {
      "cell_type": "code",
      "metadata": {
        "id": "GkavKMPaSMjL",
        "outputId": "c759b41a-3d95-4962-8ef5-1ddf45eb012e"
      },
      "source": [
        "results[:, 0].argmax()"
      ],
      "execution_count": null,
      "outputs": [
        {
          "output_type": "execute_result",
          "data": {
            "text/plain": [
              "14"
            ]
          },
          "metadata": {
            "tags": []
          },
          "execution_count": 7
        }
      ]
    },
    {
      "cell_type": "code",
      "metadata": {
        "id": "tmgGdht0SMjM",
        "outputId": "1513683b-14e5-4dba-9fdb-53969f41f802"
      },
      "source": [
        "results[:, 2].argmax()"
      ],
      "execution_count": null,
      "outputs": [
        {
          "output_type": "execute_result",
          "data": {
            "text/plain": [
              "14"
            ]
          },
          "metadata": {
            "tags": []
          },
          "execution_count": 8
        }
      ]
    },
    {
      "cell_type": "code",
      "metadata": {
        "id": "Oi_L27M7SMjM",
        "outputId": "ddd657fe-4d57-4982-a864-19bba90e74a7"
      },
      "source": [
        "params[14]"
      ],
      "execution_count": null,
      "outputs": [
        {
          "output_type": "execute_result",
          "data": {
            "text/plain": [
              "{'mc': 4, 'vs': 70, 'window': 3}"
            ]
          },
          "metadata": {
            "tags": []
          },
          "execution_count": 48
        }
      ]
    },
    {
      "cell_type": "code",
      "metadata": {
        "id": "Mqg3a14ZSMjM"
      },
      "source": [
        "p_vals = np.array([list(p.values()) for p in params])"
      ],
      "execution_count": null,
      "outputs": []
    },
    {
      "cell_type": "code",
      "metadata": {
        "id": "-MZhdDonSMjM",
        "outputId": "9ce80b64-93ba-45ab-e362-e08a514f1709"
      },
      "source": [
        "print(f'windows = 3 ; E[auc] = {results[p_vals[:, 2] == 3][:, 0].mean()} \\nwindows = 5 ; E[auc] = {results[p_vals[:, 2] == 5][:, 0].mean()}')"
      ],
      "execution_count": null,
      "outputs": [
        {
          "output_type": "stream",
          "text": [
            "windows = 3 ; E[auc] = 0.8081735438011461 \n",
            "windows = 5 ; E[auc] = 0.8031302702536478\n"
          ],
          "name": "stdout"
        }
      ]
    },
    {
      "cell_type": "code",
      "metadata": {
        "id": "VsYgnG8ISMjM",
        "outputId": "cf5546d4-11fc-4e74-f5f7-ab5d8e64e897"
      },
      "source": [
        "print(f'vector_size = 50 ; E[auc] = {results[p_vals[:, 1] == 50][:, 0].mean()} \\nvector_size = 70 ; E[auc] = {results[p_vals[:, 1] == 70][:, 0].mean()} \\nmin_count = 4 ; E[auc] = {results[p_vals[:, 1] == 100][:, 0].mean()}')"
      ],
      "execution_count": null,
      "outputs": [
        {
          "output_type": "stream",
          "text": [
            "vector_size = 50 ; E[auc] = 0.8038461864333305 \n",
            "vector_size = 70 ; E[auc] = 0.8115905004181295 \n",
            "min_count = 4 ; E[auc] = 0.8015190342307309\n"
          ],
          "name": "stdout"
        }
      ]
    },
    {
      "cell_type": "code",
      "metadata": {
        "id": "BJQgq1WkSMjN",
        "outputId": "8996adb6-4b7e-459e-c49f-5e9a105490ef"
      },
      "source": [
        "print(f'min_count = 2 ; E[auc] = {results[p_vals[:, 0] == 2][:, 0].mean()} \\nmin_count = 3 ; E[auc] = {results[p_vals[:, 0] == 3][:, 0].mean()} \\nmin_count = 4 ; E[auc] = {results[p_vals[:, 0] == 4][:, 0].mean()}')"
      ],
      "execution_count": null,
      "outputs": [
        {
          "output_type": "stream",
          "text": [
            "min_count = 2 ; E[auc] = 0.8053099285733976 \n",
            "min_count = 3 ; E[auc] = 0.8068671072698352 \n",
            "min_count = 4 ; E[auc] = 0.8047786852389579\n"
          ],
          "name": "stdout"
        }
      ]
    },
    {
      "cell_type": "code",
      "metadata": {
        "id": "6Nc9A8c4SMjN"
      },
      "source": [
        "_x_1 = _x_2 = _y_1 = _y_2 = None"
      ],
      "execution_count": null,
      "outputs": []
    },
    {
      "cell_type": "code",
      "metadata": {
        "id": "ik8XqUacSMjN",
        "outputId": "47f28440-bee9-480d-c354-49f81f25724e"
      },
      "source": [
        "transformer = make_column_transformer((D2V(vector_size=70, window=3, min_count=4, epochs=25), \n",
        "                                               ['description']), (StandardScaler(), cols.drop('description')))\n",
        "model = Pipeline(steps=[('transformer', transformer), \n",
        "                                ('LR',LR(C=c, n_jobs=3, solver='newton-cg'))], verbose=10).fit(x_train, y_train)"
      ],
      "execution_count": null,
      "outputs": [
        {
          "output_type": "stream",
          "text": [
            "[Pipeline] ....... (step 1 of 2) Processing transformer, total= 3.3min\n",
            "[Pipeline] ................ (step 2 of 2) Processing LR, total=  57.0s\n"
          ],
          "name": "stdout"
        }
      ]
    },
    {
      "cell_type": "code",
      "metadata": {
        "id": "-TtCz2u4SMjN",
        "outputId": "8bc88cb7-feed-482c-8579-89c7d126d24a"
      },
      "source": [
        "print(classification_report(y_test, model.predict(x_test)))\n",
        "print(f\"AUC = {roc_auc_score(y_test, model.predict_proba(x_test), multi_class='ovr')}\")"
      ],
      "execution_count": null,
      "outputs": [
        {
          "output_type": "stream",
          "text": [
            "C:\\Users\\Matan\\anaconda3\\lib\\site-packages\\sklearn\\metrics\\_classification.py:1245: UndefinedMetricWarning: Precision and F-score are ill-defined and being set to 0.0 in labels with no predicted samples. Use `zero_division` parameter to control this behavior.\n",
            "  _warn_prf(average, modifier, msg_start, len(result))\n",
            "C:\\Users\\Matan\\anaconda3\\lib\\site-packages\\sklearn\\metrics\\_classification.py:1245: UndefinedMetricWarning: Precision and F-score are ill-defined and being set to 0.0 in labels with no predicted samples. Use `zero_division` parameter to control this behavior.\n",
            "  _warn_prf(average, modifier, msg_start, len(result))\n",
            "C:\\Users\\Matan\\anaconda3\\lib\\site-packages\\sklearn\\metrics\\_classification.py:1245: UndefinedMetricWarning: Precision and F-score are ill-defined and being set to 0.0 in labels with no predicted samples. Use `zero_division` parameter to control this behavior.\n",
            "  _warn_prf(average, modifier, msg_start, len(result))\n"
          ],
          "name": "stderr"
        },
        {
          "output_type": "stream",
          "text": [
            "              precision    recall  f1-score   support\n",
            "\n",
            "          80       0.00      0.00      0.00        47\n",
            "          81       0.06      0.01      0.02        98\n",
            "          82       0.17      0.14      0.15       303\n",
            "          83       0.14      0.03      0.05       394\n",
            "          84       0.22      0.23      0.22       803\n",
            "          85       0.19      0.14      0.16      1105\n",
            "          86       0.19      0.16      0.18      1478\n",
            "          87       0.22      0.33      0.27      1990\n",
            "          88       0.22      0.30      0.26      2112\n",
            "          89       0.11      0.02      0.03      1325\n",
            "          90       0.23      0.35      0.28      2012\n",
            "          91       0.24      0.21      0.23      1591\n",
            "          92       0.21      0.23      0.22      1354\n",
            "          93       0.25      0.18      0.21       904\n",
            "          94       0.26      0.20      0.22       538\n",
            "          95       0.20      0.04      0.06       193\n",
            "          96       0.19      0.05      0.07        66\n",
            "          97       0.00      0.00      0.00        24\n",
            "          98       0.00      0.00      0.00        10\n",
            "          99       0.00      0.00      0.00         4\n",
            "         100       0.00      0.00      0.00         1\n",
            "\n",
            "    accuracy                           0.22     16352\n",
            "   macro avg       0.15      0.12      0.13     16352\n",
            "weighted avg       0.21      0.22      0.20     16352\n",
            "\n",
            "AUC = 0.8368018998312142\n"
          ],
          "name": "stdout"
        }
      ]
    },
    {
      "cell_type": "markdown",
      "metadata": {
        "id": "26y4MLg9SMjN"
      },
      "source": [
        "So far the results havent been improved. However, we could still try to improve these using data balancing techniques:"
      ]
    },
    {
      "cell_type": "code",
      "metadata": {
        "id": "vSv4kh9QSMjO"
      },
      "source": [
        "from imblearn.over_sampling import SMOTE\n",
        "c = np.logspace(-2, 1, 5)[2]\n",
        "transformer = make_column_transformer((D2V(vector_size=70, window=3, min_count=4, epochs=25), ['description']), \n",
        "                                      (StandardScaler(), cols.drop('description')))\n",
        "\n",
        "transformer.fit(x_train)\n",
        "new_x = transformer.transform(x)\n",
        "new_x, new_y = SMOTE(k_neighbors=3).fit_resample(new_x, y)\n",
        "lr = LR(C=c, n_jobs=3, solver='newton-cg')"
      ],
      "execution_count": null,
      "outputs": []
    },
    {
      "cell_type": "code",
      "metadata": {
        "id": "cmdBaBLqSMjO",
        "outputId": "1a732f01-5833-4dc6-d585-d1185e88b75f"
      },
      "source": [
        "%%time\n",
        "del x_test\n",
        "del x_train\n",
        "del y_test\n",
        "del y_train\n",
        "x_train, x_test, y_train, y_test = train_test_split(new_x, new_y, test_size=0.3)"
      ],
      "execution_count": null,
      "outputs": [
        {
          "output_type": "stream",
          "text": [
            "Wall time: 92.6 ms\n"
          ],
          "name": "stdout"
        }
      ]
    },
    {
      "cell_type": "code",
      "metadata": {
        "id": "T6PZihaISMjO"
      },
      "source": [
        "model = lr.fit(x_train, y_train)"
      ],
      "execution_count": null,
      "outputs": []
    },
    {
      "cell_type": "code",
      "metadata": {
        "id": "W3esc92rSMjO",
        "outputId": "f5133df6-7166-4e0a-fd6b-1d7e3dda5fef"
      },
      "source": [
        "print(classification_report(y_test, model.predict(x_test)))\n",
        "print(f\"AUC = {roc_auc_score(y_test, model.predict_proba(x_test), multi_class='ovr')}\")"
      ],
      "execution_count": null,
      "outputs": [
        {
          "output_type": "stream",
          "text": [
            "              precision    recall  f1-score   support\n",
            "\n",
            "          80       0.42      0.64      0.51      2093\n",
            "          81       0.35      0.43      0.38      2112\n",
            "          82       0.30      0.30      0.30      2125\n",
            "          83       0.22      0.16      0.18      2117\n",
            "          84       0.23      0.26      0.24      2074\n",
            "          85       0.19      0.13      0.15      2084\n",
            "          86       0.20      0.17      0.18      2118\n",
            "          87       0.17      0.14      0.16      2151\n",
            "          88       0.15      0.11      0.13      2178\n",
            "          89       0.21      0.27      0.24      2118\n",
            "          90       0.18      0.18      0.18      2033\n",
            "          91       0.22      0.19      0.20      2155\n",
            "          92       0.21      0.17      0.19      2097\n",
            "          93       0.23      0.24      0.23      2079\n",
            "          94       0.27      0.21      0.24      2125\n",
            "          95       0.35      0.32      0.33      2130\n",
            "          96       0.48      0.54      0.51      2077\n",
            "          97       0.70      0.82      0.75      2188\n",
            "          98       0.86      1.00      0.92      2079\n",
            "          99       0.96      1.00      0.98      2145\n",
            "         100       1.00      1.00      1.00      2068\n",
            "\n",
            "    accuracy                           0.39     44346\n",
            "   macro avg       0.38      0.39      0.38     44346\n",
            "weighted avg       0.37      0.39      0.38     44346\n",
            "\n",
            "AUC = 0.8951107663815514\n"
          ],
          "name": "stdout"
        }
      ]
    },
    {
      "cell_type": "markdown",
      "metadata": {
        "id": "ak3rOKKkSMjO"
      },
      "source": [
        "These are the best results we've had so far, with balancing the imbalanced data and using the doc2vec model to encode our text feature.\n",
        "\n",
        "#### BoW + Doc2Vec:"
      ]
    },
    {
      "cell_type": "code",
      "metadata": {
        "id": "hozArsGfSMjO",
        "outputId": "356e2e13-b2ed-4761-d006-e1b046e7bd7f"
      },
      "source": [
        "%%time\n",
        "import pandas as pd\n",
        "import numpy as np\n",
        "from sklearn.pipeline import make_pipeline, Pipeline\n",
        "from sklearn.model_selection import train_test_split\n",
        "from sklearn.linear_model import LogisticRegression as LR\n",
        "from sklearn.feature_extraction.text import TfidfTransformer, CountVectorizer\n",
        "from sklearn.preprocessing import StandardScaler\n",
        "from sklearn.impute import KNNImputer\n",
        "from gensim.models import Doc2Vec\n",
        "from gensim.models.doc2vec import TaggedDocument\n",
        "from gensim.utils import simple_preprocess\n",
        "from sklearn.metrics import roc_auc_score, classification_report\n",
        "from sklearn.compose import make_column_transformer\n",
        "\n",
        "x = pd.read_csv('winemag-data-130k-v2.csv', index_col=0)\n",
        "x = x.loc[x['country'] == 'US']\n",
        "x = x.reset_index(drop=True)\n",
        "y = x['points']\n",
        "x.drop(columns=['points', 'country'], inplace=True)\n",
        "x['designation'] = x['designation'].fillna(value='unknown')\n",
        "def get_year(row):\n",
        "    _t = row['title']\n",
        "    _x = row['winery']\n",
        "    _w = row['designation']\n",
        "    _z = row['variety']\n",
        "    _v = row['region_1']\n",
        "    \n",
        "    _words = _t.split(_x)[1][1:].split(' ')\n",
        "    if _words[0].isnumeric():\n",
        "        return int(_words[0])\n",
        "        \n",
        "    elif _words[0] == 'NV':    \n",
        "        if _w == 'unknown':\n",
        "            return np.nan\n",
        "        else:\n",
        "            return np.nan\n",
        "x['year'] = x.apply(lambda z: get_year(z), axis=1)\n",
        "description = x['description'].copy()\n",
        "x = x.drop(columns=['description', 'title', 'taster_twitter_handle'])\n",
        "tdf = make_pipeline(KNNImputer(n_neighbors=3)).fit_transform(x.apply(lambda z: z.astype('category').cat.codes if z.dtype == object else z).copy())\n",
        "x = pd.DataFrame(tdf, columns=x.columns)\n",
        "tdf = None\n",
        "x['description'] = description\n",
        "cols = x.columns\n",
        "description = None\n",
        "c = np.logspace(-2, 1, 5)[2]"
      ],
      "execution_count": null,
      "outputs": [
        {
          "output_type": "stream",
          "text": [
            "C:\\Users\\Matan\\anaconda3\\lib\\site-packages\\gensim\\similarities\\__init__.py:15: UserWarning: The gensim.similarities.levenshtein submodule is disabled, because the optional Levenshtein package <https://pypi.org/project/python-Levenshtein/> is unavailable. Install Levenhstein (e.g. `pip install python-Levenshtein`) to suppress this warning.\n",
            "  warnings.warn(msg)\n"
          ],
          "name": "stderr"
        },
        {
          "output_type": "stream",
          "text": [
            "Wall time: 8.29 s\n"
          ],
          "name": "stdout"
        }
      ]
    },
    {
      "cell_type": "code",
      "metadata": {
        "id": "ozxsGzpBSMjP"
      },
      "source": [
        "from sklearn.base import BaseEstimator, TransformerMixin\n",
        "\n",
        "class TextProcessor(BaseEstimator, TransformerMixin):\n",
        "    def __init__(self):\n",
        "        self.text_transformer = make_pipeline(CountVectorizer(stop_words='english'), TfidfTransformer())\n",
        "       \n",
        "    def fit(self, X, y=None):\n",
        "        self.text_transformer.fit(X, y)\n",
        "        return self\n",
        "\n",
        "    def transform(self, X, y=None):\n",
        "        return self.text_transformer.transform(X.squeeze()).toarray()\n",
        "    \n",
        "    def fit_transform(self, X, y=None):\n",
        "        return self.text_transformer.fit_transform(X.squeeze()).toarray()\n",
        "    \n",
        "class D2V(BaseEstimator, TransformerMixin):\n",
        "    def __init__(self, vector_size=5, window=5, min_count=1, epochs=10):\n",
        "        self.model = Doc2Vec(vector_size=vector_size, window=window, min_count=min_count, workers=3)\n",
        "        self.epochs = epochs\n",
        "        self.min_count = min_count\n",
        "        self.window = window\n",
        "        self.vector_size = vector_size\n",
        "       \n",
        "    def fit(self, X, y=None):\n",
        "        _X = [TaggedDocument(simple_preprocess(doc), [i]) for i, doc in enumerate(X.iloc[:, 0])]\n",
        "        self.vocab = _X.copy()\n",
        "        self.model.build_vocab(_X)\n",
        "        self.model.train(_X, total_examples=self.model.corpus_count, epochs=self.epochs)\n",
        "        return self\n",
        "\n",
        "    def transform(self, X, y=None):\n",
        "        _X = [TaggedDocument(simple_preprocess(doc), [i]) for i, doc in enumerate(X.iloc[:, 0])]\n",
        "        vectors = [self.model.infer_vector(_X[doc_id].words) for doc_id in range(len(_X))]\n",
        "        return np.vstack(vectors)\n",
        "    \n",
        "    def fit_transform(self, X, y=None):\n",
        "        _X = [TaggedDocument(simple_preprocess(doc), [i]) for i, doc in enumerate(X.iloc[:, 0])]\n",
        "        self.vocab = _X.copy()\n",
        "        self.model.build_vocab(_X)\n",
        "        self.model.train(_X, total_examples=self.model.corpus_count, epochs=self.epochs)\n",
        "        vectors = [self.model.infer_vector(_X[doc_id].words) for doc_id in range(len(_X))]\n",
        "        return np.vstack(vectors)"
      ],
      "execution_count": null,
      "outputs": []
    },
    {
      "cell_type": "code",
      "metadata": {
        "id": "78xbGWV7SMjP"
      },
      "source": [
        "x_train, x_test, y_train, y_test = train_test_split(x, y, test_size=0.3, stratify=y)"
      ],
      "execution_count": null,
      "outputs": []
    },
    {
      "cell_type": "code",
      "metadata": {
        "id": "PwWVazHHSMjP"
      },
      "source": [
        "d2v = D2V(vector_size=70, window=3, min_count=4, epochs=25)\n",
        "transformer = make_column_transformer((TextProcessor(), ['description']), (d2v, ['description']), (StandardScaler(), cols.drop('description')))"
      ],
      "execution_count": null,
      "outputs": []
    },
    {
      "cell_type": "code",
      "metadata": {
        "id": "U33z_HxfSMjP",
        "outputId": "87b184f6-981c-456e-b01e-f6934544a4f5"
      },
      "source": [
        "%%time\n",
        "model = make_pipeline(transformer, LR(C=c, n_jobs=3, solver='newton-cg')).fit(x_train, y_train)"
      ],
      "execution_count": null,
      "outputs": [
        {
          "output_type": "stream",
          "text": [
            "Wall time: 39min 28s\n"
          ],
          "name": "stdout"
        }
      ]
    },
    {
      "cell_type": "code",
      "metadata": {
        "id": "ftD47LR4SMjQ",
        "outputId": "25daefc9-caed-48df-f495-10d90ee81c3d"
      },
      "source": [
        "print(classification_report(y_test, model.predict(x_test)))\n",
        "print(f\"AUC = {roc_auc_score(y_test, model.predict_proba(x_test), multi_class='ovr')}\")"
      ],
      "execution_count": null,
      "outputs": [
        {
          "output_type": "stream",
          "text": [
            "C:\\Users\\Matan\\anaconda3\\lib\\site-packages\\sklearn\\metrics\\_classification.py:1245: UndefinedMetricWarning: Precision and F-score are ill-defined and being set to 0.0 in labels with no predicted samples. Use `zero_division` parameter to control this behavior.\n",
            "  _warn_prf(average, modifier, msg_start, len(result))\n",
            "C:\\Users\\Matan\\anaconda3\\lib\\site-packages\\sklearn\\metrics\\_classification.py:1245: UndefinedMetricWarning: Precision and F-score are ill-defined and being set to 0.0 in labels with no predicted samples. Use `zero_division` parameter to control this behavior.\n",
            "  _warn_prf(average, modifier, msg_start, len(result))\n",
            "C:\\Users\\Matan\\anaconda3\\lib\\site-packages\\sklearn\\metrics\\_classification.py:1245: UndefinedMetricWarning: Precision and F-score are ill-defined and being set to 0.0 in labels with no predicted samples. Use `zero_division` parameter to control this behavior.\n",
            "  _warn_prf(average, modifier, msg_start, len(result))\n"
          ],
          "name": "stderr"
        },
        {
          "output_type": "stream",
          "text": [
            "              precision    recall  f1-score   support\n",
            "\n",
            "          80       0.00      0.00      0.00        47\n",
            "          81       0.11      0.01      0.02        98\n",
            "          82       0.30      0.27      0.29       303\n",
            "          83       0.14      0.05      0.07       394\n",
            "          84       0.26      0.24      0.25       803\n",
            "          85       0.21      0.18      0.19      1105\n",
            "          86       0.23      0.22      0.22      1478\n",
            "          87       0.26      0.37      0.30      1990\n",
            "          88       0.25      0.33      0.28      2112\n",
            "          89       0.22      0.09      0.12      1325\n",
            "          90       0.26      0.35      0.30      2012\n",
            "          91       0.26      0.23      0.25      1591\n",
            "          92       0.24      0.27      0.25      1354\n",
            "          93       0.27      0.20      0.23       904\n",
            "          94       0.29      0.21      0.24       538\n",
            "          95       0.15      0.04      0.06       193\n",
            "          96       0.08      0.02      0.03        66\n",
            "          97       0.12      0.04      0.06        24\n",
            "          98       0.00      0.00      0.00        10\n",
            "          99       0.00      0.00      0.00         4\n",
            "         100       0.00      0.00      0.00         1\n",
            "\n",
            "    accuracy                           0.25     16352\n",
            "   macro avg       0.17      0.15      0.15     16352\n",
            "weighted avg       0.24      0.25      0.24     16352\n",
            "\n",
            "AUC = 0.8229090218609688\n"
          ],
          "name": "stdout"
        }
      ]
    },
    {
      "cell_type": "markdown",
      "metadata": {
        "id": "fC-i-wU3SMjQ"
      },
      "source": [
        "The results doesnt seem to improve in any way. However, we cannot test the model on balanced data, again, since our RAM capacity doesn't allow it, so we shall keep in mind that this might actually improve our model significantly."
      ]
    },
    {
      "cell_type": "markdown",
      "metadata": {
        "id": "DpURWNqhSMjQ"
      },
      "source": [
        "# Task 3 Transformers (bonus / optional) [50pts] - Like Extra Assignment with 50% weight\n",
        "\n",
        "Fine-tune a BERT model on the text data alone using the transformers library. How does this model compare to a BoW model, and how does it compare to a model using all features?"
      ]
    },
    {
      "cell_type": "code",
      "metadata": {
        "id": "5SURnCrmSMjQ"
      },
      "source": [
        "# !pip install transformers"
      ],
      "execution_count": null,
      "outputs": []
    },
    {
      "cell_type": "code",
      "metadata": {
        "id": "zpQ8VWLuSMjQ",
        "outputId": "c7648d2b-66d7-4844-f080-4078c1ac2b00"
      },
      "source": [
        "%%time\n",
        "from transformers import pipeline\n",
        "import transformers\n",
        "import pandas as pd\n",
        "from sklearn.pipeline import make_pipeline, Pipeline\n",
        "from sklearn.model_selection import train_test_split\n",
        "from sklearn.linear_model import LogisticRegression as LR\n",
        "from sklearn.metrics import roc_auc_score, classification_report\n",
        "from sklearn.compose import make_column_transformer\n",
        "from transformers import BertTokenizerFast\n",
        "import numpy as np\n",
        "import numba as nb\n",
        "\n",
        "x = pd.read_csv('winemag-data-130k-v2.csv', index_col=0)\n",
        "x = x.loc[x['country'] == 'US']\n",
        "y = x['points']\n",
        "x = x[['description']]"
      ],
      "execution_count": null,
      "outputs": [
        {
          "output_type": "stream",
          "text": [
            "Wall time: 9.49 s\n"
          ],
          "name": "stdout"
        }
      ]
    },
    {
      "cell_type": "code",
      "metadata": {
        "id": "3-VvH3WrSMjQ"
      },
      "source": [
        "x_train, x_test, y_train, y_test = train_test_split(x, y, test_size=0.3, stratify=y)\n",
        "x_train.reset_index(drop=True, inplace=True)\n",
        "x_test.reset_index(drop=True, inplace=True)\n",
        "y_test.reset_index(drop=True, inplace=True)\n",
        "y_train.reset_index(drop=True, inplace=True)"
      ],
      "execution_count": null,
      "outputs": []
    },
    {
      "cell_type": "code",
      "metadata": {
        "id": "QhKddf71SMjR"
      },
      "source": [
        "@nb.jit(parallel=True, nopython=False, fastmath=True)\n",
        "def transform__(model, X, y=None):\n",
        "    _X = X.to_numpy()\n",
        "    vectors = np.zeros((len(_X), 769))\n",
        "    _n = len(_X)\n",
        "    for i in range(_n):\n",
        "        vec = np.squeeze(model(X[i]))\n",
        "        vectors[i, -1] = len(vec)\n",
        "        vectors[i, :-1] = np.mean(vec ,axis=0)\n",
        "    return vectors"
      ],
      "execution_count": null,
      "outputs": []
    },
    {
      "cell_type": "code",
      "metadata": {
        "scrolled": true,
        "id": "HX39b06XSMjR",
        "outputId": "b0837124-3367-4df5-d554-5a0664e48ea8"
      },
      "source": [
        "## First Run for the function:\n",
        "model = pipeline(\"feature-extraction\", model=\"bert-base-uncased\")\n",
        "temp = transform__(model, x_train['description'][:1])"
      ],
      "execution_count": null,
      "outputs": [
        {
          "output_type": "stream",
          "text": [
            "Some weights of the model checkpoint at bert-base-uncased were not used when initializing BertModel: ['cls.predictions.bias', 'cls.predictions.decoder.weight', 'cls.seq_relationship.bias', 'cls.predictions.transform.dense.bias', 'cls.predictions.transform.LayerNorm.weight', 'cls.seq_relationship.weight', 'cls.predictions.transform.dense.weight', 'cls.predictions.transform.LayerNorm.bias']\n",
            "- This IS expected if you are initializing BertModel from the checkpoint of a model trained on another task or with another architecture (e.g. initializing a BertForSequenceClassification model from a BertForPreTraining model).\n",
            "- This IS NOT expected if you are initializing BertModel from the checkpoint of a model that you expect to be exactly identical (initializing a BertForSequenceClassification model from a BertForSequenceClassification model).\n",
            "<ipython-input-3-b7d9cc9800c2>:1: NumbaWarning: \u001b[1m\n",
            "Compilation is falling back to object mode WITH looplifting enabled because Function \"transform__\" failed type inference due to: \u001b[1m\u001b[1mnon-precise type pyobject\u001b[0m\n",
            "\u001b[0m\u001b[1mDuring: typing of argument at <ipython-input-3-b7d9cc9800c2> (3)\u001b[0m\n",
            "\u001b[1m\n",
            "File \"<ipython-input-3-b7d9cc9800c2>\", line 3:\u001b[0m\n",
            "\u001b[1mdef transform__(model, X, y=None):\n",
            "\u001b[1m    _X = X.to_numpy()\n",
            "\u001b[0m    \u001b[1m^\u001b[0m\u001b[0m\n",
            "\u001b[0m\n",
            "  @nb.jit(parallel=True, nopython=False, fastmath=True)\n",
            "<ipython-input-3-b7d9cc9800c2>:1: NumbaWarning: \u001b[1m\n",
            "Compilation is falling back to object mode WITHOUT looplifting enabled because Function \"transform__\" failed type inference due to: \u001b[1m\u001b[1mcannot determine Numba type of <class 'numba.core.dispatcher.LiftedLoop'>\u001b[0m\n",
            "\u001b[1m\n",
            "File \"<ipython-input-3-b7d9cc9800c2>\", line 6:\u001b[0m\n",
            "\u001b[1mdef transform__(model, X, y=None):\n",
            "    <source elided>\n",
            "    _n = len(_X)\n",
            "\u001b[1m    for i in range(_n):\n",
            "\u001b[0m    \u001b[1m^\u001b[0m\u001b[0m\n",
            "\u001b[0m\u001b[0m\n",
            "  @nb.jit(parallel=True, nopython=False, fastmath=True)\n",
            "C:\\Users\\Matan\\anaconda3\\lib\\site-packages\\numba\\core\\object_mode_passes.py:177: NumbaWarning: \u001b[1mFunction \"transform__\" was compiled in object mode without forceobj=True, but has lifted loops.\n",
            "\u001b[1m\n",
            "File \"<ipython-input-3-b7d9cc9800c2>\", line 3:\u001b[0m\n",
            "\u001b[1mdef transform__(model, X, y=None):\n",
            "\u001b[1m    _X = X.to_numpy()\n",
            "\u001b[0m    \u001b[1m^\u001b[0m\u001b[0m\n",
            "\u001b[0m\n",
            "  warnings.warn(errors.NumbaWarning(warn_msg,\n",
            "C:\\Users\\Matan\\anaconda3\\lib\\site-packages\\numba\\core\\object_mode_passes.py:187: NumbaDeprecationWarning: \u001b[1m\n",
            "Fall-back from the nopython compilation path to the object mode compilation path has been detected, this is deprecated behaviour.\n",
            "\n",
            "For more information visit https://numba.pydata.org/numba-doc/latest/reference/deprecation.html#deprecation-of-object-mode-fall-back-behaviour-when-using-jit\n",
            "\u001b[1m\n",
            "File \"<ipython-input-3-b7d9cc9800c2>\", line 3:\u001b[0m\n",
            "\u001b[1mdef transform__(model, X, y=None):\n",
            "\u001b[1m    _X = X.to_numpy()\n",
            "\u001b[0m    \u001b[1m^\u001b[0m\u001b[0m\n",
            "\u001b[0m\n",
            "  warnings.warn(errors.NumbaDeprecationWarning(msg,\n",
            "<ipython-input-3-b7d9cc9800c2>:1: NumbaWarning: \u001b[1m\n",
            "Compilation is falling back to object mode WITHOUT looplifting enabled because Function \"transform__\" failed type inference due to: \u001b[1m\u001b[1mnon-precise type pyobject\u001b[0m\n",
            "\u001b[0m\u001b[1mDuring: typing of argument at <ipython-input-3-b7d9cc9800c2> (6)\u001b[0m\n",
            "\u001b[1m\n",
            "File \"<ipython-input-3-b7d9cc9800c2>\", line 6:\u001b[0m\n",
            "\u001b[1mdef transform__(model, X, y=None):\n",
            "    <source elided>\n",
            "    _n = len(_X)\n",
            "\u001b[1m    for i in range(_n):\n",
            "\u001b[0m    \u001b[1m^\u001b[0m\u001b[0m\n",
            "\u001b[0m\n",
            "  @nb.jit(parallel=True, nopython=False, fastmath=True)\n",
            "C:\\Users\\Matan\\anaconda3\\lib\\site-packages\\numba\\core\\object_mode_passes.py:177: NumbaWarning: \u001b[1mFunction \"transform__\" was compiled in object mode without forceobj=True.\n",
            "\u001b[1m\n",
            "File \"<ipython-input-3-b7d9cc9800c2>\", line 6:\u001b[0m\n",
            "\u001b[1mdef transform__(model, X, y=None):\n",
            "    <source elided>\n",
            "    _n = len(_X)\n",
            "\u001b[1m    for i in range(_n):\n",
            "\u001b[0m    \u001b[1m^\u001b[0m\u001b[0m\n",
            "\u001b[0m\n",
            "  warnings.warn(errors.NumbaWarning(warn_msg,\n",
            "C:\\Users\\Matan\\anaconda3\\lib\\site-packages\\numba\\core\\object_mode_passes.py:187: NumbaDeprecationWarning: \u001b[1m\n",
            "Fall-back from the nopython compilation path to the object mode compilation path has been detected, this is deprecated behaviour.\n",
            "\n",
            "For more information visit https://numba.pydata.org/numba-doc/latest/reference/deprecation.html#deprecation-of-object-mode-fall-back-behaviour-when-using-jit\n",
            "\u001b[1m\n",
            "File \"<ipython-input-3-b7d9cc9800c2>\", line 6:\u001b[0m\n",
            "\u001b[1mdef transform__(model, X, y=None):\n",
            "    <source elided>\n",
            "    _n = len(_X)\n",
            "\u001b[1m    for i in range(_n):\n",
            "\u001b[0m    \u001b[1m^\u001b[0m\u001b[0m\n",
            "\u001b[0m\n",
            "  warnings.warn(errors.NumbaDeprecationWarning(msg,\n"
          ],
          "name": "stderr"
        }
      ]
    },
    {
      "cell_type": "code",
      "metadata": {
        "id": "Kbe8Y0sPSMjR",
        "outputId": "8854ec29-4156-44fc-a43a-488740039373"
      },
      "source": [
        "np.squeeze(model(x_train['description'][1])).shape"
      ],
      "execution_count": null,
      "outputs": [
        {
          "output_type": "execute_result",
          "data": {
            "text/plain": [
              "(35, 768)"
            ]
          },
          "metadata": {
            "tags": []
          },
          "execution_count": 15
        }
      ]
    },
    {
      "cell_type": "code",
      "metadata": {
        "id": "5PKOE756SMjR"
      },
      "source": [
        "del model"
      ],
      "execution_count": null,
      "outputs": []
    },
    {
      "cell_type": "code",
      "metadata": {
        "id": "Jd0DIxkMSMjR"
      },
      "source": [
        "from sklearn.base import BaseEstimator, TransformerMixin\n",
        "\n",
        "class MyBert(BaseEstimator, TransformerMixin):\n",
        "    def __init__(self):\n",
        "        self.tokenizer = BertTokenizerFast.from_pretrained('bert-base-uncased', add_special_tokens=False, truncation=True, padding='max_length', max_length=128)\n",
        "        self.model = pipeline(\"feature-extraction\", model=\"bert-base-uncased\", tokenizer=self.tokenizer)\n",
        "       \n",
        "    def fit(self, X, y=None):\n",
        "        return self\n",
        "    \n",
        "    def transform(self, X, y=None):\n",
        "        \n",
        "        return transform__(self.model, X.iloc[:, 0])\n",
        "    \n",
        "    def fit_transform(self, X, y=None):\n",
        "        return transform__(self.model, X.iloc[:, 0])\n",
        "        "
      ],
      "execution_count": null,
      "outputs": []
    },
    {
      "cell_type": "code",
      "metadata": {
        "id": "bvDsrPm3SMjS",
        "outputId": "c7419523-794b-444e-a5bf-2627c57d68a3"
      },
      "source": [
        "trans = make_column_transformer((MyBert(), ['description']))"
      ],
      "execution_count": null,
      "outputs": [
        {
          "output_type": "stream",
          "text": [
            "Some weights of the model checkpoint at bert-base-uncased were not used when initializing BertModel: ['cls.predictions.bias', 'cls.predictions.decoder.weight', 'cls.seq_relationship.bias', 'cls.predictions.transform.dense.bias', 'cls.predictions.transform.LayerNorm.weight', 'cls.seq_relationship.weight', 'cls.predictions.transform.dense.weight', 'cls.predictions.transform.LayerNorm.bias']\n",
            "- This IS expected if you are initializing BertModel from the checkpoint of a model trained on another task or with another architecture (e.g. initializing a BertForSequenceClassification model from a BertForPreTraining model).\n",
            "- This IS NOT expected if you are initializing BertModel from the checkpoint of a model that you expect to be exactly identical (initializing a BertForSequenceClassification model from a BertForSequenceClassification model).\n"
          ],
          "name": "stderr"
        }
      ]
    },
    {
      "cell_type": "code",
      "metadata": {
        "id": "vkyYFGuDSMjS"
      },
      "source": [
        "from sklearn.model_selection import StratifiedShuffleSplit\n",
        "sss = StratifiedShuffleSplit(n_splits=3, test_size=0.3)"
      ],
      "execution_count": null,
      "outputs": []
    },
    {
      "cell_type": "code",
      "metadata": {
        "id": "L8zD7tX2SMjS"
      },
      "source": [
        ""
      ],
      "execution_count": null,
      "outputs": []
    },
    {
      "cell_type": "code",
      "metadata": {
        "id": "pEsQBn7lSMjS"
      },
      "source": [
        ""
      ],
      "execution_count": null,
      "outputs": []
    },
    {
      "cell_type": "code",
      "metadata": {
        "id": "UnVmSlSlSMjS"
      },
      "source": [
        ""
      ],
      "execution_count": null,
      "outputs": []
    }
  ]
}